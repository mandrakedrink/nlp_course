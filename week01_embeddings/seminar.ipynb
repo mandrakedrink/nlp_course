{
  "nbformat": 4,
  "nbformat_minor": 0,
  "metadata": {
    "kernelspec": {
      "display_name": "Python 3",
      "language": "python",
      "name": "python3"
    },
    "language_info": {
      "codemirror_mode": {
        "name": "ipython",
        "version": 3
      },
      "file_extension": ".py",
      "mimetype": "text/x-python",
      "name": "python",
      "nbconvert_exporter": "python",
      "pygments_lexer": "ipython3",
      "version": "3.5.2"
    },
    "colab": {
      "name": "seminar.ipynb",
      "provenance": []
    }
  },
  "cells": [
    {
      "cell_type": "markdown",
      "metadata": {
        "id": "5NmRll1omLo2"
      },
      "source": [
        "## Seminar 1: Fun with Word Embeddings (3 points)\n",
        "\n",
        "Today we gonna play with word embeddings: train our own little embedding, load one from   gensim model zoo and use it to visualize text corpora.\n",
        "\n",
        "This whole thing is gonna happen on top of embedding dataset.\n",
        "\n",
        "__Requirements:__  `pip install --upgrade nltk gensim bokeh` , but only if you're running locally."
      ]
    },
    {
      "cell_type": "code",
      "metadata": {
        "collapsed": true,
        "id": "yI2yB9ysmLpC"
      },
      "source": [
        "# download the data:\n",
        "!wget https://www.dropbox.com/s/obaitrix9jyu84r/quora.txt?dl=1 -O ./quora.txt\n",
        "# alternative download link: https://yadi.sk/i/BPQrUu1NaTduEw"
      ],
      "execution_count": null,
      "outputs": []
    },
    {
      "cell_type": "code",
      "metadata": {
        "scrolled": false,
        "id": "oOk152WAmLpD"
      },
      "source": [
        "import numpy as np\n",
        "\n",
        "data = list(open(\"./quora.txt\", encoding=\"utf-8\"))\n",
        "data[50]"
      ],
      "execution_count": null,
      "outputs": []
    },
    {
      "cell_type": "markdown",
      "metadata": {
        "id": "lRKVPRZsmLpD"
      },
      "source": [
        "__Tokenization:__ a typical first step for an nlp task is to split raw data into words.\n",
        "The text we're working with is in raw format: with all the punctuation and smiles attached to some words, so a simple str.split won't do.\n",
        "\n",
        "Let's use __`nltk`__ - a library that handles many nlp tasks like tokenization, stemming or part-of-speech tagging."
      ]
    },
    {
      "cell_type": "code",
      "metadata": {
        "colab": {
          "base_uri": "https://localhost:8080/"
        },
        "id": "AbjUU3cbmLpE",
        "outputId": "eeb63943-09ec-462f-c5fb-4bd46991d145"
      },
      "source": [
        "from nltk.tokenize import WordPunctTokenizer\n",
        "tokenizer = WordPunctTokenizer()\n",
        "\n",
        "print(tokenizer.tokenize(data[50]))"
      ],
      "execution_count": 51,
      "outputs": [
        {
          "output_type": "stream",
          "text": [
            "['What', 'TV', 'shows', 'or', 'books', 'help', 'you', 'read', 'people', \"'\", 's', 'body', 'language', '?']\n"
          ],
          "name": "stdout"
        }
      ]
    },
    {
      "cell_type": "code",
      "metadata": {
        "collapsed": true,
        "id": "YGgggPtImLpE"
      },
      "source": [
        "# TASK: lowercase everything and extract tokens with tokenizer. \n",
        "# data_tok should be a list of lists of tokens for each line in data.\n",
        "\n",
        "data_tok = [tokenizer.tokenize(w.lower()) for w in words]"
      ],
      "execution_count": 60,
      "outputs": []
    },
    {
      "cell_type": "code",
      "metadata": {
        "collapsed": true,
        "id": "LJAkSkUpmLpF"
      },
      "source": [
        "assert all(isinstance(row, (list, tuple)) for row in data_tok), \"please convert each line into a list of tokens (strings)\"\n",
        "assert all(all(isinstance(tok, str) for tok in row) for row in data_tok), \"please convert each line into a list of tokens (strings)\"\n",
        "is_latin = lambda tok: all('a' <= x.lower() <= 'z' for x in tok)\n",
        "assert all(map(lambda l: not is_latin(l) or l.islower(), map(' '.join, data_tok))), \"please make sure to lowercase the data\""
      ],
      "execution_count": 61,
      "outputs": []
    },
    {
      "cell_type": "code",
      "metadata": {
        "colab": {
          "base_uri": "https://localhost:8080/"
        },
        "id": "wyvnqJYymLpF",
        "outputId": "4f910040-5d78-4898-cfbe-99759f737c3a"
      },
      "source": [
        "print([' '.join(row) for row in data_tok[:2]])"
      ],
      "execution_count": 62,
      "outputs": [
        {
          "output_type": "stream",
          "text": [
            "['< user >', '.']\n"
          ],
          "name": "stdout"
        }
      ]
    },
    {
      "cell_type": "markdown",
      "metadata": {
        "id": "JVqI8YTVmLpG"
      },
      "source": [
        "__Word vectors:__ as the saying goes, there's more than one way to train word embeddings. There's Word2Vec and GloVe with different objective functions. Then there's fasttext that uses character-level models to train word embeddings. \n",
        "\n",
        "The choice is huge, so let's start someplace small: __gensim__ is another nlp library that features many vector-based models incuding word2vec."
      ]
    },
    {
      "cell_type": "code",
      "metadata": {
        "collapsed": true,
        "id": "pQFwD-KnmLpG"
      },
      "source": [
        "from gensim.models import Word2Vec\n",
        "model = Word2Vec(data_tok, \n",
        "                 size=32,      # embedding vector size\n",
        "                 min_count=5,  # consider words that occured at least 5 times\n",
        "                 window=5).wv  # define context as a 5-word window around the target word"
      ],
      "execution_count": null,
      "outputs": []
    },
    {
      "cell_type": "code",
      "metadata": {
        "id": "wXahduACmLpH"
      },
      "source": [
        "# now you can get word vectors !\n",
        "model.get_vector('anything')"
      ],
      "execution_count": null,
      "outputs": []
    },
    {
      "cell_type": "code",
      "metadata": {
        "id": "AzVeY4KYmLpH"
      },
      "source": [
        "# or query similar words directly. Go play with it!\n",
        "model.most_similar('bread')"
      ],
      "execution_count": null,
      "outputs": []
    },
    {
      "cell_type": "markdown",
      "metadata": {
        "id": "-HYYMiHVmLpI"
      },
      "source": [
        "### Using pre-trained model\n",
        "\n",
        "Took it a while, huh? Now imagine training life-sized (100~300D) word embeddings on gigabytes of text: wikipedia articles or twitter posts. \n",
        "\n",
        "Thankfully, nowadays you can get a pre-trained word embedding model in 2 lines of code (no sms required, promise)."
      ]
    },
    {
      "cell_type": "code",
      "metadata": {
        "collapsed": true,
        "id": "iz7b7udEmLpI"
      },
      "source": [
        "import gensim.downloader as api\n",
        "model = api.load('glove-twitter-100')"
      ],
      "execution_count": null,
      "outputs": []
    },
    {
      "cell_type": "code",
      "metadata": {
        "id": "NCVRKxxzmLpJ"
      },
      "source": [
        "model.most_similar(positive=[\"coder\", \"money\"], negative=[\"brain\"])"
      ],
      "execution_count": null,
      "outputs": []
    },
    {
      "cell_type": "markdown",
      "metadata": {
        "id": "kUqAiBkpmLpJ"
      },
      "source": [
        "### Visualizing word vectors\n",
        "\n",
        "One way to see if our vectors are any good is to plot them. Thing is, those vectors are in 30D+ space and we humans are more used to 2-3D.\n",
        "\n",
        "Luckily, we machine learners know about __dimensionality reduction__ methods.\n",
        "\n",
        "Let's use that to plot 1000 most frequent words"
      ]
    },
    {
      "cell_type": "code",
      "metadata": {
        "colab": {
          "base_uri": "https://localhost:8080/"
        },
        "id": "b7dAVTm3mLpJ",
        "outputId": "d2dc712f-d907-4a19-bb07-becb5d16d968"
      },
      "source": [
        "words = sorted(model.vocab.keys(), \n",
        "               key=lambda word: model.vocab[word].count,\n",
        "               reverse=True)[:1000]\n",
        "\n",
        "print(words[::100])"
      ],
      "execution_count": 63,
      "outputs": [
        {
          "output_type": "stream",
          "text": [
            "['<user>', '_', 'please', 'apa', 'justin', 'text', 'hari', 'playing', 'once', 'sei']\n"
          ],
          "name": "stdout"
        }
      ]
    },
    {
      "cell_type": "code",
      "metadata": {
        "id": "U1LzlY1mmLpK"
      },
      "source": [
        "# for each word, compute it's vector with model\n",
        "word_vectors = np.array([model.get_vector(w) for w in words])"
      ],
      "execution_count": 66,
      "outputs": []
    },
    {
      "cell_type": "code",
      "metadata": {
        "collapsed": true,
        "id": "uZTPt1SnmLpK"
      },
      "source": [
        "assert isinstance(word_vectors, np.ndarray)\n",
        "assert word_vectors.shape == (len(words), 100)\n",
        "assert np.isfinite(word_vectors).all()"
      ],
      "execution_count": 67,
      "outputs": []
    },
    {
      "cell_type": "markdown",
      "metadata": {
        "id": "dmaNl5CsmLpK"
      },
      "source": [
        "#### Linear projection: PCA\n",
        "\n",
        "The simplest linear dimensionality reduction method is __P__rincipial __C__omponent __A__nalysis.\n",
        "\n",
        "In geometric terms, PCA tries to find axes along which most of the variance occurs. The \"natural\" axes, if you wish.\n",
        "\n",
        "<img src=\"https://github.com/yandexdataschool/Practical_RL/raw/master/yet_another_week/_resource/pca_fish.png\" style=\"width:30%\">\n",
        "\n",
        "\n",
        "Under the hood, it attempts to decompose object-feature matrix $X$ into two smaller matrices: $W$ and $\\hat W$ minimizing _mean squared error_:\n",
        "\n",
        "$$\\|(X W) \\hat{W} - X\\|^2_2 \\to_{W, \\hat{W}} \\min$$\n",
        "- $X \\in \\mathbb{R}^{n \\times m}$ - object matrix (**centered**);\n",
        "- $W \\in \\mathbb{R}^{m \\times d}$ - matrix of direct transformation;\n",
        "- $\\hat{W} \\in \\mathbb{R}^{d \\times m}$ - matrix of reverse transformation;\n",
        "- $n$ samples, $m$ original dimensions and $d$ target dimensions;\n",
        "\n"
      ]
    },
    {
      "cell_type": "code",
      "metadata": {
        "collapsed": true,
        "id": "ycGyCJ0pmLpL"
      },
      "source": [
        "from sklearn.decomposition import PCA\n",
        "\n",
        "# map word vectors onto 2d plane with PCA. Use good old sklearn api (fit, transform)\n",
        "# after that, normalize vectors to make sure they have zero mean and unit variance\n",
        "word_vectors_pca = PCA(n_components=2).fit_transform(word_vectors)\n",
        "\n",
        "# and maybe MORE OF YOUR CODE here :)\n",
        "word_vectors_pca = (word_vectors_pca - word_vectors_pca.mean(0)) / \\\n",
        "        word_vectors_pca.std(0)"
      ],
      "execution_count": 68,
      "outputs": []
    },
    {
      "cell_type": "code",
      "metadata": {
        "collapsed": true,
        "id": "CiioyxoQmLpL"
      },
      "source": [
        "assert word_vectors_pca.shape == (len(word_vectors), 2), \"there must be a 2d vector for each word\"\n",
        "assert max(abs(word_vectors_pca.mean(0))) < 1e-5, \"points must be zero-centered\"\n",
        "assert max(abs(1.0 - word_vectors_pca.std(0))) < 1e-2, \"points must have unit variance\""
      ],
      "execution_count": 69,
      "outputs": []
    },
    {
      "cell_type": "markdown",
      "metadata": {
        "id": "AyosSVfDmLpM"
      },
      "source": [
        "#### Let's draw it!"
      ]
    },
    {
      "cell_type": "code",
      "metadata": {
        "id": "30F0eXdAmLpM"
      },
      "source": [
        "import bokeh.models as bm, bokeh.plotting as pl\n",
        "from bokeh.io import output_notebook\n",
        "output_notebook()\n",
        "\n",
        "def draw_vectors(x, y, radius=10, alpha=0.25, color='blue',\n",
        "                 width=600, height=400, show=True, **kwargs):\n",
        "    \"\"\" draws an interactive plot for data points with auxilirary info on hover \"\"\"\n",
        "    if isinstance(color, str): color = [color] * len(x)\n",
        "    data_source = bm.ColumnDataSource({ 'x' : x, 'y' : y, 'color': color, **kwargs })\n",
        "\n",
        "    fig = pl.figure(active_scroll='wheel_zoom', width=width, height=height)\n",
        "    fig.scatter('x', 'y', size=radius, color='color', alpha=alpha, source=data_source)\n",
        "\n",
        "    fig.add_tools(bm.HoverTool(tooltips=[(key, \"@\" + key) for key in kwargs.keys()]))\n",
        "    if show: pl.show(fig)\n",
        "    return fig"
      ],
      "execution_count": 70,
      "outputs": []
    },
    {
      "cell_type": "code",
      "metadata": {
        "colab": {
          "base_uri": "https://localhost:8080/",
          "height": 434
        },
        "id": "qTpaozR-mLpM",
        "outputId": "caaeb7d7-12cd-4c93-a78c-90435d7385ba"
      },
      "source": [
        "draw_vectors(word_vectors_pca[:, 0], word_vectors_pca[:, 1], token=words)\n",
        "\n",
        "# hover a mouse over there and see if you can identify the clusters"
      ],
      "execution_count": 71,
      "outputs": [
        {
          "output_type": "display_data",
          "data": {
            "application/javascript": [
              "\n",
              "(function(root) {\n",
              "  function now() {\n",
              "    return new Date();\n",
              "  }\n",
              "\n",
              "  var force = true;\n",
              "\n",
              "  if (typeof root._bokeh_onload_callbacks === \"undefined\" || force === true) {\n",
              "    root._bokeh_onload_callbacks = [];\n",
              "    root._bokeh_is_loading = undefined;\n",
              "  }\n",
              "\n",
              "  var JS_MIME_TYPE = 'application/javascript';\n",
              "  var HTML_MIME_TYPE = 'text/html';\n",
              "  var EXEC_MIME_TYPE = 'application/vnd.bokehjs_exec.v0+json';\n",
              "  var CLASS_NAME = 'output_bokeh rendered_html';\n",
              "\n",
              "  /**\n",
              "   * Render data to the DOM node\n",
              "   */\n",
              "  function render(props, node) {\n",
              "    var script = document.createElement(\"script\");\n",
              "    node.appendChild(script);\n",
              "  }\n",
              "\n",
              "  /**\n",
              "   * Handle when an output is cleared or removed\n",
              "   */\n",
              "  function handleClearOutput(event, handle) {\n",
              "    var cell = handle.cell;\n",
              "\n",
              "    var id = cell.output_area._bokeh_element_id;\n",
              "    var server_id = cell.output_area._bokeh_server_id;\n",
              "    // Clean up Bokeh references\n",
              "    if (id != null && id in Bokeh.index) {\n",
              "      Bokeh.index[id].model.document.clear();\n",
              "      delete Bokeh.index[id];\n",
              "    }\n",
              "\n",
              "    if (server_id !== undefined) {\n",
              "      // Clean up Bokeh references\n",
              "      var cmd = \"from bokeh.io.state import curstate; print(curstate().uuid_to_server['\" + server_id + \"'].get_sessions()[0].document.roots[0]._id)\";\n",
              "      cell.notebook.kernel.execute(cmd, {\n",
              "        iopub: {\n",
              "          output: function(msg) {\n",
              "            var id = msg.content.text.trim();\n",
              "            if (id in Bokeh.index) {\n",
              "              Bokeh.index[id].model.document.clear();\n",
              "              delete Bokeh.index[id];\n",
              "            }\n",
              "          }\n",
              "        }\n",
              "      });\n",
              "      // Destroy server and session\n",
              "      var cmd = \"import bokeh.io.notebook as ion; ion.destroy_server('\" + server_id + \"')\";\n",
              "      cell.notebook.kernel.execute(cmd);\n",
              "    }\n",
              "  }\n",
              "\n",
              "  /**\n",
              "   * Handle when a new output is added\n",
              "   */\n",
              "  function handleAddOutput(event, handle) {\n",
              "    var output_area = handle.output_area;\n",
              "    var output = handle.output;\n",
              "\n",
              "    // limit handleAddOutput to display_data with EXEC_MIME_TYPE content only\n",
              "    if ((output.output_type != \"display_data\") || (!output.data.hasOwnProperty(EXEC_MIME_TYPE))) {\n",
              "      return\n",
              "    }\n",
              "\n",
              "    var toinsert = output_area.element.find(\".\" + CLASS_NAME.split(' ')[0]);\n",
              "\n",
              "    if (output.metadata[EXEC_MIME_TYPE][\"id\"] !== undefined) {\n",
              "      toinsert[toinsert.length - 1].firstChild.textContent = output.data[JS_MIME_TYPE];\n",
              "      // store reference to embed id on output_area\n",
              "      output_area._bokeh_element_id = output.metadata[EXEC_MIME_TYPE][\"id\"];\n",
              "    }\n",
              "    if (output.metadata[EXEC_MIME_TYPE][\"server_id\"] !== undefined) {\n",
              "      var bk_div = document.createElement(\"div\");\n",
              "      bk_div.innerHTML = output.data[HTML_MIME_TYPE];\n",
              "      var script_attrs = bk_div.children[0].attributes;\n",
              "      for (var i = 0; i < script_attrs.length; i++) {\n",
              "        toinsert[toinsert.length - 1].firstChild.setAttribute(script_attrs[i].name, script_attrs[i].value);\n",
              "        toinsert[toinsert.length - 1].firstChild.textContent = bk_div.children[0].textContent\n",
              "      }\n",
              "      // store reference to server id on output_area\n",
              "      output_area._bokeh_server_id = output.metadata[EXEC_MIME_TYPE][\"server_id\"];\n",
              "    }\n",
              "  }\n",
              "\n",
              "  function register_renderer(events, OutputArea) {\n",
              "\n",
              "    function append_mime(data, metadata, element) {\n",
              "      // create a DOM node to render to\n",
              "      var toinsert = this.create_output_subarea(\n",
              "        metadata,\n",
              "        CLASS_NAME,\n",
              "        EXEC_MIME_TYPE\n",
              "      );\n",
              "      this.keyboard_manager.register_events(toinsert);\n",
              "      // Render to node\n",
              "      var props = {data: data, metadata: metadata[EXEC_MIME_TYPE]};\n",
              "      render(props, toinsert[toinsert.length - 1]);\n",
              "      element.append(toinsert);\n",
              "      return toinsert\n",
              "    }\n",
              "\n",
              "    /* Handle when an output is cleared or removed */\n",
              "    events.on('clear_output.CodeCell', handleClearOutput);\n",
              "    events.on('delete.Cell', handleClearOutput);\n",
              "\n",
              "    /* Handle when a new output is added */\n",
              "    events.on('output_added.OutputArea', handleAddOutput);\n",
              "\n",
              "    /**\n",
              "     * Register the mime type and append_mime function with output_area\n",
              "     */\n",
              "    OutputArea.prototype.register_mime_type(EXEC_MIME_TYPE, append_mime, {\n",
              "      /* Is output safe? */\n",
              "      safe: true,\n",
              "      /* Index of renderer in `output_area.display_order` */\n",
              "      index: 0\n",
              "    });\n",
              "  }\n",
              "\n",
              "  // register the mime type if in Jupyter Notebook environment and previously unregistered\n",
              "  if (root.Jupyter !== undefined) {\n",
              "    var events = require('base/js/events');\n",
              "    var OutputArea = require('notebook/js/outputarea').OutputArea;\n",
              "\n",
              "    if (OutputArea.prototype.mime_types().indexOf(EXEC_MIME_TYPE) == -1) {\n",
              "      register_renderer(events, OutputArea);\n",
              "    }\n",
              "  }\n",
              "\n",
              "  \n",
              "  if (typeof (root._bokeh_timeout) === \"undefined\" || force === true) {\n",
              "    root._bokeh_timeout = Date.now() + 5000;\n",
              "    root._bokeh_failed_load = false;\n",
              "  }\n",
              "\n",
              "  var NB_LOAD_WARNING = {'data': {'text/html':\n",
              "     \"<div style='background-color: #fdd'>\\n\"+\n",
              "     \"<p>\\n\"+\n",
              "     \"BokehJS does not appear to have successfully loaded. If loading BokehJS from CDN, this \\n\"+\n",
              "     \"may be due to a slow or bad network connection. Possible fixes:\\n\"+\n",
              "     \"</p>\\n\"+\n",
              "     \"<ul>\\n\"+\n",
              "     \"<li>re-rerun `output_notebook()` to attempt to load from CDN again, or</li>\\n\"+\n",
              "     \"<li>use INLINE resources instead, as so:</li>\\n\"+\n",
              "     \"</ul>\\n\"+\n",
              "     \"<code>\\n\"+\n",
              "     \"from bokeh.resources import INLINE\\n\"+\n",
              "     \"output_notebook(resources=INLINE)\\n\"+\n",
              "     \"</code>\\n\"+\n",
              "     \"</div>\"}};\n",
              "\n",
              "  function display_loaded() {\n",
              "    var el = document.getElementById(null);\n",
              "    if (el != null) {\n",
              "      el.textContent = \"BokehJS is loading...\";\n",
              "    }\n",
              "    if (root.Bokeh !== undefined) {\n",
              "      if (el != null) {\n",
              "        el.textContent = \"BokehJS \" + root.Bokeh.version + \" successfully loaded.\";\n",
              "      }\n",
              "    } else if (Date.now() < root._bokeh_timeout) {\n",
              "      setTimeout(display_loaded, 100)\n",
              "    }\n",
              "  }\n",
              "\n",
              "\n",
              "  function run_callbacks() {\n",
              "    try {\n",
              "      root._bokeh_onload_callbacks.forEach(function(callback) {\n",
              "        if (callback != null)\n",
              "          callback();\n",
              "      });\n",
              "    } finally {\n",
              "      delete root._bokeh_onload_callbacks\n",
              "    }\n",
              "    console.debug(\"Bokeh: all callbacks have finished\");\n",
              "  }\n",
              "\n",
              "  function load_libs(css_urls, js_urls, callback) {\n",
              "    if (css_urls == null) css_urls = [];\n",
              "    if (js_urls == null) js_urls = [];\n",
              "\n",
              "    root._bokeh_onload_callbacks.push(callback);\n",
              "    if (root._bokeh_is_loading > 0) {\n",
              "      console.debug(\"Bokeh: BokehJS is being loaded, scheduling callback at\", now());\n",
              "      return null;\n",
              "    }\n",
              "    if (js_urls == null || js_urls.length === 0) {\n",
              "      run_callbacks();\n",
              "      return null;\n",
              "    }\n",
              "    console.debug(\"Bokeh: BokehJS not loaded, scheduling load and callback at\", now());\n",
              "    root._bokeh_is_loading = css_urls.length + js_urls.length;\n",
              "\n",
              "    function on_load() {\n",
              "      root._bokeh_is_loading--;\n",
              "      if (root._bokeh_is_loading === 0) {\n",
              "        console.debug(\"Bokeh: all BokehJS libraries/stylesheets loaded\");\n",
              "        run_callbacks()\n",
              "      }\n",
              "    }\n",
              "\n",
              "    function on_error() {\n",
              "      console.error(\"failed to load \" + url);\n",
              "    }\n",
              "\n",
              "    for (var i = 0; i < css_urls.length; i++) {\n",
              "      var url = css_urls[i];\n",
              "      const element = document.createElement(\"link\");\n",
              "      element.onload = on_load;\n",
              "      element.onerror = on_error;\n",
              "      element.rel = \"stylesheet\";\n",
              "      element.type = \"text/css\";\n",
              "      element.href = url;\n",
              "      console.debug(\"Bokeh: injecting link tag for BokehJS stylesheet: \", url);\n",
              "      document.body.appendChild(element);\n",
              "    }\n",
              "\n",
              "    const hashes = {\"https://cdn.bokeh.org/bokeh/release/bokeh-2.1.1.min.js\": \"kLr4fYcqcSpbuI95brIH3vnnYCquzzSxHPU6XGQCIkQRGJwhg0StNbj1eegrHs12\", \"https://cdn.bokeh.org/bokeh/release/bokeh-widgets-2.1.1.min.js\": \"xIGPmVtaOm+z0BqfSOMn4lOR6ciex448GIKG4eE61LsAvmGj48XcMQZtKcE/UXZe\", \"https://cdn.bokeh.org/bokeh/release/bokeh-tables-2.1.1.min.js\": \"Dc9u1wF/0zApGIWoBbH77iWEHtdmkuYWG839Uzmv8y8yBLXebjO9ZnERsde5Ln/P\", \"https://cdn.bokeh.org/bokeh/release/bokeh-gl-2.1.1.min.js\": \"cT9JaBz7GiRXdENrJLZNSC6eMNF3nh3fa5fTF51Svp+ukxPdwcU5kGXGPBgDCa2j\"};\n",
              "\n",
              "    for (var i = 0; i < js_urls.length; i++) {\n",
              "      var url = js_urls[i];\n",
              "      var element = document.createElement('script');\n",
              "      element.onload = on_load;\n",
              "      element.onerror = on_error;\n",
              "      element.async = false;\n",
              "      element.src = url;\n",
              "      if (url in hashes) {\n",
              "        element.crossOrigin = \"anonymous\";\n",
              "        element.integrity = \"sha384-\" + hashes[url];\n",
              "      }\n",
              "      console.debug(\"Bokeh: injecting script tag for BokehJS library: \", url);\n",
              "      document.head.appendChild(element);\n",
              "    }\n",
              "  };\n",
              "\n",
              "  function inject_raw_css(css) {\n",
              "    const element = document.createElement(\"style\");\n",
              "    element.appendChild(document.createTextNode(css));\n",
              "    document.body.appendChild(element);\n",
              "  }\n",
              "\n",
              "  \n",
              "  var js_urls = [\"https://cdn.bokeh.org/bokeh/release/bokeh-2.1.1.min.js\", \"https://cdn.bokeh.org/bokeh/release/bokeh-widgets-2.1.1.min.js\", \"https://cdn.bokeh.org/bokeh/release/bokeh-tables-2.1.1.min.js\", \"https://cdn.bokeh.org/bokeh/release/bokeh-gl-2.1.1.min.js\"];\n",
              "  var css_urls = [];\n",
              "  \n",
              "\n",
              "  var inline_js = [\n",
              "    function(Bokeh) {\n",
              "      Bokeh.set_log_level(\"info\");\n",
              "    },\n",
              "    function(Bokeh) {\n",
              "    \n",
              "    \n",
              "    }\n",
              "  ];\n",
              "\n",
              "  function run_inline_js() {\n",
              "    \n",
              "    if (root.Bokeh !== undefined || force === true) {\n",
              "      \n",
              "    for (var i = 0; i < inline_js.length; i++) {\n",
              "      inline_js[i].call(root, root.Bokeh);\n",
              "    }\n",
              "    } else if (Date.now() < root._bokeh_timeout) {\n",
              "      setTimeout(run_inline_js, 100);\n",
              "    } else if (!root._bokeh_failed_load) {\n",
              "      console.log(\"Bokeh: BokehJS failed to load within specified timeout.\");\n",
              "      root._bokeh_failed_load = true;\n",
              "    } else if (force !== true) {\n",
              "      var cell = $(document.getElementById(null)).parents('.cell').data().cell;\n",
              "      cell.output_area.append_execute_result(NB_LOAD_WARNING)\n",
              "    }\n",
              "\n",
              "  }\n",
              "\n",
              "  if (root._bokeh_is_loading === 0) {\n",
              "    console.debug(\"Bokeh: BokehJS loaded, going straight to plotting\");\n",
              "    run_inline_js();\n",
              "  } else {\n",
              "    load_libs(css_urls, js_urls, function() {\n",
              "      console.debug(\"Bokeh: BokehJS plotting callback run at\", now());\n",
              "      run_inline_js();\n",
              "    });\n",
              "  }\n",
              "}(window));"
            ],
            "application/vnd.bokehjs_load.v0+json": "\n(function(root) {\n  function now() {\n    return new Date();\n  }\n\n  var force = true;\n\n  if (typeof root._bokeh_onload_callbacks === \"undefined\" || force === true) {\n    root._bokeh_onload_callbacks = [];\n    root._bokeh_is_loading = undefined;\n  }\n\n  \n\n  \n  if (typeof (root._bokeh_timeout) === \"undefined\" || force === true) {\n    root._bokeh_timeout = Date.now() + 5000;\n    root._bokeh_failed_load = false;\n  }\n\n  var NB_LOAD_WARNING = {'data': {'text/html':\n     \"<div style='background-color: #fdd'>\\n\"+\n     \"<p>\\n\"+\n     \"BokehJS does not appear to have successfully loaded. If loading BokehJS from CDN, this \\n\"+\n     \"may be due to a slow or bad network connection. Possible fixes:\\n\"+\n     \"</p>\\n\"+\n     \"<ul>\\n\"+\n     \"<li>re-rerun `output_notebook()` to attempt to load from CDN again, or</li>\\n\"+\n     \"<li>use INLINE resources instead, as so:</li>\\n\"+\n     \"</ul>\\n\"+\n     \"<code>\\n\"+\n     \"from bokeh.resources import INLINE\\n\"+\n     \"output_notebook(resources=INLINE)\\n\"+\n     \"</code>\\n\"+\n     \"</div>\"}};\n\n  function display_loaded() {\n    var el = document.getElementById(null);\n    if (el != null) {\n      el.textContent = \"BokehJS is loading...\";\n    }\n    if (root.Bokeh !== undefined) {\n      if (el != null) {\n        el.textContent = \"BokehJS \" + root.Bokeh.version + \" successfully loaded.\";\n      }\n    } else if (Date.now() < root._bokeh_timeout) {\n      setTimeout(display_loaded, 100)\n    }\n  }\n\n\n  function run_callbacks() {\n    try {\n      root._bokeh_onload_callbacks.forEach(function(callback) {\n        if (callback != null)\n          callback();\n      });\n    } finally {\n      delete root._bokeh_onload_callbacks\n    }\n    console.debug(\"Bokeh: all callbacks have finished\");\n  }\n\n  function load_libs(css_urls, js_urls, callback) {\n    if (css_urls == null) css_urls = [];\n    if (js_urls == null) js_urls = [];\n\n    root._bokeh_onload_callbacks.push(callback);\n    if (root._bokeh_is_loading > 0) {\n      console.debug(\"Bokeh: BokehJS is being loaded, scheduling callback at\", now());\n      return null;\n    }\n    if (js_urls == null || js_urls.length === 0) {\n      run_callbacks();\n      return null;\n    }\n    console.debug(\"Bokeh: BokehJS not loaded, scheduling load and callback at\", now());\n    root._bokeh_is_loading = css_urls.length + js_urls.length;\n\n    function on_load() {\n      root._bokeh_is_loading--;\n      if (root._bokeh_is_loading === 0) {\n        console.debug(\"Bokeh: all BokehJS libraries/stylesheets loaded\");\n        run_callbacks()\n      }\n    }\n\n    function on_error() {\n      console.error(\"failed to load \" + url);\n    }\n\n    for (var i = 0; i < css_urls.length; i++) {\n      var url = css_urls[i];\n      const element = document.createElement(\"link\");\n      element.onload = on_load;\n      element.onerror = on_error;\n      element.rel = \"stylesheet\";\n      element.type = \"text/css\";\n      element.href = url;\n      console.debug(\"Bokeh: injecting link tag for BokehJS stylesheet: \", url);\n      document.body.appendChild(element);\n    }\n\n    const hashes = {\"https://cdn.bokeh.org/bokeh/release/bokeh-2.1.1.min.js\": \"kLr4fYcqcSpbuI95brIH3vnnYCquzzSxHPU6XGQCIkQRGJwhg0StNbj1eegrHs12\", \"https://cdn.bokeh.org/bokeh/release/bokeh-widgets-2.1.1.min.js\": \"xIGPmVtaOm+z0BqfSOMn4lOR6ciex448GIKG4eE61LsAvmGj48XcMQZtKcE/UXZe\", \"https://cdn.bokeh.org/bokeh/release/bokeh-tables-2.1.1.min.js\": \"Dc9u1wF/0zApGIWoBbH77iWEHtdmkuYWG839Uzmv8y8yBLXebjO9ZnERsde5Ln/P\", \"https://cdn.bokeh.org/bokeh/release/bokeh-gl-2.1.1.min.js\": \"cT9JaBz7GiRXdENrJLZNSC6eMNF3nh3fa5fTF51Svp+ukxPdwcU5kGXGPBgDCa2j\"};\n\n    for (var i = 0; i < js_urls.length; i++) {\n      var url = js_urls[i];\n      var element = document.createElement('script');\n      element.onload = on_load;\n      element.onerror = on_error;\n      element.async = false;\n      element.src = url;\n      if (url in hashes) {\n        element.crossOrigin = \"anonymous\";\n        element.integrity = \"sha384-\" + hashes[url];\n      }\n      console.debug(\"Bokeh: injecting script tag for BokehJS library: \", url);\n      document.head.appendChild(element);\n    }\n  };\n\n  function inject_raw_css(css) {\n    const element = document.createElement(\"style\");\n    element.appendChild(document.createTextNode(css));\n    document.body.appendChild(element);\n  }\n\n  \n  var js_urls = [\"https://cdn.bokeh.org/bokeh/release/bokeh-2.1.1.min.js\", \"https://cdn.bokeh.org/bokeh/release/bokeh-widgets-2.1.1.min.js\", \"https://cdn.bokeh.org/bokeh/release/bokeh-tables-2.1.1.min.js\", \"https://cdn.bokeh.org/bokeh/release/bokeh-gl-2.1.1.min.js\"];\n  var css_urls = [];\n  \n\n  var inline_js = [\n    function(Bokeh) {\n      Bokeh.set_log_level(\"info\");\n    },\n    function(Bokeh) {\n    \n    \n    }\n  ];\n\n  function run_inline_js() {\n    \n    if (root.Bokeh !== undefined || force === true) {\n      \n    for (var i = 0; i < inline_js.length; i++) {\n      inline_js[i].call(root, root.Bokeh);\n    }\n    } else if (Date.now() < root._bokeh_timeout) {\n      setTimeout(run_inline_js, 100);\n    } else if (!root._bokeh_failed_load) {\n      console.log(\"Bokeh: BokehJS failed to load within specified timeout.\");\n      root._bokeh_failed_load = true;\n    } else if (force !== true) {\n      var cell = $(document.getElementById(null)).parents('.cell').data().cell;\n      cell.output_area.append_execute_result(NB_LOAD_WARNING)\n    }\n\n  }\n\n  if (root._bokeh_is_loading === 0) {\n    console.debug(\"Bokeh: BokehJS loaded, going straight to plotting\");\n    run_inline_js();\n  } else {\n    load_libs(css_urls, js_urls, function() {\n      console.debug(\"Bokeh: BokehJS plotting callback run at\", now());\n      run_inline_js();\n    });\n  }\n}(window));"
          },
          "metadata": {
            "tags": []
          }
        },
        {
          "output_type": "display_data",
          "data": {
            "text/html": [
              "\n",
              "\n",
              "\n",
              "\n",
              "\n",
              "\n",
              "  <div class=\"bk-root\" id=\"18e4009a-e173-4d55-8eb8-1107407125cb\" data-root-id=\"1347\"></div>\n"
            ]
          },
          "metadata": {
            "tags": []
          }
        },
        {
          "output_type": "display_data",
          "data": {
            "application/javascript": [
              "(function(root) {\n",
              "  function embed_document(root) {\n",
              "    \n",
              "  var docs_json = {\"7958362e-9661-4d83-82df-729624c6ca0d\":{\"roots\":{\"references\":[{\"attributes\":{\"below\":[{\"id\":\"1356\"}],\"center\":[{\"id\":\"1359\"},{\"id\":\"1363\"}],\"left\":[{\"id\":\"1360\"}],\"plot_height\":400,\"renderers\":[{\"id\":\"1381\"}],\"title\":{\"id\":\"1412\"},\"toolbar\":{\"id\":\"1371\"},\"x_range\":{\"id\":\"1348\"},\"x_scale\":{\"id\":\"1352\"},\"y_range\":{\"id\":\"1350\"},\"y_scale\":{\"id\":\"1354\"}},\"id\":\"1347\",\"subtype\":\"Figure\",\"type\":\"Plot\"},{\"attributes\":{\"callback\":null,\"tooltips\":[[\"token\",\"@token\"]]},\"id\":\"1383\",\"type\":\"HoverTool\"},{\"attributes\":{\"data\":{\"color\":[\"blue\",\"blue\",\"blue\",\"blue\",\"blue\",\"blue\",\"blue\",\"blue\",\"blue\",\"blue\",\"blue\",\"blue\",\"blue\",\"blue\",\"blue\",\"blue\",\"blue\",\"blue\",\"blue\",\"blue\",\"blue\",\"blue\",\"blue\",\"blue\",\"blue\",\"blue\",\"blue\",\"blue\",\"blue\",\"blue\",\"blue\",\"blue\",\"blue\",\"blue\",\"blue\",\"blue\",\"blue\",\"blue\",\"blue\",\"blue\",\"blue\",\"blue\",\"blue\",\"blue\",\"blue\",\"blue\",\"blue\",\"blue\",\"blue\",\"blue\",\"blue\",\"blue\",\"blue\",\"blue\",\"blue\",\"blue\",\"blue\",\"blue\",\"blue\",\"blue\",\"blue\",\"blue\",\"blue\",\"blue\",\"blue\",\"blue\",\"blue\",\"blue\",\"blue\",\"blue\",\"blue\",\"blue\",\"blue\",\"blue\",\"blue\",\"blue\",\"blue\",\"blue\",\"blue\",\"blue\",\"blue\",\"blue\",\"blue\",\"blue\",\"blue\",\"blue\",\"blue\",\"blue\",\"blue\",\"blue\",\"blue\",\"blue\",\"blue\",\"blue\",\"blue\",\"blue\",\"blue\",\"blue\",\"blue\",\"blue\",\"blue\",\"blue\",\"blue\",\"blue\",\"blue\",\"blue\",\"blue\",\"blue\",\"blue\",\"blue\",\"blue\",\"blue\",\"blue\",\"blue\",\"blue\",\"blue\",\"blue\",\"blue\",\"blue\",\"blue\",\"blue\",\"blue\",\"blue\",\"blue\",\"blue\",\"blue\",\"blue\",\"blue\",\"blue\",\"blue\",\"blue\",\"blue\",\"blue\",\"blue\",\"blue\",\"blue\",\"blue\",\"blue\",\"blue\",\"blue\",\"blue\",\"blue\",\"blue\",\"blue\",\"blue\",\"blue\",\"blue\",\"blue\",\"blue\",\"blue\",\"blue\",\"blue\",\"blue\",\"blue\",\"blue\",\"blue\",\"blue\",\"blue\",\"blue\",\"blue\",\"blue\",\"blue\",\"blue\",\"blue\",\"blue\",\"blue\",\"blue\",\"blue\",\"blue\",\"blue\",\"blue\",\"blue\",\"blue\",\"blue\",\"blue\",\"blue\",\"blue\",\"blue\",\"blue\",\"blue\",\"blue\",\"blue\",\"blue\",\"blue\",\"blue\",\"blue\",\"blue\",\"blue\",\"blue\",\"blue\",\"blue\",\"blue\",\"blue\",\"blue\",\"blue\",\"blue\",\"blue\",\"blue\",\"blue\",\"blue\",\"blue\",\"blue\",\"blue\",\"blue\",\"blue\",\"blue\",\"blue\",\"blue\",\"blue\",\"blue\",\"blue\",\"blue\",\"blue\",\"blue\",\"blue\",\"blue\",\"blue\",\"blue\",\"blue\",\"blue\",\"blue\",\"blue\",\"blue\",\"blue\",\"blue\",\"blue\",\"blue\",\"blue\",\"blue\",\"blue\",\"blue\",\"blue\",\"blue\",\"blue\",\"blue\",\"blue\",\"blue\",\"blue\",\"blue\",\"blue\",\"blue\",\"blue\",\"blue\",\"blue\",\"blue\",\"blue\",\"blue\",\"blue\",\"blue\",\"blue\",\"blue\",\"blue\",\"blue\",\"blue\",\"blue\",\"blue\",\"blue\",\"blue\",\"blue\",\"blue\",\"blue\",\"blue\",\"blue\",\"blue\",\"blue\",\"blue\",\"blue\",\"blue\",\"blue\",\"blue\",\"blue\",\"blue\",\"blue\",\"blue\",\"blue\",\"blue\",\"blue\",\"blue\",\"blue\",\"blue\",\"blue\",\"blue\",\"blue\",\"blue\",\"blue\",\"blue\",\"blue\",\"blue\",\"blue\",\"blue\",\"blue\",\"blue\",\"blue\",\"blue\",\"blue\",\"blue\",\"blue\",\"blue\",\"blue\",\"blue\",\"blue\",\"blue\",\"blue\",\"blue\",\"blue\",\"blue\",\"blue\",\"blue\",\"blue\",\"blue\",\"blue\",\"blue\",\"blue\",\"blue\",\"blue\",\"blue\",\"blue\",\"blue\",\"blue\",\"blue\",\"blue\",\"blue\",\"blue\",\"blue\",\"blue\",\"blue\",\"blue\",\"blue\",\"blue\",\"blue\",\"blue\",\"blue\",\"blue\",\"blue\",\"blue\",\"blue\",\"blue\",\"blue\",\"blue\",\"blue\",\"blue\",\"blue\",\"blue\",\"blue\",\"blue\",\"blue\",\"blue\",\"blue\",\"blue\",\"blue\",\"blue\",\"blue\",\"blue\",\"blue\",\"blue\",\"blue\",\"blue\",\"blue\",\"blue\",\"blue\",\"blue\",\"blue\",\"blue\",\"blue\",\"blue\",\"blue\",\"blue\",\"blue\",\"blue\",\"blue\",\"blue\",\"blue\",\"blue\",\"blue\",\"blue\",\"blue\",\"blue\",\"blue\",\"blue\",\"blue\",\"blue\",\"blue\",\"blue\",\"blue\",\"blue\",\"blue\",\"blue\",\"blue\",\"blue\",\"blue\",\"blue\",\"blue\",\"blue\",\"blue\",\"blue\",\"blue\",\"blue\",\"blue\",\"blue\",\"blue\",\"blue\",\"blue\",\"blue\",\"blue\",\"blue\",\"blue\",\"blue\",\"blue\",\"blue\",\"blue\",\"blue\",\"blue\",\"blue\",\"blue\",\"blue\",\"blue\",\"blue\",\"blue\",\"blue\",\"blue\",\"blue\",\"blue\",\"blue\",\"blue\",\"blue\",\"blue\",\"blue\",\"blue\",\"blue\",\"blue\",\"blue\",\"blue\",\"blue\",\"blue\",\"blue\",\"blue\",\"blue\",\"blue\",\"blue\",\"blue\",\"blue\",\"blue\",\"blue\",\"blue\",\"blue\",\"blue\",\"blue\",\"blue\",\"blue\",\"blue\",\"blue\",\"blue\",\"blue\",\"blue\",\"blue\",\"blue\",\"blue\",\"blue\",\"blue\",\"blue\",\"blue\",\"blue\",\"blue\",\"blue\",\"blue\",\"blue\",\"blue\",\"blue\",\"blue\",\"blue\",\"blue\",\"blue\",\"blue\",\"blue\",\"blue\",\"blue\",\"blue\",\"blue\",\"blue\",\"blue\",\"blue\",\"blue\",\"blue\",\"blue\",\"blue\",\"blue\",\"blue\",\"blue\",\"blue\",\"blue\",\"blue\",\"blue\",\"blue\",\"blue\",\"blue\",\"blue\",\"blue\",\"blue\",\"blue\",\"blue\",\"blue\",\"blue\",\"blue\",\"blue\",\"blue\",\"blue\",\"blue\",\"blue\",\"blue\",\"blue\",\"blue\",\"blue\",\"blue\",\"blue\",\"blue\",\"blue\",\"blue\",\"blue\",\"blue\",\"blue\",\"blue\",\"blue\",\"blue\",\"blue\",\"blue\",\"blue\",\"blue\",\"blue\",\"blue\",\"blue\",\"blue\",\"blue\",\"blue\",\"blue\",\"blue\",\"blue\",\"blue\",\"blue\",\"blue\",\"blue\",\"blue\",\"blue\",\"blue\",\"blue\",\"blue\",\"blue\",\"blue\",\"blue\",\"blue\",\"blue\",\"blue\",\"blue\",\"blue\",\"blue\",\"blue\",\"blue\",\"blue\",\"blue\",\"blue\",\"blue\",\"blue\",\"blue\",\"blue\",\"blue\",\"blue\",\"blue\",\"blue\",\"blue\",\"blue\",\"blue\",\"blue\",\"blue\",\"blue\",\"blue\",\"blue\",\"blue\",\"blue\",\"blue\",\"blue\",\"blue\",\"blue\",\"blue\",\"blue\",\"blue\",\"blue\",\"blue\",\"blue\",\"blue\",\"blue\",\"blue\",\"blue\",\"blue\",\"blue\",\"blue\",\"blue\",\"blue\",\"blue\",\"blue\",\"blue\",\"blue\",\"blue\",\"blue\",\"blue\",\"blue\",\"blue\",\"blue\",\"blue\",\"blue\",\"blue\",\"blue\",\"blue\",\"blue\",\"blue\",\"blue\",\"blue\",\"blue\",\"blue\",\"blue\",\"blue\",\"blue\",\"blue\",\"blue\",\"blue\",\"blue\",\"blue\",\"blue\",\"blue\",\"blue\",\"blue\",\"blue\",\"blue\",\"blue\",\"blue\",\"blue\",\"blue\",\"blue\",\"blue\",\"blue\",\"blue\",\"blue\",\"blue\",\"blue\",\"blue\",\"blue\",\"blue\",\"blue\",\"blue\",\"blue\",\"blue\",\"blue\",\"blue\",\"blue\",\"blue\",\"blue\",\"blue\",\"blue\",\"blue\",\"blue\",\"blue\",\"blue\",\"blue\",\"blue\",\"blue\",\"blue\",\"blue\",\"blue\",\"blue\",\"blue\",\"blue\",\"blue\",\"blue\",\"blue\",\"blue\",\"blue\",\"blue\",\"blue\",\"blue\",\"blue\",\"blue\",\"blue\",\"blue\",\"blue\",\"blue\",\"blue\",\"blue\",\"blue\",\"blue\",\"blue\",\"blue\",\"blue\",\"blue\",\"blue\",\"blue\",\"blue\",\"blue\",\"blue\",\"blue\",\"blue\",\"blue\",\"blue\",\"blue\",\"blue\",\"blue\",\"blue\",\"blue\",\"blue\",\"blue\",\"blue\",\"blue\",\"blue\",\"blue\",\"blue\",\"blue\",\"blue\",\"blue\",\"blue\",\"blue\",\"blue\",\"blue\",\"blue\",\"blue\",\"blue\",\"blue\",\"blue\",\"blue\",\"blue\",\"blue\",\"blue\",\"blue\",\"blue\",\"blue\",\"blue\",\"blue\",\"blue\",\"blue\",\"blue\",\"blue\",\"blue\",\"blue\",\"blue\",\"blue\",\"blue\",\"blue\",\"blue\",\"blue\",\"blue\",\"blue\",\"blue\",\"blue\",\"blue\",\"blue\",\"blue\",\"blue\",\"blue\",\"blue\",\"blue\",\"blue\",\"blue\",\"blue\",\"blue\",\"blue\",\"blue\",\"blue\",\"blue\",\"blue\",\"blue\",\"blue\",\"blue\",\"blue\",\"blue\",\"blue\",\"blue\",\"blue\",\"blue\",\"blue\",\"blue\",\"blue\",\"blue\",\"blue\",\"blue\",\"blue\",\"blue\",\"blue\",\"blue\",\"blue\",\"blue\",\"blue\",\"blue\",\"blue\",\"blue\",\"blue\",\"blue\",\"blue\",\"blue\",\"blue\",\"blue\",\"blue\",\"blue\",\"blue\",\"blue\",\"blue\",\"blue\",\"blue\",\"blue\",\"blue\",\"blue\",\"blue\",\"blue\",\"blue\",\"blue\",\"blue\",\"blue\",\"blue\",\"blue\",\"blue\",\"blue\",\"blue\",\"blue\",\"blue\",\"blue\",\"blue\",\"blue\",\"blue\",\"blue\",\"blue\",\"blue\",\"blue\",\"blue\",\"blue\",\"blue\",\"blue\",\"blue\",\"blue\",\"blue\",\"blue\",\"blue\",\"blue\",\"blue\",\"blue\",\"blue\",\"blue\",\"blue\",\"blue\",\"blue\",\"blue\",\"blue\",\"blue\",\"blue\",\"blue\",\"blue\",\"blue\",\"blue\",\"blue\",\"blue\",\"blue\",\"blue\",\"blue\",\"blue\",\"blue\",\"blue\",\"blue\",\"blue\",\"blue\",\"blue\",\"blue\",\"blue\",\"blue\",\"blue\",\"blue\",\"blue\",\"blue\",\"blue\",\"blue\",\"blue\",\"blue\",\"blue\",\"blue\",\"blue\",\"blue\",\"blue\",\"blue\",\"blue\",\"blue\",\"blue\",\"blue\",\"blue\",\"blue\",\"blue\",\"blue\",\"blue\",\"blue\",\"blue\",\"blue\",\"blue\",\"blue\",\"blue\",\"blue\",\"blue\",\"blue\",\"blue\",\"blue\",\"blue\",\"blue\",\"blue\",\"blue\",\"blue\",\"blue\",\"blue\",\"blue\",\"blue\",\"blue\",\"blue\",\"blue\",\"blue\",\"blue\",\"blue\",\"blue\",\"blue\",\"blue\",\"blue\",\"blue\",\"blue\",\"blue\",\"blue\",\"blue\",\"blue\",\"blue\",\"blue\",\"blue\",\"blue\",\"blue\",\"blue\",\"blue\",\"blue\",\"blue\",\"blue\",\"blue\",\"blue\",\"blue\",\"blue\",\"blue\",\"blue\",\"blue\",\"blue\",\"blue\",\"blue\",\"blue\",\"blue\",\"blue\",\"blue\",\"blue\",\"blue\",\"blue\",\"blue\",\"blue\",\"blue\",\"blue\",\"blue\",\"blue\",\"blue\",\"blue\",\"blue\",\"blue\",\"blue\",\"blue\",\"blue\",\"blue\",\"blue\",\"blue\",\"blue\",\"blue\",\"blue\",\"blue\",\"blue\",\"blue\",\"blue\",\"blue\",\"blue\",\"blue\",\"blue\",\"blue\",\"blue\",\"blue\",\"blue\",\"blue\",\"blue\",\"blue\",\"blue\",\"blue\",\"blue\",\"blue\",\"blue\",\"blue\",\"blue\",\"blue\",\"blue\",\"blue\",\"blue\",\"blue\",\"blue\"],\"token\":[\"<user>\",\".\",\":\",\"rt\",\",\",\"<repeat>\",\"<hashtag>\",\"<number>\",\"<url>\",\"!\",\"i\",\"a\",\"\\\"\",\"the\",\"?\",\"you\",\"to\",\"(\",\"<allcaps>\",\"<elong>\",\")\",\"me\",\"de\",\"<smile>\",\"\\uff01\",\"que\",\"and\",\"\\u3002\",\"-\",\"my\",\"no\",\"\\u3001\",\"is\",\"it\",\"\\u2026\",\"in\",\"n\",\"for\",\"/\",\"of\",\"la\",\"'s\",\"*\",\"do\",\"n't\",\"that\",\"on\",\"y\",\"'\",\"e\",\"o\",\"u\",\"en\",\"this\",\"el\",\"so\",\"be\",\"'m\",\"with\",\"just\",\">\",\"your\",\"^\",\"like\",\"have\",\"te\",\"at\",\"\\uff1f\",\"love\",\"se\",\"are\",\"<\",\"m\",\"r\",\"if\",\"all\",\"b\",\"\\u30fb\",\"not\",\"but\",\"we\",\"es\",\"ya\",\"&\",\"follow\",\"up\",\"what\",\"get\",\"lol\",\"un\",\"\\u2665\",\"lo\",\"when\",\"was\",\"\\u201c\",\"\\u201d\",\"one\",\"por\",\"si\",\"out\",\"_\",\"mi\",\"can\",\"<sadface>\",\"\\u0645\\u0646\",\"\\u2661\",\"\\u00b4\",\"he\",\"con\",\"they\",\"now\",\"go\",\"\\u060c\",\"para\",\"los\",\"know\",\"haha\",\"good\",\"tu\",\"back\",\"~\",\"about\",\"new\",\";\",\"as\",\"day\",\"how\",\"who\",\"will\",\"want\",\"people\",\"yo\",\"eu\",\"from\",\"di\",\"time\",\"<heart>\",\"s\",\"aku\",\"da\",\"'re\",\"<lolface>\",\"una\",\"got\",\"las\",\"more\",\"x\",\"she\",\"today\",\"\\uff08\",\">>\",\"k\",\"by\",\"or\",\"\\u0641\\u064a\",\"\\uff65\",\"too\",\"le\",\"\\u00e9\",\"|\",\"[\",\"\\uff09\",\"]\",\"see\",\"why\",\"yg\",\"ca\",\"como\",\"her\",\"\\u2014\",\"q\",\"need\",\"an\",\"na\",\"\\u7b11\",\"there\",\"\\u03c9\",\"happy\",\"im\",\"mas\",\"je\",\"life\",\"really\",\"make\",\"yang\",\"shit\",\"think\",\"t\",\"\\u2764\",\"n\\u00e3o\",\"never\",\"some\",\"\\uff5e\",\"oh\",\"\\u2605\",\"did\",\"would\",\"del\",\"`\",\"d\",\"please\",\"via\",\"much\",\"fuck\",\"al\",\"dia\",\"$\",\"\\u0648\",\"right\",\"best\",\"c\",\"going\",\"\\u0627\\u0644\\u0644\\u0647\",\"pero\",\"only\",\"has\",\"\\u266a\",\"'ll\",\"twitter\",\"=\",\"hahaha\",\"its\",\"nn\",\"\\uff40\",\"\\u00bf\",\"am\",\"say\",\"<neutralface>\",\"them\",\"here\",\"\\u0644\\u0627\",\"off\",\"still\",\"dan\",\"+\",\"night\",\"w\",\"ada\",\"someone\",\"even\",\"then\",\"\\u2606\",\"ni\",\"come\",\"com\",\"always\",\"man\",\"'ve\",\"been\",\"his\",\"itu\",\"\\u0639\\u0644\\u0649\",\"-_-\",\"\\u263a\",\"over\",\"um\",\"\\u0645\\u0627\",\"hate\",\"girl\",\"ai\",\"had\",\"pra\",\"todo\",\"mais\",\"feel\",\"let\",\"ini\",\"because\",\"\\uff9f\",\"thanks\",\"ah\",\"way\",\"ever\",\"look\",\"tweet\",\"followers\",\"should\",\"our\",\"xd\",\"aja\",\"esta\",\"school\",\"him\",\"ser\",\"take\",\"than\",\"video\",\"em\",\"last\",\"wanna\",\"does\",\"us\",\"miss\",\"l\",\"ga\",\"better\",\"well\",\"could\",\"\\u25bd\",\"%\",\"apa\",\"cuando\",\"team\",\"\\u2714\",\"@\",\"ok\",\"\\u061f\",\"\\u2022\",\"vida\",\"quiero\",\"les\",\"being\",\"real\",\"down\",\"kamu\",\"everyone\",\"gonna\",\"live\",\"tonight\",\"yes\",\"work\",\"ass\",\"retweet\",\"nada\",\"sama\",\"first\",\"<<\",\"photo\",\"tomorrow\",\"where\",\"god\",\"son\",\"ke\",\"ta\",\"f\",\"home\",\"lagi\",\"thank\",\"birthday\",\"\\u2588\",\"ha\",\"great\",\"lmao\",\"omg\",\"morning\",\"m\\u00e1s\",\"mau\",\"baby\",\"dont\",\"\\uff61\",\"their\",\"p\",\"things\",\"game\",\"pas\",\"bad\",\"year\",\"yeah\",\"su\",\"bitch\",\"\\u0432\",\"stop\",\"hoy\",\"something\",\"meu\",\"tak\",\"gak\",\"world\",\"amor\",\"h\",\"\\\\\",\"ver\",\"\\uff1b\",\"porque\",\"give\",\"these\",\"\\u0627\\u0644\\u0644\\u0647\\u0645\",\"were\",\"hay\",\"sleep\",\"gue\",\"every\",\"friends\",\"uma\",\"tell\",\"amo\",\"vou\",\"bien\",\"\\u00a1\",\"again\",\"\\uff3e\",\"\\uff0f\",\"done\",\"after\",\"todos\",\"girls\",\"guys\",\"getting\",\"big\",\"wait\",\"justin\",\"eh\",\"\\u2192\",\"kan\",\"kita\",\"jajaja\",\"wish\",\"said\",\"fucking\",\"show\",\"thing\",\"next\",\"voc\\u00ea\",\"nos\",\"little\",\"tengo\",\"keep\",\"person\",\"''\",\"\\u2200\",\"hope\",\"\\u0643\\u0644\",\"hey\",\"bisa\",\"free\",\"made\",\"foto\",\"va\",\"everything\",\"iya\",\"nigga\",\"eso\",\"et\",\"watch\",\"music\",\"week\",\"talk\",\"ne\",\"solo\",\"gente\",\"udah\",\"\\uff1a\",\"--\",\"\\uff3c\",\"mejor\",\"facebook\",\"ma\",\"v\",\"phone\",\"most\",\"same\",\"okay\",\"ik\",\"before\",\"minha\",\"days\",\"g\",\"ti\",\"damn\",\"nice\",\"voy\",\"vai\",\"call\",\"long\",\"tapi\",\"http\",\"sin\",\"nunca\",\"doing\",\"other\",\"find\",\"il\",\"sa\",\"sorry\",\"nya\",\"orang\",\"\\u00b0\",\"hard\",\"mean\",\"die\",\"\\u0627\\u0644\\u0644\\u064a\",\"tem\",\"soy\",\"este\",\"kalo\",\"s\\u00f3\",\"th\",\"win\",\"nothing\",\"into\",\"face\",\"cute\",\"'d\",\"gracias\",\"lah\",\"\\u0438\",\"any\",\"play\",\"\\u2190\",\"ko\",\"text\",\"\\u2323\",\"estoy\",\"tau\",\"ur\",\"buat\",\"#\",\"cause\",\"\\u044f\",\"put\",\"kau\",\"siempre\",\"juga\",\"casa\",\"\\u0623\\u0646\",\"help\",\"start\",\"feliz\",\"old\",\"ir\",\"very\",\"care\",\"bir\",\"makes\",\"song\",\"check\",\"watching\",\"ahora\",\"jadi\",\"os\",\"may\",\"friend\",\"beautiful\",\"heart\",\"ka\",\"vc\",\"mundo\",\"\\u043d\\u0430\",\"sure\",\"tan\",\"pretty\",\"aqui\",\"\\u043d\\u0435\",\"house\",\"\\u0631\\u062a\\u0648\\u064a\\u062a\",\"\\u064a\\u0627\",\"ja\",\"true\",\"muy\",\"away\",\"already\",\"actually\",\"believe\",\"try\",\"many\",\"ma\\u00f1ana\",\"mis\",\"lu\",\"those\",\"hot\",\"qu\\u00e9\",\"mal\",\"\\u0639\\u0646\",\"though\",\"ask\",\"amazing\",\"bed\",\"}\",\"two\",\"mom\",\"d\\u00eda\",\"ve\",\"dari\",\"gameinsight\",\"stay\",\"fun\",\"around\",\"van\",\"cont\",\"ready\",\"money\",\"bu\",\"funny\",\"cool\",\"hair\",\"\\u00e0\",\"tho\",\"{\",\"wo\",\"hi\",\"name\",\"tiene\",\"hahahaha\",\"pa\",\"algo\",\"gotta\",\"\\u0648\\u0644\\u0627\",\"boy\",\"another\",\"c'est\",\"hari\",\"jajajaja\",\"having\",\"cara\",\"jaja\",\"dm\",\"looking\",\"top\",\"android\",\"dah\",\"wow\",\"\\u2591\",\"eres\",\"ben\",\"must\",\"news\",\"met\",\"est\\u00e1\",\"nih\",\"family\",\"black\",\"thought\",\"nak\",\"super\",\"end\",\"hace\",\"remember\",\"ama\",\"party\",\"cant\",\"vamos\",\"anything\",\"anyone\",\"\\u0641\\u0648\\u0644\\u0648\",\"perfect\",\"guy\",\"vez\",\"christmas\",\"dos\",\"bueno\",\"nao\",\"years\",\"vote\",\"dormir\",\"bro\",\"else\",\"quien\",\"untuk\",\"jangan\",\"myself\",\"head\",\"mind\",\"gua\",\"talking\",\"while\",\"dat\",\"food\",\"\\u0434\",\"coming\",\"wkwk\",\"trying\",\"saya\",\"mucho\",\"without\",\"wrong\",\"\\u2019s\",\"baru\",\"__\",\"hehe\",\"hacer\",\"lot\",\"followed\",\"crazy\",\"hell\",\"feeling\",\"des\",\"kok\",\"j\",\"stats\",\"j'\",\"\\u0627\\u0646\",\"tweets\",\"non\",\"cosas\",\"era\",\"high\",\"niggas\",\"change\",\"movie\",\"xx\",\"mad\",\"sih\",\"sometimes\",\"deh\",\"allah\",\"through\",\"pour\",\"ela\",\"soon\",\"gone\",\"playing\",\"smile\",\"bukan\",\"tv\",\"fans\",\"hasta\",\"akan\",\"y'\",\"looks\",\"isso\",\"\\u270c\",\"tired\",\"boys\",\"might\",\"dong\",\"lg\",\"use\",\"maybe\",\"until\",\"menos\",\"own\",\"dengan\",\"eat\",\"ou\",\"weekend\",\"\\u02d8\",\"class\",\"ele\",\"harry\",\"iphone\",\"friday\",\"single\",\"ff\",\"awesome\",\"bout\",\"muito\",\"hoje\",\"\\u00ac\",\"dios\",\"such\",\"estar\",\"j\\u00e1\",\"quando\",\"esa\",\"making\",\"\\u2501\",\"times\",\"lmfao\",\"gw\",\"moment\",\"yet\",\"aw\",\"smh\",\"banget\",\"masih\",\"qui\",\"quem\",\"\\u2013\",\"leave\",\"du\",\"une\",\"guess\",\"hit\",\"\\u0441\",\"pm\",\"since\",\"pues\",\"est\",\"job\",\"\\uff89\",\"mana\",\"bom\",\"siapa\",\"suka\",\"bieber\",\"mention\",\"lebih\",\"favorite\",\"bitches\",\"forever\",\"\\u0644\\u064a\",\"final\",\"read\",\"alguien\",\"open\",\"yourself\",\"ese\",\"che\",\"sex\",\"yaa\",\"car\",\"direction\",\"tidak\",\"seu\",\"gets\",\"left\",\"re\",\"jam\",\"enough\",\"\\u0625\\u0644\\u0627\",\"once\",\"\\u2019\",\"part\",\"cada\",\"\\u5b9a\\u671f\",\"\\u0644\\u0643\",\"een\",\"seen\",\"kak\",\"as\\u00ed\",\"nem\",\"\\u0639\\u0645\\u0644\",\"white\",\"told\",\"says\",\"esto\",\"sad\",\"mo\",\"fue\",\"yah\",\"summer\",\"\\u0647\",\"\\u2b55\",\"\\u00bb\",\"thats\",\"\\u0645\\u0639\",\"posted\",\"wants\",\"agora\",\"together\",\"fan\",\"men\",\"hear\",\"full\",\"\\u2600\",\"sigo\",\"pq\",\"dulu\",\"plus\",\"foi\",\"tudo\",\"\\u0647\\u0648\",\"ill\",\"\\u3042\",\"thinking\",\"wtf\",\"pagi\",\"mama\",\"kalau\",\"hati\",\"sexy\",\"sayang\",\"baik\",\"semua\",\"hola\",\"went\",\"vos\",\"tanto\",\"finally\",\"fb\",\"sea\",\"stupid\",\"tus\",\"seriously\",\"hora\",\"min\",\"pic\",\"estas\",\"turn\",\"hours\",\"excited\",\"nah\",\"buy\",\"saying\",\"mah\",\"break\",\"needs\",\"ce\",\"room\",\"choice\",\"far\",\"dead\",\"quero\",\"saw\",\"kids\",\"lil\",\"whole\",\"puede\",\"fall\",\"sus\",\"lost\",\"asi\",\"word\",\"\\u2639\",\"also\",\"\\u0631\\u064a\\u062a\\u0648\\u064a\\u062a\",\"probably\",\"everybody\",\"tarde\",\"run\",\"sei\",\"follback\",\"forget\",\"sweet\",\"welcome\",\"selamat\",\"\\uff3f\",\"sur\",\"place\",\"gusta\",\"sabe\",\"androidgames\",\"tp\",\"tiempo\",\"\\u0628\\u0633\",\"sou\",\"tuh\",\"vs\",\"eyes\",\"\\u0627\\u0646\\u0627\",\"picture\",\"das\",\"meet\",\"anak\",\"persona\",\"essa\",\"bored\",\"following\",\"nadie\",\"nobody\",\"dice\",\"alone\",\"sick\",\"red\",\"city\",\"cinta\",\"\\u6708\",\"linda\",\"dream\",\"story\",\"km\",\"het\",\"waiting\",\"^_^\",\"mine\",\"\\u0447\\u0442\\u043e\",\"reason\",\"kk\",\"\\u0644\\u0648\",\"online\",\"fast\",\"udh\",\"wanted\",\"op\",\"others\",\"gay\",\"n\\u2019t\",\"used\",\"sem\",\"understand\",\"moi\",\"sm\",\"aint\",\"donde\",\"bem\",\"which\",\"ng\",\"followback\",\"punya\",\"late\",\"anda\",\"tidur\",\"puedo\",\"early\",\"nd\",\"personas\",\"banyak\",\"\\u2705\",\"\\u278a\",\"trust\",\"noche\",\"tl\",\"\\uff1e\",\"\\u00ab\",\"af\",\"move\",\"pro\",\"bring\",\"ku\",\"called\",\"relationship\",\"idk\",\"hurt\",\"st\",\"pernah\",\"pessoas\",\"hello\",\"uno\",\"unfollowers\",\"cry\"],\"x\":{\"__ndarray__\":\"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\",\"dtype\":\"float32\",\"order\":\"little\",\"shape\":[1000]},\"y\":{\"__ndarray__\":\"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\",\"dtype\":\"float32\",\"order\":\"little\",\"shape\":[1000]}},\"selected\":{\"id\":\"1419\"},\"selection_policy\":{\"id\":\"1418\"}},\"id\":\"1346\",\"type\":\"ColumnDataSource\"},{\"attributes\":{},\"id\":\"1348\",\"type\":\"DataRange1d\"},{\"attributes\":{\"axis\":{\"id\":\"1360\"},\"dimension\":1,\"ticker\":null},\"id\":\"1363\",\"type\":\"Grid\"},{\"attributes\":{},\"id\":\"1368\",\"type\":\"ResetTool\"},{\"attributes\":{},\"id\":\"1365\",\"type\":\"WheelZoomTool\"},{\"attributes\":{},\"id\":\"1357\",\"type\":\"BasicTicker\"},{\"attributes\":{},\"id\":\"1354\",\"type\":\"LinearScale\"},{\"attributes\":{\"fill_alpha\":{\"value\":0.25},\"fill_color\":{\"field\":\"color\"},\"line_alpha\":{\"value\":0.25},\"line_color\":{\"field\":\"color\"},\"size\":{\"units\":\"screen\",\"value\":10},\"x\":{\"field\":\"x\"},\"y\":{\"field\":\"y\"}},\"id\":\"1379\",\"type\":\"Scatter\"},{\"attributes\":{\"overlay\":{\"id\":\"1370\"}},\"id\":\"1366\",\"type\":\"BoxZoomTool\"},{\"attributes\":{\"axis\":{\"id\":\"1356\"},\"ticker\":null},\"id\":\"1359\",\"type\":\"Grid\"},{\"attributes\":{\"text\":\"\"},\"id\":\"1412\",\"type\":\"Title\"},{\"attributes\":{},\"id\":\"1364\",\"type\":\"PanTool\"},{\"attributes\":{},\"id\":\"1369\",\"type\":\"HelpTool\"},{\"attributes\":{},\"id\":\"1416\",\"type\":\"BasicTickFormatter\"},{\"attributes\":{\"source\":{\"id\":\"1346\"}},\"id\":\"1382\",\"type\":\"CDSView\"},{\"attributes\":{},\"id\":\"1414\",\"type\":\"BasicTickFormatter\"},{\"attributes\":{},\"id\":\"1352\",\"type\":\"LinearScale\"},{\"attributes\":{\"formatter\":{\"id\":\"1414\"},\"ticker\":{\"id\":\"1357\"}},\"id\":\"1356\",\"type\":\"LinearAxis\"},{\"attributes\":{},\"id\":\"1419\",\"type\":\"Selection\"},{\"attributes\":{\"data_source\":{\"id\":\"1346\"},\"glyph\":{\"id\":\"1379\"},\"hover_glyph\":null,\"muted_glyph\":null,\"nonselection_glyph\":{\"id\":\"1380\"},\"selection_glyph\":null,\"view\":{\"id\":\"1382\"}},\"id\":\"1381\",\"type\":\"GlyphRenderer\"},{\"attributes\":{\"active_drag\":\"auto\",\"active_inspect\":\"auto\",\"active_multi\":null,\"active_scroll\":{\"id\":\"1365\"},\"active_tap\":\"auto\",\"tools\":[{\"id\":\"1364\"},{\"id\":\"1365\"},{\"id\":\"1366\"},{\"id\":\"1367\"},{\"id\":\"1368\"},{\"id\":\"1369\"},{\"id\":\"1383\"}]},\"id\":\"1371\",\"type\":\"Toolbar\"},{\"attributes\":{\"fill_alpha\":{\"value\":0.1},\"fill_color\":{\"field\":\"color\"},\"line_alpha\":{\"value\":0.1},\"line_color\":{\"field\":\"color\"},\"size\":{\"units\":\"screen\",\"value\":10},\"x\":{\"field\":\"x\"},\"y\":{\"field\":\"y\"}},\"id\":\"1380\",\"type\":\"Scatter\"},{\"attributes\":{\"formatter\":{\"id\":\"1416\"},\"ticker\":{\"id\":\"1361\"}},\"id\":\"1360\",\"type\":\"LinearAxis\"},{\"attributes\":{},\"id\":\"1367\",\"type\":\"SaveTool\"},{\"attributes\":{},\"id\":\"1361\",\"type\":\"BasicTicker\"},{\"attributes\":{\"bottom_units\":\"screen\",\"fill_alpha\":0.5,\"fill_color\":\"lightgrey\",\"left_units\":\"screen\",\"level\":\"overlay\",\"line_alpha\":1.0,\"line_color\":\"black\",\"line_dash\":[4,4],\"line_width\":2,\"right_units\":\"screen\",\"top_units\":\"screen\"},\"id\":\"1370\",\"type\":\"BoxAnnotation\"},{\"attributes\":{},\"id\":\"1350\",\"type\":\"DataRange1d\"},{\"attributes\":{},\"id\":\"1418\",\"type\":\"UnionRenderers\"}],\"root_ids\":[\"1347\"]},\"title\":\"Bokeh Application\",\"version\":\"2.1.1\"}};\n",
              "  var render_items = [{\"docid\":\"7958362e-9661-4d83-82df-729624c6ca0d\",\"root_ids\":[\"1347\"],\"roots\":{\"1347\":\"18e4009a-e173-4d55-8eb8-1107407125cb\"}}];\n",
              "  root.Bokeh.embed.embed_items_notebook(docs_json, render_items);\n",
              "\n",
              "  }\n",
              "  if (root.Bokeh !== undefined) {\n",
              "    embed_document(root);\n",
              "  } else {\n",
              "    var attempts = 0;\n",
              "    var timer = setInterval(function(root) {\n",
              "      if (root.Bokeh !== undefined) {\n",
              "        clearInterval(timer);\n",
              "        embed_document(root);\n",
              "      } else {\n",
              "        attempts++;\n",
              "        if (attempts > 100) {\n",
              "          clearInterval(timer);\n",
              "          console.log(\"Bokeh: ERROR: Unable to run BokehJS code because BokehJS library is missing\");\n",
              "        }\n",
              "      }\n",
              "    }, 10, root)\n",
              "  }\n",
              "})(window);"
            ],
            "application/vnd.bokehjs_exec.v0+json": ""
          },
          "metadata": {
            "tags": [],
            "application/vnd.bokehjs_exec.v0+json": {
              "id": "1347"
            }
          }
        },
        {
          "output_type": "execute_result",
          "data": {
            "text/html": [
              "<div style=\"display: table;\"><div style=\"display: table-row;\"><div style=\"display: table-cell;\"><b title=\"bokeh.plotting.figure.Figure\">Figure</b>(</div><div style=\"display: table-cell;\">id&nbsp;=&nbsp;'1347', <span id=\"1476\" style=\"cursor: pointer;\">&hellip;)</span></div></div><div class=\"1475\" style=\"display: none;\"><div style=\"display: table-cell;\"></div><div style=\"display: table-cell;\">above&nbsp;=&nbsp;[],</div></div><div class=\"1475\" style=\"display: none;\"><div style=\"display: table-cell;\"></div><div style=\"display: table-cell;\">align&nbsp;=&nbsp;'start',</div></div><div class=\"1475\" style=\"display: none;\"><div style=\"display: table-cell;\"></div><div style=\"display: table-cell;\">aspect_ratio&nbsp;=&nbsp;None,</div></div><div class=\"1475\" style=\"display: none;\"><div style=\"display: table-cell;\"></div><div style=\"display: table-cell;\">aspect_scale&nbsp;=&nbsp;1,</div></div><div class=\"1475\" style=\"display: none;\"><div style=\"display: table-cell;\"></div><div style=\"display: table-cell;\">background&nbsp;=&nbsp;None,</div></div><div class=\"1475\" style=\"display: none;\"><div style=\"display: table-cell;\"></div><div style=\"display: table-cell;\">background_fill_alpha&nbsp;=&nbsp;1.0,</div></div><div class=\"1475\" style=\"display: none;\"><div style=\"display: table-cell;\"></div><div style=\"display: table-cell;\">background_fill_color&nbsp;=&nbsp;'#ffffff',</div></div><div class=\"1475\" style=\"display: none;\"><div style=\"display: table-cell;\"></div><div style=\"display: table-cell;\">below&nbsp;=&nbsp;[LinearAxis(id='1356', ...)],</div></div><div class=\"1475\" style=\"display: none;\"><div style=\"display: table-cell;\"></div><div style=\"display: table-cell;\">border_fill_alpha&nbsp;=&nbsp;1.0,</div></div><div class=\"1475\" style=\"display: none;\"><div style=\"display: table-cell;\"></div><div style=\"display: table-cell;\">border_fill_color&nbsp;=&nbsp;'#ffffff',</div></div><div class=\"1475\" style=\"display: none;\"><div style=\"display: table-cell;\"></div><div style=\"display: table-cell;\">center&nbsp;=&nbsp;[Grid(id='1359', ...), Grid(id='1363', ...)],</div></div><div class=\"1475\" style=\"display: none;\"><div style=\"display: table-cell;\"></div><div style=\"display: table-cell;\">css_classes&nbsp;=&nbsp;[],</div></div><div class=\"1475\" style=\"display: none;\"><div style=\"display: table-cell;\"></div><div style=\"display: table-cell;\">disabled&nbsp;=&nbsp;False,</div></div><div class=\"1475\" style=\"display: none;\"><div style=\"display: table-cell;\"></div><div style=\"display: table-cell;\">extra_x_ranges&nbsp;=&nbsp;{},</div></div><div class=\"1475\" style=\"display: none;\"><div style=\"display: table-cell;\"></div><div style=\"display: table-cell;\">extra_y_ranges&nbsp;=&nbsp;{},</div></div><div class=\"1475\" style=\"display: none;\"><div style=\"display: table-cell;\"></div><div style=\"display: table-cell;\">frame_height&nbsp;=&nbsp;None,</div></div><div class=\"1475\" style=\"display: none;\"><div style=\"display: table-cell;\"></div><div style=\"display: table-cell;\">frame_width&nbsp;=&nbsp;None,</div></div><div class=\"1475\" style=\"display: none;\"><div style=\"display: table-cell;\"></div><div style=\"display: table-cell;\">height&nbsp;=&nbsp;None,</div></div><div class=\"1475\" style=\"display: none;\"><div style=\"display: table-cell;\"></div><div style=\"display: table-cell;\">height_policy&nbsp;=&nbsp;'auto',</div></div><div class=\"1475\" style=\"display: none;\"><div style=\"display: table-cell;\"></div><div style=\"display: table-cell;\">hidpi&nbsp;=&nbsp;True,</div></div><div class=\"1475\" style=\"display: none;\"><div style=\"display: table-cell;\"></div><div style=\"display: table-cell;\">js_event_callbacks&nbsp;=&nbsp;{},</div></div><div class=\"1475\" style=\"display: none;\"><div style=\"display: table-cell;\"></div><div style=\"display: table-cell;\">js_property_callbacks&nbsp;=&nbsp;{},</div></div><div class=\"1475\" style=\"display: none;\"><div style=\"display: table-cell;\"></div><div style=\"display: table-cell;\">left&nbsp;=&nbsp;[LinearAxis(id='1360', ...)],</div></div><div class=\"1475\" style=\"display: none;\"><div style=\"display: table-cell;\"></div><div style=\"display: table-cell;\">lod_factor&nbsp;=&nbsp;10,</div></div><div class=\"1475\" style=\"display: none;\"><div style=\"display: table-cell;\"></div><div style=\"display: table-cell;\">lod_interval&nbsp;=&nbsp;300,</div></div><div class=\"1475\" style=\"display: none;\"><div style=\"display: table-cell;\"></div><div style=\"display: table-cell;\">lod_threshold&nbsp;=&nbsp;2000,</div></div><div class=\"1475\" style=\"display: none;\"><div style=\"display: table-cell;\"></div><div style=\"display: table-cell;\">lod_timeout&nbsp;=&nbsp;500,</div></div><div class=\"1475\" style=\"display: none;\"><div style=\"display: table-cell;\"></div><div style=\"display: table-cell;\">margin&nbsp;=&nbsp;(0, 0, 0, 0),</div></div><div class=\"1475\" style=\"display: none;\"><div style=\"display: table-cell;\"></div><div style=\"display: table-cell;\">match_aspect&nbsp;=&nbsp;False,</div></div><div class=\"1475\" style=\"display: none;\"><div style=\"display: table-cell;\"></div><div style=\"display: table-cell;\">max_height&nbsp;=&nbsp;None,</div></div><div class=\"1475\" style=\"display: none;\"><div style=\"display: table-cell;\"></div><div style=\"display: table-cell;\">max_width&nbsp;=&nbsp;None,</div></div><div class=\"1475\" style=\"display: none;\"><div style=\"display: table-cell;\"></div><div style=\"display: table-cell;\">min_border&nbsp;=&nbsp;5,</div></div><div class=\"1475\" style=\"display: none;\"><div style=\"display: table-cell;\"></div><div style=\"display: table-cell;\">min_border_bottom&nbsp;=&nbsp;None,</div></div><div class=\"1475\" style=\"display: none;\"><div style=\"display: table-cell;\"></div><div style=\"display: table-cell;\">min_border_left&nbsp;=&nbsp;None,</div></div><div class=\"1475\" style=\"display: none;\"><div style=\"display: table-cell;\"></div><div style=\"display: table-cell;\">min_border_right&nbsp;=&nbsp;None,</div></div><div class=\"1475\" style=\"display: none;\"><div style=\"display: table-cell;\"></div><div style=\"display: table-cell;\">min_border_top&nbsp;=&nbsp;None,</div></div><div class=\"1475\" style=\"display: none;\"><div style=\"display: table-cell;\"></div><div style=\"display: table-cell;\">min_height&nbsp;=&nbsp;None,</div></div><div class=\"1475\" style=\"display: none;\"><div style=\"display: table-cell;\"></div><div style=\"display: table-cell;\">min_width&nbsp;=&nbsp;None,</div></div><div class=\"1475\" style=\"display: none;\"><div style=\"display: table-cell;\"></div><div style=\"display: table-cell;\">name&nbsp;=&nbsp;None,</div></div><div class=\"1475\" style=\"display: none;\"><div style=\"display: table-cell;\"></div><div style=\"display: table-cell;\">outline_line_alpha&nbsp;=&nbsp;1.0,</div></div><div class=\"1475\" style=\"display: none;\"><div style=\"display: table-cell;\"></div><div style=\"display: table-cell;\">outline_line_cap&nbsp;=&nbsp;'butt',</div></div><div class=\"1475\" style=\"display: none;\"><div style=\"display: table-cell;\"></div><div style=\"display: table-cell;\">outline_line_color&nbsp;=&nbsp;'#e5e5e5',</div></div><div class=\"1475\" style=\"display: none;\"><div style=\"display: table-cell;\"></div><div style=\"display: table-cell;\">outline_line_dash&nbsp;=&nbsp;[],</div></div><div class=\"1475\" style=\"display: none;\"><div style=\"display: table-cell;\"></div><div style=\"display: table-cell;\">outline_line_dash_offset&nbsp;=&nbsp;0,</div></div><div class=\"1475\" style=\"display: none;\"><div style=\"display: table-cell;\"></div><div style=\"display: table-cell;\">outline_line_join&nbsp;=&nbsp;'bevel',</div></div><div class=\"1475\" style=\"display: none;\"><div style=\"display: table-cell;\"></div><div style=\"display: table-cell;\">outline_line_width&nbsp;=&nbsp;1,</div></div><div class=\"1475\" style=\"display: none;\"><div style=\"display: table-cell;\"></div><div style=\"display: table-cell;\">output_backend&nbsp;=&nbsp;'canvas',</div></div><div class=\"1475\" style=\"display: none;\"><div style=\"display: table-cell;\"></div><div style=\"display: table-cell;\">plot_height&nbsp;=&nbsp;400,</div></div><div class=\"1475\" style=\"display: none;\"><div style=\"display: table-cell;\"></div><div style=\"display: table-cell;\">plot_width&nbsp;=&nbsp;600,</div></div><div class=\"1475\" style=\"display: none;\"><div style=\"display: table-cell;\"></div><div style=\"display: table-cell;\">renderers&nbsp;=&nbsp;[GlyphRenderer(id='1381', ...)],</div></div><div class=\"1475\" style=\"display: none;\"><div style=\"display: table-cell;\"></div><div style=\"display: table-cell;\">reset_policy&nbsp;=&nbsp;'standard',</div></div><div class=\"1475\" style=\"display: none;\"><div style=\"display: table-cell;\"></div><div style=\"display: table-cell;\">right&nbsp;=&nbsp;[],</div></div><div class=\"1475\" style=\"display: none;\"><div style=\"display: table-cell;\"></div><div style=\"display: table-cell;\">sizing_mode&nbsp;=&nbsp;None,</div></div><div class=\"1475\" style=\"display: none;\"><div style=\"display: table-cell;\"></div><div style=\"display: table-cell;\">subscribed_events&nbsp;=&nbsp;[],</div></div><div class=\"1475\" style=\"display: none;\"><div style=\"display: table-cell;\"></div><div style=\"display: table-cell;\">tags&nbsp;=&nbsp;[],</div></div><div class=\"1475\" style=\"display: none;\"><div style=\"display: table-cell;\"></div><div style=\"display: table-cell;\">title&nbsp;=&nbsp;Title(id='1412', ...),</div></div><div class=\"1475\" style=\"display: none;\"><div style=\"display: table-cell;\"></div><div style=\"display: table-cell;\">title_location&nbsp;=&nbsp;'above',</div></div><div class=\"1475\" style=\"display: none;\"><div style=\"display: table-cell;\"></div><div style=\"display: table-cell;\">toolbar&nbsp;=&nbsp;Toolbar(id='1371', ...),</div></div><div class=\"1475\" style=\"display: none;\"><div style=\"display: table-cell;\"></div><div style=\"display: table-cell;\">toolbar_location&nbsp;=&nbsp;'right',</div></div><div class=\"1475\" style=\"display: none;\"><div style=\"display: table-cell;\"></div><div style=\"display: table-cell;\">toolbar_sticky&nbsp;=&nbsp;True,</div></div><div class=\"1475\" style=\"display: none;\"><div style=\"display: table-cell;\"></div><div style=\"display: table-cell;\">visible&nbsp;=&nbsp;True,</div></div><div class=\"1475\" style=\"display: none;\"><div style=\"display: table-cell;\"></div><div style=\"display: table-cell;\">width&nbsp;=&nbsp;None,</div></div><div class=\"1475\" style=\"display: none;\"><div style=\"display: table-cell;\"></div><div style=\"display: table-cell;\">width_policy&nbsp;=&nbsp;'auto',</div></div><div class=\"1475\" style=\"display: none;\"><div style=\"display: table-cell;\"></div><div style=\"display: table-cell;\">x_range&nbsp;=&nbsp;DataRange1d(id='1348', ...),</div></div><div class=\"1475\" style=\"display: none;\"><div style=\"display: table-cell;\"></div><div style=\"display: table-cell;\">x_scale&nbsp;=&nbsp;LinearScale(id='1352', ...),</div></div><div class=\"1475\" style=\"display: none;\"><div style=\"display: table-cell;\"></div><div style=\"display: table-cell;\">y_range&nbsp;=&nbsp;DataRange1d(id='1350', ...),</div></div><div class=\"1475\" style=\"display: none;\"><div style=\"display: table-cell;\"></div><div style=\"display: table-cell;\">y_scale&nbsp;=&nbsp;LinearScale(id='1354', ...))</div></div></div>\n",
              "<script>\n",
              "(function() {\n",
              "  var expanded = false;\n",
              "  var ellipsis = document.getElementById(\"1476\");\n",
              "  ellipsis.addEventListener(\"click\", function() {\n",
              "    var rows = document.getElementsByClassName(\"1475\");\n",
              "    for (var i = 0; i < rows.length; i++) {\n",
              "      var el = rows[i];\n",
              "      el.style.display = expanded ? \"none\" : \"table-row\";\n",
              "    }\n",
              "    ellipsis.innerHTML = expanded ? \"&hellip;)\" : \"&lsaquo;&lsaquo;&lsaquo;\";\n",
              "    expanded = !expanded;\n",
              "  });\n",
              "})();\n",
              "</script>\n"
            ],
            "text/plain": [
              "Figure(id='1347', ...)"
            ]
          },
          "metadata": {
            "tags": []
          },
          "execution_count": 71
        }
      ]
    },
    {
      "cell_type": "markdown",
      "metadata": {
        "id": "aqOOBe02mLpN"
      },
      "source": [
        "### Visualizing neighbors with t-SNE\n",
        "PCA is nice but it's strictly linear and thus only able to capture coarse high-level structure of the data.\n",
        "\n",
        "If we instead want to focus on keeping neighboring points near, we could use TSNE, which is itself an embedding method. Here you can read __[more on TSNE](https://distill.pub/2016/misread-tsne/)__."
      ]
    },
    {
      "cell_type": "code",
      "metadata": {
        "id": "sqVGuqUwmLpO"
      },
      "source": [
        "from sklearn.manifold import TSNE\n",
        "\n",
        "# map word vectors onto 2d plane with TSNE. hint: don't panic it may take a minute or two to fit.\n",
        "# normalize them as just lke with pca\n",
        "\n",
        "\n",
        "word_tsne =  TSNE(n_components=2).fit_transform(word_vectors)\n",
        "word_tsne = (word_tsne - word_tsne.mean(0)) / \\\n",
        "        word_tsne.std(0)"
      ],
      "execution_count": 73,
      "outputs": []
    },
    {
      "cell_type": "code",
      "metadata": {
        "collapsed": true,
        "scrolled": false,
        "colab": {
          "base_uri": "https://localhost:8080/",
          "height": 434
        },
        "id": "8b8Sm9xDmLpO",
        "outputId": "28ffebf7-c120-489d-f6a1-d721396428f1"
      },
      "source": [
        "draw_vectors(word_tsne[:, 0], word_tsne[:, 1], color='green', token=words)"
      ],
      "execution_count": 74,
      "outputs": [
        {
          "output_type": "display_data",
          "data": {
            "application/javascript": [
              "\n",
              "(function(root) {\n",
              "  function now() {\n",
              "    return new Date();\n",
              "  }\n",
              "\n",
              "  var force = true;\n",
              "\n",
              "  if (typeof root._bokeh_onload_callbacks === \"undefined\" || force === true) {\n",
              "    root._bokeh_onload_callbacks = [];\n",
              "    root._bokeh_is_loading = undefined;\n",
              "  }\n",
              "\n",
              "  var JS_MIME_TYPE = 'application/javascript';\n",
              "  var HTML_MIME_TYPE = 'text/html';\n",
              "  var EXEC_MIME_TYPE = 'application/vnd.bokehjs_exec.v0+json';\n",
              "  var CLASS_NAME = 'output_bokeh rendered_html';\n",
              "\n",
              "  /**\n",
              "   * Render data to the DOM node\n",
              "   */\n",
              "  function render(props, node) {\n",
              "    var script = document.createElement(\"script\");\n",
              "    node.appendChild(script);\n",
              "  }\n",
              "\n",
              "  /**\n",
              "   * Handle when an output is cleared or removed\n",
              "   */\n",
              "  function handleClearOutput(event, handle) {\n",
              "    var cell = handle.cell;\n",
              "\n",
              "    var id = cell.output_area._bokeh_element_id;\n",
              "    var server_id = cell.output_area._bokeh_server_id;\n",
              "    // Clean up Bokeh references\n",
              "    if (id != null && id in Bokeh.index) {\n",
              "      Bokeh.index[id].model.document.clear();\n",
              "      delete Bokeh.index[id];\n",
              "    }\n",
              "\n",
              "    if (server_id !== undefined) {\n",
              "      // Clean up Bokeh references\n",
              "      var cmd = \"from bokeh.io.state import curstate; print(curstate().uuid_to_server['\" + server_id + \"'].get_sessions()[0].document.roots[0]._id)\";\n",
              "      cell.notebook.kernel.execute(cmd, {\n",
              "        iopub: {\n",
              "          output: function(msg) {\n",
              "            var id = msg.content.text.trim();\n",
              "            if (id in Bokeh.index) {\n",
              "              Bokeh.index[id].model.document.clear();\n",
              "              delete Bokeh.index[id];\n",
              "            }\n",
              "          }\n",
              "        }\n",
              "      });\n",
              "      // Destroy server and session\n",
              "      var cmd = \"import bokeh.io.notebook as ion; ion.destroy_server('\" + server_id + \"')\";\n",
              "      cell.notebook.kernel.execute(cmd);\n",
              "    }\n",
              "  }\n",
              "\n",
              "  /**\n",
              "   * Handle when a new output is added\n",
              "   */\n",
              "  function handleAddOutput(event, handle) {\n",
              "    var output_area = handle.output_area;\n",
              "    var output = handle.output;\n",
              "\n",
              "    // limit handleAddOutput to display_data with EXEC_MIME_TYPE content only\n",
              "    if ((output.output_type != \"display_data\") || (!output.data.hasOwnProperty(EXEC_MIME_TYPE))) {\n",
              "      return\n",
              "    }\n",
              "\n",
              "    var toinsert = output_area.element.find(\".\" + CLASS_NAME.split(' ')[0]);\n",
              "\n",
              "    if (output.metadata[EXEC_MIME_TYPE][\"id\"] !== undefined) {\n",
              "      toinsert[toinsert.length - 1].firstChild.textContent = output.data[JS_MIME_TYPE];\n",
              "      // store reference to embed id on output_area\n",
              "      output_area._bokeh_element_id = output.metadata[EXEC_MIME_TYPE][\"id\"];\n",
              "    }\n",
              "    if (output.metadata[EXEC_MIME_TYPE][\"server_id\"] !== undefined) {\n",
              "      var bk_div = document.createElement(\"div\");\n",
              "      bk_div.innerHTML = output.data[HTML_MIME_TYPE];\n",
              "      var script_attrs = bk_div.children[0].attributes;\n",
              "      for (var i = 0; i < script_attrs.length; i++) {\n",
              "        toinsert[toinsert.length - 1].firstChild.setAttribute(script_attrs[i].name, script_attrs[i].value);\n",
              "        toinsert[toinsert.length - 1].firstChild.textContent = bk_div.children[0].textContent\n",
              "      }\n",
              "      // store reference to server id on output_area\n",
              "      output_area._bokeh_server_id = output.metadata[EXEC_MIME_TYPE][\"server_id\"];\n",
              "    }\n",
              "  }\n",
              "\n",
              "  function register_renderer(events, OutputArea) {\n",
              "\n",
              "    function append_mime(data, metadata, element) {\n",
              "      // create a DOM node to render to\n",
              "      var toinsert = this.create_output_subarea(\n",
              "        metadata,\n",
              "        CLASS_NAME,\n",
              "        EXEC_MIME_TYPE\n",
              "      );\n",
              "      this.keyboard_manager.register_events(toinsert);\n",
              "      // Render to node\n",
              "      var props = {data: data, metadata: metadata[EXEC_MIME_TYPE]};\n",
              "      render(props, toinsert[toinsert.length - 1]);\n",
              "      element.append(toinsert);\n",
              "      return toinsert\n",
              "    }\n",
              "\n",
              "    /* Handle when an output is cleared or removed */\n",
              "    events.on('clear_output.CodeCell', handleClearOutput);\n",
              "    events.on('delete.Cell', handleClearOutput);\n",
              "\n",
              "    /* Handle when a new output is added */\n",
              "    events.on('output_added.OutputArea', handleAddOutput);\n",
              "\n",
              "    /**\n",
              "     * Register the mime type and append_mime function with output_area\n",
              "     */\n",
              "    OutputArea.prototype.register_mime_type(EXEC_MIME_TYPE, append_mime, {\n",
              "      /* Is output safe? */\n",
              "      safe: true,\n",
              "      /* Index of renderer in `output_area.display_order` */\n",
              "      index: 0\n",
              "    });\n",
              "  }\n",
              "\n",
              "  // register the mime type if in Jupyter Notebook environment and previously unregistered\n",
              "  if (root.Jupyter !== undefined) {\n",
              "    var events = require('base/js/events');\n",
              "    var OutputArea = require('notebook/js/outputarea').OutputArea;\n",
              "\n",
              "    if (OutputArea.prototype.mime_types().indexOf(EXEC_MIME_TYPE) == -1) {\n",
              "      register_renderer(events, OutputArea);\n",
              "    }\n",
              "  }\n",
              "\n",
              "  \n",
              "  if (typeof (root._bokeh_timeout) === \"undefined\" || force === true) {\n",
              "    root._bokeh_timeout = Date.now() + 5000;\n",
              "    root._bokeh_failed_load = false;\n",
              "  }\n",
              "\n",
              "  var NB_LOAD_WARNING = {'data': {'text/html':\n",
              "     \"<div style='background-color: #fdd'>\\n\"+\n",
              "     \"<p>\\n\"+\n",
              "     \"BokehJS does not appear to have successfully loaded. If loading BokehJS from CDN, this \\n\"+\n",
              "     \"may be due to a slow or bad network connection. Possible fixes:\\n\"+\n",
              "     \"</p>\\n\"+\n",
              "     \"<ul>\\n\"+\n",
              "     \"<li>re-rerun `output_notebook()` to attempt to load from CDN again, or</li>\\n\"+\n",
              "     \"<li>use INLINE resources instead, as so:</li>\\n\"+\n",
              "     \"</ul>\\n\"+\n",
              "     \"<code>\\n\"+\n",
              "     \"from bokeh.resources import INLINE\\n\"+\n",
              "     \"output_notebook(resources=INLINE)\\n\"+\n",
              "     \"</code>\\n\"+\n",
              "     \"</div>\"}};\n",
              "\n",
              "  function display_loaded() {\n",
              "    var el = document.getElementById(null);\n",
              "    if (el != null) {\n",
              "      el.textContent = \"BokehJS is loading...\";\n",
              "    }\n",
              "    if (root.Bokeh !== undefined) {\n",
              "      if (el != null) {\n",
              "        el.textContent = \"BokehJS \" + root.Bokeh.version + \" successfully loaded.\";\n",
              "      }\n",
              "    } else if (Date.now() < root._bokeh_timeout) {\n",
              "      setTimeout(display_loaded, 100)\n",
              "    }\n",
              "  }\n",
              "\n",
              "\n",
              "  function run_callbacks() {\n",
              "    try {\n",
              "      root._bokeh_onload_callbacks.forEach(function(callback) {\n",
              "        if (callback != null)\n",
              "          callback();\n",
              "      });\n",
              "    } finally {\n",
              "      delete root._bokeh_onload_callbacks\n",
              "    }\n",
              "    console.debug(\"Bokeh: all callbacks have finished\");\n",
              "  }\n",
              "\n",
              "  function load_libs(css_urls, js_urls, callback) {\n",
              "    if (css_urls == null) css_urls = [];\n",
              "    if (js_urls == null) js_urls = [];\n",
              "\n",
              "    root._bokeh_onload_callbacks.push(callback);\n",
              "    if (root._bokeh_is_loading > 0) {\n",
              "      console.debug(\"Bokeh: BokehJS is being loaded, scheduling callback at\", now());\n",
              "      return null;\n",
              "    }\n",
              "    if (js_urls == null || js_urls.length === 0) {\n",
              "      run_callbacks();\n",
              "      return null;\n",
              "    }\n",
              "    console.debug(\"Bokeh: BokehJS not loaded, scheduling load and callback at\", now());\n",
              "    root._bokeh_is_loading = css_urls.length + js_urls.length;\n",
              "\n",
              "    function on_load() {\n",
              "      root._bokeh_is_loading--;\n",
              "      if (root._bokeh_is_loading === 0) {\n",
              "        console.debug(\"Bokeh: all BokehJS libraries/stylesheets loaded\");\n",
              "        run_callbacks()\n",
              "      }\n",
              "    }\n",
              "\n",
              "    function on_error() {\n",
              "      console.error(\"failed to load \" + url);\n",
              "    }\n",
              "\n",
              "    for (var i = 0; i < css_urls.length; i++) {\n",
              "      var url = css_urls[i];\n",
              "      const element = document.createElement(\"link\");\n",
              "      element.onload = on_load;\n",
              "      element.onerror = on_error;\n",
              "      element.rel = \"stylesheet\";\n",
              "      element.type = \"text/css\";\n",
              "      element.href = url;\n",
              "      console.debug(\"Bokeh: injecting link tag for BokehJS stylesheet: \", url);\n",
              "      document.body.appendChild(element);\n",
              "    }\n",
              "\n",
              "    const hashes = {\"https://cdn.bokeh.org/bokeh/release/bokeh-2.1.1.min.js\": \"kLr4fYcqcSpbuI95brIH3vnnYCquzzSxHPU6XGQCIkQRGJwhg0StNbj1eegrHs12\", \"https://cdn.bokeh.org/bokeh/release/bokeh-widgets-2.1.1.min.js\": \"xIGPmVtaOm+z0BqfSOMn4lOR6ciex448GIKG4eE61LsAvmGj48XcMQZtKcE/UXZe\", \"https://cdn.bokeh.org/bokeh/release/bokeh-tables-2.1.1.min.js\": \"Dc9u1wF/0zApGIWoBbH77iWEHtdmkuYWG839Uzmv8y8yBLXebjO9ZnERsde5Ln/P\", \"https://cdn.bokeh.org/bokeh/release/bokeh-gl-2.1.1.min.js\": \"cT9JaBz7GiRXdENrJLZNSC6eMNF3nh3fa5fTF51Svp+ukxPdwcU5kGXGPBgDCa2j\"};\n",
              "\n",
              "    for (var i = 0; i < js_urls.length; i++) {\n",
              "      var url = js_urls[i];\n",
              "      var element = document.createElement('script');\n",
              "      element.onload = on_load;\n",
              "      element.onerror = on_error;\n",
              "      element.async = false;\n",
              "      element.src = url;\n",
              "      if (url in hashes) {\n",
              "        element.crossOrigin = \"anonymous\";\n",
              "        element.integrity = \"sha384-\" + hashes[url];\n",
              "      }\n",
              "      console.debug(\"Bokeh: injecting script tag for BokehJS library: \", url);\n",
              "      document.head.appendChild(element);\n",
              "    }\n",
              "  };\n",
              "\n",
              "  function inject_raw_css(css) {\n",
              "    const element = document.createElement(\"style\");\n",
              "    element.appendChild(document.createTextNode(css));\n",
              "    document.body.appendChild(element);\n",
              "  }\n",
              "\n",
              "  \n",
              "  var js_urls = [\"https://cdn.bokeh.org/bokeh/release/bokeh-2.1.1.min.js\", \"https://cdn.bokeh.org/bokeh/release/bokeh-widgets-2.1.1.min.js\", \"https://cdn.bokeh.org/bokeh/release/bokeh-tables-2.1.1.min.js\", \"https://cdn.bokeh.org/bokeh/release/bokeh-gl-2.1.1.min.js\"];\n",
              "  var css_urls = [];\n",
              "  \n",
              "\n",
              "  var inline_js = [\n",
              "    function(Bokeh) {\n",
              "      Bokeh.set_log_level(\"info\");\n",
              "    },\n",
              "    function(Bokeh) {\n",
              "    \n",
              "    \n",
              "    }\n",
              "  ];\n",
              "\n",
              "  function run_inline_js() {\n",
              "    \n",
              "    if (root.Bokeh !== undefined || force === true) {\n",
              "      \n",
              "    for (var i = 0; i < inline_js.length; i++) {\n",
              "      inline_js[i].call(root, root.Bokeh);\n",
              "    }\n",
              "    } else if (Date.now() < root._bokeh_timeout) {\n",
              "      setTimeout(run_inline_js, 100);\n",
              "    } else if (!root._bokeh_failed_load) {\n",
              "      console.log(\"Bokeh: BokehJS failed to load within specified timeout.\");\n",
              "      root._bokeh_failed_load = true;\n",
              "    } else if (force !== true) {\n",
              "      var cell = $(document.getElementById(null)).parents('.cell').data().cell;\n",
              "      cell.output_area.append_execute_result(NB_LOAD_WARNING)\n",
              "    }\n",
              "\n",
              "  }\n",
              "\n",
              "  if (root._bokeh_is_loading === 0) {\n",
              "    console.debug(\"Bokeh: BokehJS loaded, going straight to plotting\");\n",
              "    run_inline_js();\n",
              "  } else {\n",
              "    load_libs(css_urls, js_urls, function() {\n",
              "      console.debug(\"Bokeh: BokehJS plotting callback run at\", now());\n",
              "      run_inline_js();\n",
              "    });\n",
              "  }\n",
              "}(window));"
            ],
            "application/vnd.bokehjs_load.v0+json": "\n(function(root) {\n  function now() {\n    return new Date();\n  }\n\n  var force = true;\n\n  if (typeof root._bokeh_onload_callbacks === \"undefined\" || force === true) {\n    root._bokeh_onload_callbacks = [];\n    root._bokeh_is_loading = undefined;\n  }\n\n  \n\n  \n  if (typeof (root._bokeh_timeout) === \"undefined\" || force === true) {\n    root._bokeh_timeout = Date.now() + 5000;\n    root._bokeh_failed_load = false;\n  }\n\n  var NB_LOAD_WARNING = {'data': {'text/html':\n     \"<div style='background-color: #fdd'>\\n\"+\n     \"<p>\\n\"+\n     \"BokehJS does not appear to have successfully loaded. If loading BokehJS from CDN, this \\n\"+\n     \"may be due to a slow or bad network connection. Possible fixes:\\n\"+\n     \"</p>\\n\"+\n     \"<ul>\\n\"+\n     \"<li>re-rerun `output_notebook()` to attempt to load from CDN again, or</li>\\n\"+\n     \"<li>use INLINE resources instead, as so:</li>\\n\"+\n     \"</ul>\\n\"+\n     \"<code>\\n\"+\n     \"from bokeh.resources import INLINE\\n\"+\n     \"output_notebook(resources=INLINE)\\n\"+\n     \"</code>\\n\"+\n     \"</div>\"}};\n\n  function display_loaded() {\n    var el = document.getElementById(null);\n    if (el != null) {\n      el.textContent = \"BokehJS is loading...\";\n    }\n    if (root.Bokeh !== undefined) {\n      if (el != null) {\n        el.textContent = \"BokehJS \" + root.Bokeh.version + \" successfully loaded.\";\n      }\n    } else if (Date.now() < root._bokeh_timeout) {\n      setTimeout(display_loaded, 100)\n    }\n  }\n\n\n  function run_callbacks() {\n    try {\n      root._bokeh_onload_callbacks.forEach(function(callback) {\n        if (callback != null)\n          callback();\n      });\n    } finally {\n      delete root._bokeh_onload_callbacks\n    }\n    console.debug(\"Bokeh: all callbacks have finished\");\n  }\n\n  function load_libs(css_urls, js_urls, callback) {\n    if (css_urls == null) css_urls = [];\n    if (js_urls == null) js_urls = [];\n\n    root._bokeh_onload_callbacks.push(callback);\n    if (root._bokeh_is_loading > 0) {\n      console.debug(\"Bokeh: BokehJS is being loaded, scheduling callback at\", now());\n      return null;\n    }\n    if (js_urls == null || js_urls.length === 0) {\n      run_callbacks();\n      return null;\n    }\n    console.debug(\"Bokeh: BokehJS not loaded, scheduling load and callback at\", now());\n    root._bokeh_is_loading = css_urls.length + js_urls.length;\n\n    function on_load() {\n      root._bokeh_is_loading--;\n      if (root._bokeh_is_loading === 0) {\n        console.debug(\"Bokeh: all BokehJS libraries/stylesheets loaded\");\n        run_callbacks()\n      }\n    }\n\n    function on_error() {\n      console.error(\"failed to load \" + url);\n    }\n\n    for (var i = 0; i < css_urls.length; i++) {\n      var url = css_urls[i];\n      const element = document.createElement(\"link\");\n      element.onload = on_load;\n      element.onerror = on_error;\n      element.rel = \"stylesheet\";\n      element.type = \"text/css\";\n      element.href = url;\n      console.debug(\"Bokeh: injecting link tag for BokehJS stylesheet: \", url);\n      document.body.appendChild(element);\n    }\n\n    const hashes = {\"https://cdn.bokeh.org/bokeh/release/bokeh-2.1.1.min.js\": \"kLr4fYcqcSpbuI95brIH3vnnYCquzzSxHPU6XGQCIkQRGJwhg0StNbj1eegrHs12\", \"https://cdn.bokeh.org/bokeh/release/bokeh-widgets-2.1.1.min.js\": \"xIGPmVtaOm+z0BqfSOMn4lOR6ciex448GIKG4eE61LsAvmGj48XcMQZtKcE/UXZe\", \"https://cdn.bokeh.org/bokeh/release/bokeh-tables-2.1.1.min.js\": \"Dc9u1wF/0zApGIWoBbH77iWEHtdmkuYWG839Uzmv8y8yBLXebjO9ZnERsde5Ln/P\", \"https://cdn.bokeh.org/bokeh/release/bokeh-gl-2.1.1.min.js\": \"cT9JaBz7GiRXdENrJLZNSC6eMNF3nh3fa5fTF51Svp+ukxPdwcU5kGXGPBgDCa2j\"};\n\n    for (var i = 0; i < js_urls.length; i++) {\n      var url = js_urls[i];\n      var element = document.createElement('script');\n      element.onload = on_load;\n      element.onerror = on_error;\n      element.async = false;\n      element.src = url;\n      if (url in hashes) {\n        element.crossOrigin = \"anonymous\";\n        element.integrity = \"sha384-\" + hashes[url];\n      }\n      console.debug(\"Bokeh: injecting script tag for BokehJS library: \", url);\n      document.head.appendChild(element);\n    }\n  };\n\n  function inject_raw_css(css) {\n    const element = document.createElement(\"style\");\n    element.appendChild(document.createTextNode(css));\n    document.body.appendChild(element);\n  }\n\n  \n  var js_urls = [\"https://cdn.bokeh.org/bokeh/release/bokeh-2.1.1.min.js\", \"https://cdn.bokeh.org/bokeh/release/bokeh-widgets-2.1.1.min.js\", \"https://cdn.bokeh.org/bokeh/release/bokeh-tables-2.1.1.min.js\", \"https://cdn.bokeh.org/bokeh/release/bokeh-gl-2.1.1.min.js\"];\n  var css_urls = [];\n  \n\n  var inline_js = [\n    function(Bokeh) {\n      Bokeh.set_log_level(\"info\");\n    },\n    function(Bokeh) {\n    \n    \n    }\n  ];\n\n  function run_inline_js() {\n    \n    if (root.Bokeh !== undefined || force === true) {\n      \n    for (var i = 0; i < inline_js.length; i++) {\n      inline_js[i].call(root, root.Bokeh);\n    }\n    } else if (Date.now() < root._bokeh_timeout) {\n      setTimeout(run_inline_js, 100);\n    } else if (!root._bokeh_failed_load) {\n      console.log(\"Bokeh: BokehJS failed to load within specified timeout.\");\n      root._bokeh_failed_load = true;\n    } else if (force !== true) {\n      var cell = $(document.getElementById(null)).parents('.cell').data().cell;\n      cell.output_area.append_execute_result(NB_LOAD_WARNING)\n    }\n\n  }\n\n  if (root._bokeh_is_loading === 0) {\n    console.debug(\"Bokeh: BokehJS loaded, going straight to plotting\");\n    run_inline_js();\n  } else {\n    load_libs(css_urls, js_urls, function() {\n      console.debug(\"Bokeh: BokehJS plotting callback run at\", now());\n      run_inline_js();\n    });\n  }\n}(window));"
          },
          "metadata": {
            "tags": []
          }
        },
        {
          "output_type": "display_data",
          "data": {
            "text/html": [
              "\n",
              "\n",
              "\n",
              "\n",
              "\n",
              "\n",
              "  <div class=\"bk-root\" id=\"8e93c081-8ee0-4b60-810d-37c489482b41\" data-root-id=\"1480\"></div>\n"
            ]
          },
          "metadata": {
            "tags": []
          }
        },
        {
          "output_type": "display_data",
          "data": {
            "application/javascript": [
              "(function(root) {\n",
              "  function embed_document(root) {\n",
              "    \n",
              "  var docs_json = {\"c7d3b2c5-f7b1-4b7f-ad24-78464b0ac9f2\":{\"roots\":{\"references\":[{\"attributes\":{\"below\":[{\"id\":\"1489\"}],\"center\":[{\"id\":\"1492\"},{\"id\":\"1496\"}],\"left\":[{\"id\":\"1493\"}],\"plot_height\":400,\"renderers\":[{\"id\":\"1514\"}],\"title\":{\"id\":\"1554\"},\"toolbar\":{\"id\":\"1504\"},\"x_range\":{\"id\":\"1481\"},\"x_scale\":{\"id\":\"1485\"},\"y_range\":{\"id\":\"1483\"},\"y_scale\":{\"id\":\"1487\"}},\"id\":\"1480\",\"subtype\":\"Figure\",\"type\":\"Plot\"},{\"attributes\":{},\"id\":\"1487\",\"type\":\"LinearScale\"},{\"attributes\":{},\"id\":\"1560\",\"type\":\"UnionRenderers\"},{\"attributes\":{},\"id\":\"1494\",\"type\":\"BasicTicker\"},{\"attributes\":{\"source\":{\"id\":\"1479\"}},\"id\":\"1515\",\"type\":\"CDSView\"},{\"attributes\":{\"data\":{\"color\":[\"green\",\"green\",\"green\",\"green\",\"green\",\"green\",\"green\",\"green\",\"green\",\"green\",\"green\",\"green\",\"green\",\"green\",\"green\",\"green\",\"green\",\"green\",\"green\",\"green\",\"green\",\"green\",\"green\",\"green\",\"green\",\"green\",\"green\",\"green\",\"green\",\"green\",\"green\",\"green\",\"green\",\"green\",\"green\",\"green\",\"green\",\"green\",\"green\",\"green\",\"green\",\"green\",\"green\",\"green\",\"green\",\"green\",\"green\",\"green\",\"green\",\"green\",\"green\",\"green\",\"green\",\"green\",\"green\",\"green\",\"green\",\"green\",\"green\",\"green\",\"green\",\"green\",\"green\",\"green\",\"green\",\"green\",\"green\",\"green\",\"green\",\"green\",\"green\",\"green\",\"green\",\"green\",\"green\",\"green\",\"green\",\"green\",\"green\",\"green\",\"green\",\"green\",\"green\",\"green\",\"green\",\"green\",\"green\",\"green\",\"green\",\"green\",\"green\",\"green\",\"green\",\"green\",\"green\",\"green\",\"green\",\"green\",\"green\",\"green\",\"green\",\"green\",\"green\",\"green\",\"green\",\"green\",\"green\",\"green\",\"green\",\"green\",\"green\",\"green\",\"green\",\"green\",\"green\",\"green\",\"green\",\"green\",\"green\",\"green\",\"green\",\"green\",\"green\",\"green\",\"green\",\"green\",\"green\",\"green\",\"green\",\"green\",\"green\",\"green\",\"green\",\"green\",\"green\",\"green\",\"green\",\"green\",\"green\",\"green\",\"green\",\"green\",\"green\",\"green\",\"green\",\"green\",\"green\",\"green\",\"green\",\"green\",\"green\",\"green\",\"green\",\"green\",\"green\",\"green\",\"green\",\"green\",\"green\",\"green\",\"green\",\"green\",\"green\",\"green\",\"green\",\"green\",\"green\",\"green\",\"green\",\"green\",\"green\",\"green\",\"green\",\"green\",\"green\",\"green\",\"green\",\"green\",\"green\",\"green\",\"green\",\"green\",\"green\",\"green\",\"green\",\"green\",\"green\",\"green\",\"green\",\"green\",\"green\",\"green\",\"green\",\"green\",\"green\",\"green\",\"green\",\"green\",\"green\",\"green\",\"green\",\"green\",\"green\",\"green\",\"green\",\"green\",\"green\",\"green\",\"green\",\"green\",\"green\",\"green\",\"green\",\"green\",\"green\",\"green\",\"green\",\"green\",\"green\",\"green\",\"green\",\"green\",\"green\",\"green\",\"green\",\"green\",\"green\",\"green\",\"green\",\"green\",\"green\",\"green\",\"green\",\"green\",\"green\",\"green\",\"green\",\"green\",\"green\",\"green\",\"green\",\"green\",\"green\",\"green\",\"green\",\"green\",\"green\",\"green\",\"green\",\"green\",\"green\",\"green\",\"green\",\"green\",\"green\",\"green\",\"green\",\"green\",\"green\",\"green\",\"green\",\"green\",\"green\",\"green\",\"green\",\"green\",\"green\",\"green\",\"green\",\"green\",\"green\",\"green\",\"green\",\"green\",\"green\",\"green\",\"green\",\"green\",\"green\",\"green\",\"green\",\"green\",\"green\",\"green\",\"green\",\"green\",\"green\",\"green\",\"green\",\"green\",\"green\",\"green\",\"green\",\"green\",\"green\",\"green\",\"green\",\"green\",\"green\",\"green\",\"green\",\"green\",\"green\",\"green\",\"green\",\"green\",\"green\",\"green\",\"green\",\"green\",\"green\",\"green\",\"green\",\"green\",\"green\",\"green\",\"green\",\"green\",\"green\",\"green\",\"green\",\"green\",\"green\",\"green\",\"green\",\"green\",\"green\",\"green\",\"green\",\"green\",\"green\",\"green\",\"green\",\"green\",\"green\",\"green\",\"green\",\"green\",\"green\",\"green\",\"green\",\"green\",\"green\",\"green\",\"green\",\"green\",\"green\",\"green\",\"green\",\"green\",\"green\",\"green\",\"green\",\"green\",\"green\",\"green\",\"green\",\"green\",\"green\",\"green\",\"green\",\"green\",\"green\",\"green\",\"green\",\"green\",\"green\",\"green\",\"green\",\"green\",\"green\",\"green\",\"green\",\"green\",\"green\",\"green\",\"green\",\"green\",\"green\",\"green\",\"green\",\"green\",\"green\",\"green\",\"green\",\"green\",\"green\",\"green\",\"green\",\"green\",\"green\",\"green\",\"green\",\"green\",\"green\",\"green\",\"green\",\"green\",\"green\",\"green\",\"green\",\"green\",\"green\",\"green\",\"green\",\"green\",\"green\",\"green\",\"green\",\"green\",\"green\",\"green\",\"green\",\"green\",\"green\",\"green\",\"green\",\"green\",\"green\",\"green\",\"green\",\"green\",\"green\",\"green\",\"green\",\"green\",\"green\",\"green\",\"green\",\"green\",\"green\",\"green\",\"green\",\"green\",\"green\",\"green\",\"green\",\"green\",\"green\",\"green\",\"green\",\"green\",\"green\",\"green\",\"green\",\"green\",\"green\",\"green\",\"green\",\"green\",\"green\",\"green\",\"green\",\"green\",\"green\",\"green\",\"green\",\"green\",\"green\",\"green\",\"green\",\"green\",\"green\",\"green\",\"green\",\"green\",\"green\",\"green\",\"green\",\"green\",\"green\",\"green\",\"green\",\"green\",\"green\",\"green\",\"green\",\"green\",\"green\",\"green\",\"green\",\"green\",\"green\",\"green\",\"green\",\"green\",\"green\",\"green\",\"green\",\"green\",\"green\",\"green\",\"green\",\"green\",\"green\",\"green\",\"green\",\"green\",\"green\",\"green\",\"green\",\"green\",\"green\",\"green\",\"green\",\"green\",\"green\",\"green\",\"green\",\"green\",\"green\",\"green\",\"green\",\"green\",\"green\",\"green\",\"green\",\"green\",\"green\",\"green\",\"green\",\"green\",\"green\",\"green\",\"green\",\"green\",\"green\",\"green\",\"green\",\"green\",\"green\",\"green\",\"green\",\"green\",\"green\",\"green\",\"green\",\"green\",\"green\",\"green\",\"green\",\"green\",\"green\",\"green\",\"green\",\"green\",\"green\",\"green\",\"green\",\"green\",\"green\",\"green\",\"green\",\"green\",\"green\",\"green\",\"green\",\"green\",\"green\",\"green\",\"green\",\"green\",\"green\",\"green\",\"green\",\"green\",\"green\",\"green\",\"green\",\"green\",\"green\",\"green\",\"green\",\"green\",\"green\",\"green\",\"green\",\"green\",\"green\",\"green\",\"green\",\"green\",\"green\",\"green\",\"green\",\"green\",\"green\",\"green\",\"green\",\"green\",\"green\",\"green\",\"green\",\"green\",\"green\",\"green\",\"green\",\"green\",\"green\",\"green\",\"green\",\"green\",\"green\",\"green\",\"green\",\"green\",\"green\",\"green\",\"green\",\"green\",\"green\",\"green\",\"green\",\"green\",\"green\",\"green\",\"green\",\"green\",\"green\",\"green\",\"green\",\"green\",\"green\",\"green\",\"green\",\"green\",\"green\",\"green\",\"green\",\"green\",\"green\",\"green\",\"green\",\"green\",\"green\",\"green\",\"green\",\"green\",\"green\",\"green\",\"green\",\"green\",\"green\",\"green\",\"green\",\"green\",\"green\",\"green\",\"green\",\"green\",\"green\",\"green\",\"green\",\"green\",\"green\",\"green\",\"green\",\"green\",\"green\",\"green\",\"green\",\"green\",\"green\",\"green\",\"green\",\"green\",\"green\",\"green\",\"green\",\"green\",\"green\",\"green\",\"green\",\"green\",\"green\",\"green\",\"green\",\"green\",\"green\",\"green\",\"green\",\"green\",\"green\",\"green\",\"green\",\"green\",\"green\",\"green\",\"green\",\"green\",\"green\",\"green\",\"green\",\"green\",\"green\",\"green\",\"green\",\"green\",\"green\",\"green\",\"green\",\"green\",\"green\",\"green\",\"green\",\"green\",\"green\",\"green\",\"green\",\"green\",\"green\",\"green\",\"green\",\"green\",\"green\",\"green\",\"green\",\"green\",\"green\",\"green\",\"green\",\"green\",\"green\",\"green\",\"green\",\"green\",\"green\",\"green\",\"green\",\"green\",\"green\",\"green\",\"green\",\"green\",\"green\",\"green\",\"green\",\"green\",\"green\",\"green\",\"green\",\"green\",\"green\",\"green\",\"green\",\"green\",\"green\",\"green\",\"green\",\"green\",\"green\",\"green\",\"green\",\"green\",\"green\",\"green\",\"green\",\"green\",\"green\",\"green\",\"green\",\"green\",\"green\",\"green\",\"green\",\"green\",\"green\",\"green\",\"green\",\"green\",\"green\",\"green\",\"green\",\"green\",\"green\",\"green\",\"green\",\"green\",\"green\",\"green\",\"green\",\"green\",\"green\",\"green\",\"green\",\"green\",\"green\",\"green\",\"green\",\"green\",\"green\",\"green\",\"green\",\"green\",\"green\",\"green\",\"green\",\"green\",\"green\",\"green\",\"green\",\"green\",\"green\",\"green\",\"green\",\"green\",\"green\",\"green\",\"green\",\"green\",\"green\",\"green\",\"green\",\"green\",\"green\",\"green\",\"green\",\"green\",\"green\",\"green\",\"green\",\"green\",\"green\",\"green\",\"green\",\"green\",\"green\",\"green\",\"green\",\"green\",\"green\",\"green\",\"green\",\"green\",\"green\",\"green\",\"green\",\"green\",\"green\",\"green\",\"green\",\"green\",\"green\",\"green\",\"green\",\"green\",\"green\",\"green\",\"green\",\"green\",\"green\",\"green\",\"green\",\"green\",\"green\",\"green\",\"green\",\"green\",\"green\",\"green\",\"green\",\"green\",\"green\",\"green\",\"green\",\"green\",\"green\",\"green\",\"green\",\"green\",\"green\",\"green\",\"green\",\"green\",\"green\",\"green\",\"green\",\"green\",\"green\",\"green\",\"green\",\"green\",\"green\",\"green\",\"green\",\"green\",\"green\",\"green\",\"green\",\"green\",\"green\",\"green\",\"green\",\"green\",\"green\",\"green\",\"green\",\"green\",\"green\",\"green\",\"green\",\"green\",\"green\",\"green\",\"green\",\"green\",\"green\",\"green\",\"green\",\"green\",\"green\",\"green\",\"green\",\"green\",\"green\",\"green\",\"green\",\"green\",\"green\",\"green\",\"green\",\"green\",\"green\",\"green\",\"green\",\"green\",\"green\",\"green\",\"green\",\"green\",\"green\",\"green\",\"green\",\"green\",\"green\",\"green\",\"green\",\"green\",\"green\",\"green\",\"green\",\"green\",\"green\",\"green\",\"green\",\"green\",\"green\",\"green\",\"green\",\"green\",\"green\",\"green\",\"green\",\"green\",\"green\",\"green\",\"green\",\"green\",\"green\",\"green\",\"green\",\"green\",\"green\",\"green\",\"green\",\"green\",\"green\",\"green\",\"green\",\"green\",\"green\",\"green\",\"green\",\"green\",\"green\",\"green\",\"green\",\"green\",\"green\",\"green\",\"green\",\"green\",\"green\",\"green\",\"green\",\"green\",\"green\",\"green\",\"green\",\"green\",\"green\",\"green\",\"green\",\"green\",\"green\",\"green\",\"green\",\"green\",\"green\",\"green\"],\"token\":[\"<user>\",\".\",\":\",\"rt\",\",\",\"<repeat>\",\"<hashtag>\",\"<number>\",\"<url>\",\"!\",\"i\",\"a\",\"\\\"\",\"the\",\"?\",\"you\",\"to\",\"(\",\"<allcaps>\",\"<elong>\",\")\",\"me\",\"de\",\"<smile>\",\"\\uff01\",\"que\",\"and\",\"\\u3002\",\"-\",\"my\",\"no\",\"\\u3001\",\"is\",\"it\",\"\\u2026\",\"in\",\"n\",\"for\",\"/\",\"of\",\"la\",\"'s\",\"*\",\"do\",\"n't\",\"that\",\"on\",\"y\",\"'\",\"e\",\"o\",\"u\",\"en\",\"this\",\"el\",\"so\",\"be\",\"'m\",\"with\",\"just\",\">\",\"your\",\"^\",\"like\",\"have\",\"te\",\"at\",\"\\uff1f\",\"love\",\"se\",\"are\",\"<\",\"m\",\"r\",\"if\",\"all\",\"b\",\"\\u30fb\",\"not\",\"but\",\"we\",\"es\",\"ya\",\"&\",\"follow\",\"up\",\"what\",\"get\",\"lol\",\"un\",\"\\u2665\",\"lo\",\"when\",\"was\",\"\\u201c\",\"\\u201d\",\"one\",\"por\",\"si\",\"out\",\"_\",\"mi\",\"can\",\"<sadface>\",\"\\u0645\\u0646\",\"\\u2661\",\"\\u00b4\",\"he\",\"con\",\"they\",\"now\",\"go\",\"\\u060c\",\"para\",\"los\",\"know\",\"haha\",\"good\",\"tu\",\"back\",\"~\",\"about\",\"new\",\";\",\"as\",\"day\",\"how\",\"who\",\"will\",\"want\",\"people\",\"yo\",\"eu\",\"from\",\"di\",\"time\",\"<heart>\",\"s\",\"aku\",\"da\",\"'re\",\"<lolface>\",\"una\",\"got\",\"las\",\"more\",\"x\",\"she\",\"today\",\"\\uff08\",\">>\",\"k\",\"by\",\"or\",\"\\u0641\\u064a\",\"\\uff65\",\"too\",\"le\",\"\\u00e9\",\"|\",\"[\",\"\\uff09\",\"]\",\"see\",\"why\",\"yg\",\"ca\",\"como\",\"her\",\"\\u2014\",\"q\",\"need\",\"an\",\"na\",\"\\u7b11\",\"there\",\"\\u03c9\",\"happy\",\"im\",\"mas\",\"je\",\"life\",\"really\",\"make\",\"yang\",\"shit\",\"think\",\"t\",\"\\u2764\",\"n\\u00e3o\",\"never\",\"some\",\"\\uff5e\",\"oh\",\"\\u2605\",\"did\",\"would\",\"del\",\"`\",\"d\",\"please\",\"via\",\"much\",\"fuck\",\"al\",\"dia\",\"$\",\"\\u0648\",\"right\",\"best\",\"c\",\"going\",\"\\u0627\\u0644\\u0644\\u0647\",\"pero\",\"only\",\"has\",\"\\u266a\",\"'ll\",\"twitter\",\"=\",\"hahaha\",\"its\",\"nn\",\"\\uff40\",\"\\u00bf\",\"am\",\"say\",\"<neutralface>\",\"them\",\"here\",\"\\u0644\\u0627\",\"off\",\"still\",\"dan\",\"+\",\"night\",\"w\",\"ada\",\"someone\",\"even\",\"then\",\"\\u2606\",\"ni\",\"come\",\"com\",\"always\",\"man\",\"'ve\",\"been\",\"his\",\"itu\",\"\\u0639\\u0644\\u0649\",\"-_-\",\"\\u263a\",\"over\",\"um\",\"\\u0645\\u0627\",\"hate\",\"girl\",\"ai\",\"had\",\"pra\",\"todo\",\"mais\",\"feel\",\"let\",\"ini\",\"because\",\"\\uff9f\",\"thanks\",\"ah\",\"way\",\"ever\",\"look\",\"tweet\",\"followers\",\"should\",\"our\",\"xd\",\"aja\",\"esta\",\"school\",\"him\",\"ser\",\"take\",\"than\",\"video\",\"em\",\"last\",\"wanna\",\"does\",\"us\",\"miss\",\"l\",\"ga\",\"better\",\"well\",\"could\",\"\\u25bd\",\"%\",\"apa\",\"cuando\",\"team\",\"\\u2714\",\"@\",\"ok\",\"\\u061f\",\"\\u2022\",\"vida\",\"quiero\",\"les\",\"being\",\"real\",\"down\",\"kamu\",\"everyone\",\"gonna\",\"live\",\"tonight\",\"yes\",\"work\",\"ass\",\"retweet\",\"nada\",\"sama\",\"first\",\"<<\",\"photo\",\"tomorrow\",\"where\",\"god\",\"son\",\"ke\",\"ta\",\"f\",\"home\",\"lagi\",\"thank\",\"birthday\",\"\\u2588\",\"ha\",\"great\",\"lmao\",\"omg\",\"morning\",\"m\\u00e1s\",\"mau\",\"baby\",\"dont\",\"\\uff61\",\"their\",\"p\",\"things\",\"game\",\"pas\",\"bad\",\"year\",\"yeah\",\"su\",\"bitch\",\"\\u0432\",\"stop\",\"hoy\",\"something\",\"meu\",\"tak\",\"gak\",\"world\",\"amor\",\"h\",\"\\\\\",\"ver\",\"\\uff1b\",\"porque\",\"give\",\"these\",\"\\u0627\\u0644\\u0644\\u0647\\u0645\",\"were\",\"hay\",\"sleep\",\"gue\",\"every\",\"friends\",\"uma\",\"tell\",\"amo\",\"vou\",\"bien\",\"\\u00a1\",\"again\",\"\\uff3e\",\"\\uff0f\",\"done\",\"after\",\"todos\",\"girls\",\"guys\",\"getting\",\"big\",\"wait\",\"justin\",\"eh\",\"\\u2192\",\"kan\",\"kita\",\"jajaja\",\"wish\",\"said\",\"fucking\",\"show\",\"thing\",\"next\",\"voc\\u00ea\",\"nos\",\"little\",\"tengo\",\"keep\",\"person\",\"''\",\"\\u2200\",\"hope\",\"\\u0643\\u0644\",\"hey\",\"bisa\",\"free\",\"made\",\"foto\",\"va\",\"everything\",\"iya\",\"nigga\",\"eso\",\"et\",\"watch\",\"music\",\"week\",\"talk\",\"ne\",\"solo\",\"gente\",\"udah\",\"\\uff1a\",\"--\",\"\\uff3c\",\"mejor\",\"facebook\",\"ma\",\"v\",\"phone\",\"most\",\"same\",\"okay\",\"ik\",\"before\",\"minha\",\"days\",\"g\",\"ti\",\"damn\",\"nice\",\"voy\",\"vai\",\"call\",\"long\",\"tapi\",\"http\",\"sin\",\"nunca\",\"doing\",\"other\",\"find\",\"il\",\"sa\",\"sorry\",\"nya\",\"orang\",\"\\u00b0\",\"hard\",\"mean\",\"die\",\"\\u0627\\u0644\\u0644\\u064a\",\"tem\",\"soy\",\"este\",\"kalo\",\"s\\u00f3\",\"th\",\"win\",\"nothing\",\"into\",\"face\",\"cute\",\"'d\",\"gracias\",\"lah\",\"\\u0438\",\"any\",\"play\",\"\\u2190\",\"ko\",\"text\",\"\\u2323\",\"estoy\",\"tau\",\"ur\",\"buat\",\"#\",\"cause\",\"\\u044f\",\"put\",\"kau\",\"siempre\",\"juga\",\"casa\",\"\\u0623\\u0646\",\"help\",\"start\",\"feliz\",\"old\",\"ir\",\"very\",\"care\",\"bir\",\"makes\",\"song\",\"check\",\"watching\",\"ahora\",\"jadi\",\"os\",\"may\",\"friend\",\"beautiful\",\"heart\",\"ka\",\"vc\",\"mundo\",\"\\u043d\\u0430\",\"sure\",\"tan\",\"pretty\",\"aqui\",\"\\u043d\\u0435\",\"house\",\"\\u0631\\u062a\\u0648\\u064a\\u062a\",\"\\u064a\\u0627\",\"ja\",\"true\",\"muy\",\"away\",\"already\",\"actually\",\"believe\",\"try\",\"many\",\"ma\\u00f1ana\",\"mis\",\"lu\",\"those\",\"hot\",\"qu\\u00e9\",\"mal\",\"\\u0639\\u0646\",\"though\",\"ask\",\"amazing\",\"bed\",\"}\",\"two\",\"mom\",\"d\\u00eda\",\"ve\",\"dari\",\"gameinsight\",\"stay\",\"fun\",\"around\",\"van\",\"cont\",\"ready\",\"money\",\"bu\",\"funny\",\"cool\",\"hair\",\"\\u00e0\",\"tho\",\"{\",\"wo\",\"hi\",\"name\",\"tiene\",\"hahahaha\",\"pa\",\"algo\",\"gotta\",\"\\u0648\\u0644\\u0627\",\"boy\",\"another\",\"c'est\",\"hari\",\"jajajaja\",\"having\",\"cara\",\"jaja\",\"dm\",\"looking\",\"top\",\"android\",\"dah\",\"wow\",\"\\u2591\",\"eres\",\"ben\",\"must\",\"news\",\"met\",\"est\\u00e1\",\"nih\",\"family\",\"black\",\"thought\",\"nak\",\"super\",\"end\",\"hace\",\"remember\",\"ama\",\"party\",\"cant\",\"vamos\",\"anything\",\"anyone\",\"\\u0641\\u0648\\u0644\\u0648\",\"perfect\",\"guy\",\"vez\",\"christmas\",\"dos\",\"bueno\",\"nao\",\"years\",\"vote\",\"dormir\",\"bro\",\"else\",\"quien\",\"untuk\",\"jangan\",\"myself\",\"head\",\"mind\",\"gua\",\"talking\",\"while\",\"dat\",\"food\",\"\\u0434\",\"coming\",\"wkwk\",\"trying\",\"saya\",\"mucho\",\"without\",\"wrong\",\"\\u2019s\",\"baru\",\"__\",\"hehe\",\"hacer\",\"lot\",\"followed\",\"crazy\",\"hell\",\"feeling\",\"des\",\"kok\",\"j\",\"stats\",\"j'\",\"\\u0627\\u0646\",\"tweets\",\"non\",\"cosas\",\"era\",\"high\",\"niggas\",\"change\",\"movie\",\"xx\",\"mad\",\"sih\",\"sometimes\",\"deh\",\"allah\",\"through\",\"pour\",\"ela\",\"soon\",\"gone\",\"playing\",\"smile\",\"bukan\",\"tv\",\"fans\",\"hasta\",\"akan\",\"y'\",\"looks\",\"isso\",\"\\u270c\",\"tired\",\"boys\",\"might\",\"dong\",\"lg\",\"use\",\"maybe\",\"until\",\"menos\",\"own\",\"dengan\",\"eat\",\"ou\",\"weekend\",\"\\u02d8\",\"class\",\"ele\",\"harry\",\"iphone\",\"friday\",\"single\",\"ff\",\"awesome\",\"bout\",\"muito\",\"hoje\",\"\\u00ac\",\"dios\",\"such\",\"estar\",\"j\\u00e1\",\"quando\",\"esa\",\"making\",\"\\u2501\",\"times\",\"lmfao\",\"gw\",\"moment\",\"yet\",\"aw\",\"smh\",\"banget\",\"masih\",\"qui\",\"quem\",\"\\u2013\",\"leave\",\"du\",\"une\",\"guess\",\"hit\",\"\\u0441\",\"pm\",\"since\",\"pues\",\"est\",\"job\",\"\\uff89\",\"mana\",\"bom\",\"siapa\",\"suka\",\"bieber\",\"mention\",\"lebih\",\"favorite\",\"bitches\",\"forever\",\"\\u0644\\u064a\",\"final\",\"read\",\"alguien\",\"open\",\"yourself\",\"ese\",\"che\",\"sex\",\"yaa\",\"car\",\"direction\",\"tidak\",\"seu\",\"gets\",\"left\",\"re\",\"jam\",\"enough\",\"\\u0625\\u0644\\u0627\",\"once\",\"\\u2019\",\"part\",\"cada\",\"\\u5b9a\\u671f\",\"\\u0644\\u0643\",\"een\",\"seen\",\"kak\",\"as\\u00ed\",\"nem\",\"\\u0639\\u0645\\u0644\",\"white\",\"told\",\"says\",\"esto\",\"sad\",\"mo\",\"fue\",\"yah\",\"summer\",\"\\u0647\",\"\\u2b55\",\"\\u00bb\",\"thats\",\"\\u0645\\u0639\",\"posted\",\"wants\",\"agora\",\"together\",\"fan\",\"men\",\"hear\",\"full\",\"\\u2600\",\"sigo\",\"pq\",\"dulu\",\"plus\",\"foi\",\"tudo\",\"\\u0647\\u0648\",\"ill\",\"\\u3042\",\"thinking\",\"wtf\",\"pagi\",\"mama\",\"kalau\",\"hati\",\"sexy\",\"sayang\",\"baik\",\"semua\",\"hola\",\"went\",\"vos\",\"tanto\",\"finally\",\"fb\",\"sea\",\"stupid\",\"tus\",\"seriously\",\"hora\",\"min\",\"pic\",\"estas\",\"turn\",\"hours\",\"excited\",\"nah\",\"buy\",\"saying\",\"mah\",\"break\",\"needs\",\"ce\",\"room\",\"choice\",\"far\",\"dead\",\"quero\",\"saw\",\"kids\",\"lil\",\"whole\",\"puede\",\"fall\",\"sus\",\"lost\",\"asi\",\"word\",\"\\u2639\",\"also\",\"\\u0631\\u064a\\u062a\\u0648\\u064a\\u062a\",\"probably\",\"everybody\",\"tarde\",\"run\",\"sei\",\"follback\",\"forget\",\"sweet\",\"welcome\",\"selamat\",\"\\uff3f\",\"sur\",\"place\",\"gusta\",\"sabe\",\"androidgames\",\"tp\",\"tiempo\",\"\\u0628\\u0633\",\"sou\",\"tuh\",\"vs\",\"eyes\",\"\\u0627\\u0646\\u0627\",\"picture\",\"das\",\"meet\",\"anak\",\"persona\",\"essa\",\"bored\",\"following\",\"nadie\",\"nobody\",\"dice\",\"alone\",\"sick\",\"red\",\"city\",\"cinta\",\"\\u6708\",\"linda\",\"dream\",\"story\",\"km\",\"het\",\"waiting\",\"^_^\",\"mine\",\"\\u0447\\u0442\\u043e\",\"reason\",\"kk\",\"\\u0644\\u0648\",\"online\",\"fast\",\"udh\",\"wanted\",\"op\",\"others\",\"gay\",\"n\\u2019t\",\"used\",\"sem\",\"understand\",\"moi\",\"sm\",\"aint\",\"donde\",\"bem\",\"which\",\"ng\",\"followback\",\"punya\",\"late\",\"anda\",\"tidur\",\"puedo\",\"early\",\"nd\",\"personas\",\"banyak\",\"\\u2705\",\"\\u278a\",\"trust\",\"noche\",\"tl\",\"\\uff1e\",\"\\u00ab\",\"af\",\"move\",\"pro\",\"bring\",\"ku\",\"called\",\"relationship\",\"idk\",\"hurt\",\"st\",\"pernah\",\"pessoas\",\"hello\",\"uno\",\"unfollowers\",\"cry\"],\"x\":{\"__ndarray__\":\"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\",\"dtype\":\"float32\",\"order\":\"little\",\"shape\":[1000]},\"y\":{\"__ndarray__\":\"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\",\"dtype\":\"float32\",\"order\":\"little\",\"shape\":[1000]}},\"selected\":{\"id\":\"1561\"},\"selection_policy\":{\"id\":\"1560\"}},\"id\":\"1479\",\"type\":\"ColumnDataSource\"},{\"attributes\":{},\"id\":\"1498\",\"type\":\"WheelZoomTool\"},{\"attributes\":{},\"id\":\"1561\",\"type\":\"Selection\"},{\"attributes\":{\"text\":\"\"},\"id\":\"1554\",\"type\":\"Title\"},{\"attributes\":{},\"id\":\"1556\",\"type\":\"BasicTickFormatter\"},{\"attributes\":{\"axis\":{\"id\":\"1489\"},\"ticker\":null},\"id\":\"1492\",\"type\":\"Grid\"},{\"attributes\":{},\"id\":\"1500\",\"type\":\"SaveTool\"},{\"attributes\":{\"fill_alpha\":{\"value\":0.25},\"fill_color\":{\"field\":\"color\"},\"line_alpha\":{\"value\":0.25},\"line_color\":{\"field\":\"color\"},\"size\":{\"units\":\"screen\",\"value\":10},\"x\":{\"field\":\"x\"},\"y\":{\"field\":\"y\"}},\"id\":\"1512\",\"type\":\"Scatter\"},{\"attributes\":{\"formatter\":{\"id\":\"1556\"},\"ticker\":{\"id\":\"1490\"}},\"id\":\"1489\",\"type\":\"LinearAxis\"},{\"attributes\":{},\"id\":\"1501\",\"type\":\"ResetTool\"},{\"attributes\":{},\"id\":\"1485\",\"type\":\"LinearScale\"},{\"attributes\":{\"formatter\":{\"id\":\"1558\"},\"ticker\":{\"id\":\"1494\"}},\"id\":\"1493\",\"type\":\"LinearAxis\"},{\"attributes\":{\"data_source\":{\"id\":\"1479\"},\"glyph\":{\"id\":\"1512\"},\"hover_glyph\":null,\"muted_glyph\":null,\"nonselection_glyph\":{\"id\":\"1513\"},\"selection_glyph\":null,\"view\":{\"id\":\"1515\"}},\"id\":\"1514\",\"type\":\"GlyphRenderer\"},{\"attributes\":{},\"id\":\"1490\",\"type\":\"BasicTicker\"},{\"attributes\":{\"active_drag\":\"auto\",\"active_inspect\":\"auto\",\"active_multi\":null,\"active_scroll\":{\"id\":\"1498\"},\"active_tap\":\"auto\",\"tools\":[{\"id\":\"1497\"},{\"id\":\"1498\"},{\"id\":\"1499\"},{\"id\":\"1500\"},{\"id\":\"1501\"},{\"id\":\"1502\"},{\"id\":\"1516\"}]},\"id\":\"1504\",\"type\":\"Toolbar\"},{\"attributes\":{},\"id\":\"1483\",\"type\":\"DataRange1d\"},{\"attributes\":{\"bottom_units\":\"screen\",\"fill_alpha\":0.5,\"fill_color\":\"lightgrey\",\"left_units\":\"screen\",\"level\":\"overlay\",\"line_alpha\":1.0,\"line_color\":\"black\",\"line_dash\":[4,4],\"line_width\":2,\"right_units\":\"screen\",\"top_units\":\"screen\"},\"id\":\"1503\",\"type\":\"BoxAnnotation\"},{\"attributes\":{},\"id\":\"1502\",\"type\":\"HelpTool\"},{\"attributes\":{},\"id\":\"1497\",\"type\":\"PanTool\"},{\"attributes\":{\"overlay\":{\"id\":\"1503\"}},\"id\":\"1499\",\"type\":\"BoxZoomTool\"},{\"attributes\":{\"fill_alpha\":{\"value\":0.1},\"fill_color\":{\"field\":\"color\"},\"line_alpha\":{\"value\":0.1},\"line_color\":{\"field\":\"color\"},\"size\":{\"units\":\"screen\",\"value\":10},\"x\":{\"field\":\"x\"},\"y\":{\"field\":\"y\"}},\"id\":\"1513\",\"type\":\"Scatter\"},{\"attributes\":{},\"id\":\"1481\",\"type\":\"DataRange1d\"},{\"attributes\":{},\"id\":\"1558\",\"type\":\"BasicTickFormatter\"},{\"attributes\":{\"callback\":null,\"tooltips\":[[\"token\",\"@token\"]]},\"id\":\"1516\",\"type\":\"HoverTool\"},{\"attributes\":{\"axis\":{\"id\":\"1493\"},\"dimension\":1,\"ticker\":null},\"id\":\"1496\",\"type\":\"Grid\"}],\"root_ids\":[\"1480\"]},\"title\":\"Bokeh Application\",\"version\":\"2.1.1\"}};\n",
              "  var render_items = [{\"docid\":\"c7d3b2c5-f7b1-4b7f-ad24-78464b0ac9f2\",\"root_ids\":[\"1480\"],\"roots\":{\"1480\":\"8e93c081-8ee0-4b60-810d-37c489482b41\"}}];\n",
              "  root.Bokeh.embed.embed_items_notebook(docs_json, render_items);\n",
              "\n",
              "  }\n",
              "  if (root.Bokeh !== undefined) {\n",
              "    embed_document(root);\n",
              "  } else {\n",
              "    var attempts = 0;\n",
              "    var timer = setInterval(function(root) {\n",
              "      if (root.Bokeh !== undefined) {\n",
              "        clearInterval(timer);\n",
              "        embed_document(root);\n",
              "      } else {\n",
              "        attempts++;\n",
              "        if (attempts > 100) {\n",
              "          clearInterval(timer);\n",
              "          console.log(\"Bokeh: ERROR: Unable to run BokehJS code because BokehJS library is missing\");\n",
              "        }\n",
              "      }\n",
              "    }, 10, root)\n",
              "  }\n",
              "})(window);"
            ],
            "application/vnd.bokehjs_exec.v0+json": ""
          },
          "metadata": {
            "tags": [],
            "application/vnd.bokehjs_exec.v0+json": {
              "id": "1480"
            }
          }
        },
        {
          "output_type": "execute_result",
          "data": {
            "text/html": [
              "<div style=\"display: table;\"><div style=\"display: table-row;\"><div style=\"display: table-cell;\"><b title=\"bokeh.plotting.figure.Figure\">Figure</b>(</div><div style=\"display: table-cell;\">id&nbsp;=&nbsp;'1480', <span id=\"1618\" style=\"cursor: pointer;\">&hellip;)</span></div></div><div class=\"1617\" style=\"display: none;\"><div style=\"display: table-cell;\"></div><div style=\"display: table-cell;\">above&nbsp;=&nbsp;[],</div></div><div class=\"1617\" style=\"display: none;\"><div style=\"display: table-cell;\"></div><div style=\"display: table-cell;\">align&nbsp;=&nbsp;'start',</div></div><div class=\"1617\" style=\"display: none;\"><div style=\"display: table-cell;\"></div><div style=\"display: table-cell;\">aspect_ratio&nbsp;=&nbsp;None,</div></div><div class=\"1617\" style=\"display: none;\"><div style=\"display: table-cell;\"></div><div style=\"display: table-cell;\">aspect_scale&nbsp;=&nbsp;1,</div></div><div class=\"1617\" style=\"display: none;\"><div style=\"display: table-cell;\"></div><div style=\"display: table-cell;\">background&nbsp;=&nbsp;None,</div></div><div class=\"1617\" style=\"display: none;\"><div style=\"display: table-cell;\"></div><div style=\"display: table-cell;\">background_fill_alpha&nbsp;=&nbsp;1.0,</div></div><div class=\"1617\" style=\"display: none;\"><div style=\"display: table-cell;\"></div><div style=\"display: table-cell;\">background_fill_color&nbsp;=&nbsp;'#ffffff',</div></div><div class=\"1617\" style=\"display: none;\"><div style=\"display: table-cell;\"></div><div style=\"display: table-cell;\">below&nbsp;=&nbsp;[LinearAxis(id='1489', ...)],</div></div><div class=\"1617\" style=\"display: none;\"><div style=\"display: table-cell;\"></div><div style=\"display: table-cell;\">border_fill_alpha&nbsp;=&nbsp;1.0,</div></div><div class=\"1617\" style=\"display: none;\"><div style=\"display: table-cell;\"></div><div style=\"display: table-cell;\">border_fill_color&nbsp;=&nbsp;'#ffffff',</div></div><div class=\"1617\" style=\"display: none;\"><div style=\"display: table-cell;\"></div><div style=\"display: table-cell;\">center&nbsp;=&nbsp;[Grid(id='1492', ...), Grid(id='1496', ...)],</div></div><div class=\"1617\" style=\"display: none;\"><div style=\"display: table-cell;\"></div><div style=\"display: table-cell;\">css_classes&nbsp;=&nbsp;[],</div></div><div class=\"1617\" style=\"display: none;\"><div style=\"display: table-cell;\"></div><div style=\"display: table-cell;\">disabled&nbsp;=&nbsp;False,</div></div><div class=\"1617\" style=\"display: none;\"><div style=\"display: table-cell;\"></div><div style=\"display: table-cell;\">extra_x_ranges&nbsp;=&nbsp;{},</div></div><div class=\"1617\" style=\"display: none;\"><div style=\"display: table-cell;\"></div><div style=\"display: table-cell;\">extra_y_ranges&nbsp;=&nbsp;{},</div></div><div class=\"1617\" style=\"display: none;\"><div style=\"display: table-cell;\"></div><div style=\"display: table-cell;\">frame_height&nbsp;=&nbsp;None,</div></div><div class=\"1617\" style=\"display: none;\"><div style=\"display: table-cell;\"></div><div style=\"display: table-cell;\">frame_width&nbsp;=&nbsp;None,</div></div><div class=\"1617\" style=\"display: none;\"><div style=\"display: table-cell;\"></div><div style=\"display: table-cell;\">height&nbsp;=&nbsp;None,</div></div><div class=\"1617\" style=\"display: none;\"><div style=\"display: table-cell;\"></div><div style=\"display: table-cell;\">height_policy&nbsp;=&nbsp;'auto',</div></div><div class=\"1617\" style=\"display: none;\"><div style=\"display: table-cell;\"></div><div style=\"display: table-cell;\">hidpi&nbsp;=&nbsp;True,</div></div><div class=\"1617\" style=\"display: none;\"><div style=\"display: table-cell;\"></div><div style=\"display: table-cell;\">js_event_callbacks&nbsp;=&nbsp;{},</div></div><div class=\"1617\" style=\"display: none;\"><div style=\"display: table-cell;\"></div><div style=\"display: table-cell;\">js_property_callbacks&nbsp;=&nbsp;{},</div></div><div class=\"1617\" style=\"display: none;\"><div style=\"display: table-cell;\"></div><div style=\"display: table-cell;\">left&nbsp;=&nbsp;[LinearAxis(id='1493', ...)],</div></div><div class=\"1617\" style=\"display: none;\"><div style=\"display: table-cell;\"></div><div style=\"display: table-cell;\">lod_factor&nbsp;=&nbsp;10,</div></div><div class=\"1617\" style=\"display: none;\"><div style=\"display: table-cell;\"></div><div style=\"display: table-cell;\">lod_interval&nbsp;=&nbsp;300,</div></div><div class=\"1617\" style=\"display: none;\"><div style=\"display: table-cell;\"></div><div style=\"display: table-cell;\">lod_threshold&nbsp;=&nbsp;2000,</div></div><div class=\"1617\" style=\"display: none;\"><div style=\"display: table-cell;\"></div><div style=\"display: table-cell;\">lod_timeout&nbsp;=&nbsp;500,</div></div><div class=\"1617\" style=\"display: none;\"><div style=\"display: table-cell;\"></div><div style=\"display: table-cell;\">margin&nbsp;=&nbsp;(0, 0, 0, 0),</div></div><div class=\"1617\" style=\"display: none;\"><div style=\"display: table-cell;\"></div><div style=\"display: table-cell;\">match_aspect&nbsp;=&nbsp;False,</div></div><div class=\"1617\" style=\"display: none;\"><div style=\"display: table-cell;\"></div><div style=\"display: table-cell;\">max_height&nbsp;=&nbsp;None,</div></div><div class=\"1617\" style=\"display: none;\"><div style=\"display: table-cell;\"></div><div style=\"display: table-cell;\">max_width&nbsp;=&nbsp;None,</div></div><div class=\"1617\" style=\"display: none;\"><div style=\"display: table-cell;\"></div><div style=\"display: table-cell;\">min_border&nbsp;=&nbsp;5,</div></div><div class=\"1617\" style=\"display: none;\"><div style=\"display: table-cell;\"></div><div style=\"display: table-cell;\">min_border_bottom&nbsp;=&nbsp;None,</div></div><div class=\"1617\" style=\"display: none;\"><div style=\"display: table-cell;\"></div><div style=\"display: table-cell;\">min_border_left&nbsp;=&nbsp;None,</div></div><div class=\"1617\" style=\"display: none;\"><div style=\"display: table-cell;\"></div><div style=\"display: table-cell;\">min_border_right&nbsp;=&nbsp;None,</div></div><div class=\"1617\" style=\"display: none;\"><div style=\"display: table-cell;\"></div><div style=\"display: table-cell;\">min_border_top&nbsp;=&nbsp;None,</div></div><div class=\"1617\" style=\"display: none;\"><div style=\"display: table-cell;\"></div><div style=\"display: table-cell;\">min_height&nbsp;=&nbsp;None,</div></div><div class=\"1617\" style=\"display: none;\"><div style=\"display: table-cell;\"></div><div style=\"display: table-cell;\">min_width&nbsp;=&nbsp;None,</div></div><div class=\"1617\" style=\"display: none;\"><div style=\"display: table-cell;\"></div><div style=\"display: table-cell;\">name&nbsp;=&nbsp;None,</div></div><div class=\"1617\" style=\"display: none;\"><div style=\"display: table-cell;\"></div><div style=\"display: table-cell;\">outline_line_alpha&nbsp;=&nbsp;1.0,</div></div><div class=\"1617\" style=\"display: none;\"><div style=\"display: table-cell;\"></div><div style=\"display: table-cell;\">outline_line_cap&nbsp;=&nbsp;'butt',</div></div><div class=\"1617\" style=\"display: none;\"><div style=\"display: table-cell;\"></div><div style=\"display: table-cell;\">outline_line_color&nbsp;=&nbsp;'#e5e5e5',</div></div><div class=\"1617\" style=\"display: none;\"><div style=\"display: table-cell;\"></div><div style=\"display: table-cell;\">outline_line_dash&nbsp;=&nbsp;[],</div></div><div class=\"1617\" style=\"display: none;\"><div style=\"display: table-cell;\"></div><div style=\"display: table-cell;\">outline_line_dash_offset&nbsp;=&nbsp;0,</div></div><div class=\"1617\" style=\"display: none;\"><div style=\"display: table-cell;\"></div><div style=\"display: table-cell;\">outline_line_join&nbsp;=&nbsp;'bevel',</div></div><div class=\"1617\" style=\"display: none;\"><div style=\"display: table-cell;\"></div><div style=\"display: table-cell;\">outline_line_width&nbsp;=&nbsp;1,</div></div><div class=\"1617\" style=\"display: none;\"><div style=\"display: table-cell;\"></div><div style=\"display: table-cell;\">output_backend&nbsp;=&nbsp;'canvas',</div></div><div class=\"1617\" style=\"display: none;\"><div style=\"display: table-cell;\"></div><div style=\"display: table-cell;\">plot_height&nbsp;=&nbsp;400,</div></div><div class=\"1617\" style=\"display: none;\"><div style=\"display: table-cell;\"></div><div style=\"display: table-cell;\">plot_width&nbsp;=&nbsp;600,</div></div><div class=\"1617\" style=\"display: none;\"><div style=\"display: table-cell;\"></div><div style=\"display: table-cell;\">renderers&nbsp;=&nbsp;[GlyphRenderer(id='1514', ...)],</div></div><div class=\"1617\" style=\"display: none;\"><div style=\"display: table-cell;\"></div><div style=\"display: table-cell;\">reset_policy&nbsp;=&nbsp;'standard',</div></div><div class=\"1617\" style=\"display: none;\"><div style=\"display: table-cell;\"></div><div style=\"display: table-cell;\">right&nbsp;=&nbsp;[],</div></div><div class=\"1617\" style=\"display: none;\"><div style=\"display: table-cell;\"></div><div style=\"display: table-cell;\">sizing_mode&nbsp;=&nbsp;None,</div></div><div class=\"1617\" style=\"display: none;\"><div style=\"display: table-cell;\"></div><div style=\"display: table-cell;\">subscribed_events&nbsp;=&nbsp;[],</div></div><div class=\"1617\" style=\"display: none;\"><div style=\"display: table-cell;\"></div><div style=\"display: table-cell;\">tags&nbsp;=&nbsp;[],</div></div><div class=\"1617\" style=\"display: none;\"><div style=\"display: table-cell;\"></div><div style=\"display: table-cell;\">title&nbsp;=&nbsp;Title(id='1554', ...),</div></div><div class=\"1617\" style=\"display: none;\"><div style=\"display: table-cell;\"></div><div style=\"display: table-cell;\">title_location&nbsp;=&nbsp;'above',</div></div><div class=\"1617\" style=\"display: none;\"><div style=\"display: table-cell;\"></div><div style=\"display: table-cell;\">toolbar&nbsp;=&nbsp;Toolbar(id='1504', ...),</div></div><div class=\"1617\" style=\"display: none;\"><div style=\"display: table-cell;\"></div><div style=\"display: table-cell;\">toolbar_location&nbsp;=&nbsp;'right',</div></div><div class=\"1617\" style=\"display: none;\"><div style=\"display: table-cell;\"></div><div style=\"display: table-cell;\">toolbar_sticky&nbsp;=&nbsp;True,</div></div><div class=\"1617\" style=\"display: none;\"><div style=\"display: table-cell;\"></div><div style=\"display: table-cell;\">visible&nbsp;=&nbsp;True,</div></div><div class=\"1617\" style=\"display: none;\"><div style=\"display: table-cell;\"></div><div style=\"display: table-cell;\">width&nbsp;=&nbsp;None,</div></div><div class=\"1617\" style=\"display: none;\"><div style=\"display: table-cell;\"></div><div style=\"display: table-cell;\">width_policy&nbsp;=&nbsp;'auto',</div></div><div class=\"1617\" style=\"display: none;\"><div style=\"display: table-cell;\"></div><div style=\"display: table-cell;\">x_range&nbsp;=&nbsp;DataRange1d(id='1481', ...),</div></div><div class=\"1617\" style=\"display: none;\"><div style=\"display: table-cell;\"></div><div style=\"display: table-cell;\">x_scale&nbsp;=&nbsp;LinearScale(id='1485', ...),</div></div><div class=\"1617\" style=\"display: none;\"><div style=\"display: table-cell;\"></div><div style=\"display: table-cell;\">y_range&nbsp;=&nbsp;DataRange1d(id='1483', ...),</div></div><div class=\"1617\" style=\"display: none;\"><div style=\"display: table-cell;\"></div><div style=\"display: table-cell;\">y_scale&nbsp;=&nbsp;LinearScale(id='1487', ...))</div></div></div>\n",
              "<script>\n",
              "(function() {\n",
              "  var expanded = false;\n",
              "  var ellipsis = document.getElementById(\"1618\");\n",
              "  ellipsis.addEventListener(\"click\", function() {\n",
              "    var rows = document.getElementsByClassName(\"1617\");\n",
              "    for (var i = 0; i < rows.length; i++) {\n",
              "      var el = rows[i];\n",
              "      el.style.display = expanded ? \"none\" : \"table-row\";\n",
              "    }\n",
              "    ellipsis.innerHTML = expanded ? \"&hellip;)\" : \"&lsaquo;&lsaquo;&lsaquo;\";\n",
              "    expanded = !expanded;\n",
              "  });\n",
              "})();\n",
              "</script>\n"
            ],
            "text/plain": [
              "Figure(id='1480', ...)"
            ]
          },
          "metadata": {
            "tags": []
          },
          "execution_count": 74
        }
      ]
    },
    {
      "cell_type": "markdown",
      "metadata": {
        "id": "dvpD_2dzmLpO"
      },
      "source": [
        "### Visualizing phrases\n",
        "\n",
        "Word embeddings can also be used to represent short phrases. The simplest way is to take __an average__ of vectors for all tokens in the phrase with some weights.\n",
        "\n",
        "This trick is useful to identify what data are you working with: find if there are any outliers, clusters or other artefacts.\n",
        "\n",
        "Let's try this new hammer on our data!\n"
      ]
    },
    {
      "cell_type": "code",
      "metadata": {
        "collapsed": true,
        "id": "D0UBnNf5mLpP"
      },
      "source": [
        "def get_phrase_embedding(phrase):\n",
        "    \"\"\"\n",
        "    Convert phrase to a vector by aggregating it's word embeddings. See description above.\n",
        "    \"\"\"\n",
        "    # 1. lowercase phrase\n",
        "    # 2. tokenize phrase\n",
        "    # 3. average word vectors for all words in tokenized phrase\n",
        "    # skip words that are not in model's vocabulary\n",
        "    # if all words are missing from vocabulary, return zeros\n",
        "    \n",
        "    vector = np.zeros([model.vector_size], dtype='float32')\n",
        "    count = 0\n",
        "    words = tokenizer.tokenize(phrase.lower())\n",
        "    for word in words:\n",
        "        if word in model.vocab.keys():\n",
        "            vector += model.get_vector(word)\n",
        "            count += 1\n",
        "    if count > 0:\n",
        "        vector /= count       \n",
        "    return vector\n",
        "        \n",
        "    "
      ],
      "execution_count": 76,
      "outputs": []
    },
    {
      "cell_type": "code",
      "metadata": {
        "collapsed": true,
        "id": "E7WsQaVXmLpP"
      },
      "source": [
        "vector = get_phrase_embedding(\"I'm very sure. This never happened to me before...\")\n",
        "\n",
        "assert np.allclose(vector[::10],\n",
        "                   np.array([ 0.31807372, -0.02558171,  0.0933293 , -0.1002182 , -1.0278689 ,\n",
        "                             -0.16621883,  0.05083408,  0.17989802,  1.3701859 ,  0.08655966],\n",
        "                              dtype=np.float32))"
      ],
      "execution_count": 77,
      "outputs": []
    },
    {
      "cell_type": "code",
      "metadata": {
        "collapsed": true,
        "id": "ap2gw91ZmLpQ"
      },
      "source": [
        "# let's only consider ~5k phrases for a first run.\n",
        "chosen_phrases = data[::len(data) // 1000]\n",
        "\n",
        "# compute vectors for chosen phrases\n",
        "phrase_vectors = np.array([get_phrase_embedding(phrase) for phrase in chosen_phrases])"
      ],
      "execution_count": 80,
      "outputs": []
    },
    {
      "cell_type": "code",
      "metadata": {
        "collapsed": true,
        "id": "Gd_ffwFBmLpQ"
      },
      "source": [
        "assert isinstance(phrase_vectors, np.ndarray) and np.isfinite(phrase_vectors).all()\n",
        "assert phrase_vectors.shape == (len(chosen_phrases), model.vector_size)"
      ],
      "execution_count": 81,
      "outputs": []
    },
    {
      "cell_type": "code",
      "metadata": {
        "collapsed": true,
        "id": "nHtwBROWmLpQ"
      },
      "source": [
        "# map vectors into 2d space with pca, tsne or your other method of choice\n",
        "# don't forget to normalize\n",
        "\n",
        "phrase_vectors_2d = TSNE().fit_transform(phrase_vectors)\n",
        "\n",
        "phrase_vectors_2d = (phrase_vectors_2d - phrase_vectors_2d.mean(axis=0)) / phrase_vectors_2d.std(axis=0)"
      ],
      "execution_count": 82,
      "outputs": []
    },
    {
      "cell_type": "code",
      "metadata": {
        "collapsed": true,
        "colab": {
          "base_uri": "https://localhost:8080/",
          "height": 434
        },
        "id": "BSqXBzl7mLpR",
        "outputId": "66ae57a0-fa45-4d3c-d658-592dd8d939a5"
      },
      "source": [
        "draw_vectors(phrase_vectors_2d[:, 0], phrase_vectors_2d[:, 1],\n",
        "             phrase=[phrase[:50] for phrase in chosen_phrases],\n",
        "             radius=20,)"
      ],
      "execution_count": 83,
      "outputs": [
        {
          "output_type": "display_data",
          "data": {
            "application/javascript": [
              "\n",
              "(function(root) {\n",
              "  function now() {\n",
              "    return new Date();\n",
              "  }\n",
              "\n",
              "  var force = true;\n",
              "\n",
              "  if (typeof root._bokeh_onload_callbacks === \"undefined\" || force === true) {\n",
              "    root._bokeh_onload_callbacks = [];\n",
              "    root._bokeh_is_loading = undefined;\n",
              "  }\n",
              "\n",
              "  var JS_MIME_TYPE = 'application/javascript';\n",
              "  var HTML_MIME_TYPE = 'text/html';\n",
              "  var EXEC_MIME_TYPE = 'application/vnd.bokehjs_exec.v0+json';\n",
              "  var CLASS_NAME = 'output_bokeh rendered_html';\n",
              "\n",
              "  /**\n",
              "   * Render data to the DOM node\n",
              "   */\n",
              "  function render(props, node) {\n",
              "    var script = document.createElement(\"script\");\n",
              "    node.appendChild(script);\n",
              "  }\n",
              "\n",
              "  /**\n",
              "   * Handle when an output is cleared or removed\n",
              "   */\n",
              "  function handleClearOutput(event, handle) {\n",
              "    var cell = handle.cell;\n",
              "\n",
              "    var id = cell.output_area._bokeh_element_id;\n",
              "    var server_id = cell.output_area._bokeh_server_id;\n",
              "    // Clean up Bokeh references\n",
              "    if (id != null && id in Bokeh.index) {\n",
              "      Bokeh.index[id].model.document.clear();\n",
              "      delete Bokeh.index[id];\n",
              "    }\n",
              "\n",
              "    if (server_id !== undefined) {\n",
              "      // Clean up Bokeh references\n",
              "      var cmd = \"from bokeh.io.state import curstate; print(curstate().uuid_to_server['\" + server_id + \"'].get_sessions()[0].document.roots[0]._id)\";\n",
              "      cell.notebook.kernel.execute(cmd, {\n",
              "        iopub: {\n",
              "          output: function(msg) {\n",
              "            var id = msg.content.text.trim();\n",
              "            if (id in Bokeh.index) {\n",
              "              Bokeh.index[id].model.document.clear();\n",
              "              delete Bokeh.index[id];\n",
              "            }\n",
              "          }\n",
              "        }\n",
              "      });\n",
              "      // Destroy server and session\n",
              "      var cmd = \"import bokeh.io.notebook as ion; ion.destroy_server('\" + server_id + \"')\";\n",
              "      cell.notebook.kernel.execute(cmd);\n",
              "    }\n",
              "  }\n",
              "\n",
              "  /**\n",
              "   * Handle when a new output is added\n",
              "   */\n",
              "  function handleAddOutput(event, handle) {\n",
              "    var output_area = handle.output_area;\n",
              "    var output = handle.output;\n",
              "\n",
              "    // limit handleAddOutput to display_data with EXEC_MIME_TYPE content only\n",
              "    if ((output.output_type != \"display_data\") || (!output.data.hasOwnProperty(EXEC_MIME_TYPE))) {\n",
              "      return\n",
              "    }\n",
              "\n",
              "    var toinsert = output_area.element.find(\".\" + CLASS_NAME.split(' ')[0]);\n",
              "\n",
              "    if (output.metadata[EXEC_MIME_TYPE][\"id\"] !== undefined) {\n",
              "      toinsert[toinsert.length - 1].firstChild.textContent = output.data[JS_MIME_TYPE];\n",
              "      // store reference to embed id on output_area\n",
              "      output_area._bokeh_element_id = output.metadata[EXEC_MIME_TYPE][\"id\"];\n",
              "    }\n",
              "    if (output.metadata[EXEC_MIME_TYPE][\"server_id\"] !== undefined) {\n",
              "      var bk_div = document.createElement(\"div\");\n",
              "      bk_div.innerHTML = output.data[HTML_MIME_TYPE];\n",
              "      var script_attrs = bk_div.children[0].attributes;\n",
              "      for (var i = 0; i < script_attrs.length; i++) {\n",
              "        toinsert[toinsert.length - 1].firstChild.setAttribute(script_attrs[i].name, script_attrs[i].value);\n",
              "        toinsert[toinsert.length - 1].firstChild.textContent = bk_div.children[0].textContent\n",
              "      }\n",
              "      // store reference to server id on output_area\n",
              "      output_area._bokeh_server_id = output.metadata[EXEC_MIME_TYPE][\"server_id\"];\n",
              "    }\n",
              "  }\n",
              "\n",
              "  function register_renderer(events, OutputArea) {\n",
              "\n",
              "    function append_mime(data, metadata, element) {\n",
              "      // create a DOM node to render to\n",
              "      var toinsert = this.create_output_subarea(\n",
              "        metadata,\n",
              "        CLASS_NAME,\n",
              "        EXEC_MIME_TYPE\n",
              "      );\n",
              "      this.keyboard_manager.register_events(toinsert);\n",
              "      // Render to node\n",
              "      var props = {data: data, metadata: metadata[EXEC_MIME_TYPE]};\n",
              "      render(props, toinsert[toinsert.length - 1]);\n",
              "      element.append(toinsert);\n",
              "      return toinsert\n",
              "    }\n",
              "\n",
              "    /* Handle when an output is cleared or removed */\n",
              "    events.on('clear_output.CodeCell', handleClearOutput);\n",
              "    events.on('delete.Cell', handleClearOutput);\n",
              "\n",
              "    /* Handle when a new output is added */\n",
              "    events.on('output_added.OutputArea', handleAddOutput);\n",
              "\n",
              "    /**\n",
              "     * Register the mime type and append_mime function with output_area\n",
              "     */\n",
              "    OutputArea.prototype.register_mime_type(EXEC_MIME_TYPE, append_mime, {\n",
              "      /* Is output safe? */\n",
              "      safe: true,\n",
              "      /* Index of renderer in `output_area.display_order` */\n",
              "      index: 0\n",
              "    });\n",
              "  }\n",
              "\n",
              "  // register the mime type if in Jupyter Notebook environment and previously unregistered\n",
              "  if (root.Jupyter !== undefined) {\n",
              "    var events = require('base/js/events');\n",
              "    var OutputArea = require('notebook/js/outputarea').OutputArea;\n",
              "\n",
              "    if (OutputArea.prototype.mime_types().indexOf(EXEC_MIME_TYPE) == -1) {\n",
              "      register_renderer(events, OutputArea);\n",
              "    }\n",
              "  }\n",
              "\n",
              "  \n",
              "  if (typeof (root._bokeh_timeout) === \"undefined\" || force === true) {\n",
              "    root._bokeh_timeout = Date.now() + 5000;\n",
              "    root._bokeh_failed_load = false;\n",
              "  }\n",
              "\n",
              "  var NB_LOAD_WARNING = {'data': {'text/html':\n",
              "     \"<div style='background-color: #fdd'>\\n\"+\n",
              "     \"<p>\\n\"+\n",
              "     \"BokehJS does not appear to have successfully loaded. If loading BokehJS from CDN, this \\n\"+\n",
              "     \"may be due to a slow or bad network connection. Possible fixes:\\n\"+\n",
              "     \"</p>\\n\"+\n",
              "     \"<ul>\\n\"+\n",
              "     \"<li>re-rerun `output_notebook()` to attempt to load from CDN again, or</li>\\n\"+\n",
              "     \"<li>use INLINE resources instead, as so:</li>\\n\"+\n",
              "     \"</ul>\\n\"+\n",
              "     \"<code>\\n\"+\n",
              "     \"from bokeh.resources import INLINE\\n\"+\n",
              "     \"output_notebook(resources=INLINE)\\n\"+\n",
              "     \"</code>\\n\"+\n",
              "     \"</div>\"}};\n",
              "\n",
              "  function display_loaded() {\n",
              "    var el = document.getElementById(null);\n",
              "    if (el != null) {\n",
              "      el.textContent = \"BokehJS is loading...\";\n",
              "    }\n",
              "    if (root.Bokeh !== undefined) {\n",
              "      if (el != null) {\n",
              "        el.textContent = \"BokehJS \" + root.Bokeh.version + \" successfully loaded.\";\n",
              "      }\n",
              "    } else if (Date.now() < root._bokeh_timeout) {\n",
              "      setTimeout(display_loaded, 100)\n",
              "    }\n",
              "  }\n",
              "\n",
              "\n",
              "  function run_callbacks() {\n",
              "    try {\n",
              "      root._bokeh_onload_callbacks.forEach(function(callback) {\n",
              "        if (callback != null)\n",
              "          callback();\n",
              "      });\n",
              "    } finally {\n",
              "      delete root._bokeh_onload_callbacks\n",
              "    }\n",
              "    console.debug(\"Bokeh: all callbacks have finished\");\n",
              "  }\n",
              "\n",
              "  function load_libs(css_urls, js_urls, callback) {\n",
              "    if (css_urls == null) css_urls = [];\n",
              "    if (js_urls == null) js_urls = [];\n",
              "\n",
              "    root._bokeh_onload_callbacks.push(callback);\n",
              "    if (root._bokeh_is_loading > 0) {\n",
              "      console.debug(\"Bokeh: BokehJS is being loaded, scheduling callback at\", now());\n",
              "      return null;\n",
              "    }\n",
              "    if (js_urls == null || js_urls.length === 0) {\n",
              "      run_callbacks();\n",
              "      return null;\n",
              "    }\n",
              "    console.debug(\"Bokeh: BokehJS not loaded, scheduling load and callback at\", now());\n",
              "    root._bokeh_is_loading = css_urls.length + js_urls.length;\n",
              "\n",
              "    function on_load() {\n",
              "      root._bokeh_is_loading--;\n",
              "      if (root._bokeh_is_loading === 0) {\n",
              "        console.debug(\"Bokeh: all BokehJS libraries/stylesheets loaded\");\n",
              "        run_callbacks()\n",
              "      }\n",
              "    }\n",
              "\n",
              "    function on_error() {\n",
              "      console.error(\"failed to load \" + url);\n",
              "    }\n",
              "\n",
              "    for (var i = 0; i < css_urls.length; i++) {\n",
              "      var url = css_urls[i];\n",
              "      const element = document.createElement(\"link\");\n",
              "      element.onload = on_load;\n",
              "      element.onerror = on_error;\n",
              "      element.rel = \"stylesheet\";\n",
              "      element.type = \"text/css\";\n",
              "      element.href = url;\n",
              "      console.debug(\"Bokeh: injecting link tag for BokehJS stylesheet: \", url);\n",
              "      document.body.appendChild(element);\n",
              "    }\n",
              "\n",
              "    const hashes = {\"https://cdn.bokeh.org/bokeh/release/bokeh-2.1.1.min.js\": \"kLr4fYcqcSpbuI95brIH3vnnYCquzzSxHPU6XGQCIkQRGJwhg0StNbj1eegrHs12\", \"https://cdn.bokeh.org/bokeh/release/bokeh-widgets-2.1.1.min.js\": \"xIGPmVtaOm+z0BqfSOMn4lOR6ciex448GIKG4eE61LsAvmGj48XcMQZtKcE/UXZe\", \"https://cdn.bokeh.org/bokeh/release/bokeh-tables-2.1.1.min.js\": \"Dc9u1wF/0zApGIWoBbH77iWEHtdmkuYWG839Uzmv8y8yBLXebjO9ZnERsde5Ln/P\", \"https://cdn.bokeh.org/bokeh/release/bokeh-gl-2.1.1.min.js\": \"cT9JaBz7GiRXdENrJLZNSC6eMNF3nh3fa5fTF51Svp+ukxPdwcU5kGXGPBgDCa2j\"};\n",
              "\n",
              "    for (var i = 0; i < js_urls.length; i++) {\n",
              "      var url = js_urls[i];\n",
              "      var element = document.createElement('script');\n",
              "      element.onload = on_load;\n",
              "      element.onerror = on_error;\n",
              "      element.async = false;\n",
              "      element.src = url;\n",
              "      if (url in hashes) {\n",
              "        element.crossOrigin = \"anonymous\";\n",
              "        element.integrity = \"sha384-\" + hashes[url];\n",
              "      }\n",
              "      console.debug(\"Bokeh: injecting script tag for BokehJS library: \", url);\n",
              "      document.head.appendChild(element);\n",
              "    }\n",
              "  };\n",
              "\n",
              "  function inject_raw_css(css) {\n",
              "    const element = document.createElement(\"style\");\n",
              "    element.appendChild(document.createTextNode(css));\n",
              "    document.body.appendChild(element);\n",
              "  }\n",
              "\n",
              "  \n",
              "  var js_urls = [\"https://cdn.bokeh.org/bokeh/release/bokeh-2.1.1.min.js\", \"https://cdn.bokeh.org/bokeh/release/bokeh-widgets-2.1.1.min.js\", \"https://cdn.bokeh.org/bokeh/release/bokeh-tables-2.1.1.min.js\", \"https://cdn.bokeh.org/bokeh/release/bokeh-gl-2.1.1.min.js\"];\n",
              "  var css_urls = [];\n",
              "  \n",
              "\n",
              "  var inline_js = [\n",
              "    function(Bokeh) {\n",
              "      Bokeh.set_log_level(\"info\");\n",
              "    },\n",
              "    function(Bokeh) {\n",
              "    \n",
              "    \n",
              "    }\n",
              "  ];\n",
              "\n",
              "  function run_inline_js() {\n",
              "    \n",
              "    if (root.Bokeh !== undefined || force === true) {\n",
              "      \n",
              "    for (var i = 0; i < inline_js.length; i++) {\n",
              "      inline_js[i].call(root, root.Bokeh);\n",
              "    }\n",
              "    } else if (Date.now() < root._bokeh_timeout) {\n",
              "      setTimeout(run_inline_js, 100);\n",
              "    } else if (!root._bokeh_failed_load) {\n",
              "      console.log(\"Bokeh: BokehJS failed to load within specified timeout.\");\n",
              "      root._bokeh_failed_load = true;\n",
              "    } else if (force !== true) {\n",
              "      var cell = $(document.getElementById(null)).parents('.cell').data().cell;\n",
              "      cell.output_area.append_execute_result(NB_LOAD_WARNING)\n",
              "    }\n",
              "\n",
              "  }\n",
              "\n",
              "  if (root._bokeh_is_loading === 0) {\n",
              "    console.debug(\"Bokeh: BokehJS loaded, going straight to plotting\");\n",
              "    run_inline_js();\n",
              "  } else {\n",
              "    load_libs(css_urls, js_urls, function() {\n",
              "      console.debug(\"Bokeh: BokehJS plotting callback run at\", now());\n",
              "      run_inline_js();\n",
              "    });\n",
              "  }\n",
              "}(window));"
            ],
            "application/vnd.bokehjs_load.v0+json": "\n(function(root) {\n  function now() {\n    return new Date();\n  }\n\n  var force = true;\n\n  if (typeof root._bokeh_onload_callbacks === \"undefined\" || force === true) {\n    root._bokeh_onload_callbacks = [];\n    root._bokeh_is_loading = undefined;\n  }\n\n  \n\n  \n  if (typeof (root._bokeh_timeout) === \"undefined\" || force === true) {\n    root._bokeh_timeout = Date.now() + 5000;\n    root._bokeh_failed_load = false;\n  }\n\n  var NB_LOAD_WARNING = {'data': {'text/html':\n     \"<div style='background-color: #fdd'>\\n\"+\n     \"<p>\\n\"+\n     \"BokehJS does not appear to have successfully loaded. If loading BokehJS from CDN, this \\n\"+\n     \"may be due to a slow or bad network connection. Possible fixes:\\n\"+\n     \"</p>\\n\"+\n     \"<ul>\\n\"+\n     \"<li>re-rerun `output_notebook()` to attempt to load from CDN again, or</li>\\n\"+\n     \"<li>use INLINE resources instead, as so:</li>\\n\"+\n     \"</ul>\\n\"+\n     \"<code>\\n\"+\n     \"from bokeh.resources import INLINE\\n\"+\n     \"output_notebook(resources=INLINE)\\n\"+\n     \"</code>\\n\"+\n     \"</div>\"}};\n\n  function display_loaded() {\n    var el = document.getElementById(null);\n    if (el != null) {\n      el.textContent = \"BokehJS is loading...\";\n    }\n    if (root.Bokeh !== undefined) {\n      if (el != null) {\n        el.textContent = \"BokehJS \" + root.Bokeh.version + \" successfully loaded.\";\n      }\n    } else if (Date.now() < root._bokeh_timeout) {\n      setTimeout(display_loaded, 100)\n    }\n  }\n\n\n  function run_callbacks() {\n    try {\n      root._bokeh_onload_callbacks.forEach(function(callback) {\n        if (callback != null)\n          callback();\n      });\n    } finally {\n      delete root._bokeh_onload_callbacks\n    }\n    console.debug(\"Bokeh: all callbacks have finished\");\n  }\n\n  function load_libs(css_urls, js_urls, callback) {\n    if (css_urls == null) css_urls = [];\n    if (js_urls == null) js_urls = [];\n\n    root._bokeh_onload_callbacks.push(callback);\n    if (root._bokeh_is_loading > 0) {\n      console.debug(\"Bokeh: BokehJS is being loaded, scheduling callback at\", now());\n      return null;\n    }\n    if (js_urls == null || js_urls.length === 0) {\n      run_callbacks();\n      return null;\n    }\n    console.debug(\"Bokeh: BokehJS not loaded, scheduling load and callback at\", now());\n    root._bokeh_is_loading = css_urls.length + js_urls.length;\n\n    function on_load() {\n      root._bokeh_is_loading--;\n      if (root._bokeh_is_loading === 0) {\n        console.debug(\"Bokeh: all BokehJS libraries/stylesheets loaded\");\n        run_callbacks()\n      }\n    }\n\n    function on_error() {\n      console.error(\"failed to load \" + url);\n    }\n\n    for (var i = 0; i < css_urls.length; i++) {\n      var url = css_urls[i];\n      const element = document.createElement(\"link\");\n      element.onload = on_load;\n      element.onerror = on_error;\n      element.rel = \"stylesheet\";\n      element.type = \"text/css\";\n      element.href = url;\n      console.debug(\"Bokeh: injecting link tag for BokehJS stylesheet: \", url);\n      document.body.appendChild(element);\n    }\n\n    const hashes = {\"https://cdn.bokeh.org/bokeh/release/bokeh-2.1.1.min.js\": \"kLr4fYcqcSpbuI95brIH3vnnYCquzzSxHPU6XGQCIkQRGJwhg0StNbj1eegrHs12\", \"https://cdn.bokeh.org/bokeh/release/bokeh-widgets-2.1.1.min.js\": \"xIGPmVtaOm+z0BqfSOMn4lOR6ciex448GIKG4eE61LsAvmGj48XcMQZtKcE/UXZe\", \"https://cdn.bokeh.org/bokeh/release/bokeh-tables-2.1.1.min.js\": \"Dc9u1wF/0zApGIWoBbH77iWEHtdmkuYWG839Uzmv8y8yBLXebjO9ZnERsde5Ln/P\", \"https://cdn.bokeh.org/bokeh/release/bokeh-gl-2.1.1.min.js\": \"cT9JaBz7GiRXdENrJLZNSC6eMNF3nh3fa5fTF51Svp+ukxPdwcU5kGXGPBgDCa2j\"};\n\n    for (var i = 0; i < js_urls.length; i++) {\n      var url = js_urls[i];\n      var element = document.createElement('script');\n      element.onload = on_load;\n      element.onerror = on_error;\n      element.async = false;\n      element.src = url;\n      if (url in hashes) {\n        element.crossOrigin = \"anonymous\";\n        element.integrity = \"sha384-\" + hashes[url];\n      }\n      console.debug(\"Bokeh: injecting script tag for BokehJS library: \", url);\n      document.head.appendChild(element);\n    }\n  };\n\n  function inject_raw_css(css) {\n    const element = document.createElement(\"style\");\n    element.appendChild(document.createTextNode(css));\n    document.body.appendChild(element);\n  }\n\n  \n  var js_urls = [\"https://cdn.bokeh.org/bokeh/release/bokeh-2.1.1.min.js\", \"https://cdn.bokeh.org/bokeh/release/bokeh-widgets-2.1.1.min.js\", \"https://cdn.bokeh.org/bokeh/release/bokeh-tables-2.1.1.min.js\", \"https://cdn.bokeh.org/bokeh/release/bokeh-gl-2.1.1.min.js\"];\n  var css_urls = [];\n  \n\n  var inline_js = [\n    function(Bokeh) {\n      Bokeh.set_log_level(\"info\");\n    },\n    function(Bokeh) {\n    \n    \n    }\n  ];\n\n  function run_inline_js() {\n    \n    if (root.Bokeh !== undefined || force === true) {\n      \n    for (var i = 0; i < inline_js.length; i++) {\n      inline_js[i].call(root, root.Bokeh);\n    }\n    } else if (Date.now() < root._bokeh_timeout) {\n      setTimeout(run_inline_js, 100);\n    } else if (!root._bokeh_failed_load) {\n      console.log(\"Bokeh: BokehJS failed to load within specified timeout.\");\n      root._bokeh_failed_load = true;\n    } else if (force !== true) {\n      var cell = $(document.getElementById(null)).parents('.cell').data().cell;\n      cell.output_area.append_execute_result(NB_LOAD_WARNING)\n    }\n\n  }\n\n  if (root._bokeh_is_loading === 0) {\n    console.debug(\"Bokeh: BokehJS loaded, going straight to plotting\");\n    run_inline_js();\n  } else {\n    load_libs(css_urls, js_urls, function() {\n      console.debug(\"Bokeh: BokehJS plotting callback run at\", now());\n      run_inline_js();\n    });\n  }\n}(window));"
          },
          "metadata": {
            "tags": []
          }
        },
        {
          "output_type": "display_data",
          "data": {
            "text/html": [
              "\n",
              "\n",
              "\n",
              "\n",
              "\n",
              "\n",
              "  <div class=\"bk-root\" id=\"b4657033-3487-4e06-ab46-e0c5907dc7ee\" data-root-id=\"1622\"></div>\n"
            ]
          },
          "metadata": {
            "tags": []
          }
        },
        {
          "output_type": "display_data",
          "data": {
            "application/javascript": [
              "(function(root) {\n",
              "  function embed_document(root) {\n",
              "    \n",
              "  var docs_json = {\"05a5f524-59b6-4b76-9515-8a6f23aa3510\":{\"roots\":{\"references\":[{\"attributes\":{\"below\":[{\"id\":\"1631\"}],\"center\":[{\"id\":\"1634\"},{\"id\":\"1638\"}],\"left\":[{\"id\":\"1635\"}],\"plot_height\":400,\"renderers\":[{\"id\":\"1656\"}],\"title\":{\"id\":\"1705\"},\"toolbar\":{\"id\":\"1646\"},\"x_range\":{\"id\":\"1623\"},\"x_scale\":{\"id\":\"1627\"},\"y_range\":{\"id\":\"1625\"},\"y_scale\":{\"id\":\"1629\"}},\"id\":\"1622\",\"subtype\":\"Figure\",\"type\":\"Plot\"},{\"attributes\":{},\"id\":\"1623\",\"type\":\"DataRange1d\"},{\"attributes\":{\"callback\":null,\"tooltips\":[[\"phrase\",\"@phrase\"]]},\"id\":\"1658\",\"type\":\"HoverTool\"},{\"attributes\":{},\"id\":\"1632\",\"type\":\"BasicTicker\"},{\"attributes\":{},\"id\":\"1627\",\"type\":\"LinearScale\"},{\"attributes\":{},\"id\":\"1642\",\"type\":\"SaveTool\"},{\"attributes\":{},\"id\":\"1640\",\"type\":\"WheelZoomTool\"},{\"attributes\":{\"text\":\"\"},\"id\":\"1705\",\"type\":\"Title\"},{\"attributes\":{\"source\":{\"id\":\"1621\"}},\"id\":\"1657\",\"type\":\"CDSView\"},{\"attributes\":{},\"id\":\"1711\",\"type\":\"UnionRenderers\"},{\"attributes\":{},\"id\":\"1644\",\"type\":\"HelpTool\"},{\"attributes\":{\"overlay\":{\"id\":\"1645\"}},\"id\":\"1641\",\"type\":\"BoxZoomTool\"},{\"attributes\":{\"axis\":{\"id\":\"1635\"},\"dimension\":1,\"ticker\":null},\"id\":\"1638\",\"type\":\"Grid\"},{\"attributes\":{\"formatter\":{\"id\":\"1707\"},\"ticker\":{\"id\":\"1632\"}},\"id\":\"1631\",\"type\":\"LinearAxis\"},{\"attributes\":{\"fill_alpha\":{\"value\":0.1},\"fill_color\":{\"field\":\"color\"},\"line_alpha\":{\"value\":0.1},\"line_color\":{\"field\":\"color\"},\"size\":{\"units\":\"screen\",\"value\":20},\"x\":{\"field\":\"x\"},\"y\":{\"field\":\"y\"}},\"id\":\"1655\",\"type\":\"Scatter\"},{\"attributes\":{},\"id\":\"1707\",\"type\":\"BasicTickFormatter\"},{\"attributes\":{},\"id\":\"1625\",\"type\":\"DataRange1d\"},{\"attributes\":{},\"id\":\"1712\",\"type\":\"Selection\"},{\"attributes\":{},\"id\":\"1639\",\"type\":\"PanTool\"},{\"attributes\":{\"formatter\":{\"id\":\"1709\"},\"ticker\":{\"id\":\"1636\"}},\"id\":\"1635\",\"type\":\"LinearAxis\"},{\"attributes\":{\"fill_alpha\":{\"value\":0.25},\"fill_color\":{\"field\":\"color\"},\"line_alpha\":{\"value\":0.25},\"line_color\":{\"field\":\"color\"},\"size\":{\"units\":\"screen\",\"value\":20},\"x\":{\"field\":\"x\"},\"y\":{\"field\":\"y\"}},\"id\":\"1654\",\"type\":\"Scatter\"},{\"attributes\":{},\"id\":\"1629\",\"type\":\"LinearScale\"},{\"attributes\":{},\"id\":\"1709\",\"type\":\"BasicTickFormatter\"},{\"attributes\":{},\"id\":\"1636\",\"type\":\"BasicTicker\"},{\"attributes\":{\"bottom_units\":\"screen\",\"fill_alpha\":0.5,\"fill_color\":\"lightgrey\",\"left_units\":\"screen\",\"level\":\"overlay\",\"line_alpha\":1.0,\"line_color\":\"black\",\"line_dash\":[4,4],\"line_width\":2,\"right_units\":\"screen\",\"top_units\":\"screen\"},\"id\":\"1645\",\"type\":\"BoxAnnotation\"},{\"attributes\":{},\"id\":\"1643\",\"type\":\"ResetTool\"},{\"attributes\":{\"data_source\":{\"id\":\"1621\"},\"glyph\":{\"id\":\"1654\"},\"hover_glyph\":null,\"muted_glyph\":null,\"nonselection_glyph\":{\"id\":\"1655\"},\"selection_glyph\":null,\"view\":{\"id\":\"1657\"}},\"id\":\"1656\",\"type\":\"GlyphRenderer\"},{\"attributes\":{\"axis\":{\"id\":\"1631\"},\"ticker\":null},\"id\":\"1634\",\"type\":\"Grid\"},{\"attributes\":{\"data\":{\"color\":[\"blue\",\"blue\",\"blue\",\"blue\",\"blue\",\"blue\",\"blue\",\"blue\",\"blue\",\"blue\",\"blue\",\"blue\",\"blue\",\"blue\",\"blue\",\"blue\",\"blue\",\"blue\",\"blue\",\"blue\",\"blue\",\"blue\",\"blue\",\"blue\",\"blue\",\"blue\",\"blue\",\"blue\",\"blue\",\"blue\",\"blue\",\"blue\",\"blue\",\"blue\",\"blue\",\"blue\",\"blue\",\"blue\",\"blue\",\"blue\",\"blue\",\"blue\",\"blue\",\"blue\",\"blue\",\"blue\",\"blue\",\"blue\",\"blue\",\"blue\",\"blue\",\"blue\",\"blue\",\"blue\",\"blue\",\"blue\",\"blue\",\"blue\",\"blue\",\"blue\",\"blue\",\"blue\",\"blue\",\"blue\",\"blue\",\"blue\",\"blue\",\"blue\",\"blue\",\"blue\",\"blue\",\"blue\",\"blue\",\"blue\",\"blue\",\"blue\",\"blue\",\"blue\",\"blue\",\"blue\",\"blue\",\"blue\",\"blue\",\"blue\",\"blue\",\"blue\",\"blue\",\"blue\",\"blue\",\"blue\",\"blue\",\"blue\",\"blue\",\"blue\",\"blue\",\"blue\",\"blue\",\"blue\",\"blue\",\"blue\",\"blue\",\"blue\",\"blue\",\"blue\",\"blue\",\"blue\",\"blue\",\"blue\",\"blue\",\"blue\",\"blue\",\"blue\",\"blue\",\"blue\",\"blue\",\"blue\",\"blue\",\"blue\",\"blue\",\"blue\",\"blue\",\"blue\",\"blue\",\"blue\",\"blue\",\"blue\",\"blue\",\"blue\",\"blue\",\"blue\",\"blue\",\"blue\",\"blue\",\"blue\",\"blue\",\"blue\",\"blue\",\"blue\",\"blue\",\"blue\",\"blue\",\"blue\",\"blue\",\"blue\",\"blue\",\"blue\",\"blue\",\"blue\",\"blue\",\"blue\",\"blue\",\"blue\",\"blue\",\"blue\",\"blue\",\"blue\",\"blue\",\"blue\",\"blue\",\"blue\",\"blue\",\"blue\",\"blue\",\"blue\",\"blue\",\"blue\",\"blue\",\"blue\",\"blue\",\"blue\",\"blue\",\"blue\",\"blue\",\"blue\",\"blue\",\"blue\",\"blue\",\"blue\",\"blue\",\"blue\",\"blue\",\"blue\",\"blue\",\"blue\",\"blue\",\"blue\",\"blue\",\"blue\",\"blue\",\"blue\",\"blue\",\"blue\",\"blue\",\"blue\",\"blue\",\"blue\",\"blue\",\"blue\",\"blue\",\"blue\",\"blue\",\"blue\",\"blue\",\"blue\",\"blue\",\"blue\",\"blue\",\"blue\",\"blue\",\"blue\",\"blue\",\"blue\",\"blue\",\"blue\",\"blue\",\"blue\",\"blue\",\"blue\",\"blue\",\"blue\",\"blue\",\"blue\",\"blue\",\"blue\",\"blue\",\"blue\",\"blue\",\"blue\",\"blue\",\"blue\",\"blue\",\"blue\",\"blue\",\"blue\",\"blue\",\"blue\",\"blue\",\"blue\",\"blue\",\"blue\",\"blue\",\"blue\",\"blue\",\"blue\",\"blue\",\"blue\",\"blue\",\"blue\",\"blue\",\"blue\",\"blue\",\"blue\",\"blue\",\"blue\",\"blue\",\"blue\",\"blue\",\"blue\",\"blue\",\"blue\",\"blue\",\"blue\",\"blue\",\"blue\",\"blue\",\"blue\",\"blue\",\"blue\",\"blue\",\"blue\",\"blue\",\"blue\",\"blue\",\"blue\",\"blue\",\"blue\",\"blue\",\"blue\",\"blue\",\"blue\",\"blue\",\"blue\",\"blue\",\"blue\",\"blue\",\"blue\",\"blue\",\"blue\",\"blue\",\"blue\",\"blue\",\"blue\",\"blue\",\"blue\",\"blue\",\"blue\",\"blue\",\"blue\",\"blue\",\"blue\",\"blue\",\"blue\",\"blue\",\"blue\",\"blue\",\"blue\",\"blue\",\"blue\",\"blue\",\"blue\",\"blue\",\"blue\",\"blue\",\"blue\",\"blue\",\"blue\",\"blue\",\"blue\",\"blue\",\"blue\",\"blue\",\"blue\",\"blue\",\"blue\",\"blue\",\"blue\",\"blue\",\"blue\",\"blue\",\"blue\",\"blue\",\"blue\",\"blue\",\"blue\",\"blue\",\"blue\",\"blue\",\"blue\",\"blue\",\"blue\",\"blue\",\"blue\",\"blue\",\"blue\",\"blue\",\"blue\",\"blue\",\"blue\",\"blue\",\"blue\",\"blue\",\"blue\",\"blue\",\"blue\",\"blue\",\"blue\",\"blue\",\"blue\",\"blue\",\"blue\",\"blue\",\"blue\",\"blue\",\"blue\",\"blue\",\"blue\",\"blue\",\"blue\",\"blue\",\"blue\",\"blue\",\"blue\",\"blue\",\"blue\",\"blue\",\"blue\",\"blue\",\"blue\",\"blue\",\"blue\",\"blue\",\"blue\",\"blue\",\"blue\",\"blue\",\"blue\",\"blue\",\"blue\",\"blue\",\"blue\",\"blue\",\"blue\",\"blue\",\"blue\",\"blue\",\"blue\",\"blue\",\"blue\",\"blue\",\"blue\",\"blue\",\"blue\",\"blue\",\"blue\",\"blue\",\"blue\",\"blue\",\"blue\",\"blue\",\"blue\",\"blue\",\"blue\",\"blue\",\"blue\",\"blue\",\"blue\",\"blue\",\"blue\",\"blue\",\"blue\",\"blue\",\"blue\",\"blue\",\"blue\",\"blue\",\"blue\",\"blue\",\"blue\",\"blue\",\"blue\",\"blue\",\"blue\",\"blue\",\"blue\",\"blue\",\"blue\",\"blue\",\"blue\",\"blue\",\"blue\",\"blue\",\"blue\",\"blue\",\"blue\",\"blue\",\"blue\",\"blue\",\"blue\",\"blue\",\"blue\",\"blue\",\"blue\",\"blue\",\"blue\",\"blue\",\"blue\",\"blue\",\"blue\",\"blue\",\"blue\",\"blue\",\"blue\",\"blue\",\"blue\",\"blue\",\"blue\",\"blue\",\"blue\",\"blue\",\"blue\",\"blue\",\"blue\",\"blue\",\"blue\",\"blue\",\"blue\",\"blue\",\"blue\",\"blue\",\"blue\",\"blue\",\"blue\",\"blue\",\"blue\",\"blue\",\"blue\",\"blue\",\"blue\",\"blue\",\"blue\",\"blue\",\"blue\",\"blue\",\"blue\",\"blue\",\"blue\",\"blue\",\"blue\",\"blue\",\"blue\",\"blue\",\"blue\",\"blue\",\"blue\",\"blue\",\"blue\",\"blue\",\"blue\",\"blue\",\"blue\",\"blue\",\"blue\",\"blue\",\"blue\",\"blue\",\"blue\",\"blue\",\"blue\",\"blue\",\"blue\",\"blue\",\"blue\",\"blue\",\"blue\",\"blue\",\"blue\",\"blue\",\"blue\",\"blue\",\"blue\",\"blue\",\"blue\",\"blue\",\"blue\",\"blue\",\"blue\",\"blue\",\"blue\",\"blue\",\"blue\",\"blue\",\"blue\",\"blue\",\"blue\",\"blue\",\"blue\",\"blue\",\"blue\",\"blue\",\"blue\",\"blue\",\"blue\",\"blue\",\"blue\",\"blue\",\"blue\",\"blue\",\"blue\",\"blue\",\"blue\",\"blue\",\"blue\",\"blue\",\"blue\",\"blue\",\"blue\",\"blue\",\"blue\",\"blue\",\"blue\",\"blue\",\"blue\",\"blue\",\"blue\",\"blue\",\"blue\",\"blue\",\"blue\",\"blue\",\"blue\",\"blue\",\"blue\",\"blue\",\"blue\",\"blue\",\"blue\",\"blue\",\"blue\",\"blue\",\"blue\",\"blue\",\"blue\",\"blue\",\"blue\",\"blue\",\"blue\",\"blue\",\"blue\",\"blue\",\"blue\",\"blue\",\"blue\",\"blue\",\"blue\",\"blue\",\"blue\",\"blue\",\"blue\",\"blue\",\"blue\",\"blue\",\"blue\",\"blue\",\"blue\",\"blue\",\"blue\",\"blue\",\"blue\",\"blue\",\"blue\",\"blue\",\"blue\",\"blue\",\"blue\",\"blue\",\"blue\",\"blue\",\"blue\",\"blue\",\"blue\",\"blue\",\"blue\",\"blue\",\"blue\",\"blue\",\"blue\",\"blue\",\"blue\",\"blue\",\"blue\",\"blue\",\"blue\",\"blue\",\"blue\",\"blue\",\"blue\",\"blue\",\"blue\",\"blue\",\"blue\",\"blue\",\"blue\",\"blue\",\"blue\",\"blue\",\"blue\",\"blue\",\"blue\",\"blue\",\"blue\",\"blue\",\"blue\",\"blue\",\"blue\",\"blue\",\"blue\",\"blue\",\"blue\",\"blue\",\"blue\",\"blue\",\"blue\",\"blue\",\"blue\",\"blue\",\"blue\",\"blue\",\"blue\",\"blue\",\"blue\",\"blue\",\"blue\",\"blue\",\"blue\",\"blue\",\"blue\",\"blue\",\"blue\",\"blue\",\"blue\",\"blue\",\"blue\",\"blue\",\"blue\",\"blue\",\"blue\",\"blue\",\"blue\",\"blue\",\"blue\",\"blue\",\"blue\",\"blue\",\"blue\",\"blue\",\"blue\",\"blue\",\"blue\",\"blue\",\"blue\",\"blue\",\"blue\",\"blue\",\"blue\",\"blue\",\"blue\",\"blue\",\"blue\",\"blue\",\"blue\",\"blue\",\"blue\",\"blue\",\"blue\",\"blue\",\"blue\",\"blue\",\"blue\",\"blue\",\"blue\",\"blue\",\"blue\",\"blue\",\"blue\",\"blue\",\"blue\",\"blue\",\"blue\",\"blue\",\"blue\",\"blue\",\"blue\",\"blue\",\"blue\",\"blue\",\"blue\",\"blue\",\"blue\",\"blue\",\"blue\",\"blue\",\"blue\",\"blue\",\"blue\",\"blue\",\"blue\",\"blue\",\"blue\",\"blue\",\"blue\",\"blue\",\"blue\",\"blue\",\"blue\",\"blue\",\"blue\",\"blue\",\"blue\",\"blue\",\"blue\",\"blue\",\"blue\",\"blue\",\"blue\",\"blue\",\"blue\",\"blue\",\"blue\",\"blue\",\"blue\",\"blue\",\"blue\",\"blue\",\"blue\",\"blue\",\"blue\",\"blue\",\"blue\",\"blue\",\"blue\",\"blue\",\"blue\",\"blue\",\"blue\",\"blue\",\"blue\",\"blue\",\"blue\",\"blue\",\"blue\",\"blue\",\"blue\",\"blue\",\"blue\",\"blue\",\"blue\",\"blue\",\"blue\",\"blue\",\"blue\",\"blue\",\"blue\",\"blue\",\"blue\",\"blue\",\"blue\",\"blue\",\"blue\",\"blue\",\"blue\",\"blue\",\"blue\",\"blue\",\"blue\",\"blue\",\"blue\",\"blue\",\"blue\",\"blue\",\"blue\",\"blue\",\"blue\",\"blue\",\"blue\",\"blue\",\"blue\",\"blue\",\"blue\",\"blue\",\"blue\",\"blue\",\"blue\",\"blue\",\"blue\",\"blue\",\"blue\",\"blue\",\"blue\",\"blue\",\"blue\",\"blue\",\"blue\",\"blue\",\"blue\",\"blue\",\"blue\",\"blue\",\"blue\",\"blue\",\"blue\",\"blue\",\"blue\",\"blue\",\"blue\",\"blue\",\"blue\",\"blue\",\"blue\",\"blue\",\"blue\",\"blue\",\"blue\",\"blue\",\"blue\",\"blue\",\"blue\",\"blue\",\"blue\",\"blue\",\"blue\",\"blue\",\"blue\",\"blue\",\"blue\",\"blue\",\"blue\",\"blue\",\"blue\",\"blue\",\"blue\",\"blue\",\"blue\",\"blue\",\"blue\",\"blue\",\"blue\",\"blue\",\"blue\",\"blue\",\"blue\",\"blue\",\"blue\",\"blue\",\"blue\",\"blue\",\"blue\",\"blue\",\"blue\",\"blue\",\"blue\",\"blue\",\"blue\",\"blue\",\"blue\",\"blue\",\"blue\",\"blue\",\"blue\",\"blue\",\"blue\",\"blue\",\"blue\",\"blue\",\"blue\",\"blue\",\"blue\",\"blue\",\"blue\",\"blue\",\"blue\",\"blue\",\"blue\",\"blue\",\"blue\",\"blue\",\"blue\",\"blue\",\"blue\",\"blue\",\"blue\",\"blue\",\"blue\",\"blue\",\"blue\",\"blue\",\"blue\",\"blue\",\"blue\",\"blue\",\"blue\",\"blue\",\"blue\",\"blue\",\"blue\",\"blue\",\"blue\",\"blue\",\"blue\",\"blue\",\"blue\",\"blue\",\"blue\",\"blue\",\"blue\",\"blue\",\"blue\",\"blue\",\"blue\",\"blue\",\"blue\",\"blue\",\"blue\",\"blue\",\"blue\",\"blue\",\"blue\",\"blue\",\"blue\",\"blue\",\"blue\",\"blue\",\"blue\",\"blue\",\"blue\",\"blue\",\"blue\",\"blue\",\"blue\",\"blue\",\"blue\",\"blue\",\"blue\",\"blue\",\"blue\",\"blue\",\"blue\",\"blue\",\"blue\",\"blue\",\"blue\",\"blue\"],\"phrase\":[\"Can I get back with my ex even though she is pregn\",\"What is the best way to become an arms dealer in t\",\"Why doesn't Japan contribute to peace and prosperi\",\"Which is the best Panasonic air conditioner servic\",\"What did ancient Egyptians believe about the after\",\"How does one prepare for the RBI grade B officers \",\"Which institutions in Kolkata give coaching for en\",\"Will omar bravo be in fifa 17?\\n\",\"What are the pros and cons of arranged marriages?\\n\",\"What will happen if all the vegetable dies?\\n\",\"Why do people hate hypocrites?\\n\",\"What do you consider poor, middle class, wealthy a\",\"How do I concentrate on my studies?\\n\",\"What is new age psychobabble?\\n\",\"How can you tell if your man is cheating even if h\",\"Can you see yourself during lucid dreaming?\\n\",\"Which browser is most safe in terms of privacy and\",\"Can Google Assistant run on OnePlus 3T?\\n\",\"Apart from the VW Vento / Polo and Skoda Rapid, ar\",\"What is Panera Bread?\\n\",\"Do athletes live longer and healthier? If not, why\",\"Could a pitbull take on a wolf in a fight?\\n\",\"What has Obama done for Latinos/Hispanics?\\n\",\"How much is |x|^2?\\n\",\"How does operator.com work?\\n\",\"Why do people not make movies/talk about the Romas\",\"What were the major contributions of the political\",\"Company Secretaries (CS): How do I prepare for CS \",\"What are the job prospects of chemical engineers a\",\"I have never gone to a bank. How do I put money in\",\"What is the best strategy to prepare for the GATE \",\"Who is this porn star?\\n\",\"Why are specs & sunglasses so expensive?\\n\",\"I installed the movie torrent with Ultra XVid Code\",\"Can we ride scootry with learning lisence age of 1\",\"Two cards were drawn, without replacement, from a \",\"How much money is needed per month to live in indi\",\"Why do companies issue bonus shares?\\n\",\"Why are Iranians and Afghans considered white Amer\",\"Could mumps cause deafness?\\n\",\"What is meaning of sadaka?\\n\",\"What should I know before starting a YouTube caree\",\"Is the ITI College Principal is gazetted officer?\\n\",\"How do you feel now that Donald Trump is now the P\",\"What is the difference between imperial units and \",\"What is the easiest way to do effective self hypno\",\"Why has China increased its involvement in the Syr\",\"From which year CBSE class 10th exam be reintroduc\",\"Is 1080p a Blu-ray?\\n\",\"Does using mirrors to concentrate thermal energy d\",\"How do I avoid attractions by phones?\\n\",\"What are some of the effects of education can you \",\"What are the characteristics of a Pisces Sun/Libra\",\"What is the most cost-effective option to ship pac\",\"Are red and blue complementary colors?\\n\",\"Is it possible to make a material that is a superc\",\"What is the best Shonen Jump manga?\\n\",\"Are Oracle and Cisco good companies for a new grad\",\"If lighting a match is considered a chemical chang\",\"Why is Hillary so afraid of Putin?\\n\",\"Which is the best book to study electronics basics\",\"What are the basics I should know before learning \",\"Can I use Cph4 on a day to day basis?\\n\",\"Is it safe when I buy things from China?\\n\",\"Why did some ethnic minorities support Brexit?\\n\",\"How much money has tinder made?\\n\",\"What is the limit?\\n\",\"Will browsing Facebook while connected to Tor reve\",\"If I get 68.4 percent in ftre 2016 class 10 then w\",\"No product market fit: change product or market fi\",\"What makes you sad about India?\\n\",\"How do I know if someone has read my messages on w\",\"Why there is a sound when we crack our knuckles?\\n\",\"Why do I only make friends with guys?\\n\",\"What is 'open-mindedness'?\\n\",\"What is the cause of carpal tunnel syndrome?\\n\",\"What is the difference between a \\\"slow cooker\\\" and\",\"What is Hillary Clinton's stance on nuclear energy\",\"Do IIT colleges require a caste validity for an ST\",\"How do I listen a song from you?\\n\",\"Why do so many Iranians immigrate to Canada?\\n\",\"What will happen to India-U.S. relations after Tru\",\"A program that stored five words in the memory the\",\"What are ways of joining to ISRO as engineer other\",\"Can Magneto defeat Hulk?\\n\",\"What time of year is it best to visit Singapore?\\n\",\"How do I study for ib?\\n\",\"What should I do if someone doesn't reply to my em\",\"How much does Manveer Singh Phogat gets for Dangal\",\"What is it like to be cannibal?\\n\",\"How can the Android app development companies help\",\"Who would you say is the most fun person in Israel\",\"How can one improve her figure and butt size witho\",\"As a company that provides travel agencies and tou\",\"What is the most beautiful thing you saw today?\\n\",\"Is gay flirting good?\\n\",\"Can I use Stripe in Europe?\\n\",\"Will Britain leaving the European Union lead to th\",\"Why are so many East Asian immigrants so averse to\",\"Why do we need computer networking?\\n\",\"What is retina detachment?\\n\",\"Why don't more bars have mechanical bulls?\\n\",\"How do I get better understanding of C++?\\n\",\"Which is the most profitable Porsche US dealer?\\n\",\"What are the best over the ear headphones for abou\",\"Is it true that the first kill is the hardest?\\n\",\"Which is best 32 inch led tv to buy below 20,000 I\",\"I am scoring 130/506 in FiitJEE aits part test adv\",\"What kind of websites are missing from the Interne\",\"What is the best way to use free time at IITB?\\n\",\"Is it possible for me to buy my first company usin\",\"What should I do to have sex with as many women as\",\"What is the scope of Executive MBA in India?\\n\",\"Which BMW models do not have a Hofmeister Kink?\\n\",\"What is yellow journalism?\\n\",\"Why do doctors charge uninsured patients 10 times \",\"Which one is the best public sector job or private\",\"Will social media ever help to spur on the US youn\",\"How should I know a video is 360 degree?\\n\",\"Is a practice manual sufficient for the CA Final I\",\"Career Advice: Being an Indian college student, ho\",\"What are the advantages and disadvantages of Li-Fi\",\"On Snapchat, I deleted someone. Can they re-add me\",\"Are there any cereals that taste good with water?\\n\",\"Why does a woman's vagina push a mans penis out?\\n\",\"What is the British word for bullpen?\\n\",\"How hard is it for international students to get a\",\"How did Revan build his foundation of his army in \",\"What is the best way to read a fictional book? Do \",\"How do you replace a ignition lock cylinder?\\n\",\"How can I prevent business failure?\\n\",\"How often do tides occur? What causes it?\\n\",\"How do I learn Calculus on my own?\\n\",\"What is the reason for Priyanka Gandhi not changin\",\"What should I eat when I'm sick with a cold or flu\",\"What is a Business Intelligence Analyst?\\n\",\"Which sports should I start to play to paticipate \",\"How should I prepare for Java fresher interview?\\n\",\"How different are cuisines of Arab countries?\\n\",\"What is the meaning of the phrase, all is fair in \",\"Why does Quora send me a notification that my ques\",\"What are the hardest obstacles to breaking into a \",\"What makes a falling snowflake large (or not)?\\n\",\"What is the compensation for Partners/Principals a\",\"What is the difference between an array and a vect\",\"If you kiss the NC State wolf do you become an NC \",\"Is it boring (from a social perspective) to live i\",\"What would have happened if in 1971 war all 93000 \",\"What are the easiest things to do while being abro\",\"Does getting root canal cause problem in speaking \",\"What is the definition of a truncated sentence and\",\"Would I look good with a nose ring? if yes which n\",\"What are the perks of working in Amazon?\\n\",\"How can we say that climate change does not bring \",\"What it is like to meet \\\"Shahid Kapoor\\\"?\\n\",\"How does it feel when you are dead?\\n\",\"Which is the best juicer, grinder or mixer in Indi\",\"How do I learn to think more logically?\\n\",\"Which movie has the best beginning ever?\\n\",\"Which laws been enacted to prevent family members \",\"What is iPhone 6s plus cost present?\\n\",\"What is Ohm's law and amperage I?\\n\",\"What is the nicest thing a stranger has done for y\",\"Why do some heroic people who do good things choos\",\"How will Hindus react if Babri Masjid is reconstru\",\"R2I - How did you plan R2I from US if you own the \",\"How can I master C programming in 7 days?\\n\",\"What is the right way to clean ear wax?\\n\",\"What are some good games to play during class?\\n\",\"Is it possible to hack WhatsApp messenger?\\n\",\"Why do airplanes carry more weight than helicopter\",\"Shaving: Do electric shavers work better than manu\",\"Has anyone benefited, health-wise, from essential \",\"Can Students at Hogwarts have sex while there? Doe\",\"How can we enhance our efficiency with Yoga?\\n\",\"What are the best app review sites and blogs?\\n\",\"Can two companies be registered on the same addres\",\"Is it true that as per Indian law, one can't be ha\",\"Who would win in a war between Bangladesh and Myan\",\"How do you reply when someone thanks you for forgi\",\"Who would win a fight between wolverine and Batman\",\"What is one thing you wish for yourself in the fut\",\"Can you cry underwater?\\n\",\"What's the difference between SSL, TLS, and HTTPS?\",\"Why are antigravity muscles more affected in Upper\",\"In order to buy a house, does one have to rent fir\",\"What is the probability of choosing a pink ball fr\",\"Which is the best car to get under 8 lakhs?\\n\",\"Why isn't China's role in the Korean and Vietnam w\",\"What is the Laplace transform of t^(1/2) * e^ (-1/\",\"To those who told a big lie to their parents and t\",\"What is runtime polymorphism or dynamic method dis\",\"I had sex 5 days after my period, what are the cha\",\"How would you describe yourself in one tweet?\\n\",\"How do fairy tales influence creativity in humans?\",\"How do I add delay() and sound() in Dev-C++?\\n\",\"What is the pathophysiology of ADHD?\\n\",\"What are the top benefits of life insurance polici\",\"Can I get a TV from Bang & Olufsen for under $2500\",\"How is the life of an ece student at dayananda sag\",\"What is meditation?\\n\",\"Were the Ancient Greeks scientists, or just philos\",\"How does Google authenticator work?\\n\",\"Wouldn't it be better if kids were allowed to focu\",\"Can you apply for a certificate on Coursera/edX af\",\"Why do Quora engineers use large monitors?\\n\",\"How do I start an online clothing business?\\n\",\"How will the government meet the challenges of acc\",\"I saw a charge on my credit card under from a comp\",\"What is the difference between socialization and r\",\"How would the world be different if everyone spoke\",\"Who receives the fares in a cab service?\\n\",\"As a non-resident alien doing a summer internship \",\"Which is the best camera smartphone under 20k?\\n\",\"What does it mean to dream about someone before th\",\"What are the subjects in which I can apply for my \",\"What are the basics of Jainism?\\n\",\"What is the Difference between existential nihilis\",\"How can I see my girlfriend's WhatsApp chat messag\",\"What are some ways to enjoy sex with my newly marr\",\"How can I study the Bible?\\n\",\"How can someone be a friend, girlfriend, wife and \",\"What are the Snapchat usernames of punjabi celebri\",\"What is 1/2 times 1/2?\\n\",\"Where does the word restaurant come from and what \",\"What can I do with a computational linguistics deg\",\"Will trump win as president?\\n\",\"What impact will AI eventually have on how we plan\",\"Why is eating too unhealthy?\\n\",\"What if the Syrian civil war never happened?\\n\",\"How do the teachings, learning, followership and/o\",\"Did you ever been in a group of stupid people?\\n\",\"What are the multiple types of social issues?\\n\",\"Where can I find beginner NodeJS tutorials that us\",\"If I got a 7.4 CGPA in the SA1 10 class, then can \",\"Which the best time table for 10th class exams pre\",\"Elite Escorts in DHA Lahore?\\n\",\"My ex bf says he doesn't have feelings for me righ\",\"What are the questions in the interview for a fres\",\"What do you think are some of benefits to humans f\",\"Which one is the best medical college hostel in in\",\"Have you lived in a tiny house?\\n\",\"What are some things new employees should know goi\",\"Where can I hire high pressure cleaning service in\",\"How many Bollywood Actresses consume alcohol in re\",\"How does PayU earn money?\\n\",\"Is it possible to change your personality as a chi\",\"How do I apply to London School of Economics as an\",\"How do I build a profile to get accepted into a st\",\"How can I get real ghost stories?\\n\",\"Is it possible to hack NASA's New Horizons satelli\",\"What is the best way of getting good at answering \",\"How would you deal with jerks?\\n\",\"How can I do internship in Accenture India?\\n\",\"Why would an Indian girl not want to get married?\\n\",\"My WhatsApp chat backup got deleted from Google, I\",\"Is going to college really worth it or just a wast\",\"How many prophets did God send to the Jews?\\n\",\"What is the relation and difference between Artifi\",\"If you don\\u2019t have a good network, what would be th\",\"What are the best place to visit in Rio de Janeiro\",\"Which is the best college for PG in Cyber Security\",\"Which are the best English serials?\\n\",\"How do you say \\u201cWhat\\u2019s up?\\u201d in Chinese?\\n\",\"Is it bad to take expired fish oil pills because t\",\"Will there ever be a genuine Authoritarian candida\",\"Is World War III on its way right now?\\n\",\"How can you use time formats in Excel?\\n\",\"What is the best antivirus for Windows 8?\\n\",\"Why do people like Metal/Hard rock so much?\\n\",\"What are the worst smelling things in the world?\\n\",\"Could someone explain the following electives at N\",\"What's a funny thing?\\n\",\"What are the main reason of cracks?\\n\",\"How do I hitchhike in Europe?\\n\",\"What is the physical significance of quantum mecha\",\"How do we get dead people off business junk mail l\",\"Who among the four in the picture given in descrip\",\"How do I know if I authentically, genuinely, hones\",\"On average, how long does it take a letter mail fr\",\"When will One Piece have episode 517 dubbed?\\n\",\"What should I do if I fell in love with my best fr\",\"How do criminal lawyers sleep at night even when t\",\"Can I get refund for Tatkal e-ticket because train\",\"How can I buy the new Macbook 12\\\" M7 512GB model i\",\"What are the different e-governance methods used b\",\"How do I run smoother GTA V? I have intel core i3 \",\"What is the use of tanpura?\\n\",\"What are the Snapchat usernames of celebrities?\\n\",\"Which is better- cracking gate and going for IIT/i\",\"Can you lose weight without exercising?\\n\",\"What is the best way to make life more interesting\",\"Is Delhi a must for UPSC coaching?\\n\",\"Which are the best colleges for electronics and in\",\"I have been a .Net developer for over 2 years and \",\"Has a smartphone ever been taken to space? If yes \",\"What questions should I ask my boyfriend, we are b\",\"How do I delete a contact blocked in WhatsApp?\\n\",\"Is it a good time to buy real estate in Cyprus?\\n\",\"South India: Why is South India much more develope\",\"What is the formula for a hydrocarbon?\\n\",\"What if an alien comes and tells us that the physi\",\"What are the pros & cons of democracy?\\n\",\"I'm 16 years old and wanted to lose weight and bod\",\"Can I add more peers to the torrent for max speed \",\"What are the best neighborhoods to Airbnb in Chica\",\"What we will get in mahabalipuram beach sunrise or\",\"How fast can you accelerate to the speed of light?\",\"What is the difference between R-squared and Adjus\",\"How many times can women reach orgasm in a hour an\",\"Why didn't Johor, Batam & Singapore integrate more\",\"Which products are more profitable in online sell?\",\"How do I get rid of muscle?\\n\",\"What is the process of directing and casting child\",\"Is the 7th pay commission needed?\\n\",\"What are the best games that are compatible on a C\",\"What was the significance of the battle of Somme, \",\"How do you see Pakistan PM Nawaz Sharif's speech a\",\"Where can I publish my apps?\\n\",\"What was your darkest moment?\\n\",\"Why does the UK have an unwritten Constitution?\\n\",\"What are the necessary steps in documenting a mobi\",\"Why was life created? Why was life so painful?\\n\",\"How can I use explainer video to review products o\",\"What is difference between residue and error?\\n\",\"If 6.5 to 8.5 will be the safe level of pH value i\",\"I am 23 and don't know what I want. My life is ver\",\"What are your three favorite websites for reading?\",\"Why do people choose to be a GAY?\\n\",\"What is the process of death?\\n\",\"Why does light red deserve the special name \\\"pink\\\"\",\"Who are millennials?\\n\",\"What it's like doing CA articleship from Big 4s?\\n\",\"What is the most important right or freedom guaran\",\"Why do some porn stars have unprotected sex?\\n\",\"What are my reasons to live?\\n\",\"How small would a planet need to be to plainly see\",\"Some religion speaks of burning in hell after deat\",\"What does it feel like to be an IITian?\\n\",\"How does cognitive behavioural therapy work?\\n\",\"Why should you visit India?\\n\",\"I lost my Google account information. How can I re\",\"What if I port a number from Airtel to Vodafone in\",\"What are the reasons why time travel is impossible\",\"Will my iPhone alarm still go off if \\\"Do Not Distu\",\"Did South Korea cheat during the 2014 Asian Games?\",\"Take the minimum lethal volume of a gaz, put it in\",\"\\\"How to improve Project Management skills?\\\"\\n\",\"When you were small, did you ever think that your \",\"Where did the pointy \\\"S\\\" symbol come from?\\n\",\"How does it feels like to have a rich boyfriend?\\n\",\"What have you used your intelligence for?\\n\",\"What is a freewheeling diode?\\n\",\"How do we derive pi?\\n\",\"What is the importance of communication skills in \",\"How can I put icons on YouTube video titles? Also \",\"What does the phrase \\\"resonate with me\\\" mean?\\n\",\"How many types do we have of Manual testing?\\n\",\"What are IBAN numbers?\\n\",\"What is regret?\\n\",\"As a student specializing in English language, lit\",\"What is the corporate culture like at Corning? How\",\"How can I convert jazz standards to jazz guitar so\",\"How good was the surgical strike by Indian Army on\",\"What recipes are most conducive to romance?\\n\",\"What are the unknown facts about Tamil people whic\",\"Where do I find the most beautiful woman in the wo\",\"What does the grey phone icon mean on the messenge\",\"How do I share 360\\u00b0 photos on WhatsApp?\\n\",\"What is the difference between working stress meth\",\"What are the opportunities for an MBA in finance?\\n\",\"Can you patent clothing or fashion designs?\\n\",\"My in laws are apologists for Nazi war criminals a\",\"Which is the safest city in India for women?\\n\",\"What horse breed were commonly used during the \\\"Wi\",\"Is it weird to sometimes feel almost overwhelmed b\",\"Can anyone please list all the SAP SD topics a per\",\"In the filling of ibps application I put martial s\",\"In a restaurant, what are the different types of t\",\"Why does amir khan never go to any filmy awards fu\",\"What is a good inpatient drug and alcohol rehab ce\",\"Why does UV light cause contamination on optics, b\",\"How do I invest in mutual funds in India?\\n\",\"How comfortable are you with failure?\\n\",\"What skills are required to become a quant?\\n\",\"Why do startups announce fundraising?\\n\",\"What is your review of Amazon Video?\\n\",\"Why there is no team from Tamil nadu in pro kabbad\",\"How do I auto forward texts from my Verizon phone \",\"How do the Chinese people view Americans?\\n\",\"What is virgin or virginity?\\n\",\"What are the different ways of submitting a Reques\",\"Can a high school teacher legally force students t\",\"Why does water droplets form on the outer surface \",\"Which mammals have dark circles around eyes beside\",\"How do each components of a printer work?\\n\",\"What are some foods beginning with the letter W?\\n\",\"What are symptoms of a bad transmission control mo\",\"How do astronauts in ISS vote for Presidential ele\",\"What is the difference between Aim and Goal?\\n\",\"What is AT & C?\\n\",\"Who was Jackson Pollock? Was he mentally ill?\\n\",\"How do I make good vine edits?\\n\",\"How can I cut my penis?\\n\",\"How can I change my Quora profile photo?\\n\",\"My husband was here seeking asylum before we got m\",\"Is it good to use Laravel to develop a web app wit\",\"I have a mild sore throat an headache. What is tha\",\"When will a working nintendo 3DS emulator release \",\"What do we know about the health effects of vaping\",\"INSEAD: Worth the investment?\\n\",\"How is long rides in royal Enfield classic 350?\\n\",\"What famous boxers have participated on Dancing wi\",\"Will season 10 of Big Bang Theory be the final sea\",\"Can I crack KVPY (SX) with only three months left \",\"What are some little-known facts from World War II\",\"What is the most unique way of exam cheating you'v\",\"When was the last time a slam dunk broke a basketb\",\"What should I do for my excessive hair loss?\\n\",\"How do I find people's psychological weakness?\\n\",\"What is the difference between Awareness and Consc\",\"I hate everything that people around me like. Is i\",\"I think I am pretty good at thinking of a business\",\"How do you determine the thickness of a footing ba\",\"Why does vapours are formed when we pressurize alc\",\"Is it easy to adjust in German Universities withou\",\"What is UNIX and UNIX-like?\\n\",\"What is the best way to promote www.dorkyard.com?\\n\",\"What's up in Addis Abeba tonight?\\n\",\"Is there any point to going to college if you have\",\"How much would it cost to construct 800 sqft area \",\"What is an ideal wife? What is an ideal husband? W\",\"What information does port scanning provide?\\n\",\"What are the application of quasicrystals?\\n\",\"What is the determinant of the inverse of a matrix\",\"How is Brad Pitt in \\\"real Life\\\"?\\n\",\"I have a 3 yr bachelor's degree in Computer Scienc\",\"Demonetisation is good for county like India or no\",\"My parents think I am rude for being so introverte\",\"How many people have jumped off the Golden Gate br\",\"What are Osho's views on Islam?\\n\",\"Why does the government regulate health care?\\n\",\"Which phone has the best sound recording quality?\\n\",\"What is the best part of your life, and why is it \",\"Which is better hair wax or hair clay?\\n\",\"How do I charge my motorcycle battery?\\n\",\"What are the updates we get after miui 8.0.6.0?\\n\",\"Why does Robinhood need to bypass the App Store?\\n\",\"Which is a better route, Alipiri or Sri Vaari?\\n\",\"How much extra would it cost if Apple manufactured\",\"When will the next recession be?\\n\",\"What are some arguments in support of electing Don\",\"What does Russia want with Ukraine?\\n\",\"What is the difference between a recorder (block f\",\"What is the meaning of random number?\\n\",\"Which one is good for health: tea or coffee?\\n\",\"Is Texas good state for non-resident to register a\",\"What is kirchoff's law?\\n\",\"Is it wrong for a family member to keep making com\",\"My parents are forcing to marry a girl of their ch\",\"Which is better, Windows+Linux or OSX?\\n\",\"Why aren\\u2019t Christians that pray to/have a relation\",\"How much TDS will I have to pay for an RD account \",\"What is the meaning of thematic connection?\\n\",\"How should you prepare to take your maneuverabilit\",\"What are the best materials/videos/resources to ge\",\"Can a \\\"dirty\\\" finish be added back to jeans?\\n\",\"Why does my dog keep whining at night?\\n\",\"Is it bad to turn off my PC using the power button\",\"What is image processing?\\n\",\"I went to school with mostly black kids, they bull\",\"Does Donald Trump actually think he can become Pre\",\"Which are the 5 best movies you have ever seen?\\n\",\"How do I get traffic to excursions travel website?\",\"Where can I download the Android game Leo's Fortun\",\"How do I get more followers and upvotes on Quora?\\n\",\"What is a factory reset on a phone?\\n\",\"Which phone should I buy if my budget is 12000?\\n\",\"I have GPU implementation as a graduation project.\",\"What are the libertarian views on the Antarctic Tr\",\"What would the world be like if it were ruled by a\",\"How do you choose your first bank?\\n\",\"Who runs berkuliah.com?\\n\",\"What does Godel's incompleteness theorem mean for \",\"How do I delete a Gmail account?\\n\",\"If my ultimate goal is to become a vegan, should I\",\"Did the US win the war in Afghanistan?\\n\",\"How can I become a good engineering student?\\n\",\"What are some ways to increase intuition?\\n\",\"What causes depression in humans?\\n\",\"How can I control my anxiety and worries?\\n\",\"How can we jump in between the working regions of \",\"How do I stop loving someone who loves me?\\n\",\"Can personality and insecurity create a liar?\\n\",\"What is the best country and university to do a Ph\",\"How do I edit a video offline?\\n\",\"What is the rent of kiosk in an upscale mall?\\n\",\"What should I start reading if I want to attempt t\",\"Which is the best anti-virus for computers?\\n\",\"Does food unite people?\\n\",\"What do you like most about Internet?\\n\",\"What is a good model of federalism in the Philippi\",\"How do you know if a girl secretly loves you?\\n\",\"Who is the most annoying fictional character you h\",\"How do you feel when your question is unanswered o\",\"Did early humans know how babies were made?\\n\",\"If I cancel xfinity, how can I sign up as a new cu\",\"Are there any TV series similar to House MD?\\n\",\"What you need to know before buying furniture for \",\"Have you ever had a dream happen in reality?\\n\",\"Is dark matter just a scientific theory or has its\",\"How can you increase your tolerance for pain?\\n\",\"How many logical fallacies are there?\\n\",\"How do buttercream icing frosting separate?\\n\",\"Which is the cheapest cinema hall of India?\\n\",\"What do you think would be a good gre score?\\n\",\"What is the best way to update Xiaomi redmi 3 to M\",\"What does toe jam cheese taste like?\\n\",\"How do I know if a YouTube video is copyrighted?\\n\",\"How should I start a business reselling shoes?\\n\",\"How do I hire a mobile app development company?\\n\",\"What is paras pathar?\\n\",\"How is the word \\\"colony\\\" used in a sentence?\\n\",\"What is Rebecca Fugate known for?\\n\",\"What should I consider before starting my consulta\",\"Do you feel that many attractive women get away wi\",\"Why do I feel so much guilt for kissing a girl?\\n\",\"What are some good tutorials for learning Blender?\",\"Is it deceitful to befriend someone in the hopes t\",\"Who do you think BJP will put as a candidate for t\",\"Which protein supplement is best for gym to gain w\",\"What is your review of KVPY SX/SB 2016?\\n\",\"How do I get people's attention for my work?\\n\",\"What are some of your own personal stories and exp\",\"If salt concentration of the sea(3%) were differen\",\"What is the chemical name for mothballs? How was i\",\"Vitamin D receptors in the Testes?\\n\",\"How do I lose weight without working out?\\n\",\"Where can I watch anime?\\n\",\"What is BusyBox used for?\\n\",\"What would be a good desktop computer for software\",\"What are your top five favorite books and why?\\n\",\"What are some good Harry/Ginny fanfiction?\\n\",\"What are the pros and cons of having sex during pe\",\"Which device will you enjoy watching movies in: a \",\"Will there be \\\"faithless\\\" electors this election?\\n\",\"Is Donald Trump an undercover democrat?\\n\",\"Why am I the way I am?\\n\",\"Why do some women get their nipples pierced?\\n\",\"What do Delhi University girls (especially North C\",\"What is the name of this TV series?\\n\",\"My salary is below the Basic Exemption Limit, yet \",\"What is a foliated rock?\\n\",\"What are some of the best books to start learning \",\"How should I prepare for IIT-JEE 2018?\\n\",\"How do unions work?\\n\",\"Can we give neet coaching in class 11?\\n\",\"Which is the best dish TV connection in Hyderabad?\",\"How can you train a Doberman/Lab mix?\\n\",\"How do you reduce stress at work?\\n\",\"What is the best algorithm for finding the number \",\"How can I earn $250 in 2 months?\\n\",\"Why did GE buy NBC?\\n\",\"What is the highest level of c?\\n\",\"How do you mash potatoes without a masher? What el\",\"How difficult is it to learn Python?\\n\",\"How do you convert years into seconds?\\n\",\"How do you view bisexuality?\\n\",\"What is information technology? What are some exam\",\"Why are Altoids so strong?\\n\",\"How effective is email marketing?\\n\",\"Why does my tutor keep winding me up. He says he i\",\"How can I start my Tok essay which is about accura\",\"How do I repair my corrupt memory card?\\n\",\"I have 3 years to prepare for IIT JAM Physics. How\",\"What are the best Instagram hack tools that have n\",\"I am studing interior design. What are some good i\",\"What are some stupid jokes that make you laugh?\\n\",\"What are the factors affecting Real estate investm\",\"How can I get rid of white dry spot on my face? It\",\"What is it like to have an ugly wife/partner?\\n\",\"What do you love most about your life and why?\\n\",\"In the unlikely event that the Electoral College t\",\"How is life as an Engineer?\\n\",\"Where and why are the imaginary numbers used?\\n\",\"What are some good hypo-allergenic lipsticks?\\n\",\"Did the United Nations play a part in the divide o\",\"When and Why did America become a world power?\\n\",\"What are some recipes using Hormel Black Label Ham\",\"Which is the best company to invest shares on Nove\",\"The man I'm about 2 marry says when I have my peri\",\"What can be the best answer for why finance?\\n\",\"What are the best facts about the universe?\\n\",\"What's the sweetest thing you did for a bestfriend\",\"What is the difference between techno and trance m\",\"TV Sitcoms: Why do English comedy shows have peopl\",\"Does percentile system would affect neet 1 student\",\"Is there Uber in Valencia, Madrid and Barcelona?\\n\",\"Have real-life siblings ever shot intimate scenes \",\"How should I improve my writing skill for blogging\",\"Can cold weather affect a menstrual cycle?\\n\",\"How can we earn money online while studying?\\n\",\"Can a tablet keyboard be used on any kind of table\",\"What are the Upcoming development projects in Chha\",\"Where can I buy cheap Twitter followers?\\n\",\"Why do passengers from aircraft are not given a bu\",\"When should I tell my crush I like her?\\n\",\"Why does Pakistan have a better image and reputati\",\"What are Andrea Pirlo's strengths as a midfielder?\",\"From a point in space billions of light years away\",\"Will Medicaid pay for electrologist to do the shav\",\"Why do technical employees despise sales people so\",\"What are the best freelance websites for C#?\\n\",\"Will I be successful without educations?\\n\",\"How can I learn about cars?\\n\",\"What is the best question asked in an interview?\\n\",\"Why there is so much hatred against Brahmins in In\",\"How do I learn to enter journal entries online in \",\"Will CS be issuing a PR message for Boston?\\n\",\"Why do some people 'hate' drugs or people who ever\",\"How do I know my passion? What is my talent and wh\",\"How do pessimists and optimists differ?\\n\",\"How many pulleys did it take for Archimedes to lif\",\"What is the best course after 12th for a medical s\",\"What are the steps that I should follow to get in \",\"Where was the boston marathon?\\n\",\"What is it like to be in or around a bomb blast?\\n\",\"Will Trump destroy international US-companies thro\",\"Should celebrities have the right to voice their o\",\"Can I say that: \\\"A battery can be seem as a capaci\",\"What is it like to be an ENTP?\\n\",\"How do I start designing on glass?\\n\",\"What is the market risk premium formula?\\n\",\"How can I pay the parking meter if I have no coins\",\"Is it true that Obama has a secret son named \\\"Luth\",\"Which is the best coaching for IAS in up?\\n\",\"How big is the equity funding market in North Amer\",\"Which are the good government medical colleges in \",\"How do I control my hair fall?\\n\",\"Is it really worth creating Shopify themes?\\n\",\"What can cause knee pain? It only hurts when I sta\",\"Where can you find a list of common 9 letter words\",\"NSFW: Is this penis color normal or should I see a\",\"Why do most women remove the hair from their arm p\",\"Which processor is better (faster/more efficient),\",\"Which two statements are true regarding views in s\",\"What is the easiest and quickest Indian food recip\",\"What are the best local SEO companies in India?\\n\",\"How do I get rid of adult content on my Quora feed\",\"Can the zombie fungi attack humans as well?\\n\",\"If I wanted to learn about the Roman Empire,what w\",\"What are the key differences between LXDE and XFCE\",\"Can people see the sellers real name, e-mail addre\",\"Should I still watch The Matrix movie?\\n\",\"Is there any truth to the rumor that the youngest \",\"Is it ok that I don't want to hang out with my fam\",\"I am in class 9. If i want to crack IIT JEE, then \",\"Will Obama's gang stalking/surveillance program be\",\"What are some good songs to lyric text prank a fri\",\"Where can I get best quality video DJ for party in\",\"How long does it take for your hair to grow?\\n\",\"Should I update my Redmi 3s from MIUI 7 to MIUI 8?\",\"How do muscles work?\\n\",\"WHAT IS THE BEST ROUT FOR NEPAL PASUPATI NATH TEMP\",\"How to make a website similar to feedwiser.com in \",\"Why does India so scared of CPEC?\\n\",\"What did your first sex feel like as a girl?\\n\",\"In International ODI/T20 cricket matches, if a bat\",\"Why can humans feel acceleration, but not constant\",\"Can the Microsoft Surface Pro 4 run AutoCAD?\\n\",\"What are the differences between stock Crown Victo\",\"What are the good ways to download Lynda.com's tut\",\"How much is the average salary package for a 1.5 y\",\"How can you reduce the barriers of communication?\\n\",\"Why would someone use Instagram Stories over Snapc\",\"Whiskey: How many 'shots' are in a fifth of Jack D\",\"What might happen now that President-elect Donald \",\"How do I write a waiver letter for school?\\n\",\"I am interested in persuing ma industrial psycholo\",\"Does modafinil shows up on a drug test? Because my\",\"Is it possible to get high off Vyvanse?\\n\",\"Is an agnostic necessarily a skeptic, and how?\\n\",\"Where can I get best support in Sydney for buying \",\"What are the duties of a lieutenant in Indian army\",\"Why is smileys not used on Quora?\\n\",\"What does it feel like for a man when someone who \",\"How does post graduation permit impact .lets say I\",\"Online Payment Gateways and Processing: What is th\",\"What are the best books to learn c programing lang\",\"Solid State Physics: What is The Theory of Alloys?\",\"How do I fill in my first name in a PAN card dupli\",\"Why is egg yolk not good for you?\\n\",\"Anatomy of Female Pelvis: Do women really have an \",\"How much does it cost to develop mobile applicatio\",\"Who is the most honest Game of Thrones character?\\n\",\"What is a high quality Apple MacBook Air charger?\\n\",\"Where and how is the WWE championship belt made?\\n\",\"What is green communication?\\n\",\"I have been a good student since chiild hood but j\",\"I'm solving exercises of artificial neural network\",\"Compared to your own compensation, and in consider\",\"How can I keep browsing Quora forever?\\n\",\"Having built web stuff the old way (PHP/MySQL) bac\",\"Is our new currency note of Rs.2000 equipped with \",\"What's the best way to join a startup in DC?\\n\",\"What would happen if we added a second Earth of eq\",\"When will piracy on Android stop?\\n\",\"What do you mean by executive consultant and suppo\",\"Why do I always feel like I am missing something?\\n\",\"What does a user see when he/she gets a new messag\",\"How can I become a web developer?\\n\",\"Is there any good alternative softwares to Tally?\\n\",\"Would you have sex during period?\\n\",\"Are there prominent Bangladeshi Hindus?\\n\",\"I have registered for PhD (no NET) (phy) in 2013, \",\"I changed my name, but the person did a mistake. M\",\"At what age do your breasts stop growing?\\n\",\"How do I get a girl's phone number in a library?\\n\",\"I am into a habit of over thinking things. How do \",\"What is the average salary of a civil engineer?\\n\",\"What is the difference between rote learning vs me\",\"What are the ways to compete in the Olympics in 20\",\"What trivia (and/or little-known facts) do you fin\",\"Xiaomi Redmi note 3: Which is the best colour to b\",\"What does \\\" the Hadamard Perron theorem\\\" means?\\n\",\"Is there a way to see the viewing history and chat\",\"What is the best place for trekking in Goa?\\n\",\"How does an instant messenger work?\\n\",\"What are the disadvantages of the World Trade Orga\",\"Why does the US military not use AK series rifles?\",\"Does Moto m have gorilla glass?\\n\",\"What is the hierarchy of an associate consultant a\",\"What are some major landforms in Texas, and how do\",\"What other jobs can a medical degree holder do mea\",\"MY HP DEXTOP DOESNOT CONNECT WIFI WHY?\\n\",\"How can I get motivated to workout?\\n\",\"What should I gift it to my mom on her birthday?\\n\",\"Which is the best video you have ever seen?\\n\",\"I was selected in campus and was issued a joining \",\"What makes a poem a good way to express emotions? \",\"What would happen if I cut down a tree outside my \",\"Can you make money in Amway?\\n\",\"Body Weight: How many pounds can I gain every week\",\"What are the impacts (both positive & negative) of\",\"I forgot the password which I used to login n n lo\",\"What are the best websites for career?\\n\",\"What is your favourite episode of the office (USA)\",\"Why is time slower down near heavy objects?\\n\",\"How do l update any version after rooting the mobi\",\"Why is 3 am called the witching hour?\\n\",\"How do I run a shell script from Java code?\\n\",\"What are the advertising campaigns of 2011?\\n\",\"Should I opt for computer science if I don't take \",\"What are the polymers of protein?\\n\",\"How much better will the JWST be than Hubble?\\n\",\"What are the greatest examples of absence of mind?\",\"How can I understand the STOCK market from the bas\",\"How do I make Gazpacho?\\n\",\"What is the typical role of a brand manager?\\n\",\"Who are the top 5 hottest women ever?\\n\",\"What is the name of the game that Aamir Khan was r\",\"How long does it take to learn dance?\\n\",\"What's the funniest thing that's happened to you a\",\"Why are metals malleable and ductile?\\n\",\"List of national daily in India?\\n\",\"Are Volvos actually safer than comparable cars?\\n\",\"Can you tell who has been looking at your Instagra\",\"A ball dropped from the roof of a building takes 4\",\"What percentage of Hillary Clinton's supporters ha\",\"Do you think you are beautiful?\\n\",\"Which are the free email marketing tools?\\n\",\"What topic of discussion do people hate the most? \",\"What is the point in having hyper-politicised stud\",\"Why Steve Jobs is considered as innovator?\\n\",\"How long would it take an average programmer to wr\",\"Why are conservatives defending Holly Fisher? (see\",\"What is so important about Adam Smith's pin factor\",\"What is the Arizona bark scorpion, and how do anim\",\"How do I stop smoking cigarettes?\\n\",\"What are the functions of a computer's motherboard\",\"How can tea bags help for styes?\\n\",\"How can I get a patent for my really effective inn\",\"Can India ever become 'Sone Ki Chidiya' again?\\n\",\"Is there any way to play Android games LAN multipl\",\"Why should I ask my first question?\\n\",\"Who are the top writers on Hinduism on Quora? Who \",\"How do I wake up at 4:00 A.M.?\\n\",\"Why is Quora moderation collapsing all my answers?\",\"In an honest assessment, what do you think of Trum\",\"What type of bonding is present in a coordinate bo\",\"Is it possible to delete your Wikipedia account hi\",\"I'm a +2 CBSE non-medical student. Is there any pr\",\"Are there any limitations as to setting up a forei\",\"How will the drought in California affect its econ\",\"What is Informatica online training?\\n\",\"Is it compulsory for a Web designer and developer \",\"How could the US realistically pay off its debt?\\n\",\"Who is Barry Soetoro?\\n\",\"How do I solve [math]2x^3-x^2+11x+3=0[/math]?\\n\",\"What are some hobbies couples can do at home?\\n\",\"How have meerkats adapted to the desert?\\n\",\"What causes dizziness when you lay down?\\n\",\"What should one do after a civil engineering degre\",\"What are the advantages of hiring skip bins servic\",\"Why is it necessary that singers lip-sync?\\n\",\"How can I turn off the screen overlay detected on \",\"How do you clean or polish a pair of Woodland shoe\",\"What are some classes you wish you took in high sc\",\"What is the formula of [math](a+b)^3[/math]?\\n\",\"What is it like to commit yourself to a psychiatri\",\"Is there any way to slow or reverse the late effec\",\"What would the implications be if we discovered th\",\"Any other program to help on code contribution for\",\"What is the bond order of [math]H_2[/math]?\\n\",\"What is the best way to create a website without c\",\"What were some causes and effects of the French Re\",\"What are some catchy headlines for a dating site?\\n\",\"Should I get Company of Heroes, World in Conflict \",\"How do I remove a person from a group in Skype?\\n\",\"Why was Manmohan Singh briefed by PM Modi after su\",\"Does anybody want to learn Chinese?\\n\",\"Is Xiaomi going the Nokia way to oblivion?\\n\",\"Should I buy hp 17.3 AMD laptop or lenovo 17.3 i5 \",\"Which is better a government job or a software job\",\"How can the word \\\"credulity\\\" be used in a sentence\",\"Does uber track time on app?\\n\",\"How do I get over direct rejection?\\n\",\"How can any institute get an ISO certificate?\\n\",\"What are the best pranks?\\n\",\"Are non-solicit agreements enforceable if the pers\",\"Which phone is best in 2016 for a 18 years boy my \",\"What is the definition of an archetypal hero?\\n\",\"Why are some \\\"ugly\\\" people still very attractive?\\n\",\"What are the chances of Donald Trump's impeachment\",\"What would a society based on laws enforcing only \",\"What is the full form of \\\"veto\\\" power?\\n\",\"How much do people get paid to do a TED talk?\\n\",\"What does it mean to say \\\"enriching herself off of\",\"How can I be more persuasive at work?\\n\",\"What is the corporate culture like at National Bev\",\"What is the fastest way to get a PAN card?\\n\",\"Who will win in America presidential elections in \",\"How do I solve this differential problem?\\n\",\"How is Banjara's Saffron Facial Kit used?\\n\",\"How do you understand life?\\n\",\"Will an MS from NUS in electrical engineering prov\",\"How does one create a strong password? Any tips?\\n\",\"Who was the best dressed at the 2016 Emmy's?\\n\",\"What is the cost of manufacturing a SIM card?\\n\",\"Are you tolerant?\\n\",\"Is [math]\\\\{1,2,3\\\\}[/math] a compact subset of a me\",\"What kind of energy is involved in hearing and vis\",\"What happened with Lehman Brothers?\\n\",\"What is a good web page publisher?\\n\",\"Why does eating radishes cause diarrhea?\\n\",\"How do I encrypt the data on my Android phone?\\n\",\"If there were an Oscar for \\\"Best Line in a Movie\\\",\",\"Why are tyres black?\\n\",\"What is the best way to unlock a Motorola Droid Bi\",\"Is a $45 a month job worth the experience?\\n\",\"Should I settle in Canada or Japan?\\n\",\"How is the appraisal process in Accenture? How wil\",\"How does sand turn into glass?\\n\",\"What effect will increased automation of jobs and \",\"I am 25 years old Indian guy, want to settle in Ne\",\"What are some Raksha Bandhan gift suggestions for \",\"How do I write a multi-dimensional villain that is\",\"Why is there no nucleus in a red blood cell?\\n\",\"Why do Quora allow anonymous fake questions from A\",\"Is it possible to merge a foursquare venue into a \",\"How do I find out if I have Siri on my phone?\\n\",\"Why do I feel like I'm not living my life?\\n\",\"What will happen to global stock market if Donald \",\"What makes weeds grow so much faster and easier th\",\"Do people with extremely high IQ need higher sugar\",\"What should teaching assistants do?\\n\",\"Why is Perth one of the most liveable cities in th\",\"How do you get to the entrance for Resolution Cave\",\"How do I get involved in research as an undergradu\",\"If you have one option to remove anything, what wi\",\"What are the risk after angioplasty?\\n\",\"Why can't men read the signals women give off when\",\"How can a non-EU medical graduate get into residen\",\"How do I stay active?\\n\",\"I'm going to Paris. What is the equivalent \\\"neighb\",\"How do I get rid of dandruff, or at least prevent \",\"Is Medicaid going to pay for the electrologist for\",\"When Australia became a nation in 1901, Did aborig\",\"What is the difference between SSL and Sitelock?\\n\",\"What are some unsolved problems in deep machine le\",\"What's the difference between computer engineering\",\"Is it possible to get a decent job after completin\",\"What is the difference between MG & BG in railway \",\"How do I control an Arduino with a Raspberry Pi?\\n\",\"What is the best field to pursue MS after doing el\",\"What is the difference between Directx and graphic\",\"How do I wirelessly charge the electrical devices \",\"Can you upload Numbers sheets from iPad to Google \",\"What's the best movie franchise you have ever watc\",\"If light does not have mass, then how can it be ab\",\"Why is the book of Esther in the Bible?\\n\",\"What makes comic books worth reading?\\n\",\"What are the advantages of outsourcing property ma\",\"What is a Quora credit competition?\\n\",\"Are data analyst/data science jobs boring?\\n\",\"Why don't satellites crash into each other?\\n\",\"How do dermatologists remove blackheads?\\n\",\"How can I choose between my dad and my mom?\\n\",\"Can you really not change people?\\n\",\"Being a non believer of a spiritual entity, I have\",\"Is black coffee fattening? If so, what makes it fa\",\"The education system is outdated. What would you d\",\"Who are the founders of Quora?\\n\",\"What is it like to be a landlord?\\n\",\"How many stamps do I need to send a letter to germ\",\"My father just recently got married. His wife goes\",\"Which countries are best to migrate from the US?\\n\",\"Can any one tell me a basketball club in Bangalore\",\"How can Spotify download songs offline?\\n\",\"How do I make money online for free in Spain?\\n\",\"Why is Tornado Alley prone to tornadoes?\\n\",\"How does helium change the inhaler's voice?\\n\",\"What is a bedding ceremony in Game of Thrones?\\n\",\"What is it like living in former East Germany as a\",\"Did the USA or NATO commit any war crimes in Iraq?\",\"Why don't we capture terrorist and behead them?\\n\",\"What is your favorite quote (books, movies, people\",\"What mixes well with peach vodka?\\n\",\"Which Patanjali products contain cow urine?\\n\",\"Why are three phases denoted by RYB?\\n\",\"Where could I learn JavaScript online?\\n\",\"Is it appropriate to wear a sports bra simply to t\",\"What are the differences between Jenkins CI and Dr\",\"T right do you think we should be entitled to?\\n\",\"What was the public's reaction to Crystal Pepsi?\\n\",\"How can I crack MH-CET 2017 engineering by self-st\",\"What is the way to become a dental hygienist in th\",\"Why do solving math/statistics problems causes my \",\"Does your name sound as awkward to others as it so\",\"What is the proper format of writing formal-inform\",\"How does doc2vec represent feature vector of a doc\",\"Why are software development task estimations regu\",\"How can I set up molecular pathology lab?\\n\",\"How do I score a rank in CA - IPCC?\\n\",\"What are some examples of strong organic acids?\\n\",\"What can be a good hindi (indian) name for a tea b\",\"Is the Google host matching process different for \",\"Is Cuba considered part of Latin America?\\n\",\"Does the following script (\\u0256\\u2200\\u0f61\\u0632\\u2202 \\u0250\\u0167 \\u01ab\\u04bf\\u03de\\u026e\\u2609 \\u027d\\u03c6\\u0289\\u029b\\u0195), \",\"How can I increase my website's DA?\\n\",\"Is it normal to imagine having sex with other guy \",\"What is the percent purity (approx) of consumable \",\"Do soulmates just come walking into your life when\",\"If I use marijuana with my boyfriend, is there a p\",\"Can you analyze everything in soil?\\n\",\"What difference it would make if India Nuked and K\",\"What are the advantages of a dominant party system\",\"What were some things India did not do but takes c\",\"How many total women have accused Bill Clinton of \",\"Why do I wish some fictional characters existed?\\n\",\"Where can I find best hotel at Ranikhet?\\n\",\"How do I make good memes?\\n\",\"What are some of the common sayings or proverbs in\",\"What kind of writing style makes someone a \\\"dark w\",\"Are Trump and Hillary really the best America has \",\"How can I make my career in embedded system and ro\",\"Will adding a USB to VGA adapter always give an ex\",\"We will never be able to see our own faces with ou\",\"What are the ways you can stop a friend from pitch\",\"What is the average time for preparation of IAS?\\n\",\"How can I learn new things quickly?\\n\",\"What is the definition of political courage?\\n\",\"What makes death scary?\\n\",\"I'm really pretty but I don't want to be I hate th\",\"Is Assam Down Town University good?\\n\",\"How do the brain structures of bonobos change as t\",\"What's the biggest scam?\\n\",\"Does the US government have an alien flying saucer\",\"I need to gain weight, but I don't have abs. It's \",\"Why should I study Calculus?\\n\",\"Do you think your childhood contributed to your fi\",\"How does the Goods and Services Tax (GST) works?\\n\",\"Where can I download Cisco 500-285 exam dumps?\\n\",\"How do I can make a second nation in Cybernations \",\"Did Neil Armstrong really land on the moon?\\n\",\"Why is Devil any other than God head of state?\\n\",\"How do I stop being possessive over my girlfriend?\",\"How does Kongregate compute the statistics of adve\",\"Who is the best nuero physician at NIMHANS, Bangal\",\"What are nonprofit organizations?\\n\",\"I want to know the process of starting outbound ca\",\"Which are some of the best hotels to stay in Helsi\",\"What is good about Deloitte Chicago?\\n\",\"How do I recover data from a formatted hard drive?\",\"Could India and Pakistan unite again?\\n\",\"How often should I massage my face with Argan oil?\",\"How is psychodynamic therapy different from psycho\",\"What are some of Barack Obama's character traits?\\n\",\"Would it make sense to replace the B-52's 8 1960s \",\"Is it possible to bring forward my flight date of \",\"How can I learn marathons?\\n\"],\"x\":{\"__ndarray__\":\"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\",\"dtype\":\"float32\",\"order\":\"little\",\"shape\":[1001]},\"y\":{\"__ndarray__\":\"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\",\"dtype\":\"float32\",\"order\":\"little\",\"shape\":[1001]}},\"selected\":{\"id\":\"1712\"},\"selection_policy\":{\"id\":\"1711\"}},\"id\":\"1621\",\"type\":\"ColumnDataSource\"},{\"attributes\":{\"active_drag\":\"auto\",\"active_inspect\":\"auto\",\"active_multi\":null,\"active_scroll\":{\"id\":\"1640\"},\"active_tap\":\"auto\",\"tools\":[{\"id\":\"1639\"},{\"id\":\"1640\"},{\"id\":\"1641\"},{\"id\":\"1642\"},{\"id\":\"1643\"},{\"id\":\"1644\"},{\"id\":\"1658\"}]},\"id\":\"1646\",\"type\":\"Toolbar\"}],\"root_ids\":[\"1622\"]},\"title\":\"Bokeh Application\",\"version\":\"2.1.1\"}};\n",
              "  var render_items = [{\"docid\":\"05a5f524-59b6-4b76-9515-8a6f23aa3510\",\"root_ids\":[\"1622\"],\"roots\":{\"1622\":\"b4657033-3487-4e06-ab46-e0c5907dc7ee\"}}];\n",
              "  root.Bokeh.embed.embed_items_notebook(docs_json, render_items);\n",
              "\n",
              "  }\n",
              "  if (root.Bokeh !== undefined) {\n",
              "    embed_document(root);\n",
              "  } else {\n",
              "    var attempts = 0;\n",
              "    var timer = setInterval(function(root) {\n",
              "      if (root.Bokeh !== undefined) {\n",
              "        clearInterval(timer);\n",
              "        embed_document(root);\n",
              "      } else {\n",
              "        attempts++;\n",
              "        if (attempts > 100) {\n",
              "          clearInterval(timer);\n",
              "          console.log(\"Bokeh: ERROR: Unable to run BokehJS code because BokehJS library is missing\");\n",
              "        }\n",
              "      }\n",
              "    }, 10, root)\n",
              "  }\n",
              "})(window);"
            ],
            "application/vnd.bokehjs_exec.v0+json": ""
          },
          "metadata": {
            "tags": [],
            "application/vnd.bokehjs_exec.v0+json": {
              "id": "1622"
            }
          }
        },
        {
          "output_type": "execute_result",
          "data": {
            "text/html": [
              "<div style=\"display: table;\"><div style=\"display: table-row;\"><div style=\"display: table-cell;\"><b title=\"bokeh.plotting.figure.Figure\">Figure</b>(</div><div style=\"display: table-cell;\">id&nbsp;=&nbsp;'1622', <span id=\"1769\" style=\"cursor: pointer;\">&hellip;)</span></div></div><div class=\"1768\" style=\"display: none;\"><div style=\"display: table-cell;\"></div><div style=\"display: table-cell;\">above&nbsp;=&nbsp;[],</div></div><div class=\"1768\" style=\"display: none;\"><div style=\"display: table-cell;\"></div><div style=\"display: table-cell;\">align&nbsp;=&nbsp;'start',</div></div><div class=\"1768\" style=\"display: none;\"><div style=\"display: table-cell;\"></div><div style=\"display: table-cell;\">aspect_ratio&nbsp;=&nbsp;None,</div></div><div class=\"1768\" style=\"display: none;\"><div style=\"display: table-cell;\"></div><div style=\"display: table-cell;\">aspect_scale&nbsp;=&nbsp;1,</div></div><div class=\"1768\" style=\"display: none;\"><div style=\"display: table-cell;\"></div><div style=\"display: table-cell;\">background&nbsp;=&nbsp;None,</div></div><div class=\"1768\" style=\"display: none;\"><div style=\"display: table-cell;\"></div><div style=\"display: table-cell;\">background_fill_alpha&nbsp;=&nbsp;1.0,</div></div><div class=\"1768\" style=\"display: none;\"><div style=\"display: table-cell;\"></div><div style=\"display: table-cell;\">background_fill_color&nbsp;=&nbsp;'#ffffff',</div></div><div class=\"1768\" style=\"display: none;\"><div style=\"display: table-cell;\"></div><div style=\"display: table-cell;\">below&nbsp;=&nbsp;[LinearAxis(id='1631', ...)],</div></div><div class=\"1768\" style=\"display: none;\"><div style=\"display: table-cell;\"></div><div style=\"display: table-cell;\">border_fill_alpha&nbsp;=&nbsp;1.0,</div></div><div class=\"1768\" style=\"display: none;\"><div style=\"display: table-cell;\"></div><div style=\"display: table-cell;\">border_fill_color&nbsp;=&nbsp;'#ffffff',</div></div><div class=\"1768\" style=\"display: none;\"><div style=\"display: table-cell;\"></div><div style=\"display: table-cell;\">center&nbsp;=&nbsp;[Grid(id='1634', ...), Grid(id='1638', ...)],</div></div><div class=\"1768\" style=\"display: none;\"><div style=\"display: table-cell;\"></div><div style=\"display: table-cell;\">css_classes&nbsp;=&nbsp;[],</div></div><div class=\"1768\" style=\"display: none;\"><div style=\"display: table-cell;\"></div><div style=\"display: table-cell;\">disabled&nbsp;=&nbsp;False,</div></div><div class=\"1768\" style=\"display: none;\"><div style=\"display: table-cell;\"></div><div style=\"display: table-cell;\">extra_x_ranges&nbsp;=&nbsp;{},</div></div><div class=\"1768\" style=\"display: none;\"><div style=\"display: table-cell;\"></div><div style=\"display: table-cell;\">extra_y_ranges&nbsp;=&nbsp;{},</div></div><div class=\"1768\" style=\"display: none;\"><div style=\"display: table-cell;\"></div><div style=\"display: table-cell;\">frame_height&nbsp;=&nbsp;None,</div></div><div class=\"1768\" style=\"display: none;\"><div style=\"display: table-cell;\"></div><div style=\"display: table-cell;\">frame_width&nbsp;=&nbsp;None,</div></div><div class=\"1768\" style=\"display: none;\"><div style=\"display: table-cell;\"></div><div style=\"display: table-cell;\">height&nbsp;=&nbsp;None,</div></div><div class=\"1768\" style=\"display: none;\"><div style=\"display: table-cell;\"></div><div style=\"display: table-cell;\">height_policy&nbsp;=&nbsp;'auto',</div></div><div class=\"1768\" style=\"display: none;\"><div style=\"display: table-cell;\"></div><div style=\"display: table-cell;\">hidpi&nbsp;=&nbsp;True,</div></div><div class=\"1768\" style=\"display: none;\"><div style=\"display: table-cell;\"></div><div style=\"display: table-cell;\">js_event_callbacks&nbsp;=&nbsp;{},</div></div><div class=\"1768\" style=\"display: none;\"><div style=\"display: table-cell;\"></div><div style=\"display: table-cell;\">js_property_callbacks&nbsp;=&nbsp;{},</div></div><div class=\"1768\" style=\"display: none;\"><div style=\"display: table-cell;\"></div><div style=\"display: table-cell;\">left&nbsp;=&nbsp;[LinearAxis(id='1635', ...)],</div></div><div class=\"1768\" style=\"display: none;\"><div style=\"display: table-cell;\"></div><div style=\"display: table-cell;\">lod_factor&nbsp;=&nbsp;10,</div></div><div class=\"1768\" style=\"display: none;\"><div style=\"display: table-cell;\"></div><div style=\"display: table-cell;\">lod_interval&nbsp;=&nbsp;300,</div></div><div class=\"1768\" style=\"display: none;\"><div style=\"display: table-cell;\"></div><div style=\"display: table-cell;\">lod_threshold&nbsp;=&nbsp;2000,</div></div><div class=\"1768\" style=\"display: none;\"><div style=\"display: table-cell;\"></div><div style=\"display: table-cell;\">lod_timeout&nbsp;=&nbsp;500,</div></div><div class=\"1768\" style=\"display: none;\"><div style=\"display: table-cell;\"></div><div style=\"display: table-cell;\">margin&nbsp;=&nbsp;(0, 0, 0, 0),</div></div><div class=\"1768\" style=\"display: none;\"><div style=\"display: table-cell;\"></div><div style=\"display: table-cell;\">match_aspect&nbsp;=&nbsp;False,</div></div><div class=\"1768\" style=\"display: none;\"><div style=\"display: table-cell;\"></div><div style=\"display: table-cell;\">max_height&nbsp;=&nbsp;None,</div></div><div class=\"1768\" style=\"display: none;\"><div style=\"display: table-cell;\"></div><div style=\"display: table-cell;\">max_width&nbsp;=&nbsp;None,</div></div><div class=\"1768\" style=\"display: none;\"><div style=\"display: table-cell;\"></div><div style=\"display: table-cell;\">min_border&nbsp;=&nbsp;5,</div></div><div class=\"1768\" style=\"display: none;\"><div style=\"display: table-cell;\"></div><div style=\"display: table-cell;\">min_border_bottom&nbsp;=&nbsp;None,</div></div><div class=\"1768\" style=\"display: none;\"><div style=\"display: table-cell;\"></div><div style=\"display: table-cell;\">min_border_left&nbsp;=&nbsp;None,</div></div><div class=\"1768\" style=\"display: none;\"><div style=\"display: table-cell;\"></div><div style=\"display: table-cell;\">min_border_right&nbsp;=&nbsp;None,</div></div><div class=\"1768\" style=\"display: none;\"><div style=\"display: table-cell;\"></div><div style=\"display: table-cell;\">min_border_top&nbsp;=&nbsp;None,</div></div><div class=\"1768\" style=\"display: none;\"><div style=\"display: table-cell;\"></div><div style=\"display: table-cell;\">min_height&nbsp;=&nbsp;None,</div></div><div class=\"1768\" style=\"display: none;\"><div style=\"display: table-cell;\"></div><div style=\"display: table-cell;\">min_width&nbsp;=&nbsp;None,</div></div><div class=\"1768\" style=\"display: none;\"><div style=\"display: table-cell;\"></div><div style=\"display: table-cell;\">name&nbsp;=&nbsp;None,</div></div><div class=\"1768\" style=\"display: none;\"><div style=\"display: table-cell;\"></div><div style=\"display: table-cell;\">outline_line_alpha&nbsp;=&nbsp;1.0,</div></div><div class=\"1768\" style=\"display: none;\"><div style=\"display: table-cell;\"></div><div style=\"display: table-cell;\">outline_line_cap&nbsp;=&nbsp;'butt',</div></div><div class=\"1768\" style=\"display: none;\"><div style=\"display: table-cell;\"></div><div style=\"display: table-cell;\">outline_line_color&nbsp;=&nbsp;'#e5e5e5',</div></div><div class=\"1768\" style=\"display: none;\"><div style=\"display: table-cell;\"></div><div style=\"display: table-cell;\">outline_line_dash&nbsp;=&nbsp;[],</div></div><div class=\"1768\" style=\"display: none;\"><div style=\"display: table-cell;\"></div><div style=\"display: table-cell;\">outline_line_dash_offset&nbsp;=&nbsp;0,</div></div><div class=\"1768\" style=\"display: none;\"><div style=\"display: table-cell;\"></div><div style=\"display: table-cell;\">outline_line_join&nbsp;=&nbsp;'bevel',</div></div><div class=\"1768\" style=\"display: none;\"><div style=\"display: table-cell;\"></div><div style=\"display: table-cell;\">outline_line_width&nbsp;=&nbsp;1,</div></div><div class=\"1768\" style=\"display: none;\"><div style=\"display: table-cell;\"></div><div style=\"display: table-cell;\">output_backend&nbsp;=&nbsp;'canvas',</div></div><div class=\"1768\" style=\"display: none;\"><div style=\"display: table-cell;\"></div><div style=\"display: table-cell;\">plot_height&nbsp;=&nbsp;400,</div></div><div class=\"1768\" style=\"display: none;\"><div style=\"display: table-cell;\"></div><div style=\"display: table-cell;\">plot_width&nbsp;=&nbsp;600,</div></div><div class=\"1768\" style=\"display: none;\"><div style=\"display: table-cell;\"></div><div style=\"display: table-cell;\">renderers&nbsp;=&nbsp;[GlyphRenderer(id='1656', ...)],</div></div><div class=\"1768\" style=\"display: none;\"><div style=\"display: table-cell;\"></div><div style=\"display: table-cell;\">reset_policy&nbsp;=&nbsp;'standard',</div></div><div class=\"1768\" style=\"display: none;\"><div style=\"display: table-cell;\"></div><div style=\"display: table-cell;\">right&nbsp;=&nbsp;[],</div></div><div class=\"1768\" style=\"display: none;\"><div style=\"display: table-cell;\"></div><div style=\"display: table-cell;\">sizing_mode&nbsp;=&nbsp;None,</div></div><div class=\"1768\" style=\"display: none;\"><div style=\"display: table-cell;\"></div><div style=\"display: table-cell;\">subscribed_events&nbsp;=&nbsp;[],</div></div><div class=\"1768\" style=\"display: none;\"><div style=\"display: table-cell;\"></div><div style=\"display: table-cell;\">tags&nbsp;=&nbsp;[],</div></div><div class=\"1768\" style=\"display: none;\"><div style=\"display: table-cell;\"></div><div style=\"display: table-cell;\">title&nbsp;=&nbsp;Title(id='1705', ...),</div></div><div class=\"1768\" style=\"display: none;\"><div style=\"display: table-cell;\"></div><div style=\"display: table-cell;\">title_location&nbsp;=&nbsp;'above',</div></div><div class=\"1768\" style=\"display: none;\"><div style=\"display: table-cell;\"></div><div style=\"display: table-cell;\">toolbar&nbsp;=&nbsp;Toolbar(id='1646', ...),</div></div><div class=\"1768\" style=\"display: none;\"><div style=\"display: table-cell;\"></div><div style=\"display: table-cell;\">toolbar_location&nbsp;=&nbsp;'right',</div></div><div class=\"1768\" style=\"display: none;\"><div style=\"display: table-cell;\"></div><div style=\"display: table-cell;\">toolbar_sticky&nbsp;=&nbsp;True,</div></div><div class=\"1768\" style=\"display: none;\"><div style=\"display: table-cell;\"></div><div style=\"display: table-cell;\">visible&nbsp;=&nbsp;True,</div></div><div class=\"1768\" style=\"display: none;\"><div style=\"display: table-cell;\"></div><div style=\"display: table-cell;\">width&nbsp;=&nbsp;None,</div></div><div class=\"1768\" style=\"display: none;\"><div style=\"display: table-cell;\"></div><div style=\"display: table-cell;\">width_policy&nbsp;=&nbsp;'auto',</div></div><div class=\"1768\" style=\"display: none;\"><div style=\"display: table-cell;\"></div><div style=\"display: table-cell;\">x_range&nbsp;=&nbsp;DataRange1d(id='1623', ...),</div></div><div class=\"1768\" style=\"display: none;\"><div style=\"display: table-cell;\"></div><div style=\"display: table-cell;\">x_scale&nbsp;=&nbsp;LinearScale(id='1627', ...),</div></div><div class=\"1768\" style=\"display: none;\"><div style=\"display: table-cell;\"></div><div style=\"display: table-cell;\">y_range&nbsp;=&nbsp;DataRange1d(id='1625', ...),</div></div><div class=\"1768\" style=\"display: none;\"><div style=\"display: table-cell;\"></div><div style=\"display: table-cell;\">y_scale&nbsp;=&nbsp;LinearScale(id='1629', ...))</div></div></div>\n",
              "<script>\n",
              "(function() {\n",
              "  var expanded = false;\n",
              "  var ellipsis = document.getElementById(\"1769\");\n",
              "  ellipsis.addEventListener(\"click\", function() {\n",
              "    var rows = document.getElementsByClassName(\"1768\");\n",
              "    for (var i = 0; i < rows.length; i++) {\n",
              "      var el = rows[i];\n",
              "      el.style.display = expanded ? \"none\" : \"table-row\";\n",
              "    }\n",
              "    ellipsis.innerHTML = expanded ? \"&hellip;)\" : \"&lsaquo;&lsaquo;&lsaquo;\";\n",
              "    expanded = !expanded;\n",
              "  });\n",
              "})();\n",
              "</script>\n"
            ],
            "text/plain": [
              "Figure(id='1622', ...)"
            ]
          },
          "metadata": {
            "tags": []
          },
          "execution_count": 83
        }
      ]
    },
    {
      "cell_type": "markdown",
      "metadata": {
        "id": "WOo3mUGLmLpR"
      },
      "source": [
        "Finally, let's build a simple \"similar question\" engine with phrase embeddings we've built."
      ]
    },
    {
      "cell_type": "code",
      "metadata": {
        "collapsed": true,
        "id": "mXb8qhRkmLpS"
      },
      "source": [
        "# compute vector embedding for all lines in data\n",
        "data_vectors = np.array([get_phrase_embedding(l) for l in data])"
      ],
      "execution_count": 84,
      "outputs": []
    },
    {
      "cell_type": "code",
      "metadata": {
        "id": "K4THoZzLrvCp"
      },
      "source": [
        " def find_knn(model, vectors, texts, query, k=10):\n",
        "\n",
        "     query = get_phrase_embedding(model, query)\n",
        "     cossims = np.matmul(vectors, query)\n",
        "     norms = np.sqrt((query**2).sum() * (vectors**2).sum(axis=1))\n",
        "     cossims = cossims/norms\n",
        "\n",
        "     result_i = np.argpartition(-cossims, range(k))[0:k]\n",
        "     results = [texts[i] for i in result_i]\n",
        "     return results"
      ],
      "execution_count": null,
      "outputs": []
    },
    {
      "cell_type": "code",
      "metadata": {
        "collapsed": true,
        "id": "i0siEAILmLpS"
      },
      "source": [
        "def find_nearest(query, k=10):\n",
        "    \"\"\"\n",
        "    given text line (query), return k most similar lines from data, sorted from most to least similar\n",
        "    similarity should be measured as cosine between query and line embedding vectors\n",
        "    hint: it's okay to use global variables: data and data_vectors. see also: np.argpartition, np.argsort\n",
        "    \"\"\"\n",
        "    # YOUR CODE\n",
        "    query_vector = get_phrase_embedding(query)\n",
        "    cossims = np.matmul(data_vectors, query_vector)\n",
        "    norms = np.sqrt((query_vector**2).sum() * (data_vectors**2).sum(axis=-1)) \n",
        "    cossims_norm = cossims / norms\n",
        "\n",
        "    result_i = np.argpartition(-cossims_norm, range(k))[:k]\n",
        "    results = [data[i] for i in result_i]\n",
        "    \n",
        "    return results"
      ],
      "execution_count": 88,
      "outputs": []
    },
    {
      "cell_type": "code",
      "metadata": {
        "collapsed": true,
        "colab": {
          "base_uri": "https://localhost:8080/"
        },
        "id": "XNPvchvimLpT",
        "outputId": "fda071ff-642d-40f4-bdb8-9534020261f8"
      },
      "source": [
        "results = find_nearest(query=\"How do i enter the matrix?\", k=10)\n",
        "\n",
        "print(''.join(results))\n",
        "\n",
        "assert len(results) == 10 and isinstance(results[0], str)\n",
        "assert results[0] == 'How do I get to the dark web?\\n'\n",
        "assert results[3] == 'What can I do to save the world?\\n'"
      ],
      "execution_count": 89,
      "outputs": [
        {
          "output_type": "stream",
          "text": [
            "How do I get to the dark web?\n",
            "What should I do to enter hollywood?\n",
            "How do I use the Greenify app?\n",
            "What can I do to save the world?\n",
            "How do I win this?\n",
            "How do I think out of the box? How do I learn to think out of the box?\n",
            "How do I find the 5th dimension?\n",
            "How do I use the pad in MMA?\n",
            "How do I estimate the competition?\n",
            "What do I do to enter the line of event management?\n",
            "\n"
          ],
          "name": "stdout"
        },
        {
          "output_type": "stream",
          "text": [
            "/usr/local/lib/python3.6/dist-packages/ipykernel_launcher.py:11: RuntimeWarning: invalid value encountered in true_divide\n",
            "  # This is added back by InteractiveShellApp.init_path()\n"
          ],
          "name": "stderr"
        }
      ]
    },
    {
      "cell_type": "code",
      "metadata": {
        "collapsed": true,
        "colab": {
          "base_uri": "https://localhost:8080/"
        },
        "id": "q3HUs2eXmLpT",
        "outputId": "fedd0a1b-8107-465b-d50f-62440b25f10e"
      },
      "source": [
        "find_nearest(query=\"How does Trump?\", k=10)"
      ],
      "execution_count": 90,
      "outputs": [
        {
          "output_type": "stream",
          "text": [
            "/usr/local/lib/python3.6/dist-packages/ipykernel_launcher.py:11: RuntimeWarning: invalid value encountered in true_divide\n",
            "  # This is added back by InteractiveShellApp.init_path()\n"
          ],
          "name": "stderr"
        },
        {
          "output_type": "execute_result",
          "data": {
            "text/plain": [
              "['What does Donald Trump think about Israel?\\n',\n",
              " 'What books does Donald Trump like?\\n',\n",
              " 'What does Donald Trump think of India?\\n',\n",
              " 'What does India think of Donald Trump?\\n',\n",
              " 'What does Donald Trump think of China?\\n',\n",
              " 'What does Donald Trump think about Pakistan?\\n',\n",
              " 'What companies does Donald Trump own?\\n',\n",
              " 'What does Dushka Zapata think about Donald Trump?\\n',\n",
              " 'How does it feel to date Ivanka Trump?\\n',\n",
              " 'What does salesforce mean?\\n']"
            ]
          },
          "metadata": {
            "tags": []
          },
          "execution_count": 90
        }
      ]
    },
    {
      "cell_type": "code",
      "metadata": {
        "collapsed": true,
        "colab": {
          "base_uri": "https://localhost:8080/"
        },
        "id": "LFRsaXt9mLpT",
        "outputId": "a63fba84-d63f-470f-a5d7-c2293c710cce"
      },
      "source": [
        "find_nearest(query=\"Why don't i ask a question myself?\", k=10)"
      ],
      "execution_count": 91,
      "outputs": [
        {
          "output_type": "stream",
          "text": [
            "/usr/local/lib/python3.6/dist-packages/ipykernel_launcher.py:11: RuntimeWarning: invalid value encountered in true_divide\n",
            "  # This is added back by InteractiveShellApp.init_path()\n"
          ],
          "name": "stderr"
        },
        {
          "output_type": "execute_result",
          "data": {
            "text/plain": [
              "[\"Why don't I get a date?\\n\",\n",
              " \"Why do you always answer a question with a question? I don't, or do I?\\n\",\n",
              " \"Why can't I ask a question anonymously?\\n\",\n",
              " \"Why don't I get a girlfriend?\\n\",\n",
              " \"Why don't I have a boyfriend?\\n\",\n",
              " \"I don't have no question?\\n\",\n",
              " \"Why can't I take a joke?\\n\",\n",
              " \"Why don't I ever get a girl?\\n\",\n",
              " \"Can I ask a girl out that I don't know?\\n\",\n",
              " \"Why don't I have a girlfriend?\\n\"]"
            ]
          },
          "metadata": {
            "tags": []
          },
          "execution_count": 91
        }
      ]
    },
    {
      "cell_type": "markdown",
      "metadata": {
        "collapsed": true,
        "id": "7fRq_TkJmLpU"
      },
      "source": [
        "__Now what?__\n",
        "* Try running TSNE on all data, not just 1000 phrases\n",
        "* See what other embeddings are there in the model zoo: `gensim.downloader.info()`\n",
        "* Take a look at [FastText](https://github.com/facebookresearch/fastText) embeddings\n",
        "* Optimize find_nearest with locality-sensitive hashing: use [nearpy](https://github.com/pixelogik/NearPy) or `sklearn.neighbors`."
      ]
    },
    {
      "cell_type": "code",
      "metadata": {
        "id": "r2-8O1uKtmD2"
      },
      "source": [
        "all_phrase_vectors = np.array([get_phrase_embedding(phrase) for phrase in data])\n",
        "\n",
        "phrase_vectors_2d = TSNE().fit_transform(phrase_vectors)\n",
        "\n",
        "phrase_vectors_2d = (phrase_vectors_2d - phrase_vectors_2d.mean(axis=0)) / phrase_vectors_2d.std(axis=0)"
      ],
      "execution_count": 96,
      "outputs": []
    },
    {
      "cell_type": "code",
      "metadata": {
        "id": "1l8SAl92uPKH",
        "outputId": "d2286af5-a339-4dd8-f212-da0d08a7d4f3",
        "colab": {
          "base_uri": "https://localhost:8080/",
          "height": 434
        }
      },
      "source": [
        "draw_vectors(phrase_vectors_2d[:, 0], phrase_vectors_2d[:, 1],\n",
        "             phrase=[phrase[:500] for phrase in chosen_phrases],\n",
        "             radius=20,)"
      ],
      "execution_count": 97,
      "outputs": [
        {
          "output_type": "display_data",
          "data": {
            "application/javascript": [
              "\n",
              "(function(root) {\n",
              "  function now() {\n",
              "    return new Date();\n",
              "  }\n",
              "\n",
              "  var force = true;\n",
              "\n",
              "  if (typeof root._bokeh_onload_callbacks === \"undefined\" || force === true) {\n",
              "    root._bokeh_onload_callbacks = [];\n",
              "    root._bokeh_is_loading = undefined;\n",
              "  }\n",
              "\n",
              "  var JS_MIME_TYPE = 'application/javascript';\n",
              "  var HTML_MIME_TYPE = 'text/html';\n",
              "  var EXEC_MIME_TYPE = 'application/vnd.bokehjs_exec.v0+json';\n",
              "  var CLASS_NAME = 'output_bokeh rendered_html';\n",
              "\n",
              "  /**\n",
              "   * Render data to the DOM node\n",
              "   */\n",
              "  function render(props, node) {\n",
              "    var script = document.createElement(\"script\");\n",
              "    node.appendChild(script);\n",
              "  }\n",
              "\n",
              "  /**\n",
              "   * Handle when an output is cleared or removed\n",
              "   */\n",
              "  function handleClearOutput(event, handle) {\n",
              "    var cell = handle.cell;\n",
              "\n",
              "    var id = cell.output_area._bokeh_element_id;\n",
              "    var server_id = cell.output_area._bokeh_server_id;\n",
              "    // Clean up Bokeh references\n",
              "    if (id != null && id in Bokeh.index) {\n",
              "      Bokeh.index[id].model.document.clear();\n",
              "      delete Bokeh.index[id];\n",
              "    }\n",
              "\n",
              "    if (server_id !== undefined) {\n",
              "      // Clean up Bokeh references\n",
              "      var cmd = \"from bokeh.io.state import curstate; print(curstate().uuid_to_server['\" + server_id + \"'].get_sessions()[0].document.roots[0]._id)\";\n",
              "      cell.notebook.kernel.execute(cmd, {\n",
              "        iopub: {\n",
              "          output: function(msg) {\n",
              "            var id = msg.content.text.trim();\n",
              "            if (id in Bokeh.index) {\n",
              "              Bokeh.index[id].model.document.clear();\n",
              "              delete Bokeh.index[id];\n",
              "            }\n",
              "          }\n",
              "        }\n",
              "      });\n",
              "      // Destroy server and session\n",
              "      var cmd = \"import bokeh.io.notebook as ion; ion.destroy_server('\" + server_id + \"')\";\n",
              "      cell.notebook.kernel.execute(cmd);\n",
              "    }\n",
              "  }\n",
              "\n",
              "  /**\n",
              "   * Handle when a new output is added\n",
              "   */\n",
              "  function handleAddOutput(event, handle) {\n",
              "    var output_area = handle.output_area;\n",
              "    var output = handle.output;\n",
              "\n",
              "    // limit handleAddOutput to display_data with EXEC_MIME_TYPE content only\n",
              "    if ((output.output_type != \"display_data\") || (!output.data.hasOwnProperty(EXEC_MIME_TYPE))) {\n",
              "      return\n",
              "    }\n",
              "\n",
              "    var toinsert = output_area.element.find(\".\" + CLASS_NAME.split(' ')[0]);\n",
              "\n",
              "    if (output.metadata[EXEC_MIME_TYPE][\"id\"] !== undefined) {\n",
              "      toinsert[toinsert.length - 1].firstChild.textContent = output.data[JS_MIME_TYPE];\n",
              "      // store reference to embed id on output_area\n",
              "      output_area._bokeh_element_id = output.metadata[EXEC_MIME_TYPE][\"id\"];\n",
              "    }\n",
              "    if (output.metadata[EXEC_MIME_TYPE][\"server_id\"] !== undefined) {\n",
              "      var bk_div = document.createElement(\"div\");\n",
              "      bk_div.innerHTML = output.data[HTML_MIME_TYPE];\n",
              "      var script_attrs = bk_div.children[0].attributes;\n",
              "      for (var i = 0; i < script_attrs.length; i++) {\n",
              "        toinsert[toinsert.length - 1].firstChild.setAttribute(script_attrs[i].name, script_attrs[i].value);\n",
              "        toinsert[toinsert.length - 1].firstChild.textContent = bk_div.children[0].textContent\n",
              "      }\n",
              "      // store reference to server id on output_area\n",
              "      output_area._bokeh_server_id = output.metadata[EXEC_MIME_TYPE][\"server_id\"];\n",
              "    }\n",
              "  }\n",
              "\n",
              "  function register_renderer(events, OutputArea) {\n",
              "\n",
              "    function append_mime(data, metadata, element) {\n",
              "      // create a DOM node to render to\n",
              "      var toinsert = this.create_output_subarea(\n",
              "        metadata,\n",
              "        CLASS_NAME,\n",
              "        EXEC_MIME_TYPE\n",
              "      );\n",
              "      this.keyboard_manager.register_events(toinsert);\n",
              "      // Render to node\n",
              "      var props = {data: data, metadata: metadata[EXEC_MIME_TYPE]};\n",
              "      render(props, toinsert[toinsert.length - 1]);\n",
              "      element.append(toinsert);\n",
              "      return toinsert\n",
              "    }\n",
              "\n",
              "    /* Handle when an output is cleared or removed */\n",
              "    events.on('clear_output.CodeCell', handleClearOutput);\n",
              "    events.on('delete.Cell', handleClearOutput);\n",
              "\n",
              "    /* Handle when a new output is added */\n",
              "    events.on('output_added.OutputArea', handleAddOutput);\n",
              "\n",
              "    /**\n",
              "     * Register the mime type and append_mime function with output_area\n",
              "     */\n",
              "    OutputArea.prototype.register_mime_type(EXEC_MIME_TYPE, append_mime, {\n",
              "      /* Is output safe? */\n",
              "      safe: true,\n",
              "      /* Index of renderer in `output_area.display_order` */\n",
              "      index: 0\n",
              "    });\n",
              "  }\n",
              "\n",
              "  // register the mime type if in Jupyter Notebook environment and previously unregistered\n",
              "  if (root.Jupyter !== undefined) {\n",
              "    var events = require('base/js/events');\n",
              "    var OutputArea = require('notebook/js/outputarea').OutputArea;\n",
              "\n",
              "    if (OutputArea.prototype.mime_types().indexOf(EXEC_MIME_TYPE) == -1) {\n",
              "      register_renderer(events, OutputArea);\n",
              "    }\n",
              "  }\n",
              "\n",
              "  \n",
              "  if (typeof (root._bokeh_timeout) === \"undefined\" || force === true) {\n",
              "    root._bokeh_timeout = Date.now() + 5000;\n",
              "    root._bokeh_failed_load = false;\n",
              "  }\n",
              "\n",
              "  var NB_LOAD_WARNING = {'data': {'text/html':\n",
              "     \"<div style='background-color: #fdd'>\\n\"+\n",
              "     \"<p>\\n\"+\n",
              "     \"BokehJS does not appear to have successfully loaded. If loading BokehJS from CDN, this \\n\"+\n",
              "     \"may be due to a slow or bad network connection. Possible fixes:\\n\"+\n",
              "     \"</p>\\n\"+\n",
              "     \"<ul>\\n\"+\n",
              "     \"<li>re-rerun `output_notebook()` to attempt to load from CDN again, or</li>\\n\"+\n",
              "     \"<li>use INLINE resources instead, as so:</li>\\n\"+\n",
              "     \"</ul>\\n\"+\n",
              "     \"<code>\\n\"+\n",
              "     \"from bokeh.resources import INLINE\\n\"+\n",
              "     \"output_notebook(resources=INLINE)\\n\"+\n",
              "     \"</code>\\n\"+\n",
              "     \"</div>\"}};\n",
              "\n",
              "  function display_loaded() {\n",
              "    var el = document.getElementById(null);\n",
              "    if (el != null) {\n",
              "      el.textContent = \"BokehJS is loading...\";\n",
              "    }\n",
              "    if (root.Bokeh !== undefined) {\n",
              "      if (el != null) {\n",
              "        el.textContent = \"BokehJS \" + root.Bokeh.version + \" successfully loaded.\";\n",
              "      }\n",
              "    } else if (Date.now() < root._bokeh_timeout) {\n",
              "      setTimeout(display_loaded, 100)\n",
              "    }\n",
              "  }\n",
              "\n",
              "\n",
              "  function run_callbacks() {\n",
              "    try {\n",
              "      root._bokeh_onload_callbacks.forEach(function(callback) {\n",
              "        if (callback != null)\n",
              "          callback();\n",
              "      });\n",
              "    } finally {\n",
              "      delete root._bokeh_onload_callbacks\n",
              "    }\n",
              "    console.debug(\"Bokeh: all callbacks have finished\");\n",
              "  }\n",
              "\n",
              "  function load_libs(css_urls, js_urls, callback) {\n",
              "    if (css_urls == null) css_urls = [];\n",
              "    if (js_urls == null) js_urls = [];\n",
              "\n",
              "    root._bokeh_onload_callbacks.push(callback);\n",
              "    if (root._bokeh_is_loading > 0) {\n",
              "      console.debug(\"Bokeh: BokehJS is being loaded, scheduling callback at\", now());\n",
              "      return null;\n",
              "    }\n",
              "    if (js_urls == null || js_urls.length === 0) {\n",
              "      run_callbacks();\n",
              "      return null;\n",
              "    }\n",
              "    console.debug(\"Bokeh: BokehJS not loaded, scheduling load and callback at\", now());\n",
              "    root._bokeh_is_loading = css_urls.length + js_urls.length;\n",
              "\n",
              "    function on_load() {\n",
              "      root._bokeh_is_loading--;\n",
              "      if (root._bokeh_is_loading === 0) {\n",
              "        console.debug(\"Bokeh: all BokehJS libraries/stylesheets loaded\");\n",
              "        run_callbacks()\n",
              "      }\n",
              "    }\n",
              "\n",
              "    function on_error() {\n",
              "      console.error(\"failed to load \" + url);\n",
              "    }\n",
              "\n",
              "    for (var i = 0; i < css_urls.length; i++) {\n",
              "      var url = css_urls[i];\n",
              "      const element = document.createElement(\"link\");\n",
              "      element.onload = on_load;\n",
              "      element.onerror = on_error;\n",
              "      element.rel = \"stylesheet\";\n",
              "      element.type = \"text/css\";\n",
              "      element.href = url;\n",
              "      console.debug(\"Bokeh: injecting link tag for BokehJS stylesheet: \", url);\n",
              "      document.body.appendChild(element);\n",
              "    }\n",
              "\n",
              "    const hashes = {\"https://cdn.bokeh.org/bokeh/release/bokeh-2.1.1.min.js\": \"kLr4fYcqcSpbuI95brIH3vnnYCquzzSxHPU6XGQCIkQRGJwhg0StNbj1eegrHs12\", \"https://cdn.bokeh.org/bokeh/release/bokeh-widgets-2.1.1.min.js\": \"xIGPmVtaOm+z0BqfSOMn4lOR6ciex448GIKG4eE61LsAvmGj48XcMQZtKcE/UXZe\", \"https://cdn.bokeh.org/bokeh/release/bokeh-tables-2.1.1.min.js\": \"Dc9u1wF/0zApGIWoBbH77iWEHtdmkuYWG839Uzmv8y8yBLXebjO9ZnERsde5Ln/P\", \"https://cdn.bokeh.org/bokeh/release/bokeh-gl-2.1.1.min.js\": \"cT9JaBz7GiRXdENrJLZNSC6eMNF3nh3fa5fTF51Svp+ukxPdwcU5kGXGPBgDCa2j\"};\n",
              "\n",
              "    for (var i = 0; i < js_urls.length; i++) {\n",
              "      var url = js_urls[i];\n",
              "      var element = document.createElement('script');\n",
              "      element.onload = on_load;\n",
              "      element.onerror = on_error;\n",
              "      element.async = false;\n",
              "      element.src = url;\n",
              "      if (url in hashes) {\n",
              "        element.crossOrigin = \"anonymous\";\n",
              "        element.integrity = \"sha384-\" + hashes[url];\n",
              "      }\n",
              "      console.debug(\"Bokeh: injecting script tag for BokehJS library: \", url);\n",
              "      document.head.appendChild(element);\n",
              "    }\n",
              "  };\n",
              "\n",
              "  function inject_raw_css(css) {\n",
              "    const element = document.createElement(\"style\");\n",
              "    element.appendChild(document.createTextNode(css));\n",
              "    document.body.appendChild(element);\n",
              "  }\n",
              "\n",
              "  \n",
              "  var js_urls = [\"https://cdn.bokeh.org/bokeh/release/bokeh-2.1.1.min.js\", \"https://cdn.bokeh.org/bokeh/release/bokeh-widgets-2.1.1.min.js\", \"https://cdn.bokeh.org/bokeh/release/bokeh-tables-2.1.1.min.js\", \"https://cdn.bokeh.org/bokeh/release/bokeh-gl-2.1.1.min.js\"];\n",
              "  var css_urls = [];\n",
              "  \n",
              "\n",
              "  var inline_js = [\n",
              "    function(Bokeh) {\n",
              "      Bokeh.set_log_level(\"info\");\n",
              "    },\n",
              "    function(Bokeh) {\n",
              "    \n",
              "    \n",
              "    }\n",
              "  ];\n",
              "\n",
              "  function run_inline_js() {\n",
              "    \n",
              "    if (root.Bokeh !== undefined || force === true) {\n",
              "      \n",
              "    for (var i = 0; i < inline_js.length; i++) {\n",
              "      inline_js[i].call(root, root.Bokeh);\n",
              "    }\n",
              "    } else if (Date.now() < root._bokeh_timeout) {\n",
              "      setTimeout(run_inline_js, 100);\n",
              "    } else if (!root._bokeh_failed_load) {\n",
              "      console.log(\"Bokeh: BokehJS failed to load within specified timeout.\");\n",
              "      root._bokeh_failed_load = true;\n",
              "    } else if (force !== true) {\n",
              "      var cell = $(document.getElementById(null)).parents('.cell').data().cell;\n",
              "      cell.output_area.append_execute_result(NB_LOAD_WARNING)\n",
              "    }\n",
              "\n",
              "  }\n",
              "\n",
              "  if (root._bokeh_is_loading === 0) {\n",
              "    console.debug(\"Bokeh: BokehJS loaded, going straight to plotting\");\n",
              "    run_inline_js();\n",
              "  } else {\n",
              "    load_libs(css_urls, js_urls, function() {\n",
              "      console.debug(\"Bokeh: BokehJS plotting callback run at\", now());\n",
              "      run_inline_js();\n",
              "    });\n",
              "  }\n",
              "}(window));"
            ],
            "application/vnd.bokehjs_load.v0+json": "\n(function(root) {\n  function now() {\n    return new Date();\n  }\n\n  var force = true;\n\n  if (typeof root._bokeh_onload_callbacks === \"undefined\" || force === true) {\n    root._bokeh_onload_callbacks = [];\n    root._bokeh_is_loading = undefined;\n  }\n\n  \n\n  \n  if (typeof (root._bokeh_timeout) === \"undefined\" || force === true) {\n    root._bokeh_timeout = Date.now() + 5000;\n    root._bokeh_failed_load = false;\n  }\n\n  var NB_LOAD_WARNING = {'data': {'text/html':\n     \"<div style='background-color: #fdd'>\\n\"+\n     \"<p>\\n\"+\n     \"BokehJS does not appear to have successfully loaded. If loading BokehJS from CDN, this \\n\"+\n     \"may be due to a slow or bad network connection. Possible fixes:\\n\"+\n     \"</p>\\n\"+\n     \"<ul>\\n\"+\n     \"<li>re-rerun `output_notebook()` to attempt to load from CDN again, or</li>\\n\"+\n     \"<li>use INLINE resources instead, as so:</li>\\n\"+\n     \"</ul>\\n\"+\n     \"<code>\\n\"+\n     \"from bokeh.resources import INLINE\\n\"+\n     \"output_notebook(resources=INLINE)\\n\"+\n     \"</code>\\n\"+\n     \"</div>\"}};\n\n  function display_loaded() {\n    var el = document.getElementById(null);\n    if (el != null) {\n      el.textContent = \"BokehJS is loading...\";\n    }\n    if (root.Bokeh !== undefined) {\n      if (el != null) {\n        el.textContent = \"BokehJS \" + root.Bokeh.version + \" successfully loaded.\";\n      }\n    } else if (Date.now() < root._bokeh_timeout) {\n      setTimeout(display_loaded, 100)\n    }\n  }\n\n\n  function run_callbacks() {\n    try {\n      root._bokeh_onload_callbacks.forEach(function(callback) {\n        if (callback != null)\n          callback();\n      });\n    } finally {\n      delete root._bokeh_onload_callbacks\n    }\n    console.debug(\"Bokeh: all callbacks have finished\");\n  }\n\n  function load_libs(css_urls, js_urls, callback) {\n    if (css_urls == null) css_urls = [];\n    if (js_urls == null) js_urls = [];\n\n    root._bokeh_onload_callbacks.push(callback);\n    if (root._bokeh_is_loading > 0) {\n      console.debug(\"Bokeh: BokehJS is being loaded, scheduling callback at\", now());\n      return null;\n    }\n    if (js_urls == null || js_urls.length === 0) {\n      run_callbacks();\n      return null;\n    }\n    console.debug(\"Bokeh: BokehJS not loaded, scheduling load and callback at\", now());\n    root._bokeh_is_loading = css_urls.length + js_urls.length;\n\n    function on_load() {\n      root._bokeh_is_loading--;\n      if (root._bokeh_is_loading === 0) {\n        console.debug(\"Bokeh: all BokehJS libraries/stylesheets loaded\");\n        run_callbacks()\n      }\n    }\n\n    function on_error() {\n      console.error(\"failed to load \" + url);\n    }\n\n    for (var i = 0; i < css_urls.length; i++) {\n      var url = css_urls[i];\n      const element = document.createElement(\"link\");\n      element.onload = on_load;\n      element.onerror = on_error;\n      element.rel = \"stylesheet\";\n      element.type = \"text/css\";\n      element.href = url;\n      console.debug(\"Bokeh: injecting link tag for BokehJS stylesheet: \", url);\n      document.body.appendChild(element);\n    }\n\n    const hashes = {\"https://cdn.bokeh.org/bokeh/release/bokeh-2.1.1.min.js\": \"kLr4fYcqcSpbuI95brIH3vnnYCquzzSxHPU6XGQCIkQRGJwhg0StNbj1eegrHs12\", \"https://cdn.bokeh.org/bokeh/release/bokeh-widgets-2.1.1.min.js\": \"xIGPmVtaOm+z0BqfSOMn4lOR6ciex448GIKG4eE61LsAvmGj48XcMQZtKcE/UXZe\", \"https://cdn.bokeh.org/bokeh/release/bokeh-tables-2.1.1.min.js\": \"Dc9u1wF/0zApGIWoBbH77iWEHtdmkuYWG839Uzmv8y8yBLXebjO9ZnERsde5Ln/P\", \"https://cdn.bokeh.org/bokeh/release/bokeh-gl-2.1.1.min.js\": \"cT9JaBz7GiRXdENrJLZNSC6eMNF3nh3fa5fTF51Svp+ukxPdwcU5kGXGPBgDCa2j\"};\n\n    for (var i = 0; i < js_urls.length; i++) {\n      var url = js_urls[i];\n      var element = document.createElement('script');\n      element.onload = on_load;\n      element.onerror = on_error;\n      element.async = false;\n      element.src = url;\n      if (url in hashes) {\n        element.crossOrigin = \"anonymous\";\n        element.integrity = \"sha384-\" + hashes[url];\n      }\n      console.debug(\"Bokeh: injecting script tag for BokehJS library: \", url);\n      document.head.appendChild(element);\n    }\n  };\n\n  function inject_raw_css(css) {\n    const element = document.createElement(\"style\");\n    element.appendChild(document.createTextNode(css));\n    document.body.appendChild(element);\n  }\n\n  \n  var js_urls = [\"https://cdn.bokeh.org/bokeh/release/bokeh-2.1.1.min.js\", \"https://cdn.bokeh.org/bokeh/release/bokeh-widgets-2.1.1.min.js\", \"https://cdn.bokeh.org/bokeh/release/bokeh-tables-2.1.1.min.js\", \"https://cdn.bokeh.org/bokeh/release/bokeh-gl-2.1.1.min.js\"];\n  var css_urls = [];\n  \n\n  var inline_js = [\n    function(Bokeh) {\n      Bokeh.set_log_level(\"info\");\n    },\n    function(Bokeh) {\n    \n    \n    }\n  ];\n\n  function run_inline_js() {\n    \n    if (root.Bokeh !== undefined || force === true) {\n      \n    for (var i = 0; i < inline_js.length; i++) {\n      inline_js[i].call(root, root.Bokeh);\n    }\n    } else if (Date.now() < root._bokeh_timeout) {\n      setTimeout(run_inline_js, 100);\n    } else if (!root._bokeh_failed_load) {\n      console.log(\"Bokeh: BokehJS failed to load within specified timeout.\");\n      root._bokeh_failed_load = true;\n    } else if (force !== true) {\n      var cell = $(document.getElementById(null)).parents('.cell').data().cell;\n      cell.output_area.append_execute_result(NB_LOAD_WARNING)\n    }\n\n  }\n\n  if (root._bokeh_is_loading === 0) {\n    console.debug(\"Bokeh: BokehJS loaded, going straight to plotting\");\n    run_inline_js();\n  } else {\n    load_libs(css_urls, js_urls, function() {\n      console.debug(\"Bokeh: BokehJS plotting callback run at\", now());\n      run_inline_js();\n    });\n  }\n}(window));"
          },
          "metadata": {
            "tags": []
          }
        },
        {
          "output_type": "display_data",
          "data": {
            "text/html": [
              "\n",
              "\n",
              "\n",
              "\n",
              "\n",
              "\n",
              "  <div class=\"bk-root\" id=\"5feeb59e-db8d-4684-baed-e2252c0e8294\" data-root-id=\"1773\"></div>\n"
            ]
          },
          "metadata": {
            "tags": []
          }
        },
        {
          "output_type": "display_data",
          "data": {
            "application/javascript": [
              "(function(root) {\n",
              "  function embed_document(root) {\n",
              "    \n",
              "  var docs_json = {\"3b41350f-c3ff-463f-9685-2958cf17aaf7\":{\"roots\":{\"references\":[{\"attributes\":{\"below\":[{\"id\":\"1782\"}],\"center\":[{\"id\":\"1785\"},{\"id\":\"1789\"}],\"left\":[{\"id\":\"1786\"}],\"plot_height\":400,\"renderers\":[{\"id\":\"1807\"}],\"title\":{\"id\":\"1865\"},\"toolbar\":{\"id\":\"1797\"},\"x_range\":{\"id\":\"1774\"},\"x_scale\":{\"id\":\"1778\"},\"y_range\":{\"id\":\"1776\"},\"y_scale\":{\"id\":\"1780\"}},\"id\":\"1773\",\"subtype\":\"Figure\",\"type\":\"Plot\"},{\"attributes\":{},\"id\":\"1793\",\"type\":\"SaveTool\"},{\"attributes\":{},\"id\":\"1867\",\"type\":\"BasicTickFormatter\"},{\"attributes\":{},\"id\":\"1774\",\"type\":\"DataRange1d\"},{\"attributes\":{\"formatter\":{\"id\":\"1869\"},\"ticker\":{\"id\":\"1787\"}},\"id\":\"1786\",\"type\":\"LinearAxis\"},{\"attributes\":{\"active_drag\":\"auto\",\"active_inspect\":\"auto\",\"active_multi\":null,\"active_scroll\":{\"id\":\"1791\"},\"active_tap\":\"auto\",\"tools\":[{\"id\":\"1790\"},{\"id\":\"1791\"},{\"id\":\"1792\"},{\"id\":\"1793\"},{\"id\":\"1794\"},{\"id\":\"1795\"},{\"id\":\"1809\"}]},\"id\":\"1797\",\"type\":\"Toolbar\"},{\"attributes\":{},\"id\":\"1790\",\"type\":\"PanTool\"},{\"attributes\":{},\"id\":\"1778\",\"type\":\"LinearScale\"},{\"attributes\":{\"data\":{\"color\":[\"blue\",\"blue\",\"blue\",\"blue\",\"blue\",\"blue\",\"blue\",\"blue\",\"blue\",\"blue\",\"blue\",\"blue\",\"blue\",\"blue\",\"blue\",\"blue\",\"blue\",\"blue\",\"blue\",\"blue\",\"blue\",\"blue\",\"blue\",\"blue\",\"blue\",\"blue\",\"blue\",\"blue\",\"blue\",\"blue\",\"blue\",\"blue\",\"blue\",\"blue\",\"blue\",\"blue\",\"blue\",\"blue\",\"blue\",\"blue\",\"blue\",\"blue\",\"blue\",\"blue\",\"blue\",\"blue\",\"blue\",\"blue\",\"blue\",\"blue\",\"blue\",\"blue\",\"blue\",\"blue\",\"blue\",\"blue\",\"blue\",\"blue\",\"blue\",\"blue\",\"blue\",\"blue\",\"blue\",\"blue\",\"blue\",\"blue\",\"blue\",\"blue\",\"blue\",\"blue\",\"blue\",\"blue\",\"blue\",\"blue\",\"blue\",\"blue\",\"blue\",\"blue\",\"blue\",\"blue\",\"blue\",\"blue\",\"blue\",\"blue\",\"blue\",\"blue\",\"blue\",\"blue\",\"blue\",\"blue\",\"blue\",\"blue\",\"blue\",\"blue\",\"blue\",\"blue\",\"blue\",\"blue\",\"blue\",\"blue\",\"blue\",\"blue\",\"blue\",\"blue\",\"blue\",\"blue\",\"blue\",\"blue\",\"blue\",\"blue\",\"blue\",\"blue\",\"blue\",\"blue\",\"blue\",\"blue\",\"blue\",\"blue\",\"blue\",\"blue\",\"blue\",\"blue\",\"blue\",\"blue\",\"blue\",\"blue\",\"blue\",\"blue\",\"blue\",\"blue\",\"blue\",\"blue\",\"blue\",\"blue\",\"blue\",\"blue\",\"blue\",\"blue\",\"blue\",\"blue\",\"blue\",\"blue\",\"blue\",\"blue\",\"blue\",\"blue\",\"blue\",\"blue\",\"blue\",\"blue\",\"blue\",\"blue\",\"blue\",\"blue\",\"blue\",\"blue\",\"blue\",\"blue\",\"blue\",\"blue\",\"blue\",\"blue\",\"blue\",\"blue\",\"blue\",\"blue\",\"blue\",\"blue\",\"blue\",\"blue\",\"blue\",\"blue\",\"blue\",\"blue\",\"blue\",\"blue\",\"blue\",\"blue\",\"blue\",\"blue\",\"blue\",\"blue\",\"blue\",\"blue\",\"blue\",\"blue\",\"blue\",\"blue\",\"blue\",\"blue\",\"blue\",\"blue\",\"blue\",\"blue\",\"blue\",\"blue\",\"blue\",\"blue\",\"blue\",\"blue\",\"blue\",\"blue\",\"blue\",\"blue\",\"blue\",\"blue\",\"blue\",\"blue\",\"blue\",\"blue\",\"blue\",\"blue\",\"blue\",\"blue\",\"blue\",\"blue\",\"blue\",\"blue\",\"blue\",\"blue\",\"blue\",\"blue\",\"blue\",\"blue\",\"blue\",\"blue\",\"blue\",\"blue\",\"blue\",\"blue\",\"blue\",\"blue\",\"blue\",\"blue\",\"blue\",\"blue\",\"blue\",\"blue\",\"blue\",\"blue\",\"blue\",\"blue\",\"blue\",\"blue\",\"blue\",\"blue\",\"blue\",\"blue\",\"blue\",\"blue\",\"blue\",\"blue\",\"blue\",\"blue\",\"blue\",\"blue\",\"blue\",\"blue\",\"blue\",\"blue\",\"blue\",\"blue\",\"blue\",\"blue\",\"blue\",\"blue\",\"blue\",\"blue\",\"blue\",\"blue\",\"blue\",\"blue\",\"blue\",\"blue\",\"blue\",\"blue\",\"blue\",\"blue\",\"blue\",\"blue\",\"blue\",\"blue\",\"blue\",\"blue\",\"blue\",\"blue\",\"blue\",\"blue\",\"blue\",\"blue\",\"blue\",\"blue\",\"blue\",\"blue\",\"blue\",\"blue\",\"blue\",\"blue\",\"blue\",\"blue\",\"blue\",\"blue\",\"blue\",\"blue\",\"blue\",\"blue\",\"blue\",\"blue\",\"blue\",\"blue\",\"blue\",\"blue\",\"blue\",\"blue\",\"blue\",\"blue\",\"blue\",\"blue\",\"blue\",\"blue\",\"blue\",\"blue\",\"blue\",\"blue\",\"blue\",\"blue\",\"blue\",\"blue\",\"blue\",\"blue\",\"blue\",\"blue\",\"blue\",\"blue\",\"blue\",\"blue\",\"blue\",\"blue\",\"blue\",\"blue\",\"blue\",\"blue\",\"blue\",\"blue\",\"blue\",\"blue\",\"blue\",\"blue\",\"blue\",\"blue\",\"blue\",\"blue\",\"blue\",\"blue\",\"blue\",\"blue\",\"blue\",\"blue\",\"blue\",\"blue\",\"blue\",\"blue\",\"blue\",\"blue\",\"blue\",\"blue\",\"blue\",\"blue\",\"blue\",\"blue\",\"blue\",\"blue\",\"blue\",\"blue\",\"blue\",\"blue\",\"blue\",\"blue\",\"blue\",\"blue\",\"blue\",\"blue\",\"blue\",\"blue\",\"blue\",\"blue\",\"blue\",\"blue\",\"blue\",\"blue\",\"blue\",\"blue\",\"blue\",\"blue\",\"blue\",\"blue\",\"blue\",\"blue\",\"blue\",\"blue\",\"blue\",\"blue\",\"blue\",\"blue\",\"blue\",\"blue\",\"blue\",\"blue\",\"blue\",\"blue\",\"blue\",\"blue\",\"blue\",\"blue\",\"blue\",\"blue\",\"blue\",\"blue\",\"blue\",\"blue\",\"blue\",\"blue\",\"blue\",\"blue\",\"blue\",\"blue\",\"blue\",\"blue\",\"blue\",\"blue\",\"blue\",\"blue\",\"blue\",\"blue\",\"blue\",\"blue\",\"blue\",\"blue\",\"blue\",\"blue\",\"blue\",\"blue\",\"blue\",\"blue\",\"blue\",\"blue\",\"blue\",\"blue\",\"blue\",\"blue\",\"blue\",\"blue\",\"blue\",\"blue\",\"blue\",\"blue\",\"blue\",\"blue\",\"blue\",\"blue\",\"blue\",\"blue\",\"blue\",\"blue\",\"blue\",\"blue\",\"blue\",\"blue\",\"blue\",\"blue\",\"blue\",\"blue\",\"blue\",\"blue\",\"blue\",\"blue\",\"blue\",\"blue\",\"blue\",\"blue\",\"blue\",\"blue\",\"blue\",\"blue\",\"blue\",\"blue\",\"blue\",\"blue\",\"blue\",\"blue\",\"blue\",\"blue\",\"blue\",\"blue\",\"blue\",\"blue\",\"blue\",\"blue\",\"blue\",\"blue\",\"blue\",\"blue\",\"blue\",\"blue\",\"blue\",\"blue\",\"blue\",\"blue\",\"blue\",\"blue\",\"blue\",\"blue\",\"blue\",\"blue\",\"blue\",\"blue\",\"blue\",\"blue\",\"blue\",\"blue\",\"blue\",\"blue\",\"blue\",\"blue\",\"blue\",\"blue\",\"blue\",\"blue\",\"blue\",\"blue\",\"blue\",\"blue\",\"blue\",\"blue\",\"blue\",\"blue\",\"blue\",\"blue\",\"blue\",\"blue\",\"blue\",\"blue\",\"blue\",\"blue\",\"blue\",\"blue\",\"blue\",\"blue\",\"blue\",\"blue\",\"blue\",\"blue\",\"blue\",\"blue\",\"blue\",\"blue\",\"blue\",\"blue\",\"blue\",\"blue\",\"blue\",\"blue\",\"blue\",\"blue\",\"blue\",\"blue\",\"blue\",\"blue\",\"blue\",\"blue\",\"blue\",\"blue\",\"blue\",\"blue\",\"blue\",\"blue\",\"blue\",\"blue\",\"blue\",\"blue\",\"blue\",\"blue\",\"blue\",\"blue\",\"blue\",\"blue\",\"blue\",\"blue\",\"blue\",\"blue\",\"blue\",\"blue\",\"blue\",\"blue\",\"blue\",\"blue\",\"blue\",\"blue\",\"blue\",\"blue\",\"blue\",\"blue\",\"blue\",\"blue\",\"blue\",\"blue\",\"blue\",\"blue\",\"blue\",\"blue\",\"blue\",\"blue\",\"blue\",\"blue\",\"blue\",\"blue\",\"blue\",\"blue\",\"blue\",\"blue\",\"blue\",\"blue\",\"blue\",\"blue\",\"blue\",\"blue\",\"blue\",\"blue\",\"blue\",\"blue\",\"blue\",\"blue\",\"blue\",\"blue\",\"blue\",\"blue\",\"blue\",\"blue\",\"blue\",\"blue\",\"blue\",\"blue\",\"blue\",\"blue\",\"blue\",\"blue\",\"blue\",\"blue\",\"blue\",\"blue\",\"blue\",\"blue\",\"blue\",\"blue\",\"blue\",\"blue\",\"blue\",\"blue\",\"blue\",\"blue\",\"blue\",\"blue\",\"blue\",\"blue\",\"blue\",\"blue\",\"blue\",\"blue\",\"blue\",\"blue\",\"blue\",\"blue\",\"blue\",\"blue\",\"blue\",\"blue\",\"blue\",\"blue\",\"blue\",\"blue\",\"blue\",\"blue\",\"blue\",\"blue\",\"blue\",\"blue\",\"blue\",\"blue\",\"blue\",\"blue\",\"blue\",\"blue\",\"blue\",\"blue\",\"blue\",\"blue\",\"blue\",\"blue\",\"blue\",\"blue\",\"blue\",\"blue\",\"blue\",\"blue\",\"blue\",\"blue\",\"blue\",\"blue\",\"blue\",\"blue\",\"blue\",\"blue\",\"blue\",\"blue\",\"blue\",\"blue\",\"blue\",\"blue\",\"blue\",\"blue\",\"blue\",\"blue\",\"blue\",\"blue\",\"blue\",\"blue\",\"blue\",\"blue\",\"blue\",\"blue\",\"blue\",\"blue\",\"blue\",\"blue\",\"blue\",\"blue\",\"blue\",\"blue\",\"blue\",\"blue\",\"blue\",\"blue\",\"blue\",\"blue\",\"blue\",\"blue\",\"blue\",\"blue\",\"blue\",\"blue\",\"blue\",\"blue\",\"blue\",\"blue\",\"blue\",\"blue\",\"blue\",\"blue\",\"blue\",\"blue\",\"blue\",\"blue\",\"blue\",\"blue\",\"blue\",\"blue\",\"blue\",\"blue\",\"blue\",\"blue\",\"blue\",\"blue\",\"blue\",\"blue\",\"blue\",\"blue\",\"blue\",\"blue\",\"blue\",\"blue\",\"blue\",\"blue\",\"blue\",\"blue\",\"blue\",\"blue\",\"blue\",\"blue\",\"blue\",\"blue\",\"blue\",\"blue\",\"blue\",\"blue\",\"blue\",\"blue\",\"blue\",\"blue\",\"blue\",\"blue\",\"blue\",\"blue\",\"blue\",\"blue\",\"blue\",\"blue\",\"blue\",\"blue\",\"blue\",\"blue\",\"blue\",\"blue\",\"blue\",\"blue\",\"blue\",\"blue\",\"blue\",\"blue\",\"blue\",\"blue\",\"blue\",\"blue\",\"blue\",\"blue\",\"blue\",\"blue\",\"blue\",\"blue\",\"blue\",\"blue\",\"blue\",\"blue\",\"blue\",\"blue\",\"blue\",\"blue\",\"blue\",\"blue\",\"blue\",\"blue\",\"blue\",\"blue\",\"blue\",\"blue\",\"blue\",\"blue\",\"blue\",\"blue\",\"blue\",\"blue\",\"blue\",\"blue\",\"blue\",\"blue\",\"blue\",\"blue\",\"blue\",\"blue\",\"blue\",\"blue\",\"blue\",\"blue\",\"blue\",\"blue\",\"blue\",\"blue\",\"blue\",\"blue\",\"blue\",\"blue\",\"blue\",\"blue\",\"blue\",\"blue\",\"blue\",\"blue\",\"blue\",\"blue\",\"blue\",\"blue\",\"blue\",\"blue\",\"blue\",\"blue\",\"blue\",\"blue\",\"blue\",\"blue\",\"blue\",\"blue\",\"blue\",\"blue\",\"blue\",\"blue\",\"blue\",\"blue\",\"blue\",\"blue\",\"blue\",\"blue\",\"blue\",\"blue\",\"blue\",\"blue\",\"blue\",\"blue\",\"blue\",\"blue\",\"blue\",\"blue\",\"blue\",\"blue\",\"blue\",\"blue\",\"blue\",\"blue\",\"blue\",\"blue\",\"blue\",\"blue\",\"blue\",\"blue\",\"blue\",\"blue\",\"blue\",\"blue\",\"blue\",\"blue\",\"blue\",\"blue\",\"blue\",\"blue\",\"blue\",\"blue\",\"blue\",\"blue\",\"blue\",\"blue\",\"blue\",\"blue\",\"blue\",\"blue\",\"blue\",\"blue\",\"blue\",\"blue\",\"blue\",\"blue\",\"blue\",\"blue\",\"blue\",\"blue\",\"blue\",\"blue\",\"blue\",\"blue\",\"blue\",\"blue\",\"blue\",\"blue\",\"blue\",\"blue\",\"blue\",\"blue\",\"blue\",\"blue\",\"blue\",\"blue\",\"blue\",\"blue\",\"blue\",\"blue\",\"blue\",\"blue\",\"blue\",\"blue\",\"blue\",\"blue\",\"blue\",\"blue\",\"blue\",\"blue\",\"blue\",\"blue\",\"blue\",\"blue\",\"blue\",\"blue\",\"blue\",\"blue\",\"blue\",\"blue\",\"blue\",\"blue\",\"blue\",\"blue\",\"blue\",\"blue\",\"blue\",\"blue\",\"blue\"],\"phrase\":[\"Can I get back with my ex even though she is pregnant with another guy's baby?\\n\",\"What is the best way to become an arms dealer in the U.S?\\n\",\"Why doesn't Japan contribute to peace and prosperity to ASEAN and Asia, but incite wars in Asia on behalf the U.S. and serve the U.S.?\\n\",\"Which is the best Panasonic air conditioner service center in Hyderabad?\\n\",\"What did ancient Egyptians believe about the afterlife?\\n\",\"How does one prepare for the RBI grade B officers examination?\\n\",\"Which institutions in Kolkata give coaching for entrance exams for a master's in political science?\\n\",\"Will omar bravo be in fifa 17?\\n\",\"What are the pros and cons of arranged marriages?\\n\",\"What will happen if all the vegetable dies?\\n\",\"Why do people hate hypocrites?\\n\",\"What do you consider poor, middle class, wealthy and rich in your country?\\n\",\"How do I concentrate on my studies?\\n\",\"What is new age psychobabble?\\n\",\"How can you tell if your man is cheating even if he hides it really well?\\n\",\"Can you see yourself during lucid dreaming?\\n\",\"Which browser is most safe in terms of privacy and security?\\n\",\"Can Google Assistant run on OnePlus 3T?\\n\",\"Apart from the VW Vento / Polo and Skoda Rapid, are there any other cars presently (or soon to be launched) in India with a 7-speed auto DSG?\\n\",\"What is Panera Bread?\\n\",\"Do athletes live longer and healthier? If not, why?\\n\",\"Could a pitbull take on a wolf in a fight?\\n\",\"What has Obama done for Latinos/Hispanics?\\n\",\"How much is |x|^2?\\n\",\"How does operator.com work?\\n\",\"Why do people not make movies/talk about the Romas/Sinties, homosexuals and mass euthanasia of disabled people in death camps in Nazi Germany?\\n\",\"What were the major contributions of the political leaders during WW1, and how are the compared to the ones during the Iraq War?\\n\",\"Company Secretaries (CS): How do I prepare for CS executive 2 days before the exam?\\n\",\"What are the job prospects of chemical engineers after doing an MS from Ohio State University? Which track is better, a thesis or non-thesis?\\n\",\"I have never gone to a bank. How do I put money in my account?\\n\",\"What is the best strategy to prepare for the GATE 2015 CSE with 2 months left?\\n\",\"Who is this porn star?\\n\",\"Why are specs & sunglasses so expensive?\\n\",\"I installed the movie torrent with Ultra XVid Codec Pack.exe in folder with it. Is it safe to run it in order to play the movie (is it a virus)?\\n\",\"Can we ride scootry with learning lisence age of 16? Is it necessary to have scooty less than 50cc?\\n\",\"Two cards were drawn, without replacement, from a pack of 52 cards. What is the probability that they are both Kings?\\n\",\"How much money is needed per month to live in india?\\n\",\"Why do companies issue bonus shares?\\n\",\"Why are Iranians and Afghans considered white Americans?\\n\",\"Could mumps cause deafness?\\n\",\"What is meaning of sadaka?\\n\",\"What should I know before starting a YouTube career and earning money as a YouTuber?\\n\",\"Is the ITI College Principal is gazetted officer?\\n\",\"How do you feel now that Donald Trump is now the President of America for the next four years?\\n\",\"What is the difference between imperial units and metric units?\\n\",\"What is the easiest way to do effective self hypnosis in 5 or less minutes?\\n\",\"Why has China increased its involvement in the Syrian war?\\n\",\"From which year CBSE class 10th exam be reintroduced? My sister is going to appear in CBSE 10th exam for year 2016-17. Will it be applicable for her?\\n\",\"Is 1080p a Blu-ray?\\n\",\"Does using mirrors to concentrate thermal energy disprove or defeat the laws of thermodynamics?\\n\",\"How do I avoid attractions by phones?\\n\",\"What are some of the effects of education can you find on a society?\\n\",\"What are the characteristics of a Pisces Sun/Libra Moon/Leo Rising man?\\n\",\"What is the most cost-effective option to ship packages from the United States to Malaysia?\\n\",\"Are red and blue complementary colors?\\n\",\"Is it possible to make a material that is a superconductor at room temperature?\\n\",\"What is the best Shonen Jump manga?\\n\",\"Are Oracle and Cisco good companies for a new grad Software Engineer?\\n\",\"If lighting a match is considered a chemical change, what is the equation for it?\\n\",\"Why is Hillary so afraid of Putin?\\n\",\"Which is the best book to study electronics basics required for electronics engineering?\\n\",\"What are the basics I should know before learning hadoop?\\n\",\"Can I use Cph4 on a day to day basis?\\n\",\"Is it safe when I buy things from China?\\n\",\"Why did some ethnic minorities support Brexit?\\n\",\"How much money has tinder made?\\n\",\"What is the limit?\\n\",\"Will browsing Facebook while connected to Tor reveal that I was online to other friends? If they're on the mobile app on their phones, and I have chat turned off, will I remain unseen?\\n\",\"If I get 68.4 percent in ftre 2016 class 10 then will I get more than equal to 50 percent scholarship?\\n\",\"No product market fit: change product or market first?\\n\",\"What makes you sad about India?\\n\",\"How do I know if someone has read my messages on wickr?\\n\",\"Why there is a sound when we crack our knuckles?\\n\",\"Why do I only make friends with guys?\\n\",\"What is 'open-mindedness'?\\n\",\"What is the cause of carpal tunnel syndrome?\\n\",\"What is the difference between a \\\"slow cooker\\\" and a \\\"crock-pot?\\\"\\n\",\"What is Hillary Clinton's stance on nuclear energy?\\n\",\"Do IIT colleges require a caste validity for an ST?\\n\",\"How do I listen a song from you?\\n\",\"Why do so many Iranians immigrate to Canada?\\n\",\"What will happen to India-U.S. relations after Trump assumed Presidency?\\n\",\"A program that stored five words in the memory then display it on the screen?\\n\",\"What are ways of joining to ISRO as engineer other than fresher or graduate trainee?\\n\",\"Can Magneto defeat Hulk?\\n\",\"What time of year is it best to visit Singapore?\\n\",\"How do I study for ib?\\n\",\"What should I do if someone doesn't reply to my email?\\n\",\"How much does Manveer Singh Phogat gets for Dangal movie?\\n\",\"What is it like to be cannibal?\\n\",\"How can the Android app development companies help your business to grow?\\n\",\"Who would you say is the most fun person in Israel?\\n\",\"How can one improve her figure and butt size without so much work out?\\n\",\"As a company that provides travel agencies and tour operators with a software solution, for what can we use Google Travel?\\n\",\"What is the most beautiful thing you saw today?\\n\",\"Is gay flirting good?\\n\",\"Can I use Stripe in Europe?\\n\",\"Will Britain leaving the European Union lead to the union eventually falling?\\n\",\"Why are so many East Asian immigrants so averse to using labor-saving devices, especially in the kitchen?\\n\",\"Why do we need computer networking?\\n\",\"What is retina detachment?\\n\",\"Why don't more bars have mechanical bulls?\\n\",\"How do I get better understanding of C++?\\n\",\"Which is the most profitable Porsche US dealer?\\n\",\"What are the best over the ear headphones for about 1000 rupees?\\n\",\"Is it true that the first kill is the hardest?\\n\",\"Which is best 32 inch led tv to buy below 20,000 INR?\\n\",\"I am scoring 130/506 in FiitJEE aits part test advanced 2016. How should I focus to increase marks in physics as I am getting only 21 in physics?\\n\",\"What kind of websites are missing from the Internet?\\n\",\"What is the best way to use free time at IITB?\\n\",\"Is it possible for me to buy my first company using an LBO if I am not affiliated with a firm?\\n\",\"What should I do to have sex with as many women as possible?\\n\",\"What is the scope of Executive MBA in India?\\n\",\"Which BMW models do not have a Hofmeister Kink?\\n\",\"What is yellow journalism?\\n\",\"Why do doctors charge uninsured patients 10 times more than insured patients, and why is it legal?\\n\",\"Which one is the best public sector job or private sector job?\\n\",\"Will social media ever help to spur on the US younger generational voters to realize how important it is to vote in midterm elections?\\n\",\"How should I know a video is 360 degree?\\n\",\"Is a practice manual sufficient for the CA Final ISCA?\\n\",\"Career Advice: Being an Indian college student, how can you earn a decent pocket money?\\n\",\"What are the advantages and disadvantages of Li-Fi over radio communication? And what could be the maximum range?\\n\",\"On Snapchat, I deleted someone. Can they re-add me or am I the only one who can re-add?\\n\",\"Are there any cereals that taste good with water?\\n\",\"Why does a woman's vagina push a mans penis out?\\n\",\"What is the British word for bullpen?\\n\",\"How hard is it for international students to get a job in Malaysia?\\n\",\"How did Revan build his foundation of his army in Star Wars?\\n\",\"What is the best way to read a fictional book? Do you take notes when you are reading? Do you read again these notes later?\\n\",\"How do you replace a ignition lock cylinder?\\n\",\"How can I prevent business failure?\\n\",\"How often do tides occur? What causes it?\\n\",\"How do I learn Calculus on my own?\\n\",\"What is the reason for Priyanka Gandhi not changing her last name to Vadra?\\n\",\"What should I eat when I'm sick with a cold or flu?\\n\",\"What is a Business Intelligence Analyst?\\n\",\"Which sports should I start to play to paticipate in olympics being 26 years old ?\\n\",\"How should I prepare for Java fresher interview?\\n\",\"How different are cuisines of Arab countries?\\n\",\"What is the meaning of the phrase, all is fair in love and war?\\n\",\"Why does Quora send me a notification that my question may need editing when I\\u2019m not the one who asked the question?\\n\",\"What are the hardest obstacles to breaking into a regulated industry and how did you overcome them?\\n\",\"What makes a falling snowflake large (or not)?\\n\",\"What is the compensation for Partners/Principals at Deloitte Consulting?\\n\",\"What is the difference between an array and a vector?\\n\",\"If you kiss the NC State wolf do you become an NC State fan?\\n\",\"Is it boring (from a social perspective) to live in Canberra in your 20's and as a student?\\n\",\"What would have happened if in 1971 war all 93000 Pakistani POW had been killed by Indian army?\\n\",\"What are the easiest things to do while being abroad to make money?\\n\",\"Does getting root canal cause problem in speaking words clearly? Does it causes mispronunciation of words? Or does it make your mouth feel heavy when you speak in your mind or in general?\\n\",\"What is the definition of a truncated sentence and what's an example of one?\\n\",\"Would I look good with a nose ring? if yes which nostril\\n\",\"What are the perks of working in Amazon?\\n\",\"How can we say that climate change does not bring about health emergency?\\n\",\"What it is like to meet \\\"Shahid Kapoor\\\"?\\n\",\"How does it feel when you are dead?\\n\",\"Which is the best juicer, grinder or mixer in India under 4000?\\n\",\"How do I learn to think more logically?\\n\",\"Which movie has the best beginning ever?\\n\",\"Which laws been enacted to prevent family members of a president from serving in his cabinet?\\n\",\"What is iPhone 6s plus cost present?\\n\",\"What is Ohm's law and amperage I?\\n\",\"What is the nicest thing a stranger has done for you?\\n\",\"Why do some heroic people who do good things choose to remain anonymous about their deeds?\\n\",\"How will Hindus react if Babri Masjid is reconstructed?\\n\",\"R2I - How did you plan R2I from US if you own the house, i mean job search, timeline etc ?\\n\",\"How can I master C programming in 7 days?\\n\",\"What is the right way to clean ear wax?\\n\",\"What are some good games to play during class?\\n\",\"Is it possible to hack WhatsApp messenger?\\n\",\"Why do airplanes carry more weight than helicopters?\\n\",\"Shaving: Do electric shavers work better than manual shavers?\\n\",\"Has anyone benefited, health-wise, from essential oils?\\n\",\"Can Students at Hogwarts have sex while there? Does some magic prevent them from being able to?\\n\",\"How can we enhance our efficiency with Yoga?\\n\",\"What are the best app review sites and blogs?\\n\",\"Can two companies be registered on the same address? Why?\\n\",\"Is it true that as per Indian law, one can't be hanged twice? Did such case ever happen in India?\\n\",\"Who would win in a war between Bangladesh and Myanmar?\\n\",\"How do you reply when someone thanks you for forgiving them?\\n\",\"Who would win a fight between wolverine and Batman?\\n\",\"What is one thing you wish for yourself in the future?\\n\",\"Can you cry underwater?\\n\",\"What's the difference between SSL, TLS, and HTTPS?\\n\",\"Why are antigravity muscles more affected in Upper motor neuron lesion?\\n\",\"In order to buy a house, does one have to rent first and save up money?\\n\",\"What is the probability of choosing a pink ball from a bag containing 1 black, 2 yellow, 5 green and 4 blue colored balls?\\n\",\"Which is the best car to get under 8 lakhs?\\n\",\"Why isn't China's role in the Korean and Vietnam wars well known? Why aren't their then leaders prosecuted for war crimes?\\n\",\"What is the Laplace transform of t^(1/2) * e^ (-1/t)?\\n\",\"To those who told a big lie to their parents and told them the truth years later - how many years did it take for you to tell your parents the truth and why did it take you so long?\\n\",\"What is runtime polymorphism or dynamic method dispatch?\\n\",\"I had sex 5 days after my period, what are the chances of being pregnant?\\n\",\"How would you describe yourself in one tweet?\\n\",\"How do fairy tales influence creativity in humans?\\n\",\"How do I add delay() and sound() in Dev-C++?\\n\",\"What is the pathophysiology of ADHD?\\n\",\"What are the top benefits of life insurance policies?\\n\",\"Can I get a TV from Bang & Olufsen for under $2500?\\n\",\"How is the life of an ece student at dayananda sagar college of engineering?\\n\",\"What is meditation?\\n\",\"Were the Ancient Greeks scientists, or just philosophers?\\n\",\"How does Google authenticator work?\\n\",\"Wouldn't it be better if kids were allowed to focus more on what they are interested in instead of forcing subjects onto them?\\n\",\"Can you apply for a certificate on Coursera/edX after completion of the course?\\n\",\"Why do Quora engineers use large monitors?\\n\",\"How do I start an online clothing business?\\n\",\"How will the government meet the challenges of access of equity and quality in education?\\n\",\"I saw a charge on my credit card under from a company called Vesta for $165. What is Vesta?\\n\",\"What is the difference between socialization and resocialization?\\n\",\"How would the world be different if everyone spoke the same language?\\n\",\"Who receives the fares in a cab service?\\n\",\"As a non-resident alien doing a summer internship in SF, what US taxes should I expect on a monthly gross salary of $3000?\\n\",\"Which is the best camera smartphone under 20k?\\n\",\"What does it mean to dream about someone before they die the next day?\\n\",\"What are the subjects in which I can apply for my master's after completing my graduation in Mechatronics?\\n\",\"What are the basics of Jainism?\\n\",\"What is the Difference between existential nihilism and absurdism?\\n\",\"How can I see my girlfriend's WhatsApp chat messages?\\n\",\"What are some ways to enjoy sex with my newly married wife?\\n\",\"How can I study the Bible?\\n\",\"How can someone be a friend, girlfriend, wife and a loving ghost all at the same time?\\n\",\"What are the Snapchat usernames of punjabi celebrities?\\n\",\"What is 1/2 times 1/2?\\n\",\"Where does the word restaurant come from and what is its root?\\n\",\"What can I do with a computational linguistics degree?\\n\",\"Will trump win as president?\\n\",\"What impact will AI eventually have on how we plan and run our cities?\\n\",\"Why is eating too unhealthy?\\n\",\"What if the Syrian civil war never happened?\\n\",\"How do the teachings, learning, followership and/or fellowship of Hinduism, project, propel and propagate the artificial intelligence and/or alternative reality?\\n\",\"Did you ever been in a group of stupid people?\\n\",\"What are the multiple types of social issues?\\n\",\"Where can I find beginner NodeJS tutorials that use bootstrap admin templates?\\n\",\"If I got a 7.4 CGPA in the SA1 10 class, then can I get 10 in the CGPA or 90% in the SA2?\\n\",\"Which the best time table for 10th class exams preparations?\\n\",\"Elite Escorts in DHA Lahore?\\n\",\"My ex bf says he doesn't have feelings for me right now. Why won't he just say I don't have feelings for you anymore?\\n\",\"What are the questions in the interview for a fresh graduate civil engineer?\\n\",\"What do you think are some of benefits to humans from protecting wild animals?\\n\",\"Which one is the best medical college hostel in india?\\n\",\"Have you lived in a tiny house?\\n\",\"What are some things new employees should know going into their first day at Fastenal?\\n\",\"Where can I hire high pressure cleaning service in Sydney?\\n\",\"How many Bollywood Actresses consume alcohol in real life?\\n\",\"How does PayU earn money?\\n\",\"Is it possible to change your personality as a child?\\n\",\"How do I apply to London School of Economics as an Indian?\\n\",\"How do I build a profile to get accepted into a star college like Caltech, MIT, Stanford or Berkeley for an MS in mechanical?\\n\",\"How can I get real ghost stories?\\n\",\"Is it possible to hack NASA's New Horizons satellite?\\n\",\"What is the best way of getting good at answering logic questions?\\n\",\"How would you deal with jerks?\\n\",\"How can I do internship in Accenture India?\\n\",\"Why would an Indian girl not want to get married?\\n\",\"My WhatsApp chat backup got deleted from Google, I need to switch from one Android to another, the chat is there only on the phone. What should I do?\\n\",\"Is going to college really worth it or just a waste of time?\\n\",\"How many prophets did God send to the Jews?\\n\",\"What is the relation and difference between Artificial Intelligence, Machine Learning and Multi Agent Systems?\\n\",\"If you don\\u2019t have a good network, what would be the best possible way to find a job?\\n\",\"What are the best place to visit in Rio de Janeiro?\\n\",\"Which is the best college for PG in Cyber Security in India?\\n\",\"Which are the best English serials?\\n\",\"How do you say \\u201cWhat\\u2019s up?\\u201d in Chinese?\\n\",\"Is it bad to take expired fish oil pills because they will do more harm than good?\\n\",\"Will there ever be a genuine Authoritarian candidate running for presidential office in the United States?\\n\",\"Is World War III on its way right now?\\n\",\"How can you use time formats in Excel?\\n\",\"What is the best antivirus for Windows 8?\\n\",\"Why do people like Metal/Hard rock so much?\\n\",\"What are the worst smelling things in the world?\\n\",\"Could someone explain the following electives at NSIT: 1. Business communication and presentation skills 2. Corporate social responsibility?\\n\",\"What's a funny thing?\\n\",\"What are the main reason of cracks?\\n\",\"How do I hitchhike in Europe?\\n\",\"What is the physical significance of quantum mechanical principles like Hund's rule and Pauli's exclusion principle?\\n\",\"How do we get dead people off business junk mail lists faster?\\n\",\"Who among the four in the picture given in description, deserves the seat?\\n\",\"How do I know if I authentically, genuinely, honestly, strongly, and truly love to watch films?\\n\",\"On average, how long does it take a letter mail from europe to be delivered in the United States?\\n\",\"When will One Piece have episode 517 dubbed?\\n\",\"What should I do if I fell in love with my best friend?\\n\",\"How do criminal lawyers sleep at night even when they know their client is guilty?\\n\",\"Can I get refund for Tatkal e-ticket because train is late more than 3 hours and I am not able to travel? Should I cancel the train or file the TDR?\\n\",\"How can I buy the new Macbook 12\\\" M7 512GB model in India?\\n\",\"What are the different e-governance methods used by Modi?\\n\",\"How do I run smoother GTA V? I have intel core i3 (5th gen) 8gb ram, intel HD graphics, 1tb HDD\\n\",\"What is the use of tanpura?\\n\",\"What are the Snapchat usernames of celebrities?\\n\",\"Which is better- cracking gate and going for IIT/iisc or waiting another year and going for masters in Germany (TUM or RWTH)?\\n\",\"Can you lose weight without exercising?\\n\",\"What is the best way to make life more interesting?\\n\",\"Is Delhi a must for UPSC coaching?\\n\",\"Which are the best colleges for electronics and instrumentation engineers in abroad?\\n\",\"I have been a .Net developer for over 2 years and I would like to switch to big data. Is it possible to switch, and how good is it? Should we learn any tools?\\n\",\"Has a smartphone ever been taken to space? If yes did it work the same way as on Earth?\\n\",\"What questions should I ask my boyfriend, we are bored while texting?\\n\",\"How do I delete a contact blocked in WhatsApp?\\n\",\"Is it a good time to buy real estate in Cyprus?\\n\",\"South India: Why is South India much more developed than North India?\\n\",\"What is the formula for a hydrocarbon?\\n\",\"What if an alien comes and tells us that the physics we are studying now is infact a primitive approach and we have made mistakes in our basic assumptions?\\n\",\"What are the pros & cons of democracy?\\n\",\"I'm 16 years old and wanted to lose weight and body fats, what are some ways to achieve it?\\n\",\"Can I add more peers to the torrent for max speed downloads?\\n\",\"What are the best neighborhoods to Airbnb in Chicago for a week?\\n\",\"What we will get in mahabalipuram beach sunrise or sunset?\\n\",\"How fast can you accelerate to the speed of light?\\n\",\"What is the difference between R-squared and Adjusted R-squared?\\n\",\"How many times can women reach orgasm in a hour and what does it feel like?\\n\",\"Why didn't Johor, Batam & Singapore integrate more like Hong Kong, Shenzhen and Guangzhou?\\n\",\"Which products are more profitable in online sell?\\n\",\"How do I get rid of muscle?\\n\",\"What is the process of directing and casting child actors in powerful movies?\\n\",\"Is the 7th pay commission needed?\\n\",\"What are the best games that are compatible on a Core 2 Duo PC with 4 GB RAM and 2 GB NVidia graphics?\\n\",\"What was the significance of the battle of Somme, and how did this battle compare and contrast to the Battle of Uman?\\n\",\"How do you see Pakistan PM Nawaz Sharif's speech at UN?\\n\",\"Where can I publish my apps?\\n\",\"What was your darkest moment?\\n\",\"Why does the UK have an unwritten Constitution?\\n\",\"What are the necessary steps in documenting a mobile app for Android phones?\\n\",\"Why was life created? Why was life so painful?\\n\",\"How can I use explainer video to review products on Amazon?\\n\",\"What is difference between residue and error?\\n\",\"If 6.5 to 8.5 will be the safe level of pH value in drinking water, then why does the distilled water (which normally has 7 as it's pH value) damages kidney?\\n\",\"I am 23 and don't know what I want. My life is very boring, I am depressed and frustrated, I don't have any good friends to share my feelings with. I don't even have a girlfriend. Sometimes I want to quit. What should I do?\\n\",\"What are your three favorite websites for reading?\\n\",\"Why do people choose to be a GAY?\\n\",\"What is the process of death?\\n\",\"Why does light red deserve the special name \\\"pink\\\"?  What about light blue and light yellow?\\n\",\"Who are millennials?\\n\",\"What it's like doing CA articleship from Big 4s?\\n\",\"What is the most important right or freedom guaranteed in the Constitution of the United States of America?\\n\",\"Why do some porn stars have unprotected sex?\\n\",\"What are my reasons to live?\\n\",\"How small would a planet need to be to plainly see curvature with the naked eye while standing on its surface?\\n\",\"Some religion speaks of burning in hell after death. We are indeed leaving the body while death. How can someone be physically pained, like burning, when he/she do not have a physical body?\\n\",\"What does it feel like to be an IITian?\\n\",\"How does cognitive behavioural therapy work?\\n\",\"Why should you visit India?\\n\",\"I lost my Google account information. How can I recover it?\\n\",\"What if I port a number from Airtel to Vodafone in between billing cycle? On what basis are they going to charge me?\\n\",\"What are the reasons why time travel is impossible?\\n\",\"Will my iPhone alarm still go off if \\\"Do Not Disturb\\\" is on?\\n\",\"Did South Korea cheat during the 2014 Asian Games?\\n\",\"Take the minimum lethal volume of a gaz, put it in a container that can be digested by the stomach, and swallow it. What would happen?\\n\",\"\\\"How to improve Project Management skills?\\\"\\n\",\"When you were small, did you ever think that your mom was weird?\\n\",\"Where did the pointy \\\"S\\\" symbol come from?\\n\",\"How does it feels like to have a rich boyfriend?\\n\",\"What have you used your intelligence for?\\n\",\"What is a freewheeling diode?\\n\",\"How do we derive pi?\\n\",\"What is the importance of communication skills in school?\\n\",\"How can I put icons on YouTube video titles? Also does anyone have a list of icons that can be used?\\n\",\"What does the phrase \\\"resonate with me\\\" mean?\\n\",\"How many types do we have of Manual testing?\\n\",\"What are IBAN numbers?\\n\",\"What is regret?\\n\",\"As a student specializing in English language, literature and linguistic, what can I work for United Nations? Which job is suitable with me?\\n\",\"What is the corporate culture like at Corning? How is the culture different than other companies?\\n\",\"How can I convert jazz standards to jazz guitar solo pieces?\\n\",\"How good was the surgical strike by Indian Army on terror camps at PoK?\\n\",\"What recipes are most conducive to romance?\\n\",\"What are the unknown facts about Tamil people which rest of the non-Tamil people should know?\\n\",\"Where do I find the most beautiful woman in the word?\\n\",\"What does the grey phone icon mean on the messenger app on Facebook?\\n\",\"How do I share 360\\u00b0 photos on WhatsApp?\\n\",\"What is the difference between working stress method and limit state method in the design of beams, slabs, columns, and footing with examples that are easy to understand?\\n\",\"What are the opportunities for an MBA in finance?\\n\",\"Can you patent clothing or fashion designs?\\n\",\"My in laws are apologists for Nazi war criminals and paedophile priests yet my autistic children love spending time with them, what should I do?\\n\",\"Which is the safest city in India for women?\\n\",\"What horse breed were commonly used during the \\\"Wild West\\\"?\\n\",\"Is it weird to sometimes feel almost overwhelmed by your love for some people (friends, family)?\\n\",\"Can anyone please list all the SAP SD topics a person should know having 3 years of experience?\\n\",\"In the filling of ibps application I put martial status married after 4 months I got divorced any problem in my job?\\n\",\"In a restaurant, what are the different types of table service?\\n\",\"Why does amir khan never go to any filmy awards function?\\n\",\"What is a good inpatient drug and alcohol rehab center in Allamakee County IA?\\n\",\"Why does UV light cause contamination on optics, but not IR light? Essentially, why is photocontamination wavelength dependent?\\n\",\"How do I invest in mutual funds in India?\\n\",\"How comfortable are you with failure?\\n\",\"What skills are required to become a quant?\\n\",\"Why do startups announce fundraising?\\n\",\"What is your review of Amazon Video?\\n\",\"Why there is no team from Tamil nadu in pro kabbadi?\\n\",\"How do I auto forward texts from my Verizon phone to my iPhone?\\n\",\"How do the Chinese people view Americans?\\n\",\"What is virgin or virginity?\\n\",\"What are the different ways of submitting a Request for a Disability Hearing?\\n\",\"Can a high school teacher legally force students to stay in class after the bell has rung?\\n\",\"Why does water droplets form on the outer surface of the container containing cold substance?\\n\",\"Which mammals have dark circles around eyes besides pandas and racoons?\\n\",\"How do each components of a printer work?\\n\",\"What are some foods beginning with the letter W?\\n\",\"What are symptoms of a bad transmission control module?\\n\",\"How do astronauts in ISS vote for Presidential elections?\\n\",\"What is the difference between Aim and Goal?\\n\",\"What is AT & C?\\n\",\"Who was Jackson Pollock? Was he mentally ill?\\n\",\"How do I make good vine edits?\\n\",\"How can I cut my penis?\\n\",\"How can I change my Quora profile photo?\\n\",\"My husband was here seeking asylum before we got married, what should I do so he can get his green card? Does being married change his status?\\n\",\"Is it good to use Laravel to develop a web app with AngularJS and Bootstrap?\\n\",\"I have a mild sore throat an headache. What is that?\\n\",\"When will a working nintendo 3DS emulator release ?\\n\",\"What do we know about the health effects of vaping?\\n\",\"INSEAD: Worth the investment?\\n\",\"How is long rides in royal Enfield classic 350?\\n\",\"What famous boxers have participated on Dancing with the Stars?\\n\",\"Will season 10 of Big Bang Theory be the final season?\\n\",\"Can I crack KVPY (SX) with only three months left for exam?\\n\",\"What are some little-known facts from World War II that fascinate you?\\n\",\"What is the most unique way of exam cheating you've done?\\n\",\"When was the last time a slam dunk broke a basketball backboard in the NBA, and why does that not happen so much anymore?\\n\",\"What should I do for my excessive hair loss?\\n\",\"How do I find people's psychological weakness?\\n\",\"What is the difference between Awareness and Consciousness?\\n\",\"I hate everything that people around me like. Is it some sort of disorder?\\n\",\"I think I am pretty good at thinking of a business model, and I wish to become a great entrepreneur. I am still 18. Should I still go to college?\\n\",\"How do you determine the thickness of a footing based on the total load?\\n\",\"Why does vapours are formed when we pressurize alcohol in a bottle?\\n\",\"Is it easy to adjust in German Universities without attending the Studienkolleg course?\\n\",\"What is UNIX and UNIX-like?\\n\",\"What is the best way to promote www.dorkyard.com?\\n\",\"What's up in Addis Abeba tonight?\\n\",\"Is there any point to going to college if you have to take out a fair amount of student loans?\\n\",\"How much would it cost to construct 800 sqft area RCC slab?\\n\",\"What is an ideal wife? What is an ideal husband? What is an ideal mother? What is an ideal father?\\n\",\"What information does port scanning provide?\\n\",\"What are the application of quasicrystals?\\n\",\"What is the determinant of the inverse of a matrix?\\n\",\"How is Brad Pitt in \\\"real Life\\\"?\\n\",\"I have a 3 yr bachelor's degree in Computer Science, can I sit for or am I eligible for the gate exam?\\n\",\"Demonetisation is good for county like India or not?\\n\",\"My parents think I am rude for being so introverted, is there anything wrong with being an introvert?\\n\",\"How many people have jumped off the Golden Gate bridge?\\n\",\"What are Osho's views on Islam?\\n\",\"Why does the government regulate health care?\\n\",\"Which phone has the best sound recording quality?\\n\",\"What is the best part of your life, and why is it so?\\n\",\"Which is better hair wax or hair clay?\\n\",\"How do I charge my motorcycle battery?\\n\",\"What are the updates we get after miui 8.0.6.0?\\n\",\"Why does Robinhood need to bypass the App Store?\\n\",\"Which is a better route, Alipiri or Sri Vaari?\\n\",\"How much extra would it cost if Apple manufactured the iPhone in the USA?\\n\",\"When will the next recession be?\\n\",\"What are some arguments in support of electing Donald Trump?\\n\",\"What does Russia want with Ukraine?\\n\",\"What is the difference between a recorder (block flute) and other flutes?\\n\",\"What is the meaning of random number?\\n\",\"Which one is good for health: tea or coffee?\\n\",\"Is Texas good state for non-resident to register a LLC?\\n\",\"What is kirchoff's law?\\n\",\"Is it wrong for a family member to keep making comments about how I might have diabetes, despite only being heavy and having no other symptoms?\\n\",\"My parents are forcing to marry a girl of their choice. I love another. What should I do?\\n\",\"Which is better, Windows+Linux or OSX?\\n\",\"Why aren\\u2019t Christians that pray to/have a relationship with Jesus considered psychotic?\\n\",\"How much TDS will I have to pay for an RD account giving me interests of 10500 INR in a year? Would it be 10% on 10500 or 10% on 500INR (10500-10000)?\\n\",\"What is the meaning of thematic connection?\\n\",\"How should you prepare to take your maneuverability test in the state of Ohio?\\n\",\"What are the best materials/videos/resources to get maximum marks in TOEFL within 1 week?\\n\",\"Can a \\\"dirty\\\" finish be added back to jeans?\\n\",\"Why does my dog keep whining at night?\\n\",\"Is it bad to turn off my PC using the power button?\\n\",\"What is image processing?\\n\",\"I went to school with mostly black kids, they bullied me frequently, beat me up, called me names like a cracker and so on. I dislike black people since then. What can I do?\\n\",\"Does Donald Trump actually think he can become President?\\n\",\"Which are the 5 best movies you have ever seen?\\n\",\"How do I get traffic to excursions travel website?\\n\",\"Where can I download the Android game Leo's Fortune for free?\\n\",\"How do I get more followers and upvotes on Quora?\\n\",\"What is a factory reset on a phone?\\n\",\"Which phone should I buy if my budget is 12000?\\n\",\"I have GPU implementation as a graduation project. Is there any recommended material?\\n\",\"What are the libertarian views on the Antarctic Treaty System?\\n\",\"What would the world be like if it were ruled by a single person/nation?\\n\",\"How do you choose your first bank?\\n\",\"Who runs berkuliah.com?\\n\",\"What does Godel's incompleteness theorem mean for the average mathematician, engineer, computer scientist, astrophysicist, and theologist?\\n\",\"How do I delete a Gmail account?\\n\",\"If my ultimate goal is to become a vegan, should I go vegan straight away, or should I try a vegetarian diet first?\\n\",\"Did the US win the war in Afghanistan?\\n\",\"How can I become a good engineering student?\\n\",\"What are some ways to increase intuition?\\n\",\"What causes depression in humans?\\n\",\"How can I control my anxiety and worries?\\n\",\"How can we jump in between the working regions of a transistor?\\n\",\"How do I stop loving someone who loves me?\\n\",\"Can personality and insecurity create a liar?\\n\",\"What is the best country and university to do a PhD in particle physics?\\n\",\"How do I edit a video offline?\\n\",\"What is the rent of kiosk in an upscale mall?\\n\",\"What should I start reading if I want to attempt the UPSC exam after three years?\\n\",\"Which is the best anti-virus for computers?\\n\",\"Does food unite people?\\n\",\"What do you like most about Internet?\\n\",\"What is a good model of federalism in the Philippines and why?\\n\",\"How do you know if a girl secretly loves you?\\n\",\"Who is the most annoying fictional character you have ever encountered in a book?\\n\",\"How do you feel when your question is unanswered on Quora?\\n\",\"Did early humans know how babies were made?\\n\",\"If I cancel xfinity, how can I sign up as a new customer to get promos?\\n\",\"Are there any TV series similar to House MD?\\n\",\"What you need to know before buying furniture for your home and office?\\n\",\"Have you ever had a dream happen in reality?\\n\",\"Is dark matter just a scientific theory or has its existence been scientifically proven?\\n\",\"How can you increase your tolerance for pain?\\n\",\"How many logical fallacies are there?\\n\",\"How do buttercream icing frosting separate?\\n\",\"Which is the cheapest cinema hall of India?\\n\",\"What do you think would be a good gre score?\\n\",\"What is the best way to update Xiaomi redmi 3 to Miui 8 version?\\n\",\"What does toe jam cheese taste like?\\n\",\"How do I know if a YouTube video is copyrighted?\\n\",\"How should I start a business reselling shoes?\\n\",\"How do I hire a mobile app development company?\\n\",\"What is paras pathar?\\n\",\"How is the word \\\"colony\\\" used in a sentence?\\n\",\"What is Rebecca Fugate known for?\\n\",\"What should I consider before starting my consultancy firm?\\n\",\"Do you feel that many attractive women get away with crime that men won't?\\n\",\"Why do I feel so much guilt for kissing a girl?\\n\",\"What are some good tutorials for learning Blender?\\n\",\"Is it deceitful to befriend someone in the hopes that they would eventually become attracted to you, especially when they say that they don't want a romantic relationship?\\n\",\"Who do you think BJP will put as a candidate for the presidential election in India 2017?\\n\",\"Which protein supplement is best for gym to gain weight?\\n\",\"What is your review of KVPY SX/SB 2016?\\n\",\"How do I get people's attention for my work?\\n\",\"What are some of your own personal stories and experiences with Taureans?\\n\",\"If salt concentration of the sea(3%) were different from now, what would like life on earth?\\n\",\"What is the chemical name for mothballs? How was it assigned?\\n\",\"Vitamin D receptors in the Testes?\\n\",\"How do I lose weight without working out?\\n\",\"Where can I watch anime?\\n\",\"What is BusyBox used for?\\n\",\"What would be a good desktop computer for software development?\\n\",\"What are your top five favorite books and why?\\n\",\"What are some good Harry/Ginny fanfiction?\\n\",\"What are the pros and cons of having sex during periods?\\n\",\"Which device will you enjoy watching movies in: a Quad HD phone or a laptop with a 1366x768 resolution?\\n\",\"Will there be \\\"faithless\\\" electors this election?\\n\",\"Is Donald Trump an undercover democrat?\\n\",\"Why am I the way I am?\\n\",\"Why do some women get their nipples pierced?\\n\",\"What do Delhi University girls (especially North Campus) think of FMS guys?\\n\",\"What is the name of this TV series?\\n\",\"My salary is below the Basic Exemption Limit, yet my employer deducts TDS. Any solution?\\n\",\"What is a foliated rock?\\n\",\"What are some of the best books to start learning optics?\\n\",\"How should I prepare for IIT-JEE 2018?\\n\",\"How do unions work?\\n\",\"Can we give neet coaching in class 11?\\n\",\"Which is the best dish TV connection in Hyderabad?\\n\",\"How can you train a Doberman/Lab mix?\\n\",\"How do you reduce stress at work?\\n\",\"What is the best algorithm for finding the number of elements below a certain element in the array?\\n\",\"How can I earn $250 in 2 months?\\n\",\"Why did GE buy NBC?\\n\",\"What is the highest level of c?\\n\",\"How do you mash potatoes without a masher? What else can be used?\\n\",\"How difficult is it to learn Python?\\n\",\"How do you convert years into seconds?\\n\",\"How do you view bisexuality?\\n\",\"What is information technology? What are some examples?\\n\",\"Why are Altoids so strong?\\n\",\"How effective is email marketing?\\n\",\"Why does my tutor keep winding me up. He says he is only joking?\\n\",\"How can I start my Tok essay which is about accuracy and error?\\n\",\"How do I repair my corrupt memory card?\\n\",\"I have 3 years to prepare for IIT JAM Physics. How do I prepare for it?\\n\",\"What are the best Instagram hack tools that have no survey?\\n\",\"I am studing interior design. What are some good ideas for graduate projects? I need a whole big project with strong concept.\\n\",\"What are some stupid jokes that make you laugh?\\n\",\"What are the factors affecting Real estate investment location in metro city?\\n\",\"How can I get rid of white dry spot on my face? It has affected my appearance\\n\",\"What is it like to have an ugly wife/partner?\\n\",\"What do you love most about your life and why?\\n\",\"In the unlikely event that the Electoral College throws the vote, how soon will we know?\\n\",\"How is life as an Engineer?\\n\",\"Where and why are the imaginary numbers used?\\n\",\"What are some good hypo-allergenic lipsticks?\\n\",\"Did the United Nations play a part in the divide of Palestine? If so, how?\\n\",\"When and Why did America become a world power?\\n\",\"What are some recipes using Hormel Black Label Ham?\\n\",\"Which is the best company to invest shares on November 15 2016?\\n\",\"The man I'm about 2 marry says when I have my period, I will not share his bed, nor cook for him or have sexual relations with him, what do you think?\\n\",\"What can be the best answer for why finance?\\n\",\"What are the best facts about the universe?\\n\",\"What's the sweetest thing you did for a bestfriend\\\"s (girl) birthday?\\n\",\"What is the difference between techno and trance music?\\n\",\"TV Sitcoms: Why do English comedy shows have people laughing in the background?\\n\",\"Does percentile system would affect neet 1 students too much?\\n\",\"Is there Uber in Valencia, Madrid and Barcelona?\\n\",\"Have real-life siblings ever shot intimate scenes on a screen (TV/movie), in the name of professionalism?\\n\",\"How should I improve my writing skill for blogging?\\n\",\"Can cold weather affect a menstrual cycle?\\n\",\"How can we earn money online while studying?\\n\",\"Can a tablet keyboard be used on any kind of tablet?\\n\",\"What are the Upcoming development projects in Chhattisgarh?\\n\",\"Where can I buy cheap Twitter followers?\\n\",\"Why do passengers from aircraft are not given a bulletproof jacket and a helmet to save themselves in case of a hijack by gunmen ?\\n\",\"When should I tell my crush I like her?\\n\",\"Why does Pakistan have a better image and reputation than India in the world?\\n\",\"What are Andrea Pirlo's strengths as a midfielder?\\n\",\"From a point in space billions of light years away from Earth, would CMB radiation appear to be coming from our solar system?\\n\",\"Will Medicaid pay for electrologist to do the shave on my general area before I can have sex reassignment surgery?\\n\",\"Why do technical employees despise sales people so much?\\n\",\"What are the best freelance websites for C#?\\n\",\"Will I be successful without educations?\\n\",\"How can I learn about cars?\\n\",\"What is the best question asked in an interview?\\n\",\"Why there is so much hatred against Brahmins in India who dedicate their lives for the welfare of all mankind?\\n\",\"How do I learn to enter journal entries online in 2 weeks or so?\\n\",\"Will CS be issuing a PR message for Boston?\\n\",\"Why do some people 'hate' drugs or people who ever use them? Isn't that a bit extreme?\\n\",\"How do I know my passion? What is my talent and what thing am I good at?\\n\",\"How do pessimists and optimists differ?\\n\",\"How many pulleys did it take for Archimedes to lift the ship?\\n\",\"What is the best course after 12th for a medical student?\\n\",\"What are the steps that I should follow to get in a surgery residency program in Germany?\\n\",\"Where was the boston marathon?\\n\",\"What is it like to be in or around a bomb blast?\\n\",\"Will Trump destroy international US-companies through protectionism?\\n\",\"Should celebrities have the right to voice their opinions on politics?\\n\",\"Can I say that: \\\"A battery can be seem as a capacitor\\\"?\\n\",\"What is it like to be an ENTP?\\n\",\"How do I start designing on glass?\\n\",\"What is the market risk premium formula?\\n\",\"How can I pay the parking meter if I have no coins?\\n\",\"Is it true that Obama has a secret son named \\\"Luther Obama\\\"?\\n\",\"Which is the best coaching for IAS in up?\\n\",\"How big is the equity funding market in North America?\\n\",\"Which are the good government medical colleges in Maharashtra?\\n\",\"How do I control my hair fall?\\n\",\"Is it really worth creating Shopify themes?\\n\",\"What can cause knee pain? It only hurts when I stand up from sitting, or when I lie down.\\n\",\"Where can you find a list of common 9 letter words?\\n\",\"NSFW: Is this penis color normal or should I see a doctor?\\n\",\"Why do most women remove the hair from their arm pits?\\n\",\"Which processor is better (faster/more efficient), Snapdragon or Intel Core?\\n\",\"Which two statements are true regarding views in sql?\\n\",\"What is the easiest and quickest Indian food recipe?\\n\",\"What are the best local SEO companies in India?\\n\",\"How do I get rid of adult content on my Quora feed?\\n\",\"Can the zombie fungi attack humans as well?\\n\",\"If I wanted to learn about the Roman Empire,what would be the best books to read?\\n\",\"What are the key differences between LXDE and XFCE Desktop environments? Which one do you people prefer among LXDE, XFCE or Gnome 3 fallback?\\n\",\"Can people see the sellers real name, e-mail address, social media profiles or PayPal account details on Fiverr?\\n\",\"Should I still watch The Matrix movie?\\n\",\"Is there any truth to the rumor that the youngest first son elect, Barron, shows the signs of autism?\\n\",\"Is it ok that I don't want to hang out with my family?\\n\",\"I am in class 9. If i want to crack IIT JEE, then which book would be good for chemistry in class 10?\\n\",\"Will Obama's gang stalking/surveillance program be exposed by the Donald Trump administration?\\n\",\"What are some good songs to lyric text prank a friend?\\n\",\"Where can I get best quality video DJ for party in Sydney?\\n\",\"How long does it take for your hair to grow?\\n\",\"Should I update my Redmi 3s from MIUI 7 to MIUI 8?\\n\",\"How do muscles work?\\n\",\"WHAT IS THE BEST ROUT FOR NEPAL PASUPATI NATH TEMPLE FROM ASSAM?\\n\",\"How to make a website similar to feedwiser.com in Wordpress?\\n\",\"Why does India so scared of CPEC?\\n\",\"What did your first sex feel like as a girl?\\n\",\"In International ODI/T20 cricket matches, if a batsman hits a ball which is above the head height (and which is not a full-toss), is it a no-ball? ?\\n\",\"Why can humans feel acceleration, but not constant speed?\\n\",\"Can the Microsoft Surface Pro 4 run AutoCAD?\\n\",\"What are the differences between stock Crown Victoria and the Police Interceptor edition?\\n\",\"What are the good ways to download Lynda.com's tutorial for free?\\n\",\"How much is the average salary package for a 1.5 years experienced .NET developer in India?\\n\",\"How can you reduce the barriers of communication?\\n\",\"Why would someone use Instagram Stories over Snapchat?\\n\",\"Whiskey: How many 'shots' are in a fifth of Jack Daniel's?\\n\",\"What might happen now that President-elect Donald Trump has won the election? What will be the impact?\\n\",\"How do I write a waiver letter for school?\\n\",\"I am interested in persuing ma industrial psychology but am confused where to start from ? / do we absolutely need to give gre for the same\\n\",\"Does modafinil shows up on a drug test? Because my urine smells a lot of medicine?\\n\",\"Is it possible to get high off Vyvanse?\\n\",\"Is an agnostic necessarily a skeptic, and how?\\n\",\"Where can I get best support in Sydney for buying a property?\\n\",\"What are the duties of a lieutenant in Indian army?\\n\",\"Why is smileys not used on Quora?\\n\",\"What does it feel like for a man when someone who he impregnated whom he is not in a relationship with gets an abortion?\\n\",\"How does post graduation permit impact .lets say I study masters that was supposed to be 2 years and I completed in 1.5 years?\\n\",\"Online Payment Gateways and Processing: What is the best international payout solution?\\n\",\"What are the best books to learn c programing language?\\n\",\"Solid State Physics: What is The Theory of Alloys?\\n\",\"How do I fill in my first name in a PAN card duplicate request form as my first name is printed in initials in my certificate, but the PAN card form doesn't allow initials?\\n\",\"Why is egg yolk not good for you?\\n\",\"Anatomy of Female Pelvis: Do women really have an extra hole near the vagina other than the anus?\\n\",\"How much does it cost to develop mobile application?\\n\",\"Who is the most honest Game of Thrones character?\\n\",\"What is a high quality Apple MacBook Air charger?\\n\",\"Where and how is the WWE championship belt made?\\n\",\"What is green communication?\\n\",\"I have been a good student since chiild hood but just do not feel like studyiing recently .What is wrong with me?\\n\",\"I'm solving exercises of artificial neural network and there is a question related to the perceptron learning rule. In perceptron, if threshold < learning rate, does the exact value of threshold matter? Does it matter if threshold>learning rate?\\n\",\"Compared to your own compensation, and in consideration of local labor markets and experience, how off the mark do you find salary surveys available from Salary.com, Indeed, Robert Half International, US Bureau of Labor and Statistics, and other freely available sources?\\n\",\"How can I keep browsing Quora forever?\\n\",\"Having built web stuff the old way (PHP/MySQL) back in the day and wanting to build a new account based web site / app that can handle scaling. What's the best tech / approach these days?\\n\",\"Is our new currency note of Rs.2000 equipped with nano GPS chips?\\n\",\"What's the best way to join a startup in DC?\\n\",\"What would happen if we added a second Earth of equal size and mass on the other side of the sun in Earth's orbit?\\n\",\"When will piracy on Android stop?\\n\",\"What do you mean by executive consultant and support in networking domain?\\n\",\"Why do I always feel like I am missing something?\\n\",\"What does a user see when he/she gets a new message on Instagram?\\n\",\"How can I become a web developer?\\n\",\"Is there any good alternative softwares to Tally?\\n\",\"Would you have sex during period?\\n\",\"Are there prominent Bangladeshi Hindus?\\n\",\"I have registered for PhD (no NET) (phy) in 2013, now waiting for final defense. Am I eligible for Assistant prof Jobs after awarding?\\n\",\"I changed my name, but the person did a mistake. My new name is what I wanted but my old one in the form is incorrect. So is my name changed or not?\\n\",\"At what age do your breasts stop growing?\\n\",\"How do I get a girl's phone number in a library?\\n\",\"I am into a habit of over thinking things. How do I get rid of it?\\n\",\"What is the average salary of a civil engineer?\\n\",\"What is the difference between rote learning vs meaningful learning?\\n\",\"What are the ways to compete in the Olympics in 2020?\\n\",\"What trivia (and/or little-known facts) do you find interesting about Washington?\\n\",\"Xiaomi Redmi note 3: Which is the best colour to buy?\\n\",\"What does \\\" the Hadamard Perron theorem\\\" means?\\n\",\"Is there a way to see the viewing history and chat history in Google Docs?\\n\",\"What is the best place for trekking in Goa?\\n\",\"How does an instant messenger work?\\n\",\"What are the disadvantages of the World Trade Organization?\\n\",\"Why does the US military not use AK series rifles?\\n\",\"Does Moto m have gorilla glass?\\n\",\"What is the hierarchy of an associate consultant at wipro? I am getting 6 lpa as a fresher. Is it at par with the post?\\n\",\"What are some major landforms in Texas, and how do they compare to the most famous landforms in Alaska?\\n\",\"What other jobs can a medical degree holder do meanwhile waiting to be appointed in a public hospital for internship?\\n\",\"MY HP DEXTOP DOESNOT CONNECT WIFI WHY?\\n\",\"How can I get motivated to workout?\\n\",\"What should I gift it to my mom on her birthday?\\n\",\"Which is the best video you have ever seen?\\n\",\"I was selected in campus and was issued a joining date then itself.Due to the postponement of my final exams I can't able to report?\\n\",\"What makes a poem a good way to express emotions? How does it influence creative writing?\\n\",\"What would happen if I cut down a tree outside my house?\\n\",\"Can you make money in Amway?\\n\",\"Body Weight: How many pounds can I gain every week?\\n\",\"What are the impacts (both positive & negative) of declining crude oil prices on Indian economy?\\n\",\"I forgot the password which I used to login n n lost my mobile so how I can get login again but there is not email id?\\n\",\"What are the best websites for career?\\n\",\"What is your favourite episode of the office (USA)?\\n\",\"Why is time slower down near heavy objects?\\n\",\"How do l update any version after rooting the mobile?\\n\",\"Why is 3 am called the witching hour?\\n\",\"How do I run a shell script from Java code?\\n\",\"What are the advertising campaigns of 2011?\\n\",\"Should I opt for computer science if I don't take the 5th subject in boards?\\n\",\"What are the polymers of protein?\\n\",\"How much better will the JWST be than Hubble?\\n\",\"What are the greatest examples of absence of mind?\\n\",\"How can I understand the STOCK market from the basic level?\\n\",\"How do I make Gazpacho?\\n\",\"What is the typical role of a brand manager?\\n\",\"Who are the top 5 hottest women ever?\\n\",\"What is the name of the game that Aamir Khan was referring to in his episode of koffee with Karan season 5?\\n\",\"How long does it take to learn dance?\\n\",\"What's the funniest thing that's happened to you at school?\\n\",\"Why are metals malleable and ductile?\\n\",\"List of national daily in India?\\n\",\"Are Volvos actually safer than comparable cars?\\n\",\"Can you tell who has been looking at your Instagram the most?\\n\",\"A ball dropped from the roof of a building takes 4.0s to reach the street. How many feet high is the building?\\n\",\"What percentage of Hillary Clinton's supporters has voted for her just because of her gender?\\n\",\"Do you think you are beautiful?\\n\",\"Which are the free email marketing tools?\\n\",\"What topic of discussion do people hate the most? What other topics makes people very angry or disgusted at the thought or sight of it?\\n\",\"What is the point in having hyper-politicised student unions in India's academic institutions?\\n\",\"Why Steve Jobs is considered as innovator?\\n\",\"How long would it take an average programmer to write 1000 lines of code?\\n\",\"Why are conservatives defending Holly Fisher? (see photo) And what is the difference between her and Reem Saleh Al-Riyashi? (again, see photo)\\n\",\"What is so important about Adam Smith's pin factory example?\\n\",\"What is the Arizona bark scorpion, and how do animal species in the Sonoran Desert compare to species in the Syrian Desert?\\n\",\"How do I stop smoking cigarettes?\\n\",\"What are the functions of a computer's motherboard?\\n\",\"How can tea bags help for styes?\\n\",\"How can I get a patent for my really effective innovative ideas?\\n\",\"Can India ever become 'Sone Ki Chidiya' again?\\n\",\"Is there any way to play Android games LAN multiplayer using a windows 10 computer?\\n\",\"Why should I ask my first question?\\n\",\"Who are the top writers on Hinduism on Quora? Who is your favorite?\\n\",\"How do I wake up at 4:00 A.M.?\\n\",\"Why is Quora moderation collapsing all my answers?\\n\",\"In an honest assessment, what do you think of Trump\\u2019s cabinet picks?\\n\",\"What type of bonding is present in a coordinate bond?\\n\",\"Is it possible to delete your Wikipedia account history?\\n\",\"I'm a +2 CBSE non-medical student. Is there any provision to give a single bio-paper instead of repeating +2 with all 5 subjects?\\n\",\"Are there any limitations as to setting up a foreign investment-related business in China?\\n\",\"How will the drought in California affect its economy?\\n\",\"What is Informatica online training?\\n\",\"Is it compulsory for a Web designer and developer to have a strong UI/UX skill?\\n\",\"How could the US realistically pay off its debt?\\n\",\"Who is Barry Soetoro?\\n\",\"How do I solve [math]2x^3-x^2+11x+3=0[/math]?\\n\",\"What are some hobbies couples can do at home?\\n\",\"How have meerkats adapted to the desert?\\n\",\"What causes dizziness when you lay down?\\n\",\"What should one do after a civil engineering degree?\\n\",\"What are the advantages of hiring skip bins services?\\n\",\"Why is it necessary that singers lip-sync?\\n\",\"How can I turn off the screen overlay detected on my Samsung Galaxy J7 Prime?\\n\",\"How do you clean or polish a pair of Woodland shoes?\\n\",\"What are some classes you wish you took in high school?\\n\",\"What is the formula of [math](a+b)^3[/math]?\\n\",\"What is it like to commit yourself to a psychiatric hospital?\\n\",\"Is there any way to slow or reverse the late effects of polio (accelerating muscle weakness)?\\n\",\"What would the implications be if we discovered there is no such thing as \\\"dark matter?\\\"\\n\",\"Any other program to help on code contribution for open source project other than Google Summer of Code?\\n\",\"What is the bond order of [math]H_2[/math]?\\n\",\"What is the best way to create a website without coding?\\n\",\"What were some causes and effects of the French Revolution?\\n\",\"What are some catchy headlines for a dating site?\\n\",\"Should I get Company of Heroes, World in Conflict or Men at War?\\n\",\"How do I remove a person from a group in Skype?\\n\",\"Why was Manmohan Singh briefed by PM Modi after surgical strike in PoK?\\n\",\"Does anybody want to learn Chinese?\\n\",\"Is Xiaomi going the Nokia way to oblivion?\\n\",\"Should I buy hp 17.3 AMD laptop or lenovo 17.3 i5 laptop?\\n\",\"Which is better a government job or a software job? Why?\\n\",\"How can the word \\\"credulity\\\" be used in a sentence?\\n\",\"Does uber track time on app?\\n\",\"How do I get over direct rejection?\\n\",\"How can any institute get an ISO certificate?\\n\",\"What are the best pranks?\\n\",\"Are non-solicit agreements enforceable if the person being recruited has also left the company in india?\\n\",\"Which phone is best in 2016 for a 18 years boy my budget is 20000?\\n\",\"What is the definition of an archetypal hero?\\n\",\"Why are some \\\"ugly\\\" people still very attractive?\\n\",\"What are the chances of Donald Trump's impeachment?\\n\",\"What would a society based on laws enforcing only consensual interaction free of force, threat, or deception among humans and having no other kinds of laws be like?\\n\",\"What is the full form of \\\"veto\\\" power?\\n\",\"How much do people get paid to do a TED talk?\\n\",\"What does it mean to say \\\"enriching herself off of the rigged election\\\" in the following picture?\\n\",\"How can I be more persuasive at work?\\n\",\"What is the corporate culture like at National Beverage? How is the culture different than other companies?\\n\",\"What is the fastest way to get a PAN card?\\n\",\"Who will win in America presidential elections in 2016?\\n\",\"How do I solve this differential problem?\\n\",\"How is Banjara's Saffron Facial Kit used?\\n\",\"How do you understand life?\\n\",\"Will an MS from NUS in electrical engineering provide good job opportunities in India?\\n\",\"How does one create a strong password? Any tips?\\n\",\"Who was the best dressed at the 2016 Emmy's?\\n\",\"What is the cost of manufacturing a SIM card?\\n\",\"Are you tolerant?\\n\",\"Is [math]\\\\{1,2,3\\\\}[/math] a compact subset of a metric space?\\n\",\"What kind of energy is involved in hearing and vision?\\n\",\"What happened with Lehman Brothers?\\n\",\"What is a good web page publisher?\\n\",\"Why does eating radishes cause diarrhea?\\n\",\"How do I encrypt the data on my Android phone?\\n\",\"If there were an Oscar for \\\"Best Line in a Movie\\\", which line would win it in a Tamil movie?\\n\",\"Why are tyres black?\\n\",\"What is the best way to unlock a Motorola Droid Bionic?\\n\",\"Is a $45 a month job worth the experience?\\n\",\"Should I settle in Canada or Japan?\\n\",\"How is the appraisal process in Accenture? How will they rate me? How are rating and variable pay percentage related?\\n\",\"How does sand turn into glass?\\n\",\"What effect will increased automation of jobs and high unemployment have on population growth?\\n\",\"I am 25 years old Indian guy, want to settle in New York. What is average monthly expenditure for in New York?\\n\",\"What are some Raksha Bandhan gift suggestions for my sister?\\n\",\"How do I write a multi-dimensional villain that is pure evil and corrupt?\\n\",\"Why is there no nucleus in a red blood cell?\\n\",\"Why do Quora allow anonymous fake questions from American Republican supporters?\\n\",\"Is it possible to merge a foursquare venue into a Facebook places page?\\n\",\"How do I find out if I have Siri on my phone?\\n\",\"Why do I feel like I'm not living my life?\\n\",\"What will happen to global stock market if Donald Trump wins the Presidential election?\\n\",\"What makes weeds grow so much faster and easier than other plants?\\n\",\"Do people with extremely high IQ need higher sugar intake to get energy?\\n\",\"What should teaching assistants do?\\n\",\"Why is Perth one of the most liveable cities in the world?\\n\",\"How do you get to the entrance for Resolution Cave in Pokemon Sun and Moon?\\n\",\"How do I get involved in research as an undergraduate in physics?\\n\",\"If you have one option to remove anything, what will you choose?\\n\",\"What are the risk after angioplasty?\\n\",\"Why can't men read the signals women give off when they're interested?\\n\",\"How can a non-EU medical graduate get into residency in Italy?\\n\",\"How do I stay active?\\n\",\"I'm going to Paris. What is the equivalent \\\"neighborhood\\\" of Paris to the Mission in San Francisco, or Williamsburg in New York?\\n\",\"How do I get rid of dandruff, or at least prevent hair loss that my dandruff causes?\\n\",\"Is Medicaid going to pay for the electrologist for the shave my private parts before the operation could take place?\\n\",\"When Australia became a nation in 1901, Did aboriginal women lose their human and voting rights which were legislated in 1896.\\n\",\"What is the difference between SSL and Sitelock?\\n\",\"What are some unsolved problems in deep machine learning?\\n\",\"What's the difference between computer engineering and computer science?\\n\",\"Is it possible to get a decent job after completing IPCC?\\n\",\"What is the difference between MG & BG in railway tracks?\\n\",\"How do I control an Arduino with a Raspberry Pi?\\n\",\"What is the best field to pursue MS after doing electronics engineering in UG?\\n\",\"What is the difference between Directx and graphics card?\\n\",\"How do I wirelessly charge the electrical devices by piezoelectric effect?\\n\",\"Can you upload Numbers sheets from iPad to Google Sheets?\\n\",\"What's the best movie franchise you have ever watched?\\n\",\"If light does not have mass, then how can it be absorbed by a black hole?\\n\",\"Why is the book of Esther in the Bible?\\n\",\"What makes comic books worth reading?\\n\",\"What are the advantages of outsourcing property management services?\\n\",\"What is a Quora credit competition?\\n\",\"Are data analyst/data science jobs boring?\\n\",\"Why don't satellites crash into each other?\\n\",\"How do dermatologists remove blackheads?\\n\",\"How can I choose between my dad and my mom?\\n\",\"Can you really not change people?\\n\",\"Being a non believer of a spiritual entity, I have always been asked by Christ followers to explain the non belief though they talk about the cross and happenings in the bible. how do I counter this?\\n\",\"Is black coffee fattening? If so, what makes it fattening?\\n\",\"The education system is outdated. What would you do to change it?\\n\",\"Who are the founders of Quora?\\n\",\"What is it like to be a landlord?\\n\",\"How many stamps do I need to send a letter to germany?\\n\",\"My father just recently got married. His wife goes out with her daughter to hangout with her ex! Is this a sign of cheating?\\n\",\"Which countries are best to migrate from the US?\\n\",\"Can any one tell me a basketball club in Bangalore?\\n\",\"How can Spotify download songs offline?\\n\",\"How do I make money online for free in Spain?\\n\",\"Why is Tornado Alley prone to tornadoes?\\n\",\"How does helium change the inhaler's voice?\\n\",\"What is a bedding ceremony in Game of Thrones?\\n\",\"What is it like living in former East Germany as a former West German?\\n\",\"Did the USA or NATO commit any war crimes in Iraq?\\n\",\"Why don't we capture terrorist and behead them?\\n\",\"What is your favorite quote (books, movies, people, poems, etc.)?\\n\",\"What mixes well with peach vodka?\\n\",\"Which Patanjali products contain cow urine?\\n\",\"Why are three phases denoted by RYB?\\n\",\"Where could I learn JavaScript online?\\n\",\"Is it appropriate to wear a sports bra simply to the gym?\\n\",\"What are the differences between Jenkins CI and Drone CI/CD?\\n\",\"T right do you think we should be entitled to?\\n\",\"What was the public's reaction to Crystal Pepsi?\\n\",\"How can I crack MH-CET 2017 engineering by self-studies from today?\\n\",\"What is the way to become a dental hygienist in the USA after doing a BDS from India?\\n\",\"Why do solving math/statistics problems causes my brain to wake up in the middle of the night unable to go to sleep?\\n\",\"Does your name sound as awkward to others as it sounds to you?\\n\",\"What is the proper format of writing formal-informal letters (with resume), speeches, articles, and notices?\\n\",\"How does doc2vec represent feature vector of a document? Can anyone explain mathematically how the process is done?\\n\",\"Why are software development task estimations regularly off by a factor of 2-3?\\n\",\"How can I set up molecular pathology lab?\\n\",\"How do I score a rank in CA - IPCC?\\n\",\"What are some examples of strong organic acids?\\n\",\"What can be a good hindi (indian) name for a tea brand?\\n\",\"Is the Google host matching process different for Hardware Engineering interns for Summer 2016?\\n\",\"Is Cuba considered part of Latin America?\\n\",\"Does the following script (\\u0256\\u2200\\u0f61\\u0632\\u2202 \\u0250\\u0167 \\u01ab\\u04bf\\u03de\\u026e\\u2609 \\u027d\\u03c6\\u0289\\u029b\\u0195), appear like written Greek?\\n\",\"How can I increase my website's DA?\\n\",\"Is it normal to imagine having sex with other guy when having sex with my boyfriend?\\n\",\"What is the percent purity (approx) of consumable aspirin?\\n\",\"Do soulmates just come walking into your life when You least expect it? Or do you have to play the dating game until you find someone compatible?\\n\",\"If I use marijuana with my boyfriend, is there a possibility that I may reveal secrets to him due to the effects of the drug?\\n\",\"Can you analyze everything in soil?\\n\",\"What difference it would make if India Nuked and Killed all Pakistanis?\\n\",\"What are the advantages of a dominant party system?\\n\",\"What were some things India did not do but takes credit for?\\n\",\"How many total women have accused Bill Clinton of rape?\\n\",\"Why do I wish some fictional characters existed?\\n\",\"Where can I find best hotel at Ranikhet?\\n\",\"How do I make good memes?\\n\",\"What are some of the common sayings or proverbs in Telugu?\\n\",\"What kind of writing style makes someone a \\\"dark writer\\\"? Is it even a writing style?\\n\",\"Are Trump and Hillary really the best America has to offer?\\n\",\"How can I make my career in embedded system and robotics?\\n\",\"Will adding a USB to VGA adapter always give an extended desktop result or does it depends on driver(s) compatibility to handle two monitors on Win 8?\\n\",\"We will never be able to see our own faces with our own eyes (without a mirror), is this anything to feel worried about?\\n\",\"What are the ways you can stop a friend from pitching something that you don't need?\\n\",\"What is the average time for preparation of IAS?\\n\",\"How can I learn new things quickly?\\n\",\"What is the definition of political courage?\\n\",\"What makes death scary?\\n\",\"I'm really pretty but I don't want to be I hate the attention and dudes hitting on me what should I do?\\n\",\"Is Assam Down Town University good?\\n\",\"How do the brain structures of bonobos change as they age? How are these structural changes different from human brains?\\n\",\"What's the biggest scam?\\n\",\"Does the US government have an alien flying saucer in Area 51?\\n\",\"I need to gain weight, but I don't have abs. It's frustrating as heck. (150ibs 17 year old male) what should I do?\\n\",\"Why should I study Calculus?\\n\",\"Do you think your childhood contributed to your financial success/failure in life? If so, how?\\n\",\"How does the Goods and Services Tax (GST) works?\\n\",\"Where can I download Cisco 500-285 exam dumps?\\n\",\"How do I can make a second nation in Cybernations with VPN without being tracked by the moderation?\\n\",\"Did Neil Armstrong really land on the moon?\\n\",\"Why is Devil any other than God head of state?\\n\",\"How do I stop being possessive over my girlfriend?\\n\",\"How does Kongregate compute the statistics of advertisement revenue for every game?\\n\",\"Who is the best nuero physician at NIMHANS, Bangalore?\\n\",\"What are nonprofit organizations?\\n\",\"I want to know the process of starting outbound call centre in India. Can anyone let me know the process and investment? Where do I get projects?\\n\",\"Which are some of the best hotels to stay in Helsinki?\\n\",\"What is good about Deloitte Chicago?\\n\",\"How do I recover data from a formatted hard drive?\\n\",\"Could India and Pakistan unite again?\\n\",\"How often should I massage my face with Argan oil? Apparently, Argan oil is extremely beneficial for acne scars, healthy/radiant skins and etc. How often should I massage it onto my face before going to bed? Could I maybe use Argan oil one night and then the Liz Earle repair moisturiser the next to achieve a healthy, young and radiant skin? Plz help with answering :).\\n\",\"How is psychodynamic therapy different from psychoanalysis?\\n\",\"What are some of Barack Obama's character traits?\\n\",\"Would it make sense to replace the B-52's 8 1960s vintage TF33 engines with 4 modern General Electric GE90 (or similar) engines?\\n\",\"Is it possible to bring forward my flight date of an already booked flight?\\n\",\"How can I learn marathons?\\n\"],\"x\":{\"__ndarray__\":\"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\",\"dtype\":\"float32\",\"order\":\"little\",\"shape\":[1001]},\"y\":{\"__ndarray__\":\"yHitPwoHfj7o8sy+s1iYv2ALC78DLQe/TPu9vk6QOD4zXzi/e8zSPvMq4T/q914/mi8HQEGs3b/eqMQ/T+7dPo+3o7863EG/F0M/vvDk/z/4Ze8/TgY2P0gnKL/Yzks+VShAPjXUPb8i9IW/z2fhvrMJYr+zsbg/GqWrvn1etD7S58c+nM2ivgKjwLtX3yi/peXNPrN+4b8wW2K/082mPvc8zb+JUDo/Jp97v5J4zb7ilce+QiyIOQjwlr/kJau+ErYTPdVT7D0XRSI/RCA4vqGE3b+eI7O/7KxGP+9z9j6i2WW/syS2v+eg9j5Q9Mw/YNG9v0Qyg70S6oo/k6bYPtUTVr+BvIw/92/Vvyj/dD/PYLC9gCOmv8xHyT9q+cA/PK9fP5bJ1T8Ci1y+oL3NvxDarT+33v2+8BumvsewyT8HqiC/WKrmvgXCwb6itpO/v3oNvg6W2T7l0gJA+FK+P/ZECL85qsw/8Qxuvyp8ET+Yw3o/rrV0vzWFIT8LRgPAHM30vgY2cb+tgDS/ZSVMP7gODMA10NC97QPOP3NCsr9eXLC+Gj8dP2W9wL7Ganq+JVtVv5n53T6zdSo87Rl3PyaAor8jG+4+YOfvv44fKL81tJe/BWBgvz/iwT+nYCa/PvREvzXFSL95Go8/1m8NP4tJMz+aN9i/0I4ePkkxir8iSn8/DzEJP9LERD/1+Qc/YGwHQLS3Gr8rsfE/l5Kav6Utbz5Hnfa+wNlIv4M4sr/H0Xo/6OGZPvQiUz8tNay/+9e8vwUP07+f/009dbulvzaOYD9HX0o/XUu7v6aHdD8BwlC/8YmMv/U2GL/chs0/2syVv47Z8D97sxo/8oiAvzqin79S8ow+0KQtP3WyVT+MPYy/MpFxP9aTl76KPEE/pjV1PoNxkj+hDsQ+pmMQvao4jL6hPhE/AmkdP0Z4IL9KVKu85DypPlv6k7+Zxt4/wcx5PtiaFj++f4s/tTGEvjloY70dYn4+XwxMP80bqb54uMe+CQCTPmw5XT+vz4q+tCudP5DkgD++kh0+sWaHvl9Gx78ozoe/TOi6vhvjgL93Wfi/SdQKv3u9Vb/fnwc/v0ETv7OfJjuClBg/GY2dvwY9vr76kse/0h8DPwOAa79jl1W/guEBv5rSWz/+n6G+JRhJv8QKy799Bps/NOeuP0GOAkBxRqM/hFevveGVIT4Niqy+0Qocv33pT799pZo+453tP6DEor9hmXa+5JkcPzCAZr+smI2/RvfrvTYs3b79/qW/k4axP+vnZ7+YDf09hrKZv416tz9yxz8/29Y3v4bPF7/sVsE+wL0KP9KDCb9poC2/zmfiP3a1d76sWqG+SKx0P0Kh+L4K758/W2l2PxAOkz7/EFI+k2O1vhWqhT93w8U9E++Zv0Zfpb4U4p4/bmYYP+bneL8W8gq/caheP2gKEr89lKI/l4okv1IgKL/4FaQ/fwo5v4288r6m0zK+9elRP3w1i78NfKs/vtX4vcTWFD+Rtco/ur4+P5r2Vb3XrtO+/P4+v13WCr4Jgs+/ruOtvZHLsr69Hos/VdgDP0bcVr/Y6r2/u4K+PtUP0D7wzLA/OEaoP+EeDj6YYMS/zOGUv3pfSrzy0zm/lTIwP4QXnz1cb+++sBwPvp6Kp7yv+le9kA1vP5Qcvr5JAri/ufCMP4A0l79Ytou/U55vviVLh7/Leuy+WnhqPw0q0j8hylq/dx5vv5Xp1D/yS+8+66DRv2jXKL5JLLM/HjD7vlWG4z/OWMC/20pMP/fls7/0XZ0/5SmZv4resz/xlGI/v7q/PswoTj/NcNA/Btvyvy9LtT9/K4s/dQhxvMzX4T7dPIE/C7VEv6yvAz9Dmpm/j8/JP6llvT+n164/njdLPx+AC8D6OwpAzLuqv5EFcj8VM78/HmMKP0C1oL3cANk/buxUv8PwjL8xYRq/GbeVvy18q74PRnq9Xv8NP5iVeD8z57I/X5Itv7CHqL/UlqW/vABCv8UinL9wPZu8MPFCP7iXvTp9SrG+9VVSvwD8BL83GXG/VtqbPj46+75LbG0/hA96v5ac5L/t1r6/7/Ncv+QUYT/Q93c9q676v6nxfL62qou+53mSPcMii75I4QI/O9VtvgRXzz0qnm2/wCfDv+24jz8smpA/UA0CQI+ghj/+JX4/dSSeP6nuhb9Q9/Q/utb7vd5ULL7UpbS/rEH3v1ZFDb8eR32/yzG3vkdgEb2cDtg+e3t7Pgv+hj+5jKA/+yLKv+2ilj84Ba8/UQLOPo/+DzyemR+/nsjJvzDyCD7d8YQ8K4+GPs0YJz4v2Pu//FQ3PMTiTr/Ttbq/eui0PmreW77JgjA+yRVUv5GwO7+ZW5K+4AGNv/8a4r4QXxM/nMcuP2cLND9tNoA/S35Tv12Tej74OdO+NojHPhY2Vr8Ua7S/hz+qvU40yb8FS9M+BwNYv+oSjz5U7C8/BCSiP35Ex70T3O09CaGYvVO8xr/rcDs+W0Qqv25GuD9rEoo/Ec1nPzfM378NiqQ/QiM2v4GRHT8TWiQ/Qr1lPVy7ZT/Qy1w/WLX6PvPgEr8wTW+/AbjkPqp7iz/3WWg+LZ9CvsYFqT8piTc/adeRvyfoMr+/I3o++XUPP7vcZz8mT1O/1UXoP4odab+gRHC/9y+3Pxy1jL+8qgq+EMsSv2h9kb+1XeY/i5uqv95k6D+zZo8+oTl+P+5uND4+gUw/gyzYvoWOkT4h4bc/9dYDwDX4Xj+Oe8K+KeNtPnGHnL/tqY4/zGgJv1lf/j/9EcM/Rt4hP6AfYb/mMxDAo4G1P1DT4r9Gwpe+7t6YPywltD8QtT2+P2NZP3Duc79R3YQ/slAvPrOzvz8hSr69zrUvvxHB37902tu9YwyNPzJR3j8t2dW/JP50v4Fd+r5jgoM99pY2v679jL4FPhm/8Wj5vmNbzD/9EEs/nl2HvTeZwr8SZiy/PTuyP3g/bL7cyuS+fDgVQMsvJb/vaJi/r8tQvnI2DkCbeq+/p8XQPlaAA7+Akrq/bLIBQAzKyj2idqc/uq8MQOBJb7+3vwM/i5C0vzrLlT/E2je9dnYnP3y/yjsvAWE/dyMQv8uG0D+u2La/XapNP/qWpD80o+I/Sb5Iv0h0kb9zofM9i5LKPr2gjb+9F7w+rCXGPjuOtL/tlaI/Vu7ePkevKr+WO50/Y6mdv6shIr6kbSw+iTYsPjLCf76roJG/ZFGrPrVc1D7Oq32+6tPIv6RMmz8eR+G+9SXEP5hjo7/sbBG+pEdLvzJyU75Gugm/RSIav9beiL8YE/s/BXfjvy0ybL+fVRM/vEFcv4hunT9Gk8w/Pz6hvZ9+YD7hvH6/fL/fPcl2rr9Z9MY/4rRJv/OX7T7q6bc/bOrPP0PMJj+FRKC/RxOkP5zOKb8e5Ia/2RLDv8p3yr9ATog/09e0v3MHhz/bgWU/uiQxP+RpNz+8ZiO+L9ZwvwqGob8lT7G/0c1iP2SNVT2Wvsk+uZwvvg+WRL82iNs/46ZEv3kOrz+AkNK9Jh73vs+Qfz/1HzA+8raTPx0fC78BwhJAIaKVv/IVOL/7xco/NxywPwvQpLzXb+E+y9W+vVquNL9wt8s9tRGAv/+3Nj/DeYM/NLvGPSmSQb/rg2E/NBu3POnhDT/sOke+J4pCv0fXHz5BQ5O/HSSRP3Hknz+HARq+JQexv/VJkr7gg2G/oy6kvi5Y3D/atS4/4+Nqv+JIgz5/7JC+39x3v4Wp8b/w0KA/mQEnv3exPL/48Xc//72XvqCvjb79W209bulIv7/1Qb1meYe/vcLKPwLYeD/6Jlq/WMMQv9zQnD/drG2/nezUvqIfoj+p+WQ/ElmXP09elz+/E4W/0gjevl471b4Hi2I8SHoAv63Mwj9Vt82+2GyOvzxZXb8VYYS/AVk6v1VbRb7fo2K/rAGqPsYURb8HjH6+5NuYPyIzxj+eLx0/kpp8vnoQJz/qvok/XsrlPhEchj8px+S/y/uIP9tvGb845sC/rUqhPoKJwr1iI+y/iv9evsSEfr/h0ma+0NOXvhRfAD+lxae/IdPIPAVcA0BO7Ie/8TvxvoeLgr9lapU/PkKdP4S0Xr5LGaa/5rxHvhjzMj/YLkO/k1cyv6f15D+iqLW/JD8hO6AgwL6HJpW/jd7AvQBYsrwwdBs+XpCXOxlwAkDnWGq+HZnuPh2Ihb+lm+s/YBEPvgGItz9JNge/tM6zP448Mr/4Nta9x+Ttv8qjjj8Dyra+nDexv9payr+cq6i/yLaCv18W+73Gn92/WL+QPuCtaT9V1OY9zHgAP0pxKr+oJcy/g2Xev7UufL7hQr4/UoODP6YNkj4B9I8+YMkkPhKC5z7h0yG/C/2TPiRDyb6+X4y/xFlDP9gCi7+jtZQ/c7eXv24koT8h0RG/L86BvpXqk7/l9bU/bbPsvcgRyj+GBje//Eokv3SQcb+zo1o+d2O/v2yEnT8V+ha/6yIsvxaYsz/ZY+Q/G9Esv0qnoT+/Fo2/0QzPPl09hr+zSgtA8UDDvcIE6T9U86m/10Rkv7LwdD4xdZa/XuUPPyfTRT6956K/YgN6v2v1nL8ZsM8+CylnP5y2nj6Eesc+dAgXv9zWfL9cRwC/XfMkv0WV2T4u7OC/0lMZvoV68zx9xvQ9wuQSP83SWb+wKGu/WgnCP29GwD9D60i/KUUXPw6b+j47BBdAwhSXvzmEv70lWwi/aj+LPyltVb/+r5Y/xjJPvy5yAUCCipw9icceP2HqXb75zW6/uv7Ev7KlWb703HK+k3l1vtHtVb9udRO+0eZ2vx1UvL/hjhs/k+M+P1JdGz+mOVs/cHe7vwnTOz8gjMy/esSdv8fOrb/H4Iq+RwUVPek4xj/9XNc/QZShPWFw8j+9GUQ/90ENv3hJyj+XbGA/yWqtP/1W+r6mVhs/y9xVP00/Aj+80IU+DmEXPu70gr8ahcy/9T6Zv/xWkb7MYow8W+yhPuKhgDxrfnO+K2JfP5Q5zj+RpBW+gNqQP0sGDz6ykby+52ldv7ugnD1zOoQ/rw0Xv4NlIL/cYTu/sokLvzs1nb5fZZK+B2m8PqNoub+DWao/O3eJO7CHpD+wRa0/RJSFvcfXij9U7SM/nMx5P7LCp7/f2U6/lRVqP94sQr8qQuc/uPZ4PsXoAUCLXcS9fIIpP8/r374M0Mu+/YKDvrzqSz91bIc/QkSEv4Ng+z+Cn7O/w9vFP7Cxtz9Butm/HFU5PnlOaj5tv1i/q2+qPym3A0ByY1I//RDovyb53b7WZmQ98kpkP39RNT8QXLA/WKk0v7eWhb9nubS/j+F2PfH17r614Za/gy8jPx3xnb+PKRc/Rcvuv+34Ir8M7D++vFFcvgpm+z8=\",\"dtype\":\"float32\",\"order\":\"little\",\"shape\":[1001]}},\"selected\":{\"id\":\"1872\"},\"selection_policy\":{\"id\":\"1871\"}},\"id\":\"1772\",\"type\":\"ColumnDataSource\"},{\"attributes\":{\"fill_alpha\":{\"value\":0.1},\"fill_color\":{\"field\":\"color\"},\"line_alpha\":{\"value\":0.1},\"line_color\":{\"field\":\"color\"},\"size\":{\"units\":\"screen\",\"value\":20},\"x\":{\"field\":\"x\"},\"y\":{\"field\":\"y\"}},\"id\":\"1806\",\"type\":\"Scatter\"},{\"attributes\":{},\"id\":\"1783\",\"type\":\"BasicTicker\"},{\"attributes\":{\"formatter\":{\"id\":\"1867\"},\"ticker\":{\"id\":\"1783\"}},\"id\":\"1782\",\"type\":\"LinearAxis\"},{\"attributes\":{},\"id\":\"1871\",\"type\":\"UnionRenderers\"},{\"attributes\":{\"fill_alpha\":{\"value\":0.25},\"fill_color\":{\"field\":\"color\"},\"line_alpha\":{\"value\":0.25},\"line_color\":{\"field\":\"color\"},\"size\":{\"units\":\"screen\",\"value\":20},\"x\":{\"field\":\"x\"},\"y\":{\"field\":\"y\"}},\"id\":\"1805\",\"type\":\"Scatter\"},{\"attributes\":{},\"id\":\"1872\",\"type\":\"Selection\"},{\"attributes\":{\"axis\":{\"id\":\"1782\"},\"ticker\":null},\"id\":\"1785\",\"type\":\"Grid\"},{\"attributes\":{},\"id\":\"1794\",\"type\":\"ResetTool\"},{\"attributes\":{},\"id\":\"1776\",\"type\":\"DataRange1d\"},{\"attributes\":{},\"id\":\"1791\",\"type\":\"WheelZoomTool\"},{\"attributes\":{\"text\":\"\"},\"id\":\"1865\",\"type\":\"Title\"},{\"attributes\":{\"callback\":null,\"tooltips\":[[\"phrase\",\"@phrase\"]]},\"id\":\"1809\",\"type\":\"HoverTool\"},{\"attributes\":{\"bottom_units\":\"screen\",\"fill_alpha\":0.5,\"fill_color\":\"lightgrey\",\"left_units\":\"screen\",\"level\":\"overlay\",\"line_alpha\":1.0,\"line_color\":\"black\",\"line_dash\":[4,4],\"line_width\":2,\"right_units\":\"screen\",\"top_units\":\"screen\"},\"id\":\"1796\",\"type\":\"BoxAnnotation\"},{\"attributes\":{},\"id\":\"1780\",\"type\":\"LinearScale\"},{\"attributes\":{},\"id\":\"1869\",\"type\":\"BasicTickFormatter\"},{\"attributes\":{},\"id\":\"1795\",\"type\":\"HelpTool\"},{\"attributes\":{\"axis\":{\"id\":\"1786\"},\"dimension\":1,\"ticker\":null},\"id\":\"1789\",\"type\":\"Grid\"},{\"attributes\":{\"data_source\":{\"id\":\"1772\"},\"glyph\":{\"id\":\"1805\"},\"hover_glyph\":null,\"muted_glyph\":null,\"nonselection_glyph\":{\"id\":\"1806\"},\"selection_glyph\":null,\"view\":{\"id\":\"1808\"}},\"id\":\"1807\",\"type\":\"GlyphRenderer\"},{\"attributes\":{\"overlay\":{\"id\":\"1796\"}},\"id\":\"1792\",\"type\":\"BoxZoomTool\"},{\"attributes\":{\"source\":{\"id\":\"1772\"}},\"id\":\"1808\",\"type\":\"CDSView\"},{\"attributes\":{},\"id\":\"1787\",\"type\":\"BasicTicker\"}],\"root_ids\":[\"1773\"]},\"title\":\"Bokeh Application\",\"version\":\"2.1.1\"}};\n",
              "  var render_items = [{\"docid\":\"3b41350f-c3ff-463f-9685-2958cf17aaf7\",\"root_ids\":[\"1773\"],\"roots\":{\"1773\":\"5feeb59e-db8d-4684-baed-e2252c0e8294\"}}];\n",
              "  root.Bokeh.embed.embed_items_notebook(docs_json, render_items);\n",
              "\n",
              "  }\n",
              "  if (root.Bokeh !== undefined) {\n",
              "    embed_document(root);\n",
              "  } else {\n",
              "    var attempts = 0;\n",
              "    var timer = setInterval(function(root) {\n",
              "      if (root.Bokeh !== undefined) {\n",
              "        clearInterval(timer);\n",
              "        embed_document(root);\n",
              "      } else {\n",
              "        attempts++;\n",
              "        if (attempts > 100) {\n",
              "          clearInterval(timer);\n",
              "          console.log(\"Bokeh: ERROR: Unable to run BokehJS code because BokehJS library is missing\");\n",
              "        }\n",
              "      }\n",
              "    }, 10, root)\n",
              "  }\n",
              "})(window);"
            ],
            "application/vnd.bokehjs_exec.v0+json": ""
          },
          "metadata": {
            "tags": [],
            "application/vnd.bokehjs_exec.v0+json": {
              "id": "1773"
            }
          }
        },
        {
          "output_type": "execute_result",
          "data": {
            "text/html": [
              "<div style=\"display: table;\"><div style=\"display: table-row;\"><div style=\"display: table-cell;\"><b title=\"bokeh.plotting.figure.Figure\">Figure</b>(</div><div style=\"display: table-cell;\">id&nbsp;=&nbsp;'1773', <span id=\"1929\" style=\"cursor: pointer;\">&hellip;)</span></div></div><div class=\"1928\" style=\"display: none;\"><div style=\"display: table-cell;\"></div><div style=\"display: table-cell;\">above&nbsp;=&nbsp;[],</div></div><div class=\"1928\" style=\"display: none;\"><div style=\"display: table-cell;\"></div><div style=\"display: table-cell;\">align&nbsp;=&nbsp;'start',</div></div><div class=\"1928\" style=\"display: none;\"><div style=\"display: table-cell;\"></div><div style=\"display: table-cell;\">aspect_ratio&nbsp;=&nbsp;None,</div></div><div class=\"1928\" style=\"display: none;\"><div style=\"display: table-cell;\"></div><div style=\"display: table-cell;\">aspect_scale&nbsp;=&nbsp;1,</div></div><div class=\"1928\" style=\"display: none;\"><div style=\"display: table-cell;\"></div><div style=\"display: table-cell;\">background&nbsp;=&nbsp;None,</div></div><div class=\"1928\" style=\"display: none;\"><div style=\"display: table-cell;\"></div><div style=\"display: table-cell;\">background_fill_alpha&nbsp;=&nbsp;1.0,</div></div><div class=\"1928\" style=\"display: none;\"><div style=\"display: table-cell;\"></div><div style=\"display: table-cell;\">background_fill_color&nbsp;=&nbsp;'#ffffff',</div></div><div class=\"1928\" style=\"display: none;\"><div style=\"display: table-cell;\"></div><div style=\"display: table-cell;\">below&nbsp;=&nbsp;[LinearAxis(id='1782', ...)],</div></div><div class=\"1928\" style=\"display: none;\"><div style=\"display: table-cell;\"></div><div style=\"display: table-cell;\">border_fill_alpha&nbsp;=&nbsp;1.0,</div></div><div class=\"1928\" style=\"display: none;\"><div style=\"display: table-cell;\"></div><div style=\"display: table-cell;\">border_fill_color&nbsp;=&nbsp;'#ffffff',</div></div><div class=\"1928\" style=\"display: none;\"><div style=\"display: table-cell;\"></div><div style=\"display: table-cell;\">center&nbsp;=&nbsp;[Grid(id='1785', ...), Grid(id='1789', ...)],</div></div><div class=\"1928\" style=\"display: none;\"><div style=\"display: table-cell;\"></div><div style=\"display: table-cell;\">css_classes&nbsp;=&nbsp;[],</div></div><div class=\"1928\" style=\"display: none;\"><div style=\"display: table-cell;\"></div><div style=\"display: table-cell;\">disabled&nbsp;=&nbsp;False,</div></div><div class=\"1928\" style=\"display: none;\"><div style=\"display: table-cell;\"></div><div style=\"display: table-cell;\">extra_x_ranges&nbsp;=&nbsp;{},</div></div><div class=\"1928\" style=\"display: none;\"><div style=\"display: table-cell;\"></div><div style=\"display: table-cell;\">extra_y_ranges&nbsp;=&nbsp;{},</div></div><div class=\"1928\" style=\"display: none;\"><div style=\"display: table-cell;\"></div><div style=\"display: table-cell;\">frame_height&nbsp;=&nbsp;None,</div></div><div class=\"1928\" style=\"display: none;\"><div style=\"display: table-cell;\"></div><div style=\"display: table-cell;\">frame_width&nbsp;=&nbsp;None,</div></div><div class=\"1928\" style=\"display: none;\"><div style=\"display: table-cell;\"></div><div style=\"display: table-cell;\">height&nbsp;=&nbsp;None,</div></div><div class=\"1928\" style=\"display: none;\"><div style=\"display: table-cell;\"></div><div style=\"display: table-cell;\">height_policy&nbsp;=&nbsp;'auto',</div></div><div class=\"1928\" style=\"display: none;\"><div style=\"display: table-cell;\"></div><div style=\"display: table-cell;\">hidpi&nbsp;=&nbsp;True,</div></div><div class=\"1928\" style=\"display: none;\"><div style=\"display: table-cell;\"></div><div style=\"display: table-cell;\">js_event_callbacks&nbsp;=&nbsp;{},</div></div><div class=\"1928\" style=\"display: none;\"><div style=\"display: table-cell;\"></div><div style=\"display: table-cell;\">js_property_callbacks&nbsp;=&nbsp;{},</div></div><div class=\"1928\" style=\"display: none;\"><div style=\"display: table-cell;\"></div><div style=\"display: table-cell;\">left&nbsp;=&nbsp;[LinearAxis(id='1786', ...)],</div></div><div class=\"1928\" style=\"display: none;\"><div style=\"display: table-cell;\"></div><div style=\"display: table-cell;\">lod_factor&nbsp;=&nbsp;10,</div></div><div class=\"1928\" style=\"display: none;\"><div style=\"display: table-cell;\"></div><div style=\"display: table-cell;\">lod_interval&nbsp;=&nbsp;300,</div></div><div class=\"1928\" style=\"display: none;\"><div style=\"display: table-cell;\"></div><div style=\"display: table-cell;\">lod_threshold&nbsp;=&nbsp;2000,</div></div><div class=\"1928\" style=\"display: none;\"><div style=\"display: table-cell;\"></div><div style=\"display: table-cell;\">lod_timeout&nbsp;=&nbsp;500,</div></div><div class=\"1928\" style=\"display: none;\"><div style=\"display: table-cell;\"></div><div style=\"display: table-cell;\">margin&nbsp;=&nbsp;(0, 0, 0, 0),</div></div><div class=\"1928\" style=\"display: none;\"><div style=\"display: table-cell;\"></div><div style=\"display: table-cell;\">match_aspect&nbsp;=&nbsp;False,</div></div><div class=\"1928\" style=\"display: none;\"><div style=\"display: table-cell;\"></div><div style=\"display: table-cell;\">max_height&nbsp;=&nbsp;None,</div></div><div class=\"1928\" style=\"display: none;\"><div style=\"display: table-cell;\"></div><div style=\"display: table-cell;\">max_width&nbsp;=&nbsp;None,</div></div><div class=\"1928\" style=\"display: none;\"><div style=\"display: table-cell;\"></div><div style=\"display: table-cell;\">min_border&nbsp;=&nbsp;5,</div></div><div class=\"1928\" style=\"display: none;\"><div style=\"display: table-cell;\"></div><div style=\"display: table-cell;\">min_border_bottom&nbsp;=&nbsp;None,</div></div><div class=\"1928\" style=\"display: none;\"><div style=\"display: table-cell;\"></div><div style=\"display: table-cell;\">min_border_left&nbsp;=&nbsp;None,</div></div><div class=\"1928\" style=\"display: none;\"><div style=\"display: table-cell;\"></div><div style=\"display: table-cell;\">min_border_right&nbsp;=&nbsp;None,</div></div><div class=\"1928\" style=\"display: none;\"><div style=\"display: table-cell;\"></div><div style=\"display: table-cell;\">min_border_top&nbsp;=&nbsp;None,</div></div><div class=\"1928\" style=\"display: none;\"><div style=\"display: table-cell;\"></div><div style=\"display: table-cell;\">min_height&nbsp;=&nbsp;None,</div></div><div class=\"1928\" style=\"display: none;\"><div style=\"display: table-cell;\"></div><div style=\"display: table-cell;\">min_width&nbsp;=&nbsp;None,</div></div><div class=\"1928\" style=\"display: none;\"><div style=\"display: table-cell;\"></div><div style=\"display: table-cell;\">name&nbsp;=&nbsp;None,</div></div><div class=\"1928\" style=\"display: none;\"><div style=\"display: table-cell;\"></div><div style=\"display: table-cell;\">outline_line_alpha&nbsp;=&nbsp;1.0,</div></div><div class=\"1928\" style=\"display: none;\"><div style=\"display: table-cell;\"></div><div style=\"display: table-cell;\">outline_line_cap&nbsp;=&nbsp;'butt',</div></div><div class=\"1928\" style=\"display: none;\"><div style=\"display: table-cell;\"></div><div style=\"display: table-cell;\">outline_line_color&nbsp;=&nbsp;'#e5e5e5',</div></div><div class=\"1928\" style=\"display: none;\"><div style=\"display: table-cell;\"></div><div style=\"display: table-cell;\">outline_line_dash&nbsp;=&nbsp;[],</div></div><div class=\"1928\" style=\"display: none;\"><div style=\"display: table-cell;\"></div><div style=\"display: table-cell;\">outline_line_dash_offset&nbsp;=&nbsp;0,</div></div><div class=\"1928\" style=\"display: none;\"><div style=\"display: table-cell;\"></div><div style=\"display: table-cell;\">outline_line_join&nbsp;=&nbsp;'bevel',</div></div><div class=\"1928\" style=\"display: none;\"><div style=\"display: table-cell;\"></div><div style=\"display: table-cell;\">outline_line_width&nbsp;=&nbsp;1,</div></div><div class=\"1928\" style=\"display: none;\"><div style=\"display: table-cell;\"></div><div style=\"display: table-cell;\">output_backend&nbsp;=&nbsp;'canvas',</div></div><div class=\"1928\" style=\"display: none;\"><div style=\"display: table-cell;\"></div><div style=\"display: table-cell;\">plot_height&nbsp;=&nbsp;400,</div></div><div class=\"1928\" style=\"display: none;\"><div style=\"display: table-cell;\"></div><div style=\"display: table-cell;\">plot_width&nbsp;=&nbsp;600,</div></div><div class=\"1928\" style=\"display: none;\"><div style=\"display: table-cell;\"></div><div style=\"display: table-cell;\">renderers&nbsp;=&nbsp;[GlyphRenderer(id='1807', ...)],</div></div><div class=\"1928\" style=\"display: none;\"><div style=\"display: table-cell;\"></div><div style=\"display: table-cell;\">reset_policy&nbsp;=&nbsp;'standard',</div></div><div class=\"1928\" style=\"display: none;\"><div style=\"display: table-cell;\"></div><div style=\"display: table-cell;\">right&nbsp;=&nbsp;[],</div></div><div class=\"1928\" style=\"display: none;\"><div style=\"display: table-cell;\"></div><div style=\"display: table-cell;\">sizing_mode&nbsp;=&nbsp;None,</div></div><div class=\"1928\" style=\"display: none;\"><div style=\"display: table-cell;\"></div><div style=\"display: table-cell;\">subscribed_events&nbsp;=&nbsp;[],</div></div><div class=\"1928\" style=\"display: none;\"><div style=\"display: table-cell;\"></div><div style=\"display: table-cell;\">tags&nbsp;=&nbsp;[],</div></div><div class=\"1928\" style=\"display: none;\"><div style=\"display: table-cell;\"></div><div style=\"display: table-cell;\">title&nbsp;=&nbsp;Title(id='1865', ...),</div></div><div class=\"1928\" style=\"display: none;\"><div style=\"display: table-cell;\"></div><div style=\"display: table-cell;\">title_location&nbsp;=&nbsp;'above',</div></div><div class=\"1928\" style=\"display: none;\"><div style=\"display: table-cell;\"></div><div style=\"display: table-cell;\">toolbar&nbsp;=&nbsp;Toolbar(id='1797', ...),</div></div><div class=\"1928\" style=\"display: none;\"><div style=\"display: table-cell;\"></div><div style=\"display: table-cell;\">toolbar_location&nbsp;=&nbsp;'right',</div></div><div class=\"1928\" style=\"display: none;\"><div style=\"display: table-cell;\"></div><div style=\"display: table-cell;\">toolbar_sticky&nbsp;=&nbsp;True,</div></div><div class=\"1928\" style=\"display: none;\"><div style=\"display: table-cell;\"></div><div style=\"display: table-cell;\">visible&nbsp;=&nbsp;True,</div></div><div class=\"1928\" style=\"display: none;\"><div style=\"display: table-cell;\"></div><div style=\"display: table-cell;\">width&nbsp;=&nbsp;None,</div></div><div class=\"1928\" style=\"display: none;\"><div style=\"display: table-cell;\"></div><div style=\"display: table-cell;\">width_policy&nbsp;=&nbsp;'auto',</div></div><div class=\"1928\" style=\"display: none;\"><div style=\"display: table-cell;\"></div><div style=\"display: table-cell;\">x_range&nbsp;=&nbsp;DataRange1d(id='1774', ...),</div></div><div class=\"1928\" style=\"display: none;\"><div style=\"display: table-cell;\"></div><div style=\"display: table-cell;\">x_scale&nbsp;=&nbsp;LinearScale(id='1778', ...),</div></div><div class=\"1928\" style=\"display: none;\"><div style=\"display: table-cell;\"></div><div style=\"display: table-cell;\">y_range&nbsp;=&nbsp;DataRange1d(id='1776', ...),</div></div><div class=\"1928\" style=\"display: none;\"><div style=\"display: table-cell;\"></div><div style=\"display: table-cell;\">y_scale&nbsp;=&nbsp;LinearScale(id='1780', ...))</div></div></div>\n",
              "<script>\n",
              "(function() {\n",
              "  var expanded = false;\n",
              "  var ellipsis = document.getElementById(\"1929\");\n",
              "  ellipsis.addEventListener(\"click\", function() {\n",
              "    var rows = document.getElementsByClassName(\"1928\");\n",
              "    for (var i = 0; i < rows.length; i++) {\n",
              "      var el = rows[i];\n",
              "      el.style.display = expanded ? \"none\" : \"table-row\";\n",
              "    }\n",
              "    ellipsis.innerHTML = expanded ? \"&hellip;)\" : \"&lsaquo;&lsaquo;&lsaquo;\";\n",
              "    expanded = !expanded;\n",
              "  });\n",
              "})();\n",
              "</script>\n"
            ],
            "text/plain": [
              "Figure(id='1773', ...)"
            ]
          },
          "metadata": {
            "tags": []
          },
          "execution_count": 97
        }
      ]
    },
    {
      "cell_type": "code",
      "metadata": {
        "id": "OrNst35ftnId"
      },
      "source": [
        "import gensim\n",
        "gensim.downloader.info()"
      ],
      "execution_count": null,
      "outputs": []
    }
  ]
}