{
  "nbformat": 4,
  "nbformat_minor": 0,
  "metadata": {
    "accelerator": "GPU",
    "colab": {
      "name": "\"practice_\".ipynb",
      "provenance": [],
      "collapsed_sections": [
        "edk_oVg0lrtW"
      ]
    },
    "kernelspec": {
      "display_name": "Python 3",
      "language": "python",
      "name": "python3"
    },
    "language_info": {
      "codemirror_mode": {
        "name": "ipython",
        "version": 3
      },
      "file_extension": ".py",
      "mimetype": "text/x-python",
      "name": "python",
      "nbconvert_exporter": "python",
      "pygments_lexer": "ipython3",
      "version": "3.8.3"
    }
  },
  "cells": [
    {
      "cell_type": "markdown",
      "metadata": {
        "id": "HmsFABwClrsS"
      },
      "source": [
        "## Seminar and homework (10 points total)\n",
        "\n",
        "Today we shall compose encoder-decoder neural networks and apply them to the task of machine translation.\n",
        "\n",
        "![img](https://esciencegroup.files.wordpress.com/2016/03/seq2seq.jpg)\n",
        "_(img: esciencegroup.files.wordpress.com)_\n",
        "\n",
        "\n",
        "Encoder-decoder architectures are about converting anything to anything, including\n",
        " * Machine translation and spoken dialogue systems\n",
        " * [Image captioning](http://mscoco.org/dataset/#captions-challenge2015) and [image2latex](https://openai.com/requests-for-research/#im2latex) (convolutional encoder, recurrent decoder)\n",
        " * Generating [images by captions](https://arxiv.org/abs/1511.02793) (recurrent encoder, convolutional decoder)\n",
        " * Grapheme2phoneme - convert words to transcripts"
      ]
    },
    {
      "cell_type": "markdown",
      "metadata": {
        "id": "R4N9AD2dlrsU"
      },
      "source": [
        "## Our task: machine translation\n",
        "\n",
        "We gonna try our encoder-decoder models on russian to english machine translation problem. More specifically, we'll translate hotel and hostel descriptions. This task shows the scale of machine translation while not requiring you to train your model for weeks if you don't use GPU.\n",
        "\n",
        "Before we get to the architecture, there's some preprocessing to be done. ~~Go tokenize~~ Alright, this time we've done preprocessing for you. As usual, the data will be tokenized with WordPunctTokenizer.\n",
        "\n",
        "However, there's one more thing to do. Our data lines contain unique rare words. If we operate on a word level, we will have to deal with large vocabulary size. If instead we use character-level models, it would take lots of iterations to process a sequence. This time we're gonna pick something inbetween.\n",
        "\n",
        "One popular approach is called [Byte Pair Encoding](https://github.com/rsennrich/subword-nmt) aka __BPE__. The algorithm starts with a character-level tokenization and then iteratively merges most frequent pairs for N iterations. This results in frequent words being merged into a single token and rare words split into syllables or even characters.\n",
        "\n"
      ]
    },
    {
      "cell_type": "code",
      "metadata": {
        "id": "CfvojjHQlrsU",
        "colab": {
          "base_uri": "https://localhost:8080/"
        },
        "outputId": "57d3d6f0-dbab-4adb-8a62-342c14f7bb4d"
      },
      "source": [
        "!pip3 install torch>=1.3.0\n",
        "!pip3 install subword-nmt &> log\n",
        "!wget https://www.dropbox.com/s/yy2zqh34dyhv07i/data.txt?dl=1 -O data.txt\n",
        "!wget https://raw.githubusercontent.com/yandexdataschool/nlp_course/2020/week04_seq2seq/vocab.py -O vocab.py\n",
        "# thanks to tilda and deephack teams for the data, Dmitry Emelyanenko for the code :)"
      ],
      "execution_count": 1,
      "outputs": [
        {
          "output_type": "stream",
          "text": [
            "--2021-03-01 21:42:00--  https://www.dropbox.com/s/yy2zqh34dyhv07i/data.txt?dl=1\n",
            "Resolving www.dropbox.com (www.dropbox.com)... 162.125.6.18, 2620:100:6030:18::a27d:5012\n",
            "Connecting to www.dropbox.com (www.dropbox.com)|162.125.6.18|:443... connected.\n",
            "HTTP request sent, awaiting response... 301 Moved Permanently\n",
            "Location: /s/dl/yy2zqh34dyhv07i/data.txt [following]\n",
            "--2021-03-01 21:42:00--  https://www.dropbox.com/s/dl/yy2zqh34dyhv07i/data.txt\n",
            "Reusing existing connection to www.dropbox.com:443.\n",
            "HTTP request sent, awaiting response... 302 Found\n",
            "Location: https://ucc5f0e33b68cb9edd299cbb6025.dl.dropboxusercontent.com/cd/0/get/BJ6WgQQoht3na5SlaWl_JO9GWZ3y6IzK3XKvWtx57Qn2UIORx-SG4euoGva-0XEfQxD08mRwK5CSC99PDr_cfxzeiIqGCHYezzVcZy6VpyAk0g/file?dl=1# [following]\n",
            "--2021-03-01 21:42:00--  https://ucc5f0e33b68cb9edd299cbb6025.dl.dropboxusercontent.com/cd/0/get/BJ6WgQQoht3na5SlaWl_JO9GWZ3y6IzK3XKvWtx57Qn2UIORx-SG4euoGva-0XEfQxD08mRwK5CSC99PDr_cfxzeiIqGCHYezzVcZy6VpyAk0g/file?dl=1\n",
            "Resolving ucc5f0e33b68cb9edd299cbb6025.dl.dropboxusercontent.com (ucc5f0e33b68cb9edd299cbb6025.dl.dropboxusercontent.com)... 162.125.6.15, 2620:100:601c:15::a27d:60f\n",
            "Connecting to ucc5f0e33b68cb9edd299cbb6025.dl.dropboxusercontent.com (ucc5f0e33b68cb9edd299cbb6025.dl.dropboxusercontent.com)|162.125.6.15|:443... connected.\n",
            "HTTP request sent, awaiting response... 200 OK\n",
            "Length: 12905335 (12M) [application/binary]\n",
            "Saving to: ‘data.txt’\n",
            "\n",
            "data.txt            100%[===================>]  12.31M  14.5MB/s    in 0.8s    \n",
            "\n",
            "2021-03-01 21:42:01 (14.5 MB/s) - ‘data.txt’ saved [12905335/12905335]\n",
            "\n",
            "--2021-03-01 21:42:02--  https://raw.githubusercontent.com/yandexdataschool/nlp_course/2020/week04_seq2seq/vocab.py\n",
            "Resolving raw.githubusercontent.com (raw.githubusercontent.com)... 185.199.108.133, 185.199.109.133, 185.199.110.133, ...\n",
            "Connecting to raw.githubusercontent.com (raw.githubusercontent.com)|185.199.108.133|:443... connected.\n",
            "HTTP request sent, awaiting response... 200 OK\n",
            "Length: 2879 (2.8K) [text/plain]\n",
            "Saving to: ‘vocab.py’\n",
            "\n",
            "vocab.py            100%[===================>]   2.81K  --.-KB/s    in 0s      \n",
            "\n",
            "2021-03-01 21:42:02 (40.3 MB/s) - ‘vocab.py’ saved [2879/2879]\n",
            "\n"
          ],
          "name": "stdout"
        }
      ]
    },
    {
      "cell_type": "code",
      "metadata": {
        "id": "g9kP0SdxlrsY"
      },
      "source": [
        "from nltk.tokenize import WordPunctTokenizer\n",
        "from subword_nmt.learn_bpe import learn_bpe\n",
        "from subword_nmt.apply_bpe import BPE\n",
        "tokenizer = WordPunctTokenizer()\n",
        "def tokenize(x):\n",
        "    return ' '.join(tokenizer.tokenize(x.lower()))\n",
        "\n",
        "# split and tokenize the data\n",
        "with open('train.en', 'w') as f_src,  open('train.ru', 'w') as f_dst:\n",
        "    for line in open('data.txt'):\n",
        "        src_line, dst_line = line.strip().split('\\t')\n",
        "        f_src.write(tokenize(src_line) + '\\n')\n",
        "        f_dst.write(tokenize(dst_line) + '\\n')\n",
        "\n",
        "# build and apply bpe vocs\n",
        "bpe = {}\n",
        "for lang in ['en', 'ru']:\n",
        "    learn_bpe(open('./train.' + lang), open('bpe_rules.' + lang, 'w'), num_symbols=8000)\n",
        "    bpe[lang] = BPE(open('./bpe_rules.' + lang))\n",
        "    \n",
        "    with open('train.bpe.' + lang, 'w') as f_out:\n",
        "        for line in open('train.' + lang):\n",
        "            f_out.write(bpe[lang].process_line(line.strip()) + '\\n')"
      ],
      "execution_count": 2,
      "outputs": []
    },
    {
      "cell_type": "markdown",
      "metadata": {
        "id": "0UPW3sV8lrsb"
      },
      "source": [
        "### Building vocabularies\n",
        "\n",
        "We now need to build vocabularies that map strings to token ids and vice versa. We're gonna need these fellas when we feed training data into model or convert output matrices into words."
      ]
    },
    {
      "cell_type": "code",
      "metadata": {
        "id": "CmTy_m_olrsb"
      },
      "source": [
        "import numpy as np\n",
        "import matplotlib.pyplot as plt\n",
        "%matplotlib inline"
      ],
      "execution_count": 3,
      "outputs": []
    },
    {
      "cell_type": "code",
      "metadata": {
        "id": "8PskgBSxlrsd",
        "colab": {
          "base_uri": "https://localhost:8080/"
        },
        "outputId": "28c2f4cd-4e95-4c3e-c0f5-c981f8780dea"
      },
      "source": [
        "data_inp = np.array(open('./train.bpe.ru').read().split('\\n'))\n",
        "data_out = np.array(open('./train.bpe.en').read().split('\\n'))\n",
        "\n",
        "from sklearn.model_selection import train_test_split\n",
        "train_inp, dev_inp, train_out, dev_out = train_test_split(data_inp, data_out, test_size=3000,\n",
        "                                                          random_state=42)\n",
        "for i in range(3):\n",
        "    print('inp:', train_inp[i])\n",
        "    print('out:', train_out[i], end='\\n\\n')"
      ],
      "execution_count": 4,
      "outputs": [
        {
          "output_type": "stream",
          "text": [
            "inp: на территории обустроена бесплатная частная парковка .\n",
            "out: free private parking is available on site .\n",
            "\n",
            "inp: кроме того , в 5 минутах ходьбы работают многочисленные бары и рестораны .\n",
            "out: guests can find many bars and restaurants within a 5 - minute walk .\n",
            "\n",
            "inp: отель san mi@@ gu@@ el расположен в центре мор@@ ели@@ и , в 750 метрах от главной площади города и кафедрального собора .\n",
            "out: hotel san miguel is located in central more@@ lia , 750 metres from the city ’ s main square and cathedral .\n",
            "\n"
          ],
          "name": "stdout"
        }
      ]
    },
    {
      "cell_type": "code",
      "metadata": {
        "id": "vipg4O61lrsg"
      },
      "source": [
        "from vocab import Vocab\n",
        "inp_voc = Vocab.from_lines(train_inp)\n",
        "out_voc = Vocab.from_lines(train_out)"
      ],
      "execution_count": 5,
      "outputs": []
    },
    {
      "cell_type": "code",
      "metadata": {
        "id": "cwOoHfuhlrsi",
        "colab": {
          "base_uri": "https://localhost:8080/"
        },
        "outputId": "21044fba-9f48-454c-863c-a78b02650213"
      },
      "source": [
        "# Here's how you cast lines into ids and backwards.\n",
        "batch_lines = sorted(train_inp, key=len)[5:10]\n",
        "batch_ids = inp_voc.to_matrix(batch_lines)\n",
        "batch_lines_restored = inp_voc.to_lines(batch_ids)\n",
        "\n",
        "print(\"lines\")\n",
        "print(batch_lines)\n",
        "print(\"\\nwords to ids (0 = bos, 1 = eos):\")\n",
        "print(batch_ids)\n",
        "print(\"\\nback to words\")\n",
        "print(batch_lines_restored)"
      ],
      "execution_count": 6,
      "outputs": [
        {
          "output_type": "stream",
          "text": [
            "lines\n",
            "['гостевой дом r .', 'до афин — 20 км .', 'работает боулинг .', 'оборудован балкон .', 'подключен wi - fi .']\n",
            "\n",
            "words to ids (0 = bos, 1 = eos):\n",
            "tensor([[   0, 2688, 2943, 1108,   29,    1,    1,    1],\n",
            "        [   0, 2922, 1834, 8035,   59, 3800,   29,    1],\n",
            "        [   0, 6030, 2083,   29,    1,    1,    1,    1],\n",
            "        [   0, 4927, 1870,   29,    1,    1,    1,    1],\n",
            "        [   0, 5549, 1453,   27,  592,   29,    1,    1]])\n",
            "\n",
            "back to words\n",
            "['гостевой дом r .', 'до афин — 20 км .', 'работает боулинг .', 'оборудован балкон .', 'подключен wi - fi .']\n"
          ],
          "name": "stdout"
        }
      ]
    },
    {
      "cell_type": "markdown",
      "metadata": {
        "id": "gSYu-MkElrsk"
      },
      "source": [
        "Draw source and translation length distributions to estimate the scope of the task."
      ]
    },
    {
      "cell_type": "code",
      "metadata": {
        "id": "TLLl9cSNlrsl",
        "colab": {
          "base_uri": "https://localhost:8080/",
          "height": 281
        },
        "outputId": "afef10de-3ed3-40cc-82f8-e6fda13dad92"
      },
      "source": [
        "plt.figure(figsize=[8, 4])\n",
        "plt.subplot(1, 2, 1)\n",
        "plt.title(\"source length\")\n",
        "plt.hist(list(map(len, map(str.split, train_inp))), bins=20);\n",
        "\n",
        "plt.subplot(1, 2, 2)\n",
        "plt.title(\"translation length\")\n",
        "plt.hist(list(map(len, map(str.split, train_out))), bins=20);"
      ],
      "execution_count": 7,
      "outputs": [
        {
          "output_type": "display_data",
          "data": {
            "image/png": "[encoded data removed]",
            "text/plain": [
              "<Figure size 576x288 with 2 Axes>"
            ]
          },
          "metadata": {
            "tags": [],
            "needs_background": "light"
          }
        }
      ]
    },
    {
      "cell_type": "markdown",
      "metadata": {
        "id": "BHWgx34flrsn"
      },
      "source": [
        "### Encoder-decoder model\n",
        "\n",
        "The code below contains a template for a simple encoder-decoder model: single GRU encoder/decoder, no attention or anything. This model is implemented for you as a reference and a baseline for your homework assignment."
      ]
    },
    {
      "cell_type": "code",
      "metadata": {
        "id": "pd_rDRm9lrso"
      },
      "source": [
        "import torch\n",
        "import torch.nn as nn\n",
        "import torch.nn.functional as F\n",
        "device = 'cuda' if torch.cuda.is_available() else 'cpu'"
      ],
      "execution_count": 8,
      "outputs": []
    },
    {
      "cell_type": "code",
      "metadata": {
        "id": "wgfN5-F7lrst"
      },
      "source": [
        "class BasicModel(nn.Module):\n",
        "    def __init__(self, inp_voc, out_voc, emb_size=64, hid_size=128):\n",
        "        \"\"\"\n",
        "        A simple encoder-decoder seq2seq model\n",
        "        \"\"\"\n",
        "        super().__init__() # initialize base class to track sub-layers, parameters, etc.\n",
        "\n",
        "        self.inp_voc, self.out_voc = inp_voc, out_voc\n",
        "        self.hid_size = hid_size\n",
        "        \n",
        "        self.emb_inp = nn.Embedding(len(inp_voc), emb_size)\n",
        "        self.emb_out = nn.Embedding(len(out_voc), emb_size)\n",
        "        self.enc0 = nn.GRU(emb_size, hid_size, batch_first=True)\n",
        "\n",
        "        self.dec_start = nn.Linear(hid_size, hid_size)\n",
        "        self.dec0 = nn.GRUCell(emb_size, hid_size)\n",
        "        self.logits = nn.Linear(hid_size, len(out_voc))\n",
        "        \n",
        "    def forward(self, inp, out):\n",
        "        \"\"\" Apply model in training mode \"\"\"\n",
        "        initial_state = self.encode(inp)\n",
        "        return self.decode(initial_state, out)\n",
        "\n",
        "\n",
        "    def encode(self, inp, **flags):\n",
        "        \"\"\"\n",
        "        Takes symbolic input sequence, computes initial state\n",
        "        :param inp: matrix of input tokens [batch, time]\n",
        "        :returns: initial decoder state tensors, one or many\n",
        "        \"\"\"\n",
        "        inp_emb = self.emb_inp(inp)\n",
        "        batch_size = inp.shape[0]\n",
        "        \n",
        "        enc_seq, [last_state_but_not_really] = self.enc0(inp_emb)\n",
        "        # enc_seq: [batch, time, hid_size], last_state: [batch, hid_size]\n",
        "        \n",
        "        # note: last_state is not _actually_ last because of padding, let's find the real last_state\n",
        "        lengths = (inp != self.inp_voc.eos_ix).to(torch.int64).sum(dim=1).clamp_max(inp.shape[1] - 1)\n",
        "        last_state = enc_seq[torch.arange(len(enc_seq)), lengths]\n",
        "        #print(enc_seq.shape, len(inp), len(lengths), last_state.shape)\n",
        "        # ^-- shape: [batch_size, hid_size]\n",
        "        \n",
        "        dec_start = self.dec_start(last_state)\n",
        "        #print(dec_start.shape)\n",
        "        return [dec_start]\n",
        "\n",
        "    def decode_step(self, prev_state, prev_tokens, **flags):\n",
        "        \"\"\"\n",
        "        Takes previous decoder state and tokens, returns new state and logits for next tokens\n",
        "        :param prev_state: a list of previous decoder state tensors, same as returned by encode(...)\n",
        "        :param prev_tokens: previous output tokens, an int vector of [batch_size]\n",
        "        :return: a list of next decoder state tensors, a tensor of logits [batch, len(out_voc)]\n",
        "        \"\"\"\n",
        "        prev_gru0_state = prev_state[0]\n",
        "        \n",
        "        out_emb = self.emb_out(prev_tokens)\n",
        "        new_dec_state = self.dec0(out_emb, prev_gru0_state)\n",
        "        output_logits = self.logits(new_dec_state)\n",
        "        \n",
        "        return [new_dec_state], output_logits\n",
        "\n",
        "    def decode(self, initial_state, out_tokens, **flags):\n",
        "        \"\"\" Iterate over reference tokens (out_tokens) with decode_step \"\"\"\n",
        "        batch_size = out_tokens.shape[0]\n",
        "        state = initial_state\n",
        "        \n",
        "        # initial logits: always predict BOS\n",
        "        onehot_bos = F.one_hot(torch.full([batch_size], self.out_voc.bos_ix, dtype=torch.int64),\n",
        "                               num_classes=len(self.out_voc)).to(device=out_tokens.device)\n",
        "        first_logits = torch.log(onehot_bos.to(torch.float32) + 1e-9)\n",
        "        \n",
        "        logits_sequence = [first_logits]\n",
        "        for i in range(out_tokens.shape[1] - 1):\n",
        "            state, logits = self.decode_step(state, out_tokens[:, i])\n",
        "            logits_sequence.append(logits)\n",
        "        return torch.stack(logits_sequence, dim=1)\n",
        "\n",
        "    def decode_inference(self, initial_state, max_len=100, **flags):\n",
        "        \"\"\" Generate translations from model (greedy version) \"\"\"\n",
        "        batch_size, device = len(initial_state[0]), initial_state[0].device\n",
        "        state = initial_state\n",
        "        outputs = [torch.full([batch_size], self.out_voc.bos_ix, dtype=torch.int64, \n",
        "                              device=device)]\n",
        "        all_states = [initial_state]\n",
        "\n",
        "        for i in range(max_len):\n",
        "            state, logits = self.decode_step(state, outputs[-1])\n",
        "            outputs.append(logits.argmax(dim=-1))\n",
        "            all_states.append(state)\n",
        "        \n",
        "        return torch.stack(outputs, dim=1), all_states\n",
        "\n",
        "    def translate_lines(self, inp_lines, **kwargs):\n",
        "        inp = inp_voc.to_matrix(inp_lines).to(device)\n",
        "        initial_state = self.encode(inp)\n",
        "        out_ids, states = self.decode_inference(initial_state, **kwargs)\n",
        "        return out_voc.to_lines(out_ids.cpu().numpy()), states\n"
      ],
      "execution_count": 9,
      "outputs": []
    },
    {
      "cell_type": "code",
      "metadata": {
        "id": "LzS_Q8EOo1nz"
      },
      "source": [
        "# debugging area\n",
        "model = BasicModel(inp_voc, out_voc).to(device)\n",
        "\n",
        "dummy_inp_tokens = inp_voc.to_matrix(sorted(train_inp, key=len)[5:10]).to(device)\n",
        "dummy_out_tokens = out_voc.to_matrix(sorted(train_out, key=len)[5:10]).to(device)\n",
        "\n",
        "h0 = model.encode(dummy_inp_tokens)\n",
        "h1, logits1 = model.decode_step(h0, torch.arange(len(dummy_inp_tokens), device=device))\n",
        "\n",
        "assert isinstance(h1, list) and len(h1) == len(h0)\n",
        "assert h1[0].shape == h0[0].shape and not torch.allclose(h1[0], h0[0])\n",
        "assert logits1.shape == (len(dummy_inp_tokens), len(out_voc))\n",
        "\n",
        "logits_seq = model.decode(h0, dummy_out_tokens)\n",
        "assert logits_seq.shape == (dummy_out_tokens.shape[0], dummy_out_tokens.shape[1], len(out_voc))\n",
        "\n",
        "# full forward\n",
        "logits_seq2 = model(dummy_inp_tokens, dummy_out_tokens)\n",
        "assert logits_seq2.shape == logits_seq.shape"
      ],
      "execution_count": 10,
      "outputs": []
    },
    {
      "cell_type": "code",
      "metadata": {
        "id": "uFckXZzSo1n4",
        "colab": {
          "base_uri": "https://localhost:8080/"
        },
        "outputId": "862bfd0f-3015-432d-ee2a-4173b5ef80e5"
      },
      "source": [
        "dummy_translations, dummy_states = model.translate_lines(train_inp[:3], max_len=25)\n",
        "print(\"Translations without training:\")\n",
        "print('\\n'.join([line for line in dummy_translations]))"
      ],
      "execution_count": 11,
      "outputs": [
        {
          "output_type": "stream",
          "text": [
            "Translations without training:\n",
            "appartamento merano ess@@ dal ligh@@ herbal novorossiysk authentic 30 authentic navona km citiz@@ jac@@ snorkeling spir@@ gar@@ respectively bathrooms weekends completed et@@ ferenc rel inn\n",
            "ow@@ diet hvide reach@@ hou@@ reach@@ hou@@ ziers ming santa large ballet ria good kle@@ ingrad ised eti bel high zal@@ reach@@ porto ential vegetation\n",
            "appartamento merano ess@@ dal ligh@@ herbal novorossiysk authentic 30 authentic navona km citiz@@ jac@@ snorkeling spir@@ gar@@ respectively bathrooms weekends completed et@@ ferenc rel inn\n"
          ],
          "name": "stdout"
        }
      ]
    },
    {
      "cell_type": "markdown",
      "metadata": {
        "id": "_wuv1-aVlrs0"
      },
      "source": [
        "### Training loss (2 points)\n",
        "\n",
        "Our training objective is almost the same as it was for neural language models:\n",
        "$$ L = {\\frac1{|D|}} \\sum_{X, Y \\in D} \\sum_{y_t \\in Y} - \\log p(y_t \\mid y_1, \\dots, y_{t-1}, X, \\theta) $$\n",
        "\n",
        "where $|D|$ is the __total length of all sequences__, including BOS and first EOS, but excluding PAD."
      ]
    },
    {
      "cell_type": "code",
      "metadata": {
        "id": "c8XPV8sWlrs5",
        "scrolled": true
      },
      "source": [
        "\n",
        "def compute_loss(model, inp, out, **flags):\n",
        "    \"\"\"\n",
        "    Compute loss (float32 scalar) as in the formula above\n",
        "    :param inp: input tokens matrix, int32[batch, time]\n",
        "    :param out: reference tokens matrix, int32[batch, time]\n",
        "    \n",
        "    In order to pass the tests, your function should\n",
        "    * include loss at first EOS but not the subsequent ones\n",
        "    * divide sum of losses by a sum of input lengths (use voc.compute_mask)\n",
        "    \"\"\"\n",
        "    mask = model.out_voc.compute_mask(out) # [batch_size, out_len]\n",
        "    targets_1hot = F.one_hot(out, len(model.out_voc)).to(torch.float32)\n",
        "    \n",
        "    # outputs of the model, [batch_size, out_len, num_tokens]\n",
        "    logits_seq = model(inp, out)\n",
        "\n",
        "    # log-probabilities of all tokens at all steps, [batch_size, out_len, num_tokens]\n",
        "    logprobs_seq = F.log_softmax(logits_seq, dim=2)\n",
        "   \n",
        "    # log-probabilities of correct outputs, [batch_size, out_len]\n",
        "    logp_out = (logprobs_seq * targets_1hot).sum(dim=-1) * mask\n",
        "    # ^-- this will select the probability of the actual next token.\n",
        "    # Note: you can compute loss more efficiently using using F.cross_entropy\n",
        "\n",
        "    # average cross-entropy over tokens where mask == True\n",
        "    return -torch.sum(logp_out) / torch.sum(mask) # average loss, scalar"
      ],
      "execution_count": 12,
      "outputs": []
    },
    {
      "cell_type": "code",
      "metadata": {
        "id": "ME_LWUeklrs7",
        "colab": {
          "base_uri": "https://localhost:8080/"
        },
        "outputId": "0fcdae8d-34be-4e00-8d53-9d3349d20090"
      },
      "source": [
        "dummy_loss = compute_loss(model, dummy_inp_tokens, dummy_out_tokens)\n",
        "print(\"Loss:\", dummy_loss)\n",
        "assert np.allclose(dummy_loss.item(), 7.5, rtol=0.1, atol=0.1), \"We're sorry for your loss\"\n",
        "\n",
        "# test autograd\n",
        "dummy_loss.backward()\n",
        "for name, param in model.named_parameters():\n",
        "    assert param.grad is not None and abs(param.grad.max()) != 0, f\"Param {name} received no gradients\""
      ],
      "execution_count": 13,
      "outputs": [
        {
          "output_type": "stream",
          "text": [
            "Loss: tensor(7.5230, device='cuda:0', grad_fn=<DivBackward0>)\n"
          ],
          "name": "stdout"
        }
      ]
    },
    {
      "cell_type": "markdown",
      "metadata": {
        "id": "HpbaBpW7lrs-"
      },
      "source": [
        "### Evaluation: BLEU\n",
        "\n",
        "Machine translation is commonly evaluated with [BLEU](https://en.wikipedia.org/wiki/BLEU) score. This metric simply computes which fraction of predicted n-grams is actually present in the reference translation. It does so for n=1,2,3 and 4 and computes the geometric average with penalty if translation is shorter than reference.\n",
        "\n",
        "While BLEU [has many drawbacks](http://www.cs.jhu.edu/~ccb/publications/re-evaluating-the-role-of-bleu-in-mt-research.pdf), it still remains the most commonly used metric and one of the simplest to compute."
      ]
    },
    {
      "cell_type": "code",
      "metadata": {
        "id": "Gb1-PhKIlrs-"
      },
      "source": [
        "from nltk.translate.bleu_score import corpus_bleu\n",
        "def compute_bleu(model, inp_lines, out_lines, bpe_sep='@@ ', **flags):\n",
        "    \"\"\"\n",
        "    Estimates corpora-level BLEU score of model's translations given inp and reference out\n",
        "    Note: if you're serious about reporting your results, use https://pypi.org/project/sacrebleu\n",
        "    \"\"\"\n",
        "    with torch.no_grad():\n",
        "        translations, _ = model.translate_lines(inp_lines, **flags)\n",
        "        translations = [line.replace(bpe_sep, '') for line in translations] \n",
        "        return corpus_bleu(\n",
        "            [[ref.split()] for ref in out_lines],\n",
        "            [trans.split() for trans in translations],\n",
        "            smoothing_function=lambda precisions, **kw: [p + 1.0 / p.denominator for p in precisions]\n",
        "            ) * 100"
      ],
      "execution_count": 14,
      "outputs": []
    },
    {
      "cell_type": "code",
      "metadata": {
        "id": "gZvfid1RlrtA",
        "colab": {
          "base_uri": "https://localhost:8080/"
        },
        "outputId": "130445a5-cfc3-40d5-d309-315c72df02c2"
      },
      "source": [
        "compute_bleu(model, dev_inp, dev_out)"
      ],
      "execution_count": 15,
      "outputs": [
        {
          "output_type": "execute_result",
          "data": {
            "text/plain": [
              "0.002677149864198244"
            ]
          },
          "metadata": {
            "tags": []
          },
          "execution_count": 15
        }
      ]
    },
    {
      "cell_type": "markdown",
      "metadata": {
        "id": "nQDhGwg4lrtC"
      },
      "source": [
        "### Training loop\n",
        "\n",
        "Training encoder-decoder models isn't that different from any other models: sample batches, compute loss, backprop and update"
      ]
    },
    {
      "cell_type": "code",
      "metadata": {
        "id": "yfwIaixHlrtI",
        "scrolled": false
      },
      "source": [
        "from IPython.display import clear_output\n",
        "from tqdm import tqdm, trange\n",
        "metrics = {'train_loss': [], 'dev_bleu': [] }\n",
        "\n",
        "model = BasicModel(inp_voc, out_voc).to(device)\n",
        "opt = torch.optim.Adam(model.parameters(), lr=1e-3)\n",
        "batch_size = 32"
      ],
      "execution_count": 16,
      "outputs": []
    },
    {
      "cell_type": "code",
      "metadata": {
        "id": "LlDT6eDUlrtL",
        "scrolled": true,
        "colab": {
          "base_uri": "https://localhost:8080/",
          "height": 315
        },
        "outputId": "151fe412-2b2a-4adb-ba8f-fd2d4dbe00d9"
      },
      "source": [
        "#for _ in trange(25000):\n",
        "for _ in trange(30000):#25000\n",
        "    step = len(metrics['train_loss']) + 1\n",
        "    batch_ix = np.random.randint(len(train_inp), size=batch_size)\n",
        "    batch_inp = inp_voc.to_matrix(train_inp[batch_ix]).to(device)\n",
        "    batch_out = out_voc.to_matrix(train_out[batch_ix]).to(device)\n",
        "\n",
        "    opt.zero_grad()\n",
        "    loss_t = compute_loss(model, batch_inp, batch_out)\n",
        "    loss_t.backward()\n",
        "    opt.step()\n",
        "    \n",
        "    metrics['train_loss'].append((step, loss_t.item()))\n",
        "    \n",
        "    if step % 100 == 0:\n",
        "        metrics['dev_bleu'].append((step, compute_bleu(model, dev_inp, dev_out)))\n",
        "        \n",
        "        clear_output(True)\n",
        "        plt.figure(figsize=(12,4))\n",
        "        for i, (name, history) in enumerate(sorted(metrics.items())):\n",
        "            plt.subplot(1, len(metrics), i + 1)\n",
        "            plt.title(name)\n",
        "            plt.plot(*zip(*history))\n",
        "            plt.grid()\n",
        "        plt.show()\n",
        "        print(\"Mean loss=%.3f\" % np.mean(metrics['train_loss'][-10:], axis=0)[1], flush=True)\n",
        "        \n",
        "# Note: it's okay if bleu oscillates up and down as long as it gets better on average over long term (e.g. 5k batches)"
      ],
      "execution_count": 17,
      "outputs": [
        {
          "output_type": "display_data",
          "data": {
            "image/png": "[encoded data removed]",
            "text/plain": [
              "<Figure size 864x288 with 2 Axes>"
            ]
          },
          "metadata": {
            "tags": [],
            "needs_background": "light"
          }
        },
        {
          "output_type": "stream",
          "text": [
            "Mean loss=1.690\n"
          ],
          "name": "stdout"
        },
        {
          "output_type": "stream",
          "text": [
            "\r100%|██████████| 30000/30000 [21:53<00:00, 22.83it/s]\n"
          ],
          "name": "stderr"
        }
      ]
    },
    {
      "cell_type": "code",
      "metadata": {
        "id": "2ahuhKVhlrtP"
      },
      "source": [
        "assert np.mean(metrics['dev_bleu'][-10:], axis=0)[1] > 15, \"We kind of need a higher bleu BLEU from you. Kind of right now.\""
      ],
      "execution_count": 18,
      "outputs": []
    },
    {
      "cell_type": "code",
      "metadata": {
        "id": "KyaHOpealrtS",
        "colab": {
          "base_uri": "https://localhost:8080/"
        },
        "outputId": "03d51de3-1640-48de-e95b-b5f3a03244ab"
      },
      "source": [
        "for inp_line, trans_line in zip(dev_inp[::500], model.translate_lines(dev_inp[::500])[0]):\n",
        "    print(inp_line)\n",
        "    print(trans_line)\n",
        "    print()"
      ],
      "execution_count": 19,
      "outputs": [
        {
          "output_type": "stream",
          "text": [
            "в распоряжении гостей общая кухня и общая гостиная .\n",
            "there is a shared kitchen and a shared lounge .\n",
            "\n",
            "кроме того , предоставляется прокат велосипедов , услуги трансфера и бесплатная парковка .\n",
            "bicycle rental and bike hire are available at the property .\n",
            "\n",
            "расстояние до города ки@@ сси@@ м@@ ми составляет 26 км .\n",
            "ro@@ marit@@ zburg is located 26 km away .\n",
            "\n",
            "апартаменты в пент@@ хаусе с общим открытым бассейном , садом , кондиционером и террасой для загара расположены в 5 минутах ходьбы от пляжа на курорте ка@@ бо - рой .\n",
            "featuring a terrace , air - conditioned villa margar@@ ita offers self - catering accommodation with a private beach area and a terrace .\n",
            "\n",
            "апартаменты mo@@ s@@ co@@ w point - loft red square находятся в москве , в 200 метрах от большого театра .\n",
            "located in saint petersburg , this apartment features a balcony .\n",
            "\n",
            "в вашем распоряжении собственная ванная комната с душем и полотенцами .\n",
            "featuring a shower , private bathroom also comes with towels .\n",
            "\n"
          ],
          "name": "stdout"
        }
      ]
    },
    {
      "cell_type": "markdown",
      "metadata": {
        "id": "Tv0s8qxOXp5y"
      },
      "source": [
        "# Homework code templates will appear here soon!"
      ]
    },
    {
      "cell_type": "markdown",
      "metadata": {
        "id": "edk_oVg0lrtW"
      },
      "source": [
        "### Your Attention Required\n",
        "\n",
        "In this section we want you to improve over the basic model by implementing a simple attention mechanism.\n",
        "\n",
        "This is gonna be a two-parter: building the __attention layer__ and using it for an __attentive seq2seq model__."
      ]
    },
    {
      "cell_type": "markdown",
      "metadata": {
        "id": "Qz9aROAIlrtX"
      },
      "source": [
        "### Attention layer (3 points)\n",
        "\n",
        "Here you will have to implement a layer that computes a simple additive attention:\n",
        "\n",
        "Given encoder sequence $ h^e_0, h^e_1, h^e_2, ..., h^e_T$ and a single decoder state $h^d$,\n",
        "\n",
        "* Compute logits with a 2-layer neural network\n",
        "$$a_t = linear_{out}(tanh(linear_{e}(h^e_t) + linear_{d}(h_d)))$$\n",
        "* Get probabilities from logits, \n",
        "$$ p_t = {{e ^ {a_t}} \\over { \\sum_\\tau e^{a_\\tau} }} $$\n",
        "\n",
        "* Add up encoder states with probabilities to get __attention response__\n",
        "$$ attn = \\sum_t p_t \\cdot h^e_t $$\n",
        "\n",
        "You can learn more about attention layers in the lecture slides or [from this post](https://distill.pub/2016/augmented-rnns/)."
      ]
    },
    {
      "cell_type": "code",
      "metadata": {
        "id": "x4J0Xm3zWCce"
      },
      "source": [
        "class AttentionLayer(nn.Module):\n",
        "    def __init__(self, name, enc_size, dec_size, hid_size, activ=torch.tanh):\n",
        "        \"\"\" A layer that computes additive attention response and weights \"\"\"\n",
        "        super().__init__()\n",
        "        self.name = name\n",
        "        self.enc_size = enc_size # num units in encoder state\n",
        "        self.dec_size = dec_size # num units in decoder state\n",
        "        self.hid_size = hid_size # attention layer hidden units\n",
        "        self.activ = activ       # attention layer hidden nonlinearity\n",
        "        \n",
        "        # create trainable paramteres like this:\n",
        "        #self.weight = nn.Parameter(torch.FloatTensor(1, hid_size),requires_grad=True)\n",
        "        self.fc_enc = nn.Linear(\n",
        "            in_features=self.enc_size,\n",
        "             out_features=self.hid_size,\n",
        "             bias=False,\n",
        "             )\n",
        "        self.fc_dec = nn.Linear(\n",
        "            in_features=self.dec_size,\n",
        "            out_features=self.hid_size,\n",
        "            bias=False,\n",
        "\n",
        "             )  \n",
        "        self.attn = nn.Linear(\n",
        "            in_features=self.hid_size*2,\n",
        "             out_features=self.hid_size,\n",
        "             bias=False\n",
        "             )\n",
        "        self.weight = nn.Linear(self.dec_size, 1, bias = False)\n",
        "\n",
        "        #<...>  # you will need a couple of these\n",
        "        \n",
        "    def forward(self, enc, dec, inp_mask):\n",
        "        \"\"\"\n",
        "        Computes attention response and weights\n",
        "        :param enc: encoder activation sequence, float32[batch_size, ninp, enc_size]\n",
        "        :param dec: single decoder state used as \"query\", float32[batch_size, dec_size]\n",
        "        :param inp_mask: mask on enc activatons (0 after first eos), float32 [batch_size, ninp]\n",
        "        :returns: attn[batch_size, enc_size], probs[batch_size, ninp] torch.Size([32, 47, 128]) torch.Size([32, 128]) torch.Size([32, 47])\n",
        "            - attn - attention response vector (weighted sum of enc)\n",
        "            - probs - attention weights after softmax\n",
        "        \"\"\"\n",
        "\n",
        "        x_enc = self.fc_enc(enc)\n",
        "        x_dec = self.fc_dec(dec.unsqueeze(1))\n",
        "\n",
        "        batch_size = x_enc.shape[0]\n",
        "        x = torch.tanh(x_enc+x_dec)\n",
        "        #attn = self.attn(x)\n",
        "        attn = self.weight(x)\n",
        "\n",
        "        #inp_mask = inp_mask.double()\n",
        "        #inp_mask = torch.where(inp_mask != 0, inp_mask, -1e9)\n",
        "        #print(attn.shape, inp_mask.shape)\n",
        "        attn = attn.data.masked_fill_(inp_mask.unsqueeze(2) == 0, -float('inf'))\n",
        "        probs = F.softmax(attn, dim=1)\n",
        "\n",
        "        attn = torch.bmm(probs.permute(0,2,1), enc)\n",
        "        attn = attn.squeeze(1)\n",
        "        probs = probs.squeeze(2)\n",
        "\n",
        "\n",
        "        return attn, probs"
      ],
      "execution_count": 24,
      "outputs": []
    },
    {
      "cell_type": "markdown",
      "metadata": {
        "id": "IalfpdAelrtb"
      },
      "source": [
        "### Seq2seq model with attention (3 points)\n",
        "\n",
        "You can now use the attention layer to build a network. The simplest way to implement attention is to use it in decoder phase:\n",
        "![img](https://i.imgur.com/6fKHlHb.png)\n",
        "_image from distill.pub [article](https://distill.pub/2016/augmented-rnns/)_\n",
        "\n",
        "On every step, use __previous__ decoder state to obtain attention response. Then feed concat this response to the inputs of next attention layer.\n",
        "\n",
        "The key implementation detail here is __model state__. Put simply, you can add any tensor into the list of `encode` outputs. You will then have access to them at each `decode` step. This may include:\n",
        "* Last RNN hidden states (as in basic model)\n",
        "* The whole sequence of encoder outputs (to attend to) and mask\n",
        "* Attention probabilities (to visualize)\n",
        "\n",
        "_There are, of course, alternative ways to wire attention into your network and different kinds of attention. Take a look at [this](https://arxiv.org/abs/1609.08144), [this](https://arxiv.org/abs/1706.03762) and [this](https://arxiv.org/abs/1808.03867) for ideas. And for image captioning/im2latex there's [visual attention](https://arxiv.org/abs/1502.03044)_"
      ]
    },
    {
      "cell_type": "code",
      "metadata": {
        "id": "NCKPB5JmcE6j"
      },
      "source": [
        "class AttentiveModel(BasicModel):\n",
        "    def __init__(self, name, inp_voc, out_voc,\n",
        "                 emb_size=64, hid_size=128, attn_size=128):\n",
        "        \"\"\" Translation model that uses attention. See instructions above. \"\"\"\n",
        "        nn.Module.__init__(self)  # initialize base class to track sub-layers, trainable variables, etc.\n",
        "        self.inp_voc, self.out_voc = inp_voc, out_voc\n",
        "        self.hid_size = hid_size\n",
        "            \n",
        "        self.emb_inp = nn.Embedding(len(inp_voc), emb_size)\n",
        "        self.emb_out = nn.Embedding(len(out_voc), emb_size)\n",
        "        self.enc0 = nn.GRU(emb_size, hid_size, batch_first=True)\n",
        "\n",
        "        self.dec_start = nn.Linear(hid_size, hid_size)\n",
        "        self.dec0 = nn.GRUCell(emb_size, hid_size)\n",
        "        self.logits = nn.Linear(hid_size, len(out_voc))\n",
        "\n",
        "        self.attention = AttentionLayer(\n",
        "            name='attn',\n",
        "            enc_size=hid_size,\n",
        "            dec_size=hid_size,\n",
        "            hid_size=hid_size\n",
        "            )\n",
        "\n",
        "    def encode(self, inp, **flags):\n",
        "        \"\"\"\n",
        "        Takes symbolic input sequence, computes initial state\n",
        "        :param inp: matrix of input tokens [batch, time]\n",
        "        :return: a list of initial decoder state tensors\n",
        "        \"\"\"\n",
        "        \n",
        "        # encode input sequence, create initial decoder states\n",
        "        inp_emb = self.emb_inp(inp)\n",
        "        batch_size = inp.shape[0]\n",
        "        enc_seq, [last_state_but_not_really] = self.enc0(inp_emb)\n",
        "        self.enc_seq = enc_seq\n",
        "\n",
        "        # apply attention layer from initial decoder hidden state  \n",
        "        # note: last_state is not _actually_ last because of padding, let's find the real last_state\n",
        "        lengths = (inp != self.inp_voc.eos_ix).to(torch.int64).sum(dim=1).clamp_max(inp.shape[1] - 1)\n",
        "        last_state = enc_seq[torch.arange(len(enc_seq)), lengths]\n",
        "        # ^-- shape: [batch_size, hid_size]\n",
        "\n",
        "        dec_start = self.dec_start(last_state)\n",
        "        self.mask = self.out_voc.compute_mask(inp) \n",
        "        #first_attn_probas = self.attention(enc_seq, dec_start, mask)\n",
        "        # Build first state: include\n",
        "        # * initial states for decoder recurrent layers\n",
        "        # * encoder sequence and encoder attn mask (for attention)\n",
        "        # * make sure that last state item is attention probabilities tensor\n",
        "        attn_vector, first_attn_probas = self.attention(enc_seq, dec_start, self.mask)\n",
        "        #first_state = [dec_start, first_attn_probas]\n",
        "        first_state = [dec_start, attn_vector, first_attn_probas]\n",
        "\n",
        "        return first_state\n",
        "   \n",
        "    def decode_step(self, prev_state, prev_tokens, **flags):\n",
        "        \"\"\"\n",
        "        Takes previous decoder state and tokens, returns new state and logits for next tokens\n",
        "        :param prev_state: a list of previous decoder state tensors\n",
        "        :param prev_tokens: previous output tokens, an int vector of [batch_size]\n",
        "        :return: a list of next decoder state tensors, a tensor of logits [batch, n_tokens]\n",
        "        \"\"\"\n",
        "\n",
        "        prev_gru0_state = prev_state[0]\n",
        "        out_emb = self.emb_out(prev_tokens)\n",
        "        new_dec_state = self.dec0(out_emb, prev_gru0_state)\n",
        "        #out_logits = self.logits(new_dec_state)\n",
        "        \n",
        "        output_logits = self.logits(new_dec_state)\n",
        "            \n",
        "        next_attn_response, next_attn_probas = self.attention(self.enc_seq, new_dec_state, self.mask)\n",
        "\n",
        "        next_state = [new_dec_state, next_attn_response, next_attn_probas]\n",
        "        return next_state, output_logits\n",
        "        #return [new_dec_state], out_logits\n"
      ],
      "execution_count": 25,
      "outputs": []
    },
    {
      "cell_type": "markdown",
      "metadata": {
        "id": "ryZCOTEslrtf"
      },
      "source": [
        "### Training attentive model\n",
        "\n",
        "Please reuse the infrastructure you've built for the regular model. I hope you didn't hard-code anything :)"
      ]
    },
    {
      "cell_type": "code",
      "metadata": {
        "id": "-YMHPgZxcFaQ"
      },
      "source": [
        "from IPython.display import clear_output\n",
        "from tqdm import tqdm, trange\n",
        "metrics = {'train_loss': [], 'dev_bleu': [] }\n",
        "\n",
        "model = AttentiveModel('name', inp_voc, out_voc).to(device)\n",
        "opt = torch.optim.Adam(model.parameters(), lr=1e-3)\n",
        "batch_size = 32"
      ],
      "execution_count": 26,
      "outputs": []
    },
    {
      "cell_type": "code",
      "metadata": {
        "id": "Cuxe0oeZo1oC",
        "colab": {
          "base_uri": "https://localhost:8080/",
          "height": 315
        },
        "outputId": "543a5dd9-a044-4fa4-8b31-85cf6c72f225"
      },
      "source": [
        "#for _ in trange(25000):\n",
        "for _ in trange(15000):#25000\n",
        "    step = len(metrics['train_loss']) + 1\n",
        "    batch_ix = np.random.randint(len(train_inp), size=batch_size)\n",
        "    batch_inp = inp_voc.to_matrix(train_inp[batch_ix]).to(device)\n",
        "    batch_out = out_voc.to_matrix(train_out[batch_ix]).to(device)\n",
        "\n",
        "    opt.zero_grad()\n",
        "    loss_t = compute_loss(model, batch_inp, batch_out)\n",
        "    loss_t.backward()\n",
        "    opt.step()\n",
        "    \n",
        "    metrics['train_loss'].append((step, loss_t.item()))\n",
        "    \n",
        "    if step % 100 == 0:\n",
        "        metrics['dev_bleu'].append((step, compute_bleu(model, dev_inp, dev_out)))\n",
        "        \n",
        "        clear_output(True)\n",
        "        plt.figure(figsize=(12,4))\n",
        "        for i, (name, history) in enumerate(sorted(metrics.items())):\n",
        "            plt.subplot(1, len(metrics), i + 1)\n",
        "            plt.title(name)\n",
        "            plt.plot(*zip(*history))\n",
        "            plt.grid()\n",
        "        plt.show()\n",
        "        print(\"Mean loss=%.3f\" % np.mean(metrics['train_loss'][-10:], axis=0)[1], flush=True)\n",
        "        \n",
        "# Note: it's okay if bleu oscillates up and down as long as it gets better on average over long term (e.g. 5k batches)"
      ],
      "execution_count": 27,
      "outputs": [
        {
          "output_type": "display_data",
          "data": {
            "image/png": "[encoded data removed]",
            "text/plain": [
              "<Figure size 864x288 with 2 Axes>"
            ]
          },
          "metadata": {
            "tags": [],
            "needs_background": "light"
          }
        },
        {
          "output_type": "stream",
          "text": [
            "Mean loss=2.024\n"
          ],
          "name": "stdout"
        },
        {
          "output_type": "stream",
          "text": [
            "\r100%|██████████| 15000/15000 [17:43<00:00, 14.10it/s]\n"
          ],
          "name": "stderr"
        }
      ]
    },
    {
      "cell_type": "code",
      "metadata": {
        "id": "Fouq0n5fo1oC"
      },
      "source": [
        "assert np.mean(metrics['dev_bleu'][-10:], axis=0)[1] > 15, \"We kind of need a higher bleu BLEU from you. Kind of right now.\""
      ],
      "execution_count": 28,
      "outputs": []
    },
    {
      "cell_type": "code",
      "metadata": {
        "id": "rylRXY_l8hP7",
        "colab": {
          "base_uri": "https://localhost:8080/"
        },
        "outputId": "d4dbac3d-6121-415d-94ab-83f907e64c51"
      },
      "source": [
        "for inp_line, trans_line in zip(dev_inp[::500], model.translate_lines(dev_inp[::500])[0]):\n",
        "    print(inp_line)\n",
        "    print(trans_line)\n",
        "    print()"
      ],
      "execution_count": 29,
      "outputs": [
        {
          "output_type": "stream",
          "text": [
            "в распоряжении гостей общая кухня и общая гостиная .\n",
            "you will find a shared kitchen at the property .\n",
            "\n",
            "кроме того , предоставляется прокат велосипедов , услуги трансфера и бесплатная парковка .\n",
            "shuttle services , and a shuttle service are available at a surcharge .\n",
            "\n",
            "расстояние до города ки@@ сси@@ м@@ ми составляет 26 км .\n",
            "mono@@ poli is 26 km away .\n",
            "\n",
            "апартаменты в пент@@ хаусе с общим открытым бассейном , садом , кондиционером и террасой для загара расположены в 5 минутах ходьбы от пляжа на курорте ка@@ бо - рой .\n",
            "located in the centre of la , a 10 - minute walk from the beach , this apartment features a garden with a sun terrace and a terrace .\n",
            "\n",
            "апартаменты mo@@ s@@ co@@ w point - loft red square находятся в москве , в 200 метрах от большого театра .\n",
            "hostel is located in the centre of kiev , 500 metres from the main square .\n",
            "\n",
            "в вашем распоряжении собственная ванная комната с душем и полотенцами .\n",
            "featuring a shower , private bathroom also comes with a hairdryer .\n",
            "\n"
          ],
          "name": "stdout"
        }
      ]
    },
    {
      "cell_type": "markdown",
      "metadata": {
        "id": "k8OuLv_do1oC"
      },
      "source": [
        "### Visualizing model attention (2 points)\n",
        "\n",
        "After training the attentive translation model, you can check it's sanity by visualizing its attention weights.\n",
        "\n",
        "We provided you with a function that draws attention maps using [`Bokeh`](https://bokeh.pydata.org/en/latest/index.html). Once you managed to produce something better than random noise, please save at least 3 attention maps and __submit them to anytask__ alongside this notebook to get the max grade. Saving bokeh figures as __cell outputs is not enough!__ (TAs can't see saved bokeh figures in anytask). You can save bokeh images as screenshots or using this button:\n",
        "\n",
        "![bokeh_panel](https://github.com/yandexdataschool/nlp_course/raw/2019/resources/bokeh_panel.png)\n",
        "\n",
        "__Note:__ you're not locked into using bokeh. If you prefer a different visualization method, feel free to use that instead of bokeh."
      ]
    },
    {
      "cell_type": "code",
      "metadata": {
        "id": "6iD5kinYo1oD"
      },
      "source": [
        "import bokeh.plotting as pl\n",
        "import bokeh.models as bm\n",
        "from bokeh.io import output_notebook, show\n",
        "output_notebook()\n",
        "\n",
        "def draw_attention(inp_line, translation, probs):\n",
        "    \"\"\" An intentionally ambiguous function to visualize attention weights \"\"\"\n",
        "    inp_tokens = inp_voc.tokenize(inp_line)\n",
        "    trans_tokens = out_voc.tokenize(translation)\n",
        "    probs = probs[:len(trans_tokens), :len(inp_tokens)]\n",
        "    \n",
        "    fig = pl.figure(x_range=(0, len(inp_tokens)), y_range=(0, len(trans_tokens)),\n",
        "                    x_axis_type=None, y_axis_type=None, tools=[])\n",
        "    fig.image([probs[::-1]], 0, 0, len(inp_tokens), len(trans_tokens))\n",
        "\n",
        "    fig.add_layout(bm.LinearAxis(axis_label='source tokens'), 'above')\n",
        "    fig.xaxis.ticker = np.arange(len(inp_tokens)) + 0.5\n",
        "    fig.xaxis.major_label_overrides = dict(zip(np.arange(len(inp_tokens)) + 0.5, inp_tokens))\n",
        "    fig.xaxis.major_label_orientation = 45\n",
        "\n",
        "    fig.add_layout(bm.LinearAxis(axis_label='translation tokens'), 'left')\n",
        "    fig.yaxis.ticker = np.arange(len(trans_tokens)) + 0.5\n",
        "    fig.yaxis.major_label_overrides = dict(zip(np.arange(len(trans_tokens)) + 0.5, trans_tokens[::-1]))\n",
        "\n",
        "    show(fig)"
      ],
      "execution_count": 30,
      "outputs": []
    },
    {
      "cell_type": "code",
      "metadata": {
        "id": "rESoFn4Bo1oD"
      },
      "source": [
        "inp = dev_inp[::500]\n",
        "\n",
        "trans, states = model.translate_lines(inp)\n",
        "\n",
        "# select attention probs from model state (you may need to change this for your custom model)\n",
        "# attention_probs below must have shape [batch_size, translation_length, input_length], extracted from states\n",
        "# e.g. if attention probs are at the end of each state, use np.stack([state[-1] for state in states], axis=1)\n",
        "#attention_probs = <YOUR CODE>\n",
        "attention_probs = np.stack([state[-1].detach().cpu() for state in states], axis=1)"
      ],
      "execution_count": 31,
      "outputs": []
    },
    {
      "cell_type": "code",
      "metadata": {
        "colab": {
          "base_uri": "https://localhost:8080/"
        },
        "id": "IFDWdEpGB82O",
        "outputId": "6504d786-6de1-4b83-8e67-f1c8716a454f"
      },
      "source": [
        "trans"
      ],
      "execution_count": 32,
      "outputs": [
        {
          "output_type": "execute_result",
          "data": {
            "text/plain": [
              "['you will find a shared kitchen at the property .',\n",
              " 'shuttle services , and a shuttle service are available at a surcharge .',\n",
              " 'mono@@ poli is 26 km away .',\n",
              " 'located in the centre of la , a 10 - minute walk from the beach , this apartment features a garden with a sun terrace and a terrace .',\n",
              " 'hostel is located in the centre of kiev , 500 metres from the main square .',\n",
              " 'featuring a shower , private bathroom also comes with a hairdryer .']"
            ]
          },
          "metadata": {
            "tags": []
          },
          "execution_count": 32
        }
      ]
    },
    {
      "cell_type": "code",
      "metadata": {
        "colab": {
          "base_uri": "https://localhost:8080/",
          "height": 1000
        },
        "id": "sUKNxWIuDeVo",
        "outputId": "12a135a1-ca86-45b0-a54e-7fbd06038c5e"
      },
      "source": [
        "for i in range(5):\n",
        "    draw_attention(inp[i], trans[i], attention_probs[i])"
      ],
      "execution_count": 33,
      "outputs": [
        {
          "output_type": "display_data",
          "data": {
            "application/javascript": [
              "\n",
              "(function(root) {\n",
              "  function now() {\n",
              "    return new Date();\n",
              "  }\n",
              "\n",
              "  var force = true;\n",
              "\n",
              "  if (typeof root._bokeh_onload_callbacks === \"undefined\" || force === true) {\n",
              "    root._bokeh_onload_callbacks = [];\n",
              "    root._bokeh_is_loading = undefined;\n",
              "  }\n",
              "\n",
              "  var JS_MIME_TYPE = 'application/javascript';\n",
              "  var HTML_MIME_TYPE = 'text/html';\n",
              "  var EXEC_MIME_TYPE = 'application/vnd.bokehjs_exec.v0+json';\n",
              "  var CLASS_NAME = 'output_bokeh rendered_html';\n",
              "\n",
              "  /**\n",
              "   * Render data to the DOM node\n",
              "   */\n",
              "  function render(props, node) {\n",
              "    var script = document.createElement(\"script\");\n",
              "    node.appendChild(script);\n",
              "  }\n",
              "\n",
              "  /**\n",
              "   * Handle when an output is cleared or removed\n",
              "   */\n",
              "  function handleClearOutput(event, handle) {\n",
              "    var cell = handle.cell;\n",
              "\n",
              "    var id = cell.output_area._bokeh_element_id;\n",
              "    var server_id = cell.output_area._bokeh_server_id;\n",
              "    // Clean up Bokeh references\n",
              "    if (id != null && id in Bokeh.index) {\n",
              "      Bokeh.index[id].model.document.clear();\n",
              "      delete Bokeh.index[id];\n",
              "    }\n",
              "\n",
              "    if (server_id !== undefined) {\n",
              "      // Clean up Bokeh references\n",
              "      var cmd = \"from bokeh.io.state import curstate; print(curstate().uuid_to_server['\" + server_id + \"'].get_sessions()[0].document.roots[0]._id)\";\n",
              "      cell.notebook.kernel.execute(cmd, {\n",
              "        iopub: {\n",
              "          output: function(msg) {\n",
              "            var id = msg.content.text.trim();\n",
              "            if (id in Bokeh.index) {\n",
              "              Bokeh.index[id].model.document.clear();\n",
              "              delete Bokeh.index[id];\n",
              "            }\n",
              "          }\n",
              "        }\n",
              "      });\n",
              "      // Destroy server and session\n",
              "      var cmd = \"import bokeh.io.notebook as ion; ion.destroy_server('\" + server_id + \"')\";\n",
              "      cell.notebook.kernel.execute(cmd);\n",
              "    }\n",
              "  }\n",
              "\n",
              "  /**\n",
              "   * Handle when a new output is added\n",
              "   */\n",
              "  function handleAddOutput(event, handle) {\n",
              "    var output_area = handle.output_area;\n",
              "    var output = handle.output;\n",
              "\n",
              "    // limit handleAddOutput to display_data with EXEC_MIME_TYPE content only\n",
              "    if ((output.output_type != \"display_data\") || (!output.data.hasOwnProperty(EXEC_MIME_TYPE))) {\n",
              "      return\n",
              "    }\n",
              "\n",
              "    var toinsert = output_area.element.find(\".\" + CLASS_NAME.split(' ')[0]);\n",
              "\n",
              "    if (output.metadata[EXEC_MIME_TYPE][\"id\"] !== undefined) {\n",
              "      toinsert[toinsert.length - 1].firstChild.textContent = output.data[JS_MIME_TYPE];\n",
              "      // store reference to embed id on output_area\n",
              "      output_area._bokeh_element_id = output.metadata[EXEC_MIME_TYPE][\"id\"];\n",
              "    }\n",
              "    if (output.metadata[EXEC_MIME_TYPE][\"server_id\"] !== undefined) {\n",
              "      var bk_div = document.createElement(\"div\");\n",
              "      bk_div.innerHTML = output.data[HTML_MIME_TYPE];\n",
              "      var script_attrs = bk_div.children[0].attributes;\n",
              "      for (var i = 0; i < script_attrs.length; i++) {\n",
              "        toinsert[toinsert.length - 1].firstChild.setAttribute(script_attrs[i].name, script_attrs[i].value);\n",
              "        toinsert[toinsert.length - 1].firstChild.textContent = bk_div.children[0].textContent\n",
              "      }\n",
              "      // store reference to server id on output_area\n",
              "      output_area._bokeh_server_id = output.metadata[EXEC_MIME_TYPE][\"server_id\"];\n",
              "    }\n",
              "  }\n",
              "\n",
              "  function register_renderer(events, OutputArea) {\n",
              "\n",
              "    function append_mime(data, metadata, element) {\n",
              "      // create a DOM node to render to\n",
              "      var toinsert = this.create_output_subarea(\n",
              "        metadata,\n",
              "        CLASS_NAME,\n",
              "        EXEC_MIME_TYPE\n",
              "      );\n",
              "      this.keyboard_manager.register_events(toinsert);\n",
              "      // Render to node\n",
              "      var props = {data: data, metadata: metadata[EXEC_MIME_TYPE]};\n",
              "      render(props, toinsert[toinsert.length - 1]);\n",
              "      element.append(toinsert);\n",
              "      return toinsert\n",
              "    }\n",
              "\n",
              "    /* Handle when an output is cleared or removed */\n",
              "    events.on('clear_output.CodeCell', handleClearOutput);\n",
              "    events.on('delete.Cell', handleClearOutput);\n",
              "\n",
              "    /* Handle when a new output is added */\n",
              "    events.on('output_added.OutputArea', handleAddOutput);\n",
              "\n",
              "    /**\n",
              "     * Register the mime type and append_mime function with output_area\n",
              "     */\n",
              "    OutputArea.prototype.register_mime_type(EXEC_MIME_TYPE, append_mime, {\n",
              "      /* Is output safe? */\n",
              "      safe: true,\n",
              "      /* Index of renderer in `output_area.display_order` */\n",
              "      index: 0\n",
              "    });\n",
              "  }\n",
              "\n",
              "  // register the mime type if in Jupyter Notebook environment and previously unregistered\n",
              "  if (root.Jupyter !== undefined) {\n",
              "    var events = require('base/js/events');\n",
              "    var OutputArea = require('notebook/js/outputarea').OutputArea;\n",
              "\n",
              "    if (OutputArea.prototype.mime_types().indexOf(EXEC_MIME_TYPE) == -1) {\n",
              "      register_renderer(events, OutputArea);\n",
              "    }\n",
              "  }\n",
              "\n",
              "  \n",
              "  if (typeof (root._bokeh_timeout) === \"undefined\" || force === true) {\n",
              "    root._bokeh_timeout = Date.now() + 5000;\n",
              "    root._bokeh_failed_load = false;\n",
              "  }\n",
              "\n",
              "  var NB_LOAD_WARNING = {'data': {'text/html':\n",
              "     \"<div style='background-color: #fdd'>\\n\"+\n",
              "     \"<p>\\n\"+\n",
              "     \"BokehJS does not appear to have successfully loaded. If loading BokehJS from CDN, this \\n\"+\n",
              "     \"may be due to a slow or bad network connection. Possible fixes:\\n\"+\n",
              "     \"</p>\\n\"+\n",
              "     \"<ul>\\n\"+\n",
              "     \"<li>re-rerun `output_notebook()` to attempt to load from CDN again, or</li>\\n\"+\n",
              "     \"<li>use INLINE resources instead, as so:</li>\\n\"+\n",
              "     \"</ul>\\n\"+\n",
              "     \"<code>\\n\"+\n",
              "     \"from bokeh.resources import INLINE\\n\"+\n",
              "     \"output_notebook(resources=INLINE)\\n\"+\n",
              "     \"</code>\\n\"+\n",
              "     \"</div>\"}};\n",
              "\n",
              "  function display_loaded() {\n",
              "    var el = document.getElementById(null);\n",
              "    if (el != null) {\n",
              "      el.textContent = \"BokehJS is loading...\";\n",
              "    }\n",
              "    if (root.Bokeh !== undefined) {\n",
              "      if (el != null) {\n",
              "        el.textContent = \"BokehJS \" + root.Bokeh.version + \" successfully loaded.\";\n",
              "      }\n",
              "    } else if (Date.now() < root._bokeh_timeout) {\n",
              "      setTimeout(display_loaded, 100)\n",
              "    }\n",
              "  }\n",
              "\n",
              "\n",
              "  function run_callbacks() {\n",
              "    try {\n",
              "      root._bokeh_onload_callbacks.forEach(function(callback) {\n",
              "        if (callback != null)\n",
              "          callback();\n",
              "      });\n",
              "    } finally {\n",
              "      delete root._bokeh_onload_callbacks\n",
              "    }\n",
              "    console.debug(\"Bokeh: all callbacks have finished\");\n",
              "  }\n",
              "\n",
              "  function load_libs(css_urls, js_urls, callback) {\n",
              "    if (css_urls == null) css_urls = [];\n",
              "    if (js_urls == null) js_urls = [];\n",
              "\n",
              "    root._bokeh_onload_callbacks.push(callback);\n",
              "    if (root._bokeh_is_loading > 0) {\n",
              "      console.debug(\"Bokeh: BokehJS is being loaded, scheduling callback at\", now());\n",
              "      return null;\n",
              "    }\n",
              "    if (js_urls == null || js_urls.length === 0) {\n",
              "      run_callbacks();\n",
              "      return null;\n",
              "    }\n",
              "    console.debug(\"Bokeh: BokehJS not loaded, scheduling load and callback at\", now());\n",
              "    root._bokeh_is_loading = css_urls.length + js_urls.length;\n",
              "\n",
              "    function on_load() {\n",
              "      root._bokeh_is_loading--;\n",
              "      if (root._bokeh_is_loading === 0) {\n",
              "        console.debug(\"Bokeh: all BokehJS libraries/stylesheets loaded\");\n",
              "        run_callbacks()\n",
              "      }\n",
              "    }\n",
              "\n",
              "    function on_error() {\n",
              "      console.error(\"failed to load \" + url);\n",
              "    }\n",
              "\n",
              "    for (var i = 0; i < css_urls.length; i++) {\n",
              "      var url = css_urls[i];\n",
              "      const element = document.createElement(\"link\");\n",
              "      element.onload = on_load;\n",
              "      element.onerror = on_error;\n",
              "      element.rel = \"stylesheet\";\n",
              "      element.type = \"text/css\";\n",
              "      element.href = url;\n",
              "      console.debug(\"Bokeh: injecting link tag for BokehJS stylesheet: \", url);\n",
              "      document.body.appendChild(element);\n",
              "    }\n",
              "\n",
              "    const hashes = {\"https://cdn.bokeh.org/bokeh/release/bokeh-2.1.1.min.js\": \"kLr4fYcqcSpbuI95brIH3vnnYCquzzSxHPU6XGQCIkQRGJwhg0StNbj1eegrHs12\", \"https://cdn.bokeh.org/bokeh/release/bokeh-widgets-2.1.1.min.js\": \"xIGPmVtaOm+z0BqfSOMn4lOR6ciex448GIKG4eE61LsAvmGj48XcMQZtKcE/UXZe\", \"https://cdn.bokeh.org/bokeh/release/bokeh-tables-2.1.1.min.js\": \"Dc9u1wF/0zApGIWoBbH77iWEHtdmkuYWG839Uzmv8y8yBLXebjO9ZnERsde5Ln/P\", \"https://cdn.bokeh.org/bokeh/release/bokeh-gl-2.1.1.min.js\": \"cT9JaBz7GiRXdENrJLZNSC6eMNF3nh3fa5fTF51Svp+ukxPdwcU5kGXGPBgDCa2j\"};\n",
              "\n",
              "    for (var i = 0; i < js_urls.length; i++) {\n",
              "      var url = js_urls[i];\n",
              "      var element = document.createElement('script');\n",
              "      element.onload = on_load;\n",
              "      element.onerror = on_error;\n",
              "      element.async = false;\n",
              "      element.src = url;\n",
              "      if (url in hashes) {\n",
              "        element.crossOrigin = \"anonymous\";\n",
              "        element.integrity = \"sha384-\" + hashes[url];\n",
              "      }\n",
              "      console.debug(\"Bokeh: injecting script tag for BokehJS library: \", url);\n",
              "      document.head.appendChild(element);\n",
              "    }\n",
              "  };\n",
              "\n",
              "  function inject_raw_css(css) {\n",
              "    const element = document.createElement(\"style\");\n",
              "    element.appendChild(document.createTextNode(css));\n",
              "    document.body.appendChild(element);\n",
              "  }\n",
              "\n",
              "  \n",
              "  var js_urls = [\"https://cdn.bokeh.org/bokeh/release/bokeh-2.1.1.min.js\", \"https://cdn.bokeh.org/bokeh/release/bokeh-widgets-2.1.1.min.js\", \"https://cdn.bokeh.org/bokeh/release/bokeh-tables-2.1.1.min.js\", \"https://cdn.bokeh.org/bokeh/release/bokeh-gl-2.1.1.min.js\"];\n",
              "  var css_urls = [];\n",
              "  \n",
              "\n",
              "  var inline_js = [\n",
              "    function(Bokeh) {\n",
              "      Bokeh.set_log_level(\"info\");\n",
              "    },\n",
              "    function(Bokeh) {\n",
              "    \n",
              "    \n",
              "    }\n",
              "  ];\n",
              "\n",
              "  function run_inline_js() {\n",
              "    \n",
              "    if (root.Bokeh !== undefined || force === true) {\n",
              "      \n",
              "    for (var i = 0; i < inline_js.length; i++) {\n",
              "      inline_js[i].call(root, root.Bokeh);\n",
              "    }\n",
              "    } else if (Date.now() < root._bokeh_timeout) {\n",
              "      setTimeout(run_inline_js, 100);\n",
              "    } else if (!root._bokeh_failed_load) {\n",
              "      console.log(\"Bokeh: BokehJS failed to load within specified timeout.\");\n",
              "      root._bokeh_failed_load = true;\n",
              "    } else if (force !== true) {\n",
              "      var cell = $(document.getElementById(null)).parents('.cell').data().cell;\n",
              "      cell.output_area.append_execute_result(NB_LOAD_WARNING)\n",
              "    }\n",
              "\n",
              "  }\n",
              "\n",
              "  if (root._bokeh_is_loading === 0) {\n",
              "    console.debug(\"Bokeh: BokehJS loaded, going straight to plotting\");\n",
              "    run_inline_js();\n",
              "  } else {\n",
              "    load_libs(css_urls, js_urls, function() {\n",
              "      console.debug(\"Bokeh: BokehJS plotting callback run at\", now());\n",
              "      run_inline_js();\n",
              "    });\n",
              "  }\n",
              "}(window));"
            ],
            "application/vnd.bokehjs_load.v0+json": "\n(function(root) {\n  function now() {\n    return new Date();\n  }\n\n  var force = true;\n\n  if (typeof root._bokeh_onload_callbacks === \"undefined\" || force === true) {\n    root._bokeh_onload_callbacks = [];\n    root._bokeh_is_loading = undefined;\n  }\n\n  \n\n  \n  if (typeof (root._bokeh_timeout) === \"undefined\" || force === true) {\n    root._bokeh_timeout = Date.now() + 5000;\n    root._bokeh_failed_load = false;\n  }\n\n  var NB_LOAD_WARNING = {'data': {'text/html':\n     \"<div style='background-color: #fdd'>\\n\"+\n     \"<p>\\n\"+\n     \"BokehJS does not appear to have successfully loaded. If loading BokehJS from CDN, this \\n\"+\n     \"may be due to a slow or bad network connection. Possible fixes:\\n\"+\n     \"</p>\\n\"+\n     \"<ul>\\n\"+\n     \"<li>re-rerun `output_notebook()` to attempt to load from CDN again, or</li>\\n\"+\n     \"<li>use INLINE resources instead, as so:</li>\\n\"+\n     \"</ul>\\n\"+\n     \"<code>\\n\"+\n     \"from bokeh.resources import INLINE\\n\"+\n     \"output_notebook(resources=INLINE)\\n\"+\n     \"</code>\\n\"+\n     \"</div>\"}};\n\n  function display_loaded() {\n    var el = document.getElementById(null);\n    if (el != null) {\n      el.textContent = \"BokehJS is loading...\";\n    }\n    if (root.Bokeh !== undefined) {\n      if (el != null) {\n        el.textContent = \"BokehJS \" + root.Bokeh.version + \" successfully loaded.\";\n      }\n    } else if (Date.now() < root._bokeh_timeout) {\n      setTimeout(display_loaded, 100)\n    }\n  }\n\n\n  function run_callbacks() {\n    try {\n      root._bokeh_onload_callbacks.forEach(function(callback) {\n        if (callback != null)\n          callback();\n      });\n    } finally {\n      delete root._bokeh_onload_callbacks\n    }\n    console.debug(\"Bokeh: all callbacks have finished\");\n  }\n\n  function load_libs(css_urls, js_urls, callback) {\n    if (css_urls == null) css_urls = [];\n    if (js_urls == null) js_urls = [];\n\n    root._bokeh_onload_callbacks.push(callback);\n    if (root._bokeh_is_loading > 0) {\n      console.debug(\"Bokeh: BokehJS is being loaded, scheduling callback at\", now());\n      return null;\n    }\n    if (js_urls == null || js_urls.length === 0) {\n      run_callbacks();\n      return null;\n    }\n    console.debug(\"Bokeh: BokehJS not loaded, scheduling load and callback at\", now());\n    root._bokeh_is_loading = css_urls.length + js_urls.length;\n\n    function on_load() {\n      root._bokeh_is_loading--;\n      if (root._bokeh_is_loading === 0) {\n        console.debug(\"Bokeh: all BokehJS libraries/stylesheets loaded\");\n        run_callbacks()\n      }\n    }\n\n    function on_error() {\n      console.error(\"failed to load \" + url);\n    }\n\n    for (var i = 0; i < css_urls.length; i++) {\n      var url = css_urls[i];\n      const element = document.createElement(\"link\");\n      element.onload = on_load;\n      element.onerror = on_error;\n      element.rel = \"stylesheet\";\n      element.type = \"text/css\";\n      element.href = url;\n      console.debug(\"Bokeh: injecting link tag for BokehJS stylesheet: \", url);\n      document.body.appendChild(element);\n    }\n\n    const hashes = {\"https://cdn.bokeh.org/bokeh/release/bokeh-2.1.1.min.js\": \"kLr4fYcqcSpbuI95brIH3vnnYCquzzSxHPU6XGQCIkQRGJwhg0StNbj1eegrHs12\", \"https://cdn.bokeh.org/bokeh/release/bokeh-widgets-2.1.1.min.js\": \"xIGPmVtaOm+z0BqfSOMn4lOR6ciex448GIKG4eE61LsAvmGj48XcMQZtKcE/UXZe\", \"https://cdn.bokeh.org/bokeh/release/bokeh-tables-2.1.1.min.js\": \"Dc9u1wF/0zApGIWoBbH77iWEHtdmkuYWG839Uzmv8y8yBLXebjO9ZnERsde5Ln/P\", \"https://cdn.bokeh.org/bokeh/release/bokeh-gl-2.1.1.min.js\": \"cT9JaBz7GiRXdENrJLZNSC6eMNF3nh3fa5fTF51Svp+ukxPdwcU5kGXGPBgDCa2j\"};\n\n    for (var i = 0; i < js_urls.length; i++) {\n      var url = js_urls[i];\n      var element = document.createElement('script');\n      element.onload = on_load;\n      element.onerror = on_error;\n      element.async = false;\n      element.src = url;\n      if (url in hashes) {\n        element.crossOrigin = \"anonymous\";\n        element.integrity = \"sha384-\" + hashes[url];\n      }\n      console.debug(\"Bokeh: injecting script tag for BokehJS library: \", url);\n      document.head.appendChild(element);\n    }\n  };\n\n  function inject_raw_css(css) {\n    const element = document.createElement(\"style\");\n    element.appendChild(document.createTextNode(css));\n    document.body.appendChild(element);\n  }\n\n  \n  var js_urls = [\"https://cdn.bokeh.org/bokeh/release/bokeh-2.1.1.min.js\", \"https://cdn.bokeh.org/bokeh/release/bokeh-widgets-2.1.1.min.js\", \"https://cdn.bokeh.org/bokeh/release/bokeh-tables-2.1.1.min.js\", \"https://cdn.bokeh.org/bokeh/release/bokeh-gl-2.1.1.min.js\"];\n  var css_urls = [];\n  \n\n  var inline_js = [\n    function(Bokeh) {\n      Bokeh.set_log_level(\"info\");\n    },\n    function(Bokeh) {\n    \n    \n    }\n  ];\n\n  function run_inline_js() {\n    \n    if (root.Bokeh !== undefined || force === true) {\n      \n    for (var i = 0; i < inline_js.length; i++) {\n      inline_js[i].call(root, root.Bokeh);\n    }\n    } else if (Date.now() < root._bokeh_timeout) {\n      setTimeout(run_inline_js, 100);\n    } else if (!root._bokeh_failed_load) {\n      console.log(\"Bokeh: BokehJS failed to load within specified timeout.\");\n      root._bokeh_failed_load = true;\n    } else if (force !== true) {\n      var cell = $(document.getElementById(null)).parents('.cell').data().cell;\n      cell.output_area.append_execute_result(NB_LOAD_WARNING)\n    }\n\n  }\n\n  if (root._bokeh_is_loading === 0) {\n    console.debug(\"Bokeh: BokehJS loaded, going straight to plotting\");\n    run_inline_js();\n  } else {\n    load_libs(css_urls, js_urls, function() {\n      console.debug(\"Bokeh: BokehJS plotting callback run at\", now());\n      run_inline_js();\n    });\n  }\n}(window));"
          },
          "metadata": {
            "tags": []
          }
        },
        {
          "output_type": "display_data",
          "data": {
            "text/html": [
              "\n",
              "\n",
              "\n",
              "\n",
              "\n",
              "\n",
              "  <div class=\"bk-root\" id=\"223bc7f1-e7db-4fb2-b94c-36b845dcd022\" data-root-id=\"1001\"></div>\n"
            ]
          },
          "metadata": {
            "tags": []
          }
        },
        {
          "output_type": "display_data",
          "data": {
            "application/javascript": [
              "(function(root) {\n",
              "  function embed_document(root) {\n",
              "    \n",
              "  var docs_json = {\"a9085a1e-6d9e-4556-997d-c3d7fd512d17\":{\"roots\":{\"references\":[{\"attributes\":{\"above\":[{\"id\":\"1018\"}],\"left\":[{\"id\":\"1021\"}],\"renderers\":[{\"id\":\"1016\"}],\"title\":{\"id\":\"1024\"},\"toolbar\":{\"id\":\"1010\"},\"x_range\":{\"id\":\"1002\"},\"x_scale\":{\"id\":\"1006\"},\"y_range\":{\"id\":\"1004\"},\"y_scale\":{\"id\":\"1008\"}},\"id\":\"1001\",\"subtype\":\"Figure\",\"type\":\"Plot\"},{\"attributes\":{},\"id\":\"1027\",\"type\":\"BasicTickFormatter\"},{\"attributes\":{\"palette\":[\"#000000\",\"#252525\",\"#525252\",\"#737373\",\"#969696\",\"#bdbdbd\",\"#d9d9d9\",\"#f0f0f0\",\"#ffffff\"]},\"id\":\"1013\",\"type\":\"LinearColorMapper\"},{\"attributes\":{},\"id\":\"1029\",\"type\":\"UnionRenderers\"},{\"attributes\":{\"color_mapper\":{\"id\":\"1015\"},\"dh\":{\"units\":\"data\",\"value\":12},\"dw\":{\"units\":\"data\",\"value\":11},\"global_alpha\":0.1,\"image\":{\"field\":\"image\"},\"x\":{\"value\":0},\"y\":{\"value\":0}},\"id\":\"1014\",\"type\":\"Image\"},{\"attributes\":{\"end\":11},\"id\":\"1002\",\"type\":\"Range1d\"},{\"attributes\":{\"color_mapper\":{\"id\":\"1013\"},\"dh\":{\"units\":\"data\",\"value\":12},\"dw\":{\"units\":\"data\",\"value\":11},\"image\":{\"field\":\"image\"},\"x\":{\"value\":0},\"y\":{\"value\":0}},\"id\":\"1012\",\"type\":\"Image\"},{\"attributes\":{\"data_source\":{\"id\":\"1011\"},\"glyph\":{\"id\":\"1012\"},\"hover_glyph\":null,\"muted_glyph\":null,\"nonselection_glyph\":{\"id\":\"1014\"},\"selection_glyph\":null,\"view\":{\"id\":\"1017\"}},\"id\":\"1016\",\"type\":\"GlyphRenderer\"},{\"attributes\":{\"axis_label\":\"translation tokens\",\"formatter\":{\"id\":\"1027\"},\"major_label_overrides\":{\"0.5\":\"_EOS_\",\"1.5\":\".\",\"10.5\":\"you\",\"11.5\":\"_BOS_\",\"2.5\":\"property\",\"3.5\":\"the\",\"4.5\":\"at\",\"5.5\":\"kitchen\",\"6.5\":\"shared\",\"7.5\":\"a\",\"8.5\":\"find\",\"9.5\":\"will\"},\"ticker\":{\"id\":\"1022\"}},\"id\":\"1021\",\"type\":\"LinearAxis\"},{\"attributes\":{\"active_drag\":\"auto\",\"active_inspect\":\"auto\",\"active_multi\":null,\"active_scroll\":\"auto\",\"active_tap\":\"auto\"},\"id\":\"1010\",\"type\":\"Toolbar\"},{\"attributes\":{\"data\":{\"image\":[{\"__ndarray__\":\"KzChPW8StD1bZbg9l07APQQwzT3W+NY9+L+/PUCvxz2TiLE9LSC0PZzIoD0hiZs9/yuyPXIuwD0rDr09tvnDPcTj0T2BG8k9n8DFPSSHtj0n7bo9YOCePTnKqj2iOcE9Q8HCPWZxwz0zb8o93DLPPZoAvT1nL8A9lh+rPUsLtD2NzJc9sOGlPaZPvD0zLsc9EyfMPb9p0j2cW9M91AizPX5Hwz3NoK89lYioPU06lj0nN6I9Dxm4PXs/sz3ysrs9vb6+PYln0j2Eerw950/LPeDftz17eb89UHOmPfrOoT1feb09n1K3PYGTvj2I0Mk9pP3SPTIquD3e4sg9Z7CtPYUpuj1cHKU9Fj+nPVyauj3CRrA9ajy9PUmozT2pHc09f5K8Pc4KyT0KsLA9x8C5PU/PpT24gKg9a428PS+yvD2g68c9tLHOPQ8byz1yLrk947bJPZHBtD2Cwqs95R2ZPXzzoD1Ptr09rxK8PWRbvj2U6M49a1TVPdVGwT2n7sc9SxGxPaa4rj2vq5k9tWilPR1Ewz1J7sU9UHXJPZRfxz2RG8k9dGi/PX6FxD2UnLA9RVetPaqSlT3d0a89QUnNPZrOxD2/ssI9n/3PPSIqyj3uma49WUnEPfZOsT1GWKY9TbGWPcIurT0TTM891p60PUXywj1PAcw9jNjdPV3Kqj2OUMI9/WmwPahdqz2qN5k9\",\"dtype\":\"float32\",\"order\":\"little\",\"shape\":[12,11]}]},\"selected\":{\"id\":\"1028\"},\"selection_policy\":{\"id\":\"1029\"}},\"id\":\"1011\",\"type\":\"ColumnDataSource\"},{\"attributes\":{\"ticks\":[0.5,1.5,2.5,3.5,4.5,5.5,6.5,7.5,8.5,9.5,10.5,11.5]},\"id\":\"1022\",\"type\":\"FixedTicker\"},{\"attributes\":{},\"id\":\"1026\",\"type\":\"BasicTickFormatter\"},{\"attributes\":{\"axis_label\":\"source tokens\",\"formatter\":{\"id\":\"1026\"},\"major_label_orientation\":45,\"major_label_overrides\":{\"0.5\":\"_BOS_\",\"1.5\":\"\\u0432\",\"10.5\":\"_EOS_\",\"2.5\":\"\\u0440\\u0430\\u0441\\u043f\\u043e\\u0440\\u044f\\u0436\\u0435\\u043d\\u0438\\u0438\",\"3.5\":\"\\u0433\\u043e\\u0441\\u0442\\u0435\\u0439\",\"4.5\":\"\\u043e\\u0431\\u0449\\u0430\\u044f\",\"5.5\":\"\\u043a\\u0443\\u0445\\u043d\\u044f\",\"6.5\":\"\\u0438\",\"7.5\":\"\\u043e\\u0431\\u0449\\u0430\\u044f\",\"8.5\":\"\\u0433\\u043e\\u0441\\u0442\\u0438\\u043d\\u0430\\u044f\",\"9.5\":\".\"},\"ticker\":{\"id\":\"1019\"}},\"id\":\"1018\",\"type\":\"LinearAxis\"},{\"attributes\":{\"source\":{\"id\":\"1011\"}},\"id\":\"1017\",\"type\":\"CDSView\"},{\"attributes\":{\"ticks\":[0.5,1.5,2.5,3.5,4.5,5.5,6.5,7.5,8.5,9.5,10.5]},\"id\":\"1019\",\"type\":\"FixedTicker\"},{\"attributes\":{},\"id\":\"1006\",\"type\":\"LinearScale\"},{\"attributes\":{\"end\":12},\"id\":\"1004\",\"type\":\"Range1d\"},{\"attributes\":{},\"id\":\"1008\",\"type\":\"LinearScale\"},{\"attributes\":{\"text\":\"\"},\"id\":\"1024\",\"type\":\"Title\"},{\"attributes\":{\"palette\":[\"#000000\",\"#252525\",\"#525252\",\"#737373\",\"#969696\",\"#bdbdbd\",\"#d9d9d9\",\"#f0f0f0\",\"#ffffff\"]},\"id\":\"1015\",\"type\":\"LinearColorMapper\"},{\"attributes\":{},\"id\":\"1028\",\"type\":\"Selection\"}],\"root_ids\":[\"1001\"]},\"title\":\"Bokeh Application\",\"version\":\"2.1.1\"}};\n",
              "  var render_items = [{\"docid\":\"a9085a1e-6d9e-4556-997d-c3d7fd512d17\",\"root_ids\":[\"1001\"],\"roots\":{\"1001\":\"223bc7f1-e7db-4fb2-b94c-36b845dcd022\"}}];\n",
              "  root.Bokeh.embed.embed_items_notebook(docs_json, render_items);\n",
              "\n",
              "  }\n",
              "  if (root.Bokeh !== undefined) {\n",
              "    embed_document(root);\n",
              "  } else {\n",
              "    var attempts = 0;\n",
              "    var timer = setInterval(function(root) {\n",
              "      if (root.Bokeh !== undefined) {\n",
              "        clearInterval(timer);\n",
              "        embed_document(root);\n",
              "      } else {\n",
              "        attempts++;\n",
              "        if (attempts > 100) {\n",
              "          clearInterval(timer);\n",
              "          console.log(\"Bokeh: ERROR: Unable to run BokehJS code because BokehJS library is missing\");\n",
              "        }\n",
              "      }\n",
              "    }, 10, root)\n",
              "  }\n",
              "})(window);"
            ],
            "application/vnd.bokehjs_exec.v0+json": ""
          },
          "metadata": {
            "tags": [],
            "application/vnd.bokehjs_exec.v0+json": {
              "id": "1001"
            }
          }
        },
        {
          "output_type": "display_data",
          "data": {
            "text/html": [
              "\n",
              "\n",
              "\n",
              "\n",
              "\n",
              "\n",
              "  <div class=\"bk-root\" id=\"df20df7e-346b-4a07-be41-0696f10c9bd7\" data-root-id=\"1066\"></div>\n"
            ]
          },
          "metadata": {
            "tags": []
          }
        },
        {
          "output_type": "display_data",
          "data": {
            "application/javascript": [
              "(function(root) {\n",
              "  function embed_document(root) {\n",
              "    \n",
              "  var docs_json = {\"fb6f89f4-c976-4d16-bb0b-abb35d9ee8c2\":{\"roots\":{\"references\":[{\"attributes\":{\"above\":[{\"id\":\"1083\"}],\"left\":[{\"id\":\"1086\"}],\"renderers\":[{\"id\":\"1081\"}],\"title\":{\"id\":\"1095\"},\"toolbar\":{\"id\":\"1075\"},\"x_range\":{\"id\":\"1067\"},\"x_scale\":{\"id\":\"1071\"},\"y_range\":{\"id\":\"1069\"},\"y_scale\":{\"id\":\"1073\"}},\"id\":\"1066\",\"subtype\":\"Figure\",\"type\":\"Plot\"},{\"attributes\":{},\"id\":\"1071\",\"type\":\"LinearScale\"},{\"attributes\":{\"data_source\":{\"id\":\"1076\"},\"glyph\":{\"id\":\"1077\"},\"hover_glyph\":null,\"muted_glyph\":null,\"nonselection_glyph\":{\"id\":\"1079\"},\"selection_glyph\":null,\"view\":{\"id\":\"1082\"}},\"id\":\"1081\",\"type\":\"GlyphRenderer\"},{\"attributes\":{\"text\":\"\"},\"id\":\"1095\",\"type\":\"Title\"},{\"attributes\":{},\"id\":\"1098\",\"type\":\"BasicTickFormatter\"},{\"attributes\":{\"end\":15},\"id\":\"1067\",\"type\":\"Range1d\"},{\"attributes\":{},\"id\":\"1100\",\"type\":\"UnionRenderers\"},{\"attributes\":{\"axis_label\":\"translation tokens\",\"formatter\":{\"id\":\"1098\"},\"major_label_overrides\":{\"0.5\":\"_EOS_\",\"1.5\":\".\",\"10.5\":\"and\",\"11.5\":\",\",\"12.5\":\"services\",\"13.5\":\"shuttle\",\"14.5\":\"_BOS_\",\"2.5\":\"surcharge\",\"3.5\":\"a\",\"4.5\":\"at\",\"5.5\":\"available\",\"6.5\":\"are\",\"7.5\":\"service\",\"8.5\":\"shuttle\",\"9.5\":\"a\"},\"ticker\":{\"id\":\"1087\"}},\"id\":\"1086\",\"type\":\"LinearAxis\"},{\"attributes\":{\"data\":{\"image\":[{\"__ndarray__\":\"hmt1Pd7Igz21/4k912pkPUl8gz2CD589OJKwPadUjj2myrM9d++APZqybj37M4o9++iEPTCbcj00t1491kV+PdLwjD2mCIw9EjNuPbRnhj2tE6M9XOCrPdGNjz33/7I90IR7PTo1aD3VO4Y92u95Peteaz2jQFw9lx6CPa+kjj1PNY890BJoPWalgT3nEaQ9HlunPWc0jT3Bb6894WaAPTIDaz3luIY9LIOAPeB0bj3d0Fs9Imp4Pe8kij1mJYY9fihoPRc0gj0o96c9E8ClPVDSkT3IUq49vaeBPS0xdD1R1Ic9n2aCPVgFdD39u149td14Pff6jD32d489C0JnPRllfD1ctqE9kcWqPafliz21PK49Zi2BPRDdaz1nTYk9+0eGPfEhcz0q1Fw92X98PZgyij3xO4s9S9xqPZ5YhT0PaKU9YNemPab1jz2nzq09KeiAPQUQaj1juIU9/uqAPaT1cj1I8WI9oxt7PSpPiD1Chow97/9kPQamiD3yq549h7WtPRBXjz29s7Q9yuZ0PWyCYT0Sc4Q9W19/PYdoeD2+/Ww9eKJ/PeYpjD1nAI09jA1uPXv/ij1V16Q9bvSrPelDjT3nL7I9kip0PSRSXz2aiIM9WRN8PYw5bj1comQ9XiZ7PTGFiT2SO4g9+x5nPSrngz2QGKI9mECpPQVZiT1RmLQ90AODPS17az0/Z4c9sjOEPatmdT14tmE9fcZ/PYKuhD2B3IE9US5gPUiLgj2CkKc9NyWsPccZlD2iAbg9Rjp+PbMKZz1PCYg9JUuEPSaDcT1Uy1493yKEPffZhD36b4c9J31nPROhiD3ml6c9aJqnPaPEjT0pMKU9IvF8Pcg1az0QWoo97AiFPVzQdD2mW2Y9PzmCPef4iz3MG4s9bCFmPanrhj10n6E9/vGjPUrphz1ab609poqAPQiqaD3QDIk9HFqDPW1CeT2Yx2c9zu6EPVE/ij2pMYc9mi9lPW82hj0NMKQ9DiWhPeYciz3ufrA9UQl9PdpAaj0PVog99HqDPepqdz33amk9SnOMPcuIij2ecYo9sIBuPaH0iz3aGJo9klqfPb5OhD3vRp09ziN+PSjobj3oBoo96SeJPS2rfT2nk2893u1/PcgXhD2+6oY91j1vPUmTij1jPZQ9U3mSPWyujD3f7ZU9TlWJPVhvgj1UPI09S1uLPUaxgz3Lc4E9\",\"dtype\":\"float32\",\"order\":\"little\",\"shape\":[15,15]}]},\"selected\":{\"id\":\"1099\"},\"selection_policy\":{\"id\":\"1100\"}},\"id\":\"1076\",\"type\":\"ColumnDataSource\"},{\"attributes\":{\"palette\":[\"#000000\",\"#252525\",\"#525252\",\"#737373\",\"#969696\",\"#bdbdbd\",\"#d9d9d9\",\"#f0f0f0\",\"#ffffff\"]},\"id\":\"1080\",\"type\":\"LinearColorMapper\"},{\"attributes\":{},\"id\":\"1073\",\"type\":\"LinearScale\"},{\"attributes\":{\"palette\":[\"#000000\",\"#252525\",\"#525252\",\"#737373\",\"#969696\",\"#bdbdbd\",\"#d9d9d9\",\"#f0f0f0\",\"#ffffff\"]},\"id\":\"1078\",\"type\":\"LinearColorMapper\"},{\"attributes\":{\"active_drag\":\"auto\",\"active_inspect\":\"auto\",\"active_multi\":null,\"active_scroll\":\"auto\",\"active_tap\":\"auto\"},\"id\":\"1075\",\"type\":\"Toolbar\"},{\"attributes\":{\"color_mapper\":{\"id\":\"1078\"},\"dh\":{\"units\":\"data\",\"value\":15},\"dw\":{\"units\":\"data\",\"value\":15},\"image\":{\"field\":\"image\"},\"x\":{\"value\":0},\"y\":{\"value\":0}},\"id\":\"1077\",\"type\":\"Image\"},{\"attributes\":{\"ticks\":[0.5,1.5,2.5,3.5,4.5,5.5,6.5,7.5,8.5,9.5,10.5,11.5,12.5,13.5,14.5]},\"id\":\"1087\",\"type\":\"FixedTicker\"},{\"attributes\":{\"ticks\":[0.5,1.5,2.5,3.5,4.5,5.5,6.5,7.5,8.5,9.5,10.5,11.5,12.5,13.5,14.5]},\"id\":\"1084\",\"type\":\"FixedTicker\"},{\"attributes\":{\"end\":15},\"id\":\"1069\",\"type\":\"Range1d\"},{\"attributes\":{\"color_mapper\":{\"id\":\"1080\"},\"dh\":{\"units\":\"data\",\"value\":15},\"dw\":{\"units\":\"data\",\"value\":15},\"global_alpha\":0.1,\"image\":{\"field\":\"image\"},\"x\":{\"value\":0},\"y\":{\"value\":0}},\"id\":\"1079\",\"type\":\"Image\"},{\"attributes\":{\"axis_label\":\"source tokens\",\"formatter\":{\"id\":\"1097\"},\"major_label_orientation\":45,\"major_label_overrides\":{\"0.5\":\"_BOS_\",\"1.5\":\"\\u043a\\u0440\\u043e\\u043c\\u0435\",\"10.5\":\"\\u0438\",\"11.5\":\"\\u0431\\u0435\\u0441\\u043f\\u043b\\u0430\\u0442\\u043d\\u0430\\u044f\",\"12.5\":\"\\u043f\\u0430\\u0440\\u043a\\u043e\\u0432\\u043a\\u0430\",\"13.5\":\".\",\"14.5\":\"_EOS_\",\"2.5\":\"\\u0442\\u043e\\u0433\\u043e\",\"3.5\":\",\",\"4.5\":\"\\u043f\\u0440\\u0435\\u0434\\u043e\\u0441\\u0442\\u0430\\u0432\\u043b\\u044f\\u0435\\u0442\\u0441\\u044f\",\"5.5\":\"\\u043f\\u0440\\u043e\\u043a\\u0430\\u0442\",\"6.5\":\"\\u0432\\u0435\\u043b\\u043e\\u0441\\u0438\\u043f\\u0435\\u0434\\u043e\\u0432\",\"7.5\":\",\",\"8.5\":\"\\u0443\\u0441\\u043b\\u0443\\u0433\\u0438\",\"9.5\":\"\\u0442\\u0440\\u0430\\u043d\\u0441\\u0444\\u0435\\u0440\\u0430\"},\"ticker\":{\"id\":\"1084\"}},\"id\":\"1083\",\"type\":\"LinearAxis\"},{\"attributes\":{},\"id\":\"1099\",\"type\":\"Selection\"},{\"attributes\":{},\"id\":\"1097\",\"type\":\"BasicTickFormatter\"},{\"attributes\":{\"source\":{\"id\":\"1076\"}},\"id\":\"1082\",\"type\":\"CDSView\"}],\"root_ids\":[\"1066\"]},\"title\":\"Bokeh Application\",\"version\":\"2.1.1\"}};\n",
              "  var render_items = [{\"docid\":\"fb6f89f4-c976-4d16-bb0b-abb35d9ee8c2\",\"root_ids\":[\"1066\"],\"roots\":{\"1066\":\"df20df7e-346b-4a07-be41-0696f10c9bd7\"}}];\n",
              "  root.Bokeh.embed.embed_items_notebook(docs_json, render_items);\n",
              "\n",
              "  }\n",
              "  if (root.Bokeh !== undefined) {\n",
              "    embed_document(root);\n",
              "  } else {\n",
              "    var attempts = 0;\n",
              "    var timer = setInterval(function(root) {\n",
              "      if (root.Bokeh !== undefined) {\n",
              "        clearInterval(timer);\n",
              "        embed_document(root);\n",
              "      } else {\n",
              "        attempts++;\n",
              "        if (attempts > 100) {\n",
              "          clearInterval(timer);\n",
              "          console.log(\"Bokeh: ERROR: Unable to run BokehJS code because BokehJS library is missing\");\n",
              "        }\n",
              "      }\n",
              "    }, 10, root)\n",
              "  }\n",
              "})(window);"
            ],
            "application/vnd.bokehjs_exec.v0+json": ""
          },
          "metadata": {
            "tags": [],
            "application/vnd.bokehjs_exec.v0+json": {
              "id": "1066"
            }
          }
        },
        {
          "output_type": "display_data",
          "data": {
            "text/html": [
              "\n",
              "\n",
              "\n",
              "\n",
              "\n",
              "\n",
              "  <div class=\"bk-root\" id=\"820e9a00-b2d3-47e3-bd6c-77035345981d\" data-root-id=\"1137\"></div>\n"
            ]
          },
          "metadata": {
            "tags": []
          }
        },
        {
          "output_type": "display_data",
          "data": {
            "application/javascript": [
              "(function(root) {\n",
              "  function embed_document(root) {\n",
              "    \n",
              "  var docs_json = {\"254ce5c6-3f84-4985-b30f-f2c944787a49\":{\"roots\":{\"references\":[{\"attributes\":{\"above\":[{\"id\":\"1154\"}],\"left\":[{\"id\":\"1157\"}],\"renderers\":[{\"id\":\"1152\"}],\"title\":{\"id\":\"1172\"},\"toolbar\":{\"id\":\"1146\"},\"x_range\":{\"id\":\"1138\"},\"x_scale\":{\"id\":\"1142\"},\"y_range\":{\"id\":\"1140\"},\"y_scale\":{\"id\":\"1144\"}},\"id\":\"1137\",\"subtype\":\"Figure\",\"type\":\"Plot\"},{\"attributes\":{},\"id\":\"1144\",\"type\":\"LinearScale\"},{\"attributes\":{\"ticks\":[0.5,1.5,2.5,3.5,4.5,5.5,6.5,7.5,8.5,9.5,10.5,11.5,12.5]},\"id\":\"1155\",\"type\":\"FixedTicker\"},{\"attributes\":{\"end\":13},\"id\":\"1138\",\"type\":\"Range1d\"},{\"attributes\":{\"source\":{\"id\":\"1147\"}},\"id\":\"1153\",\"type\":\"CDSView\"},{\"attributes\":{\"end\":9},\"id\":\"1140\",\"type\":\"Range1d\"},{\"attributes\":{\"palette\":[\"#000000\",\"#252525\",\"#525252\",\"#737373\",\"#969696\",\"#bdbdbd\",\"#d9d9d9\",\"#f0f0f0\",\"#ffffff\"]},\"id\":\"1149\",\"type\":\"LinearColorMapper\"},{\"attributes\":{},\"id\":\"1175\",\"type\":\"BasicTickFormatter\"},{\"attributes\":{\"data\":{\"image\":[{\"__ndarray__\":\"R3uEPQ7TkT3+g6Y95L3BPcgPmz1VnrI9r3+YPYr3mj2CVKs9P1eMPQMJlD3jIZs9yHOZPfBJhj3VT5g9T4KdPXidvT2sFZY935uxPYaYmD2a75o9N2CqPUfUkj2XG5Y9W8ScPV34mj3ed4Q9IrGYPZU4mz2MIro9CpySPfo5tT2+E5g9VQKZPbrZqz0a55Y99E+bPU5TnD2oK5o9rd6LPb0rqD2RdqA9ybC6PcO1kj3R6qw9yZOVPca2lj1nX6I9R9WXPQutlj1KVJs9Dq2YPYEqiz05IZs9YLKiPa6CwD0VvpA9iuWnPSGplz1LOJk90vWrPY+AlD3EzJg9S4abPb4wmD20BY89+s+iPUAzmz35q7894h2VPaq1qj3pA5Y9ZemWPUT5oD1Rw5A9x72ZPe0Xnz3395s9kOyNPdfFpz1Hp5c97KDCPT7hlD0jNqo9cFqUPdXBlD01eqE9RW6UPZbfmD3O9p095RKbPfuakD0NLp89w0ecPUv3vz2NVZY9rQqsPfKbmD1G35Y9CXajPaUrkj0qzpM9NeOdPW3Jmj36XZE9v8CdPe/MnT0G/sA9uAOfPah/pz3oUpg9zvKZPb4QpT34qoc95AOYPWeEmT04CZs9\",\"dtype\":\"float32\",\"order\":\"little\",\"shape\":[9,13]}]},\"selected\":{\"id\":\"1176\"},\"selection_policy\":{\"id\":\"1177\"}},\"id\":\"1147\",\"type\":\"ColumnDataSource\"},{\"attributes\":{\"axis_label\":\"translation tokens\",\"formatter\":{\"id\":\"1175\"},\"major_label_overrides\":{\"0.5\":\"_EOS_\",\"1.5\":\".\",\"2.5\":\"away\",\"3.5\":\"km\",\"4.5\":\"26\",\"5.5\":\"is\",\"6.5\":\"poli\",\"7.5\":\"mono@@\",\"8.5\":\"_BOS_\"},\"ticker\":{\"id\":\"1158\"}},\"id\":\"1157\",\"type\":\"LinearAxis\"},{\"attributes\":{},\"id\":\"1176\",\"type\":\"Selection\"},{\"attributes\":{\"ticks\":[0.5,1.5,2.5,3.5,4.5,5.5,6.5,7.5,8.5]},\"id\":\"1158\",\"type\":\"FixedTicker\"},{\"attributes\":{\"active_drag\":\"auto\",\"active_inspect\":\"auto\",\"active_multi\":null,\"active_scroll\":\"auto\",\"active_tap\":\"auto\"},\"id\":\"1146\",\"type\":\"Toolbar\"},{\"attributes\":{},\"id\":\"1177\",\"type\":\"UnionRenderers\"},{\"attributes\":{\"color_mapper\":{\"id\":\"1149\"},\"dh\":{\"units\":\"data\",\"value\":9},\"dw\":{\"units\":\"data\",\"value\":13},\"image\":{\"field\":\"image\"},\"x\":{\"value\":0},\"y\":{\"value\":0}},\"id\":\"1148\",\"type\":\"Image\"},{\"attributes\":{},\"id\":\"1142\",\"type\":\"LinearScale\"},{\"attributes\":{},\"id\":\"1174\",\"type\":\"BasicTickFormatter\"},{\"attributes\":{\"axis_label\":\"source tokens\",\"formatter\":{\"id\":\"1174\"},\"major_label_orientation\":45,\"major_label_overrides\":{\"0.5\":\"_BOS_\",\"1.5\":\"\\u0440\\u0430\\u0441\\u0441\\u0442\\u043e\\u044f\\u043d\\u0438\\u0435\",\"10.5\":\"\\u043a\\u043c\",\"11.5\":\".\",\"12.5\":\"_EOS_\",\"2.5\":\"\\u0434\\u043e\",\"3.5\":\"\\u0433\\u043e\\u0440\\u043e\\u0434\\u0430\",\"4.5\":\"\\u043a\\u0438@@\",\"5.5\":\"\\u0441\\u0441\\u0438@@\",\"6.5\":\"\\u043c@@\",\"7.5\":\"\\u043c\\u0438\",\"8.5\":\"\\u0441\\u043e\\u0441\\u0442\\u0430\\u0432\\u043b\\u044f\\u0435\\u0442\",\"9.5\":\"26\"},\"ticker\":{\"id\":\"1155\"}},\"id\":\"1154\",\"type\":\"LinearAxis\"},{\"attributes\":{\"palette\":[\"#000000\",\"#252525\",\"#525252\",\"#737373\",\"#969696\",\"#bdbdbd\",\"#d9d9d9\",\"#f0f0f0\",\"#ffffff\"]},\"id\":\"1151\",\"type\":\"LinearColorMapper\"},{\"attributes\":{\"data_source\":{\"id\":\"1147\"},\"glyph\":{\"id\":\"1148\"},\"hover_glyph\":null,\"muted_glyph\":null,\"nonselection_glyph\":{\"id\":\"1150\"},\"selection_glyph\":null,\"view\":{\"id\":\"1153\"}},\"id\":\"1152\",\"type\":\"GlyphRenderer\"},{\"attributes\":{\"color_mapper\":{\"id\":\"1151\"},\"dh\":{\"units\":\"data\",\"value\":9},\"dw\":{\"units\":\"data\",\"value\":13},\"global_alpha\":0.1,\"image\":{\"field\":\"image\"},\"x\":{\"value\":0},\"y\":{\"value\":0}},\"id\":\"1150\",\"type\":\"Image\"},{\"attributes\":{\"text\":\"\"},\"id\":\"1172\",\"type\":\"Title\"}],\"root_ids\":[\"1137\"]},\"title\":\"Bokeh Application\",\"version\":\"2.1.1\"}};\n",
              "  var render_items = [{\"docid\":\"254ce5c6-3f84-4985-b30f-f2c944787a49\",\"root_ids\":[\"1137\"],\"roots\":{\"1137\":\"820e9a00-b2d3-47e3-bd6c-77035345981d\"}}];\n",
              "  root.Bokeh.embed.embed_items_notebook(docs_json, render_items);\n",
              "\n",
              "  }\n",
              "  if (root.Bokeh !== undefined) {\n",
              "    embed_document(root);\n",
              "  } else {\n",
              "    var attempts = 0;\n",
              "    var timer = setInterval(function(root) {\n",
              "      if (root.Bokeh !== undefined) {\n",
              "        clearInterval(timer);\n",
              "        embed_document(root);\n",
              "      } else {\n",
              "        attempts++;\n",
              "        if (attempts > 100) {\n",
              "          clearInterval(timer);\n",
              "          console.log(\"Bokeh: ERROR: Unable to run BokehJS code because BokehJS library is missing\");\n",
              "        }\n",
              "      }\n",
              "    }, 10, root)\n",
              "  }\n",
              "})(window);"
            ],
            "application/vnd.bokehjs_exec.v0+json": ""
          },
          "metadata": {
            "tags": [],
            "application/vnd.bokehjs_exec.v0+json": {
              "id": "1137"
            }
          }
        },
        {
          "output_type": "display_data",
          "data": {
            "text/html": [
              "\n",
              "\n",
              "\n",
              "\n",
              "\n",
              "\n",
              "  <div class=\"bk-root\" id=\"c42dfb49-1aa2-42c6-9af6-3204317ae00e\" data-root-id=\"1214\"></div>\n"
            ]
          },
          "metadata": {
            "tags": []
          }
        },
        {
          "output_type": "display_data",
          "data": {
            "application/javascript": [
              "(function(root) {\n",
              "  function embed_document(root) {\n",
              "    \n",
              "  var docs_json = {\"95c7fd42-744a-4c21-b204-bf76fb35ae52\":{\"roots\":{\"references\":[{\"attributes\":{\"above\":[{\"id\":\"1231\"}],\"left\":[{\"id\":\"1234\"}],\"renderers\":[{\"id\":\"1229\"}],\"title\":{\"id\":\"1255\"},\"toolbar\":{\"id\":\"1223\"},\"x_range\":{\"id\":\"1215\"},\"x_scale\":{\"id\":\"1219\"},\"y_range\":{\"id\":\"1217\"},\"y_scale\":{\"id\":\"1221\"}},\"id\":\"1214\",\"subtype\":\"Figure\",\"type\":\"Plot\"},{\"attributes\":{\"data_source\":{\"id\":\"1224\"},\"glyph\":{\"id\":\"1225\"},\"hover_glyph\":null,\"muted_glyph\":null,\"nonselection_glyph\":{\"id\":\"1227\"},\"selection_glyph\":null,\"view\":{\"id\":\"1230\"}},\"id\":\"1229\",\"type\":\"GlyphRenderer\"},{\"attributes\":{\"palette\":[\"#000000\",\"#252525\",\"#525252\",\"#737373\",\"#969696\",\"#bdbdbd\",\"#d9d9d9\",\"#f0f0f0\",\"#ffffff\"]},\"id\":\"1226\",\"type\":\"LinearColorMapper\"},{\"attributes\":{\"color_mapper\":{\"id\":\"1228\"},\"dh\":{\"units\":\"data\",\"value\":31},\"dw\":{\"units\":\"data\",\"value\":32},\"global_alpha\":0.1,\"image\":{\"field\":\"image\"},\"x\":{\"value\":0},\"y\":{\"value\":0}},\"id\":\"1227\",\"type\":\"Image\"},{\"attributes\":{},\"id\":\"1257\",\"type\":\"BasicTickFormatter\"},{\"attributes\":{\"end\":31},\"id\":\"1217\",\"type\":\"Range1d\"},{\"attributes\":{\"color_mapper\":{\"id\":\"1226\"},\"dh\":{\"units\":\"data\",\"value\":31},\"dw\":{\"units\":\"data\",\"value\":32},\"image\":{\"field\":\"image\"},\"x\":{\"value\":0},\"y\":{\"value\":0}},\"id\":\"1225\",\"type\":\"Image\"},{\"attributes\":{},\"id\":\"1221\",\"type\":\"LinearScale\"},{\"attributes\":{\"text\":\"\"},\"id\":\"1255\",\"type\":\"Title\"},{\"attributes\":{\"source\":{\"id\":\"1224\"}},\"id\":\"1230\",\"type\":\"CDSView\"},{\"attributes\":{},\"id\":\"1260\",\"type\":\"UnionRenderers\"},{\"attributes\":{\"end\":32},\"id\":\"1215\",\"type\":\"Range1d\"},{\"attributes\":{\"axis_label\":\"translation tokens\",\"formatter\":{\"id\":\"1258\"},\"major_label_overrides\":{\"0.5\":\"_EOS_\",\"1.5\":\".\",\"10.5\":\"a\",\"11.5\":\"features\",\"12.5\":\"apartment\",\"13.5\":\"this\",\"14.5\":\",\",\"15.5\":\"beach\",\"16.5\":\"the\",\"17.5\":\"from\",\"18.5\":\"walk\",\"19.5\":\"minute\",\"2.5\":\"terrace\",\"20.5\":\"-\",\"21.5\":\"10\",\"22.5\":\"a\",\"23.5\":\",\",\"24.5\":\"la\",\"25.5\":\"of\",\"26.5\":\"centre\",\"27.5\":\"the\",\"28.5\":\"in\",\"29.5\":\"located\",\"3.5\":\"a\",\"30.5\":\"_BOS_\",\"4.5\":\"and\",\"5.5\":\"terrace\",\"6.5\":\"sun\",\"7.5\":\"a\",\"8.5\":\"with\",\"9.5\":\"garden\"},\"ticker\":{\"id\":\"1235\"}},\"id\":\"1234\",\"type\":\"LinearAxis\"},{\"attributes\":{},\"id\":\"1259\",\"type\":\"Selection\"},{\"attributes\":{},\"id\":\"1219\",\"type\":\"LinearScale\"},{\"attributes\":{\"palette\":[\"#000000\",\"#252525\",\"#525252\",\"#737373\",\"#969696\",\"#bdbdbd\",\"#d9d9d9\",\"#f0f0f0\",\"#ffffff\"]},\"id\":\"1228\",\"type\":\"LinearColorMapper\"},{\"attributes\":{\"axis_label\":\"source tokens\",\"formatter\":{\"id\":\"1257\"},\"major_label_orientation\":45,\"major_label_overrides\":{\"0.5\":\"_BOS_\",\"1.5\":\"\\u0430\\u043f\\u0430\\u0440\\u0442\\u0430\\u043c\\u0435\\u043d\\u0442\\u044b\",\"10.5\":\"\\u0441\\u0430\\u0434\\u043e\\u043c\",\"11.5\":\",\",\"12.5\":\"\\u043a\\u043e\\u043d\\u0434\\u0438\\u0446\\u0438\\u043e\\u043d\\u0435\\u0440\\u043e\\u043c\",\"13.5\":\"\\u0438\",\"14.5\":\"\\u0442\\u0435\\u0440\\u0440\\u0430\\u0441\\u043e\\u0439\",\"15.5\":\"\\u0434\\u043b\\u044f\",\"16.5\":\"\\u0437\\u0430\\u0433\\u0430\\u0440\\u0430\",\"17.5\":\"\\u0440\\u0430\\u0441\\u043f\\u043e\\u043b\\u043e\\u0436\\u0435\\u043d\\u044b\",\"18.5\":\"\\u0432\",\"19.5\":\"5\",\"2.5\":\"\\u0432\",\"20.5\":\"\\u043c\\u0438\\u043d\\u0443\\u0442\\u0430\\u0445\",\"21.5\":\"\\u0445\\u043e\\u0434\\u044c\\u0431\\u044b\",\"22.5\":\"\\u043e\\u0442\",\"23.5\":\"\\u043f\\u043b\\u044f\\u0436\\u0430\",\"24.5\":\"\\u043d\\u0430\",\"25.5\":\"\\u043a\\u0443\\u0440\\u043e\\u0440\\u0442\\u0435\",\"26.5\":\"\\u043a\\u0430@@\",\"27.5\":\"\\u0431\\u043e\",\"28.5\":\"-\",\"29.5\":\"\\u0440\\u043e\\u0439\",\"3.5\":\"\\u043f\\u0435\\u043d\\u0442@@\",\"30.5\":\".\",\"31.5\":\"_EOS_\",\"4.5\":\"\\u0445\\u0430\\u0443\\u0441\\u0435\",\"5.5\":\"\\u0441\",\"6.5\":\"\\u043e\\u0431\\u0449\\u0438\\u043c\",\"7.5\":\"\\u043e\\u0442\\u043a\\u0440\\u044b\\u0442\\u044b\\u043c\",\"8.5\":\"\\u0431\\u0430\\u0441\\u0441\\u0435\\u0439\\u043d\\u043e\\u043c\",\"9.5\":\",\"},\"ticker\":{\"id\":\"1232\"}},\"id\":\"1231\",\"type\":\"LinearAxis\"},{\"attributes\":{\"ticks\":[0.5,1.5,2.5,3.5,4.5,5.5,6.5,7.5,8.5,9.5,10.5,11.5,12.5,13.5,14.5,15.5,16.5,17.5,18.5,19.5,20.5,21.5,22.5,23.5,24.5,25.5,26.5,27.5,28.5,29.5,30.5,31.5]},\"id\":\"1232\",\"type\":\"FixedTicker\"},{\"attributes\":{\"ticks\":[0.5,1.5,2.5,3.5,4.5,5.5,6.5,7.5,8.5,9.5,10.5,11.5,12.5,13.5,14.5,15.5,16.5,17.5,18.5,19.5,20.5,21.5,22.5,23.5,24.5,25.5,26.5,27.5,28.5,29.5,30.5]},\"id\":\"1235\",\"type\":\"FixedTicker\"},{\"attributes\":{},\"id\":\"1258\",\"type\":\"BasicTickFormatter\"},{\"attributes\":{\"active_drag\":\"auto\",\"active_inspect\":\"auto\",\"active_multi\":null,\"active_scroll\":\"auto\",\"active_tap\":\"auto\"},\"id\":\"1223\",\"type\":\"Toolbar\"},{\"attributes\":{\"data\":{\"image\":[{\"__ndarray__\":\"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\",\"dtype\":\"float32\",\"order\":\"little\",\"shape\":[31,32]}]},\"selected\":{\"id\":\"1259\"},\"selection_policy\":{\"id\":\"1260\"}},\"id\":\"1224\",\"type\":\"ColumnDataSource\"}],\"root_ids\":[\"1214\"]},\"title\":\"Bokeh Application\",\"version\":\"2.1.1\"}};\n",
              "  var render_items = [{\"docid\":\"95c7fd42-744a-4c21-b204-bf76fb35ae52\",\"root_ids\":[\"1214\"],\"roots\":{\"1214\":\"c42dfb49-1aa2-42c6-9af6-3204317ae00e\"}}];\n",
              "  root.Bokeh.embed.embed_items_notebook(docs_json, render_items);\n",
              "\n",
              "  }\n",
              "  if (root.Bokeh !== undefined) {\n",
              "    embed_document(root);\n",
              "  } else {\n",
              "    var attempts = 0;\n",
              "    var timer = setInterval(function(root) {\n",
              "      if (root.Bokeh !== undefined) {\n",
              "        clearInterval(timer);\n",
              "        embed_document(root);\n",
              "      } else {\n",
              "        attempts++;\n",
              "        if (attempts > 100) {\n",
              "          clearInterval(timer);\n",
              "          console.log(\"Bokeh: ERROR: Unable to run BokehJS code because BokehJS library is missing\");\n",
              "        }\n",
              "      }\n",
              "    }, 10, root)\n",
              "  }\n",
              "})(window);"
            ],
            "application/vnd.bokehjs_exec.v0+json": ""
          },
          "metadata": {
            "tags": [],
            "application/vnd.bokehjs_exec.v0+json": {
              "id": "1214"
            }
          }
        },
        {
          "output_type": "display_data",
          "data": {
            "text/html": [
              "\n",
              "\n",
              "\n",
              "\n",
              "\n",
              "\n",
              "  <div class=\"bk-root\" id=\"af95f9b9-cb97-4439-b118-04cc3fa6c67c\" data-root-id=\"1297\"></div>\n"
            ]
          },
          "metadata": {
            "tags": []
          }
        },
        {
          "output_type": "display_data",
          "data": {
            "application/javascript": [
              "(function(root) {\n",
              "  function embed_document(root) {\n",
              "    \n",
              "  var docs_json = {\"6028bc6e-643d-4e2a-8a22-c3f55eb170de\":{\"roots\":{\"references\":[{\"attributes\":{\"above\":[{\"id\":\"1314\"}],\"left\":[{\"id\":\"1317\"}],\"renderers\":[{\"id\":\"1312\"}],\"title\":{\"id\":\"1344\"},\"toolbar\":{\"id\":\"1306\"},\"x_range\":{\"id\":\"1298\"},\"x_scale\":{\"id\":\"1302\"},\"y_range\":{\"id\":\"1300\"},\"y_scale\":{\"id\":\"1304\"}},\"id\":\"1297\",\"subtype\":\"Figure\",\"type\":\"Plot\"},{\"attributes\":{\"end\":18},\"id\":\"1300\",\"type\":\"Range1d\"},{\"attributes\":{},\"id\":\"1304\",\"type\":\"LinearScale\"},{\"attributes\":{\"color_mapper\":{\"id\":\"1311\"},\"dh\":{\"units\":\"data\",\"value\":18},\"dw\":{\"units\":\"data\",\"value\":23},\"global_alpha\":0.1,\"image\":{\"field\":\"image\"},\"x\":{\"value\":0},\"y\":{\"value\":0}},\"id\":\"1310\",\"type\":\"Image\"},{\"attributes\":{\"palette\":[\"#000000\",\"#252525\",\"#525252\",\"#737373\",\"#969696\",\"#bdbdbd\",\"#d9d9d9\",\"#f0f0f0\",\"#ffffff\"]},\"id\":\"1309\",\"type\":\"LinearColorMapper\"},{\"attributes\":{\"ticks\":[0.5,1.5,2.5,3.5,4.5,5.5,6.5,7.5,8.5,9.5,10.5,11.5,12.5,13.5,14.5,15.5,16.5,17.5]},\"id\":\"1318\",\"type\":\"FixedTicker\"},{\"attributes\":{\"ticks\":[0.5,1.5,2.5,3.5,4.5,5.5,6.5,7.5,8.5,9.5,10.5,11.5,12.5,13.5,14.5,15.5,16.5,17.5,18.5,19.5,20.5,21.5,22.5]},\"id\":\"1315\",\"type\":\"FixedTicker\"},{\"attributes\":{\"color_mapper\":{\"id\":\"1309\"},\"dh\":{\"units\":\"data\",\"value\":18},\"dw\":{\"units\":\"data\",\"value\":23},\"image\":{\"field\":\"image\"},\"x\":{\"value\":0},\"y\":{\"value\":0}},\"id\":\"1308\",\"type\":\"Image\"},{\"attributes\":{\"active_drag\":\"auto\",\"active_inspect\":\"auto\",\"active_multi\":null,\"active_scroll\":\"auto\",\"active_tap\":\"auto\"},\"id\":\"1306\",\"type\":\"Toolbar\"},{\"attributes\":{\"text\":\"\"},\"id\":\"1344\",\"type\":\"Title\"},{\"attributes\":{},\"id\":\"1302\",\"type\":\"LinearScale\"},{\"attributes\":{\"end\":23},\"id\":\"1298\",\"type\":\"Range1d\"},{\"attributes\":{\"axis_label\":\"translation tokens\",\"formatter\":{\"id\":\"1347\"},\"major_label_overrides\":{\"0.5\":\"_EOS_\",\"1.5\":\".\",\"10.5\":\"of\",\"11.5\":\"centre\",\"12.5\":\"the\",\"13.5\":\"in\",\"14.5\":\"located\",\"15.5\":\"is\",\"16.5\":\"hostel\",\"17.5\":\"_BOS_\",\"2.5\":\"square\",\"3.5\":\"main\",\"4.5\":\"the\",\"5.5\":\"from\",\"6.5\":\"metres\",\"7.5\":\"500\",\"8.5\":\",\",\"9.5\":\"kiev\"},\"ticker\":{\"id\":\"1318\"}},\"id\":\"1317\",\"type\":\"LinearAxis\"},{\"attributes\":{},\"id\":\"1349\",\"type\":\"UnionRenderers\"},{\"attributes\":{\"palette\":[\"#000000\",\"#252525\",\"#525252\",\"#737373\",\"#969696\",\"#bdbdbd\",\"#d9d9d9\",\"#f0f0f0\",\"#ffffff\"]},\"id\":\"1311\",\"type\":\"LinearColorMapper\"},{\"attributes\":{},\"id\":\"1348\",\"type\":\"Selection\"},{\"attributes\":{},\"id\":\"1347\",\"type\":\"BasicTickFormatter\"},{\"attributes\":{\"axis_label\":\"source tokens\",\"formatter\":{\"id\":\"1346\"},\"major_label_orientation\":45,\"major_label_overrides\":{\"0.5\":\"_BOS_\",\"1.5\":\"\\u0430\\u043f\\u0430\\u0440\\u0442\\u0430\\u043c\\u0435\\u043d\\u0442\\u044b\",\"10.5\":\"square\",\"11.5\":\"\\u043d\\u0430\\u0445\\u043e\\u0434\\u044f\\u0442\\u0441\\u044f\",\"12.5\":\"\\u0432\",\"13.5\":\"\\u043c\\u043e\\u0441\\u043a\\u0432\\u0435\",\"14.5\":\",\",\"15.5\":\"\\u0432\",\"16.5\":\"200\",\"17.5\":\"\\u043c\\u0435\\u0442\\u0440\\u0430\\u0445\",\"18.5\":\"\\u043e\\u0442\",\"19.5\":\"\\u0431\\u043e\\u043b\\u044c\\u0448\\u043e\\u0433\\u043e\",\"2.5\":\"mo@@\",\"20.5\":\"\\u0442\\u0435\\u0430\\u0442\\u0440\\u0430\",\"21.5\":\".\",\"22.5\":\"_EOS_\",\"3.5\":\"s@@\",\"4.5\":\"co@@\",\"5.5\":\"w\",\"6.5\":\"point\",\"7.5\":\"-\",\"8.5\":\"loft\",\"9.5\":\"red\"},\"ticker\":{\"id\":\"1315\"}},\"id\":\"1314\",\"type\":\"LinearAxis\"},{\"attributes\":{\"source\":{\"id\":\"1307\"}},\"id\":\"1313\",\"type\":\"CDSView\"},{\"attributes\":{},\"id\":\"1346\",\"type\":\"BasicTickFormatter\"},{\"attributes\":{\"data\":{\"image\":[{\"__ndarray__\":\"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\",\"dtype\":\"float32\",\"order\":\"little\",\"shape\":[18,23]}]},\"selected\":{\"id\":\"1348\"},\"selection_policy\":{\"id\":\"1349\"}},\"id\":\"1307\",\"type\":\"ColumnDataSource\"},{\"attributes\":{\"data_source\":{\"id\":\"1307\"},\"glyph\":{\"id\":\"1308\"},\"hover_glyph\":null,\"muted_glyph\":null,\"nonselection_glyph\":{\"id\":\"1310\"},\"selection_glyph\":null,\"view\":{\"id\":\"1313\"}},\"id\":\"1312\",\"type\":\"GlyphRenderer\"}],\"root_ids\":[\"1297\"]},\"title\":\"Bokeh Application\",\"version\":\"2.1.1\"}};\n",
              "  var render_items = [{\"docid\":\"6028bc6e-643d-4e2a-8a22-c3f55eb170de\",\"root_ids\":[\"1297\"],\"roots\":{\"1297\":\"af95f9b9-cb97-4439-b118-04cc3fa6c67c\"}}];\n",
              "  root.Bokeh.embed.embed_items_notebook(docs_json, render_items);\n",
              "\n",
              "  }\n",
              "  if (root.Bokeh !== undefined) {\n",
              "    embed_document(root);\n",
              "  } else {\n",
              "    var attempts = 0;\n",
              "    var timer = setInterval(function(root) {\n",
              "      if (root.Bokeh !== undefined) {\n",
              "        clearInterval(timer);\n",
              "        embed_document(root);\n",
              "      } else {\n",
              "        attempts++;\n",
              "        if (attempts > 100) {\n",
              "          clearInterval(timer);\n",
              "          console.log(\"Bokeh: ERROR: Unable to run BokehJS code because BokehJS library is missing\");\n",
              "        }\n",
              "      }\n",
              "    }, 10, root)\n",
              "  }\n",
              "})(window);"
            ],
            "application/vnd.bokehjs_exec.v0+json": ""
          },
          "metadata": {
            "tags": [],
            "application/vnd.bokehjs_exec.v0+json": {
              "id": "1297"
            }
          }
        }
      ]
    },
    {
      "cell_type": "markdown",
      "metadata": {
        "id": "Kk6F9T3po1oD"
      },
      "source": [
        "__Note 1:__ If the attention maps are not iterpretable, try starting encoder from zeros (instead of dec_start), forcing model to use attention.\n",
        "\n",
        "__Note 2:__ If you're studying this course as a YSDA student, please submit __attention screenshots__ alongside your notebook."
      ]
    },
    {
      "cell_type": "markdown",
      "metadata": {
        "id": "pbIIngNVlrtt"
      },
      "source": [
        "## Goind deeper (2++ points each)\n",
        "\n",
        "We want you to find the best model for the task. Use everything you know.\n",
        "\n",
        "* different recurrent units: rnn/gru/lstm; deeper architectures\n",
        "* bidirectional encoder, different attention methods for decoder (additive, dot-product, multi-head)\n",
        "* word dropout, training schedules, anything you can imagine\n",
        "* replace greedy inference with beam search\n",
        "\n",
        "For a better grasp of seq2seq We recommend you to conduct at least one experiment from one of the bullet-points or your alternative ideas. As usual, describe what you tried and what results you obtained in a short report."
      ]
    },
    {
      "cell_type": "markdown",
      "metadata": {
        "collapsed": true,
        "id": "2rzAj_xtlrtt"
      },
      "source": [
        "`[your report/log here or anywhere you please]`"
      ]
    }
  ]
}